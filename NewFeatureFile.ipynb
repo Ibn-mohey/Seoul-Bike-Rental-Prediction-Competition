{
 "cells": [
  {
   "cell_type": "markdown",
   "metadata": {},
   "source": [
    "### Imports"
   ]
  },
  {
   "cell_type": "code",
   "execution_count": 1,
   "metadata": {},
   "outputs": [],
   "source": [
    "import pandas as pd\n",
    "import numpy as np \n",
    "from sklearn import metrics"
   ]
  },
  {
   "cell_type": "code",
   "execution_count": 2,
   "metadata": {},
   "outputs": [
    {
     "name": "stdout",
     "output_type": "stream",
     "text": [
      "عملتها يا شباب كدا انا ضامن استقلالية البرنامج شوية و ان شاء الله احسن المره الجايه\n",
      "كدا حيكون معاك \n",
      "df , df_prep , test , full_test وباقي الحاجات اللى اتعملت في ال features \n"
     ]
    }
   ],
   "source": [
    "print(\"عملتها يا شباب كدا انا ضامن استقلالية البرنامج شوية و ان شاء الله احسن المره الجايه\")\n",
    "print(\"كدا حيكون معاك \")\n",
    "print(\"df , df_prep , test , full_test وباقي الحاجات اللى اتعملت في ال features \")"
   ]
  },
  {
   "cell_type": "code",
   "execution_count": 3,
   "metadata": {},
   "outputs": [],
   "source": [
    "#---------- configs\n",
    "pd.set_option('max_rows',100)\n",
    "pd.set_option('max_columns',40)"
   ]
  },
  {
   "cell_type": "markdown",
   "metadata": {},
   "source": [
    "### loading data"
   ]
  },
  {
   "cell_type": "code",
   "execution_count": 4,
   "metadata": {},
   "outputs": [],
   "source": [
    "train_path = r\"train.csv\"\n",
    "test_path = r\"test.csv\""
   ]
  },
  {
   "cell_type": "code",
   "execution_count": 5,
   "metadata": {},
   "outputs": [],
   "source": [
    "df = pd.read_csv(train_path,index_col=0,parse_dates=['Date'],dayfirst=True)\n",
    "df_test = pd.read_csv(test_path,parse_dates=['Date'],dayfirst=True)\n",
    "\n",
    "df = df.rename(columns={'Temperature(�C)':'Temperature(C)','Dew point temperature(�C)'  : 'Dew point temperature(C)'})\n",
    "df_test = df_test.rename(columns={'Temperature(�C)':'Temperature(C)','Dew point temperature(�C)'  : 'Dew point temperature(C)'})"
   ]
  },
  {
   "cell_type": "code",
   "execution_count": 61,
   "metadata": {},
   "outputs": [],
   "source": [
    "def evaluationandSave(model,feature_used,old_train_rmsle = 0,old_test_rmsle = 0,old_real = 0):\n",
    "    \n",
    "    y_pred_train = model.predict(X_train)  \n",
    "    rmsle_train =  rmsle(y_train, (y_pred_train), True)\n",
    "    \n",
    "    y_pred_test = model.predict(X_test)  \n",
    "    rmsle_test  = rmsle(y_test, (y_pred_test), True)\n",
    "     \n",
    "    #real test Data     \n",
    "    Xtest = test[feature_used]\n",
    "    pred_test_ = model.predict(Xtest)\n",
    "    #real labled test data \n",
    "    df_test_real = pd.read_csv(r\"SeoulBikeDataTestFull.csv\")\n",
    "    y_pred_real = df_test_real['y']\n",
    "    \n",
    "    real_RMSLE =  rmsle(y_pred_real, np.exp(pred_test_), False)\n",
    "    \n",
    "    column_names = [\"RMSLE_Train\",\"RMSLE_Test\" \n",
    "                         , \"real_RMSLE\", \"Model\" , \"feature_used\"]\n",
    "    Table = pd.DataFrame(columns = column_names)\n",
    "    Table = Table.append({\"RMSLE_Train\":rmsle_train\n",
    "                          ,\"RMSLE_Test\" :rmsle_test\n",
    "                         , \"real_RMSLE\":real_RMSLE\n",
    "                          ,\"Model\":model\n",
    "                           ,\"feature_used\":(len(feature_used) , feature_used)} \n",
    "                         , ignore_index=True)\n",
    "    Table.to_csv('MY tries.csv' , mode= 'a', header=False)\n",
    "    \n",
    "    print('(Train) RMSLE:',rmsle_train )\n",
    "    print('(Test) RMSLE:',rmsle_test  )\n",
    "    print('(Real) RMSLE:', real_RMSLE)\n",
    "    print('---------------------------------' )\n",
    "    print('(Train) Prev RMSLE:', old_train_rmsle)\n",
    "    print('(Test) Prev RMSLE:', old_test_rmsle)\n",
    "    print('(Real) Prev RMSLE:', old_real)\n",
    "    print('---------------------------------' )\n",
    "    print(\"Training Score:\", r2_score(y_train, y_pred_train) * 100,' %')\n",
    "    print(\"Test Score:\", r2_score(y_test, y_pred_test) * 100,' %')\n",
    "    print('(Real) R2:', r2_score(y_pred_real, np.exp(pred_test_)))\n",
    "    print('---------------------------------' )\n",
    "    \n",
    "    return rmsle_train, rmsle_test , real_RMSLE"
   ]
  },
  {
   "cell_type": "markdown",
   "metadata": {},
   "source": [
    "####  Our Scoring Metric (RMSLE)"
   ]
  },
  {
   "cell_type": "code",
   "execution_count": 31,
   "metadata": {},
   "outputs": [],
   "source": [
    "def rmsle(y_true, y_pred, convertExp=True):\n",
    "    if convertExp:\n",
    "        y_true = np.exp(y_true)\n",
    "        y_pred = np.exp(y_pred)\n",
    "        \n",
    "    log_true = np.nan_to_num(np.array([np.log(y+1.0) for y in y_true]))\n",
    "    log_pred = np.nan_to_num(np.array([np.log(y+1.0) for y in y_pred]))\n",
    "    \n",
    "    output = np.sqrt(np.mean((log_true - log_pred)**2))\n",
    "    return output\n",
    "rmsle_scorer = metrics.make_scorer(rmsle, greater_is_better=False) \n",
    "scoring = rmsle_scorer"
   ]
  },
  {
   "cell_type": "markdown",
   "metadata": {},
   "source": [
    "## Feature Engineering"
   ]
  },
  {
   "cell_type": "markdown",
   "metadata": {},
   "source": [
    "##### based on the previous notebook (eda) we will consider the following \n",
    "\n",
    "- A) The Hourly cycle has a good correlation. [7am-18pm has the bigger share]\n",
    "- B) The Temperature has good corr. [high is good except > ~ 27]\n",
    "- C) The Functional Day has good corr. [functional is good for target]\n",
    "- D) The Seasons has good corr. [hot season is better]\n",
    "\n",
    "-------------\n",
    "\n",
    "- E) The Visibility may prove to be good. [if encoded to very_low visibility vs normal visibiliy].\n",
    "- F) The RainFall/SnowFall may prove to be good. [if encoded to Snowing / Raining or not].\n",
    "- G) The Humidity may have something to investigate. [if encoded as 0-80 % normal rentals, 80-100% show sharp decay in rentals]\n",
    "\n",
    "---------------\n",
    "- H) the Dew point temperature is strongly corr to Temperature will drop it.\n",
    "- I) the Solar Radiation may be discarded .. i didn't see good relation.\n",
    "- J) the holidays didn't prove decisive saying on our target. maybe discarded too."
   ]
  },
  {
   "cell_type": "code",
   "execution_count": 7,
   "metadata": {},
   "outputs": [],
   "source": [
    "def restore_data_series(dataframe,dforiginal,col_name):\n",
    "    dataframe[col_name] = dforiginal[col_name]"
   ]
  },
  {
   "cell_type": "code",
   "execution_count": 8,
   "metadata": {},
   "outputs": [],
   "source": [
    "def map_data_series(dataframe,col_name,from_vals,to_vals):\n",
    "    dataframe[col_name].replace(from_vals,to_vals,inplace=True)"
   ]
  },
  {
   "cell_type": "code",
   "execution_count": 9,
   "metadata": {},
   "outputs": [],
   "source": [
    "def new_feature_data_series(dataframe,col_name,function,new_col_name):\n",
    "       dataframe[new_col_name]  = dataframe[col_name].apply(function,axis=1)"
   ]
  },
  {
   "cell_type": "raw",
   "metadata": {},
   "source": [
    "# feature eng for hour of the day\n",
    "around 8 am & around 6 pm (18) there is a peak in rentals \n",
    "around 4 am we hit the daily.\n",
    "how can we factor that?"
   ]
  },
  {
   "cell_type": "code",
   "execution_count": 10,
   "metadata": {},
   "outputs": [],
   "source": [
    "## lambda df : 0 if ( (abs(df['Hour'] - 8) <=rush_range_1) or (abs(df['Hour'] - 18) <= rush_range_2) ) else 1\n",
    "def rush_hour(df):\n",
    "    #rush_range_1 = 2 # around the rush hour by +- 2 hrs\n",
    "    #rush_range_2 = 4 # around the rush hour by +- 4 hrs\n",
    "    if (df['Hour'] in [6,7,8,9,10,16,17,18,19,20]):\n",
    "        return 1\n",
    "    else:\n",
    "        return 0\n",
    "    \n",
    "def rush_hour_grad_2(df):\n",
    "    rush_range_1 = 2 # around the rush hour by +- 2 hrs\n",
    "    rush_range_2 = 5 # around the rush hour by +- 4 hrs\n",
    "    is_functional = df['Functioning Day']\n",
    "\n",
    "    return (np.exp(-abs(df['Hour'] - 8)) +  np.exp(-abs(df['Hour'] - 18))) * is_functional\n",
    "\n",
    "def rush_hour_grad(df):\n",
    "    #from 8 am , 6 pm\n",
    "    rush_range_1 = 2 # around the rush hour by +- 2 hrs\n",
    "    rush_range_2 = 5 # around the rush hour by +- 4 hrs\n",
    "    is_functional = df['Functioning Day'] \n",
    "    \n",
    "    if (abs(df['Hour'] - 8) <= rush_range_1): \n",
    "        return np.exp(-abs(df['Hour'] - 8)) * is_functional\n",
    "    \n",
    "    elif (abs(df['Hour'] - 18) <= rush_range_2):\n",
    "        return np.exp(-abs(df['Hour'] - 18)) * is_functional\n",
    "    else:\n",
    "        return 0\n",
    "    \n",
    "def dead_hour_grad(df):\n",
    "    dead_range_1 = 3 # around the dead hour by +- 3 hrs from 4 am\n",
    "    is_functional = df['Functioning Day'] \n",
    "    \n",
    "    if (abs(df['Hour'] - 4) <= dead_range_1): \n",
    "        return np.exp(-abs(df['Hour'] - 4)) * is_functional\n",
    "    else:\n",
    "        return 0\n",
    "    \n",
    "def dead_hour_grad_2(df):\n",
    "    #dead_range_1 = 5 # around the dead hour by +- 3 hrs from 4 am\n",
    "    is_functional = df['Functioning Day'] \n",
    "    \n",
    "    if(df['Hour'] in [22,23,0,1,2,3,4,5]):\n",
    "        return np.exp(-abs(df['Hour'] - 4)) * is_functional\n",
    "    else:\n",
    "        return 0   \n"
   ]
  },
  {
   "cell_type": "code",
   "execution_count": 11,
   "metadata": {},
   "outputs": [],
   "source": [
    "## lambda df : 0 if ( (abs(df['Hour'] - 8) <=rush_range_1) or (abs(df['Hour'] - 18) <= rush_range_2) ) else 1\n",
    "def day_night(df):\n",
    "    #rush_range_1 = 2 # around the rush hour by +- 2 hrs\n",
    "    #rush_range_2 = 4 # around the rush hour by +- 4 hrs\n",
    "    if (df['Hour'] >=6 and df['Hour'] <=18):\n",
    "        return 1\n",
    "    else:\n",
    "        return 0\n",
    "\n"
   ]
  },
  {
   "cell_type": "raw",
   "metadata": {},
   "source": [
    "# for humidity \n",
    "increase from 0 to 50% , decay from 50 to 100%\n",
    "how can we factor that?"
   ]
  },
  {
   "cell_type": "code",
   "execution_count": 12,
   "metadata": {},
   "outputs": [],
   "source": [
    "#new_feature_data_series(df_prep,['Temperature(C)','Humidity(%)','Functioning Day'],feels_like,'Feels_like')\n",
    "def humidex(df):\n",
    "    ### humidex\n",
    "    ## eq H = Tair + 5/9 * [(6.11 * e^5417.7530 * (a-b)) - 10 ]\n",
    "    Tair = df['Temperature(C)']\n",
    "    Tdew = df['Dew point temperature(C)']\n",
    "    is_functionalDay = df['Functioning Day']\n",
    "    a = 1/273.16\n",
    "    b = 1/(273.15 + Tdew)\n",
    "    Humidex = Tair + (5/9) * (6.11 * np.exp(5417.7530 * (a-b)) -10)\n",
    "    return Humidex  "
   ]
  },
  {
   "cell_type": "raw",
   "metadata": {},
   "source": [
    "# for visibility\n",
    "three important ranges very low , low low , normal_>\n",
    "how can we factor that?"
   ]
  },
  {
   "cell_type": "code",
   "execution_count": 13,
   "metadata": {},
   "outputs": [],
   "source": [
    "def visibility(df):\n",
    "    #0:250 , 250:500 : 500:inf\n",
    "    \n",
    "    if df['Visibility (10m)'] <=250 :\n",
    "        return 0\n",
    "    elif df['Visibility (10m)'] <=350 :\n",
    "        return 1\n",
    "    elif df['Visibility (10m)'] <=450 :\n",
    "        return 1\n",
    "    elif df['Visibility (10m)'] <=550 :\n",
    "        return 2\n",
    "    elif df['Visibility (10m)'] <=650 :\n",
    "        return 2\n",
    "    elif df['Visibility (10m)'] <=850 :\n",
    "        return 3\n",
    "    elif df['Visibility (10m)'] <=1150 :\n",
    "        return 3\n",
    "    elif df['Visibility (10m)'] <=1350 :\n",
    "        return 4\n",
    "    else:\n",
    "        return 5\n",
    "    \n"
   ]
  },
  {
   "cell_type": "code",
   "execution_count": 14,
   "metadata": {},
   "outputs": [],
   "source": [
    "def visibility_dist(df):\n",
    "    #0:250 , 250:500 : 500:inf\n",
    "    \n",
    "    if df['Visibility (10m)'] <100 :     #can't see\n",
    "        return 1\n",
    "    elif df['Visibility (10m)'] <400 :   # foggy\n",
    "        return 2\n",
    "    elif df['Visibility (10m)'] <1000 :  # low fog\n",
    "        return 3\n",
    "    elif df['Visibility (10m)'] <2000 :  # no fog (good vision)\n",
    "        return 4\n",
    "    elif df['Visibility (10m)'] <4000 :  # no fog (excellent vision)\n",
    "        return 5\n",
    "    else:\n",
    "        return 5\n",
    "    \n"
   ]
  },
  {
   "cell_type": "code",
   "execution_count": 15,
   "metadata": {},
   "outputs": [],
   "source": [
    "# for rainfall\n",
    "\n",
    "def rain_fall(df):\n",
    "    # 0:2.5 , \n",
    "    \n",
    "    if df['Rainfall(mm)'] < 0.5 :\n",
    "        return 0\n",
    "    else:\n",
    "        return 1\n",
    "\n"
   ]
  },
  {
   "cell_type": "code",
   "execution_count": 16,
   "metadata": {},
   "outputs": [],
   "source": [
    "def snow_fall(df):\n",
    "    # 0:2.5 , \n",
    "    \n",
    "    if df['Snowfall (cm)'] == 0 :\n",
    "        return 0\n",
    "    else:\n",
    "        return 1\n",
    "\n"
   ]
  },
  {
   "cell_type": "code",
   "execution_count": 17,
   "metadata": {},
   "outputs": [],
   "source": [
    "def Sunny_Hot (df):\n",
    "    if ((df['Temperature(C)']>25)&((df['Solar Radiation (MJ/m2)'] >2)&(df['day_night']==1))):\n",
    "        return True\n",
    "    else:\n",
    "        return False\n",
    "\n",
    "def Clear_hot (df):\n",
    "    if ((df['Temperature(C)']>25)&(((df['Solar Radiation (MJ/m2)'] <=2)&(df['Solar Radiation (MJ/m2)'] >1))\\\n",
    "                                   &(df['day_night']==1))&(df['Rainfall(mm)'] == 0)&(df['Snowfall (cm)'] == 0)):\n",
    "        return True\n",
    "    else:\n",
    "        return False\n",
    "\n",
    "def PCloudy_hot(df):  \n",
    "    if((df['Temperature(C)']>25)&(((df['Solar Radiation (MJ/m2)'] <=1)&(df['Solar Radiation (MJ/m2)'] >0.5))\\\n",
    "                                                       &(df['day_night']==1))&(df['Rainfall(mm)'] == 0)&(df['Snowfall (cm)'] == 0)):\n",
    "        return True\n",
    "    else:\n",
    "        return False\n",
    "def Cloudy_hot(df): \n",
    "    if((df['Temperature(C)']>25)&(((df['Solar Radiation (MJ/m2)'] <=0.5))&(df['day_night']==1))\\\n",
    "                      &(df['Rainfall(mm)'] == 0)&(df['Snowfall (cm)'] == 0)):\n",
    "        return True\n",
    "    else:\n",
    "        return False\n",
    "def Rain_hot(df):  \n",
    "    if((df['Temperature(C)']>25)&(df['Rainfall(mm)'] >0)&(df['Snowfall (cm)'] == 0)):\n",
    "        return True\n",
    "    else:\n",
    "        return False\n",
    "\n",
    "def Night_hot(df): \n",
    "    if((df['Temperature(C)']>25)&(df['day_night']==0)\n",
    "                      &(df['Rainfall(mm)'] == 0)&(df['Snowfall (cm)'] == 0)):\n",
    "        return True\n",
    "    else:\n",
    "        return False\n",
    "\n",
    "#len(sunny_hot)+len(Clear_hot)+len(PCloudy_hot)+len(Cloudy_hot)+len(Rain_hot)+len(Night_hot)"
   ]
  },
  {
   "cell_type": "code",
   "execution_count": 18,
   "metadata": {},
   "outputs": [],
   "source": [
    "def Sunny_Warm (df):\n",
    "    if (((df['Temperature(C)']<=25)&(df['Temperature(C)']>10))&((df['Solar Radiation (MJ/m2)'] >2)&(df['day_night']==1))):\n",
    "        return True\n",
    "    else:\n",
    "        return False\n",
    "\n",
    "def Clear_Warm (df):\n",
    "    if (((df['Temperature(C)']<=25)&(df['Temperature(C)']>10))\\\n",
    "        &(((df['Solar Radiation (MJ/m2)'] <=2)&(df['Solar Radiation (MJ/m2)'] >1))&(df['day_night']==1))\\\n",
    "        &(df['Rainfall(mm)'] == 0)&(df['Snowfall (cm)'] == 0)):\n",
    "        return True\n",
    "    else:\n",
    "        return False\n",
    "\n",
    "def PCloudy_Warm(df):  \n",
    "    if(((df['Temperature(C)']<=25)&(df['Temperature(C)']>10))\\\n",
    "       &(((df['Solar Radiation (MJ/m2)'] <=1)&(df['Solar Radiation (MJ/m2)'] >0.5))&(df['day_night']==1))\\\n",
    "       &(df['Rainfall(mm)'] == 0)&(df['Snowfall (cm)'] == 0)):\n",
    "        return True\n",
    "    else:\n",
    "        return False\n",
    "def Cloudy_Warm(df): \n",
    "    if(((df['Temperature(C)']<=25)&(df['Temperature(C)']>10))\\\n",
    "       &(((df['Solar Radiation (MJ/m2)'] <=0.5))&(df['day_night']==1))\\\n",
    "       &(df['Rainfall(mm)'] == 0)&(df['Snowfall (cm)'] == 0)):\n",
    "        return True\n",
    "    else:\n",
    "        return False\n",
    "def Rain_Warm(df):  \n",
    "    if(((df['Temperature(C)']<=25)&(df['Temperature(C)']>10))&(df['Rainfall(mm)'] >0)&(df['Snowfall (cm)'] == 0)):\n",
    "        return True\n",
    "    else:\n",
    "        return False\n",
    "\n",
    "def Night_Warm(df): \n",
    "    if(((df['Temperature(C)']<=25)&(df['Temperature(C)']>10))\\\n",
    "       &(df['day_night']==0)&(df['Rainfall(mm)'] == 0)&(df['Snowfall (cm)'] == 0)):\n",
    "        return True\n",
    "    else:\n",
    "        return False"
   ]
  },
  {
   "cell_type": "code",
   "execution_count": 19,
   "metadata": {},
   "outputs": [],
   "source": [
    "def Sunny_Cold (df):\n",
    "    if (((df['Temperature(C)']<=10)&(df['Temperature(C)']>0))&((df['Solar Radiation (MJ/m2)'] >2)&(df['day_night']==1))):\n",
    "        return True\n",
    "    else:\n",
    "        return False\n",
    "\n",
    "def Clear_Cold (df):\n",
    "    if (((df['Temperature(C)']<=10)&(df['Temperature(C)']>0))\\\n",
    "        &(((df['Solar Radiation (MJ/m2)'] <=2)&(df['Solar Radiation (MJ/m2)'] >1))&(df['day_night']==1))\\\n",
    "        &(df['Rainfall(mm)'] == 0)&(df['Snowfall (cm)'] == 0)):\n",
    "        return True\n",
    "    else:\n",
    "        return False\n",
    "\n",
    "def PCloudy_Cold(df):  \n",
    "    if(((df['Temperature(C)']<=10)&(df['Temperature(C)']>0))\\\n",
    "       &(((df['Solar Radiation (MJ/m2)'] <=1)&(df['Solar Radiation (MJ/m2)'] >0.5))&(df['day_night']==1))\\\n",
    "       &(df['Rainfall(mm)'] == 0)&(df['Snowfall (cm)'] == 0)):\n",
    "        return True\n",
    "    else:\n",
    "        return False\n",
    "def Cloudy_Cold(df): \n",
    "    if(((df['Temperature(C)']<=10)&(df['Temperature(C)']>0))\\\n",
    "       &(((df['Solar Radiation (MJ/m2)'] <=0.5))&(df['day_night']==1))\\\n",
    "       &(df['Rainfall(mm)'] == 0)&(df['Snowfall (cm)'] == 0)):\n",
    "        return True\n",
    "    else:\n",
    "        return False\n",
    "def Rain_Cold(df):  \n",
    "    if(((df['Temperature(C)']<=10)&(df['Temperature(C)']>0))&(df['Rainfall(mm)'] >0)&(df['Snowfall (cm)'] == 0)):\n",
    "        return True\n",
    "    else:\n",
    "        return False\n",
    "def Snow_Cold(df):  \n",
    "    if(((df['Temperature(C)']<=10)&(df['Temperature(C)']>0))&(df['Rainfall(mm)'] ==0)&(df['Snowfall (cm)'] >0)):\n",
    "        return True\n",
    "    else:\n",
    "        return False\n",
    "def Night_Cold(df): \n",
    "    if(((df['Temperature(C)']<=10)&(df['Temperature(C)']>0))\\\n",
    "       &(df['day_night']==0)&(df['Rainfall(mm)'] == 0)&(df['Snowfall (cm)'] == 0)):\n",
    "        return True\n",
    "    else:\n",
    "        return False"
   ]
  },
  {
   "cell_type": "code",
   "execution_count": 20,
   "metadata": {},
   "outputs": [],
   "source": [
    "def Sunny_Freezing (df):\n",
    "    if ((df['Temperature(C)']<=0)&((df['Solar Radiation (MJ/m2)'] >2)&(df['day_night']==1))):\n",
    "        return True\n",
    "    else:\n",
    "        return False\n",
    "\n",
    "def Clear_Freezing (df):\n",
    "    if ((df['Temperature(C)']<=0)&(((df['Solar Radiation (MJ/m2)'] <=2)&(df['Solar Radiation (MJ/m2)'] >1))\\\n",
    "                                   &(df['day_night']==1))&(df['Rainfall(mm)'] == 0)&(df['Snowfall (cm)'] == 0)):\n",
    "        return True\n",
    "    else:\n",
    "        return False\n",
    "\n",
    "def PCloudy_Freezing(df):  \n",
    "    if((df['Temperature(C)']<=0)&(((df['Solar Radiation (MJ/m2)'] <=1)&(df['Solar Radiation (MJ/m2)'] >0.5))\\\n",
    "                                                       &(df['day_night']==1))&(df['Rainfall(mm)'] == 0)&(df['Snowfall (cm)'] == 0)):\n",
    "        return True\n",
    "    else:\n",
    "        return False\n",
    "def Cloudy_Freezing(df): \n",
    "    if((df['Temperature(C)']<=0)&(((df['Solar Radiation (MJ/m2)'] <=0.5))&(df['day_night']==1))\\\n",
    "                      &(df['Rainfall(mm)'] == 0)&(df['Snowfall (cm)'] == 0)):\n",
    "        return True\n",
    "    else:\n",
    "        return False\n",
    "def Rain_Freezing(df):  \n",
    "    if((df['Temperature(C)']<=0)&(df['Rainfall(mm)'] >0)&(df['Snowfall (cm)'] == 0)):\n",
    "        return True\n",
    "    else:\n",
    "        return False\n",
    "def Snow_Freezing(df):  \n",
    "    if((df['Temperature(C)']<=0)&(df['Rainfall(mm)'] ==0)&(df['Snowfall (cm)'] >0)):\n",
    "        return True\n",
    "    else:\n",
    "        return False\n",
    "\n",
    "def Night_Freezing(df): \n",
    "    if((df['Temperature(C)']<=0)&(df['day_night']==0)\n",
    "                      &(df['Rainfall(mm)'] == 0)&(df['Snowfall (cm)'] == 0)):\n",
    "        return True\n",
    "    else:\n",
    "        return False\n",
    "def Rain_Snow(df):\n",
    "    if (df['Rainfall(mm)'] >0)&(df['Snowfall (cm)'] >0):\n",
    "        return True\n",
    "    else:\n",
    "        return False\n",
    "\n",
    "#len(sunny_hot)+len(Clear_hot)+len(PCloudy_hot)+len(Cloudy_hot)+len(Rain_hot)+len(Night_hot)"
   ]
  },
  {
   "cell_type": "code",
   "execution_count": 21,
   "metadata": {},
   "outputs": [],
   "source": [
    "def Clear(df):\n",
    "    if (df['Solar Radiation (MJ/m2)'] >2) & (df['day_night'] ==1):\n",
    "        return 1\n",
    "    else:\n",
    "        return 0\n",
    "    \n",
    "def Few_Clouds(df):\n",
    "    if (((df['Solar Radiation (MJ/m2)'] <=2)&(df['Solar Radiation (MJ/m2)'] >1.5)) & (df['day_night'] ==1)):\n",
    "        return 1  \n",
    "    else:\n",
    "        return 0\n",
    "    \n",
    "def Scatterd_Clouds(df):\n",
    "    if (((df['Solar Radiation (MJ/m2)'] <=1.5)&(df['Solar Radiation (MJ/m2)'] >1)) & (df['day_night'] ==1)):\n",
    "        return 1  \n",
    "    else:\n",
    "        return 0\n",
    "    \n",
    "def Partly_Cloudy(df):\n",
    "    if (((df['Solar Radiation (MJ/m2)'] <=1)&(df['Solar Radiation (MJ/m2)'] >0.5)) & (df['day_night'] ==1)):\n",
    "        return 1  \n",
    "    else:\n",
    "        return 0\n",
    "    \n",
    "def Cloudy(df):\n",
    "    if ((df['Solar Radiation (MJ/m2)'] <= 0.5) & (df['day_night'] ==1)):\n",
    "        return 1\n",
    "    else:\n",
    "        return 0\n",
    "    \n",
    "def Night(df):\n",
    "    if ((df['Solar Radiation (MJ/m2)'] <= 0.8) & (df['day_night'] ==0)):\n",
    "        return 1\n",
    "    else:\n",
    "        return 0\n",
    "    "
   ]
  },
  {
   "cell_type": "code",
   "execution_count": 22,
   "metadata": {},
   "outputs": [],
   "source": [
    "def Mist(df):\n",
    "    if df['Visibility_dist'] == 3:\n",
    "        return 1\n",
    "    else:\n",
    "        return 0\n",
    "    \n",
    "def Fog(df):\n",
    "    if ((df['Visibility_dist'] == 1) | (df['Visibility_dist'] == 2)) :\n",
    "        return 1\n",
    "    else:\n",
    "        return 0"
   ]
  },
  {
   "cell_type": "code",
   "execution_count": 23,
   "metadata": {},
   "outputs": [],
   "source": [
    "def Light_Rain(df):\n",
    "    if ((df['Rainfall(mm)']) >0 & (df['Rainfall(mm)'] < 2.5))  :\n",
    "        return 1\n",
    "    else:\n",
    "        return 0\n",
    "    \n",
    "def Heavy_Rain(df):\n",
    "    if (df['Rainfall(mm)'] >= 2.5)  :\n",
    "        return 1\n",
    "    else:\n",
    "        return 0\n",
    "def Ice_pallets(df):\n",
    "        if ((df['Rainfall(mm)'] > 0 )& (df['Snowfall (cm)'] > 0 ))  :\n",
    "            return 1\n",
    "        else:\n",
    "            return 0\n"
   ]
  },
  {
   "cell_type": "code",
   "execution_count": 24,
   "metadata": {},
   "outputs": [],
   "source": [
    "def Light_Snow(df):\n",
    "    if ((df['Snowfall (cm)']) >0 & (df['Snowfall (cm)'] < 1))  :\n",
    "        return 1\n",
    "    else:\n",
    "        return 0\n",
    "    \n",
    "def Snow(df):\n",
    "    if (df['Snowfall (cm)'] >= 1)  :\n",
    "        return 1\n",
    "    else:\n",
    "        return 0"
   ]
  },
  {
   "cell_type": "code",
   "execution_count": 25,
   "metadata": {},
   "outputs": [],
   "source": [
    "def Cond1(df):\n",
    "    if Clear(df) or Few_Clouds(df) or Partly_Cloudy(df) or Cloudy(df):\n",
    "        return 1\n",
    "    else:\n",
    "        return 0\n",
    "def Cond2(df):\n",
    "    if (Mist(df) and Cloudy(df)) or (Mist(df) and Partly_Cloudy(df)) or (Mist(df) and Few_Clouds(df)) or Mist(df):\n",
    "        return 1\n",
    "    else:\n",
    "        return 0\n",
    "def Cond3(df):\n",
    "    if Light_Snow(df) or (Light_Rain(df) and Scatterd_Clouds(df)) or Light_Rain(df):\n",
    "        return 1\n",
    "    else:\n",
    "        return 0\n",
    "def Cond4(df):\n",
    "    if (Ice_pallets(df) and Mist(df)) or (Snow(df) and Fog(df)) or Snow(df) :\n",
    "        return 1\n",
    "    else:\n",
    "        return 0\n",
    "def Cond5(df):\n",
    "    if Night(df):\n",
    "        return 1\n",
    "    else:\n",
    "        return 0"
   ]
  },
  {
   "cell_type": "code",
   "execution_count": 26,
   "metadata": {},
   "outputs": [],
   "source": [
    "def Hot(df):\n",
    "    if (df['Temperature(C)']>25):\n",
    "        return 1\n",
    "    else:\n",
    "        return 0\n",
    "def Warm(df):\n",
    "    if ((df['Temperature(C)']<=25)&(df['Temperature(C)']>10)):\n",
    "        return 1\n",
    "    else:\n",
    "        return 0\n",
    "def Cold(df):\n",
    "    if ((df['Temperature(C)']<=10)&(df['Temperature(C)']>0)):\n",
    "        return 1\n",
    "    else:\n",
    "        return 0\n",
    "def Freezing(df):\n",
    "    if (df['Temperature(C)']<=0):\n",
    "        return 1\n",
    "    else:\n",
    "        return 0"
   ]
  },
  {
   "cell_type": "code",
   "execution_count": 27,
   "metadata": {},
   "outputs": [],
   "source": [
    "t=-1\n",
    "df_prep = df.copy()\n",
    "\n",
    "df_prep['Year'] = df['Date'].dt.year.astype('int')\n",
    "df_prep['Week'] = df['Date'].dt.isocalendar().week.astype('int')\n",
    "df_prep['Month'] = df['Date'].dt.month.astype('int')\n",
    "df_prep['WeekDay'] = df['Date'].dt.weekday.astype('int')\n",
    "\n",
    "map_data_series(df_prep,'Functioning Day',['Yes','No'],[1,0])\n",
    "map_data_series(df_prep,'Holiday',['Holiday','No Holiday'],[1,0])\n",
    "map_data_series(df_prep,'Seasons',['Winter','Spring','Summer','Autumn'],[0,1,2,3])\n",
    "new_feature_data_series(df_prep,['Hour','Functioning Day'],rush_hour_grad,'Rush_hour')\n",
    "new_feature_data_series(df_prep,['Hour','Functioning Day'],dead_hour_grad_2,'Dead_hour')\n",
    "new_feature_data_series(df_prep,['Hour'],day_night,'day_night')\n",
    "new_feature_data_series(df_prep,['Humidity(%)'],lambda df : 0 if (df['Humidity(%)'] <= 70) else 1,'Humidity_high')\n",
    "new_feature_data_series(df_prep,['Temperature(C)'],lambda df : 0 if (df['Temperature(C)'] <= 35) else 1,'Temperature_high')\n",
    "new_feature_data_series(df_prep,['Humidity(%)','Temperature(C)','Solar Radiation (MJ/m2)','Wind speed (m/s)'],lambda df : 0 if (df['Temperature(C)'] < 35) and (df['Humidity(%)'] < 70) and (df['Solar Radiation (MJ/m2)'] < 1.4) else 1,'Weather_bad')\n",
    "new_feature_data_series(df_prep,['Temperature(C)','Dew point temperature(C)','Functioning Day'],humidex,'Humidex')\n",
    "\n",
    "df_prep['Ideal'] = df[['Temperature(C)', 'Wind speed (m/s)']] \\\n",
    "    .apply(lambda df: 1 if (df['Temperature(C)'] < 30 and df['Wind speed (m/s)'] < 2.8) else 0, axis = 1)\n",
    "\n",
    "new_feature_data_series(df_prep,['Visibility (10m)'],visibility,'Visibility_cat')\n",
    "new_feature_data_series(df_prep,['Visibility (10m)'],visibility_dist,'Visibility_dist')\n",
    "\n",
    "new_feature_data_series(df_prep,['Rainfall(mm)'],rain_fall,'Rain_cat')\n",
    "new_feature_data_series(df_prep,['Snowfall (cm)'],snow_fall,'Snow_cat')\n",
    "\n",
    "df_prep['Weather_State'] =df_prep[['Temperature(C)', 'Solar Radiation (MJ/m2)' , 'day_night','Snowfall (cm)','Rainfall(mm)']]  \\\n",
    "    .apply(lambda df: \"Sunny_hot\" if Sunny_Hot(df)\\\n",
    "           else \"Clear_hot\" if Clear_hot(df)\\\n",
    "           else \"PCloudy_hot\" if PCloudy_hot(df)\\\n",
    "           else \"Cloudy_hot\" if Cloudy_hot(df)\\\n",
    "           else \"Rain_hot\" if Rain_hot(df)\\\n",
    "           else \"Night_hot\" if Night_hot(df)\\\n",
    "           else \"Sunny_Warm\" if Sunny_Warm(df)\\\n",
    "           else \"Clear_Warm\" if Clear_Warm(df)\\\n",
    "           else \"PCloudy_Warm\" if PCloudy_Warm(df)\\\n",
    "           else \"Cloudy_Warm\" if Cloudy_Warm(df)\\\n",
    "           else \"Rain_Warm\" if Rain_Warm(df)\\\n",
    "           else \"Night_Warm\" if Night_Warm(df)\\\n",
    "           else \"Sunny_Cold\" if Sunny_Cold(df)\\\n",
    "           else \"Clear_Cold\" if Clear_Cold(df)\\\n",
    "           else \"PCloudy_Cold\" if PCloudy_Cold(df)\\\n",
    "           else \"Cloudy_Cold\" if Cloudy_Cold(df)\\\n",
    "           else \"Rain_Cold\" if Rain_Cold(df)\\\n",
    "           else \"Snow_Cold\" if Snow_Cold(df)\\\n",
    "           else \"Night_Cold\" if Night_Cold(df)\\\n",
    "           else \"Sunny_Freezing\" if Sunny_Freezing(df)\\\n",
    "           else \"Clear_Freezing\" if Clear_Freezing(df)\\\n",
    "           else \"PCloudy_Freezing\" if PCloudy_Freezing(df)\\\n",
    "           else \"Cloudy_Freezing\" if Cloudy_Freezing(df)\\\n",
    "           else \"Rain_Freezing\" if Rain_Freezing(df)\\\n",
    "           else \"Snow_Freezing\" if Snow_Freezing(df)\\\n",
    "           else \"Night_Freezing\" if Night_Freezing(df)\\\n",
    "           else \"Rain&Snow\" if Rain_Snow(df)\\\n",
    "           else 0, axis = 1)\n",
    "Weather_Description_list = ['Night_Freezing', 'Cloudy_Freezing', 'PCloudy_Freezing',\n",
    "                            'Clear_Cold', 'PCloudy_Cold', 'Cloudy_Cold', 'Night_Cold',\n",
    "                            'Rain_Cold', 'Clear_Freezing', 'Rain&Snow', 'Snow_Freezing',\n",
    "                            'Snow_Cold', 'Sunny_Freezing', 'Sunny_Cold', 'Sunny_Warm',\n",
    "                            'Clear_Warm', 'PCloudy_Warm', 'Cloudy_Warm', 'Night_Warm',\n",
    "                            'Rain_Warm', 'Sunny_hot', 'Clear_hot', 'Cloudy_hot', 'Night_hot',\n",
    "                            'PCloudy_hot', 'Rain_hot']\n",
    "\n",
    "length = len(Weather_Description_list)+1\n",
    "Weather_Description_neumeric = [*range(1, length, 1)]\n",
    "map_data_series(df_prep,'Weather_State',Weather_Description_list,Weather_Description_neumeric)\n",
    "new_feature_data_series(df_prep,['Weather_State','Visibility_dist'],lambda df :df['Weather_State']*(df['Visibility_dist']),'Weather_stat&visb_dist')\n",
    "new_feature_data_series(df_prep,['Weather_State','Visibility (10m)'],lambda df :df['Weather_State']*np.log(df['Visibility (10m)']),'Weather&visb')\n",
    "\n",
    "df_prep['Sky_State'] =df_prep[['Temperature(C)','Visibility_dist', 'Solar Radiation (MJ/m2)' , 'day_night','Snowfall (cm)','Rainfall(mm)']]  \\\n",
    "    .apply(lambda df: 4 if Cond4(df)\\\n",
    "                 else 2 if Cond2(df)\\\n",
    "                 else 3 if Cond3(df)\\\n",
    "                 else 1 if Cond1(df)\\\n",
    "                 \n",
    "                 else 5, axis = 1)\n",
    "\n",
    "df_prep['Temp_State'] =df_prep[['Temperature(C)','Visibility_dist', 'Solar Radiation (MJ/m2)' , 'day_night','Snowfall (cm)','Rainfall(mm)']]  \\\n",
    "    .apply(lambda df: 1 if Warm(df)\\\n",
    "                 else 2 if Cold(df)\\\n",
    "                 else 3 if Hot(df)\\\n",
    "                 else 4 if Freezing(df)\\\n",
    "                 \n",
    "                 else 5, axis = 1)\n",
    "\n",
    "new_feature_data_series(df_prep,['Sky_State','Temp_State'],lambda df :df['Sky_State']*(df['Temp_State']),'GBL_Forecast')\n",
    "\n",
    "df_prep[\"Date_tmp\"] = df_prep['Date'].dt.to_period('M')\n",
    "new_feature_df = pd.DataFrame(df_prep.groupby(['Date_tmp', 'Year'])['y'].mean()).sort_values([\"Year\"])\n",
    "new_feature_df = pd.DataFrame(new_feature_df['y'].shift(+t))\n",
    "new_feature_df.reset_index(inplace=True)\n",
    "new_feature_df.rename(columns={'y':'Prev Month y'}, inplace=True)\n",
    "new_feature_df.drop(['Year'], axis = 1, inplace =True)\n",
    "new_feature_df.fillna(new_feature_df.mean(), inplace = True)\n",
    "df_prep = pd.merge(df_prep, new_feature_df, on='Date_tmp', how='left')\n",
    "df_prep[\"Temperature lag1\"] = df_prep[\"Temperature(C)\"].shift(+t)\n",
    "df_prep[\"Temperature lag1\"].fillna(0, inplace=True)\n",
    "\n",
    "df_prep[\"Rainfall lag1\"] = df_prep[\"Rainfall(mm)\"].shift(+t)\n",
    "df_prep[\"Rainfall lag1\"].fillna(0, inplace=True)\n",
    "\n",
    "df_prep[\"Visibility  lag1\"] = df_prep[\"Visibility (10m)\"].shift(+t)\n",
    "df_prep[\"Visibility  lag1\"].fillna(0, inplace=True)\n",
    "\n",
    "df_prep[\"Wind speed lag1\"] = df_prep[\"Wind speed (m/s)\"].shift(+t)\n",
    "df_prep[\"Wind speed lag1\"].fillna(0, inplace=True)\n",
    "\n",
    "df_prep[\"Weather_State lag1\"] = df_prep[\"Weather_State\"].shift(+t)\n",
    "df_prep[\"Weather_State lag1\"].fillna(0, inplace=True)\n",
    "\n",
    "df_prep[\"Humidity lag1\"] = df_prep[\"Humidity(%)\"].shift(+t)\n",
    "df_prep[\"Humidity lag1\"].fillna(0, inplace=True)\n",
    "\n",
    "df_prep[\"Rush_hour lag1\"] = df_prep[\"Rush_hour\"].shift(+t)\n",
    "df_prep[\"Rush_hour lag1\"].fillna(0, inplace=True)\n",
    "\n",
    "df_prep[\"Dead_hour lag1\"] = df_prep[\"Dead_hour\"].shift(+t)\n",
    "df_prep[\"Dead_hour lag1\"].fillna(0, inplace=True)\n",
    "\n",
    "df_prep[\"Ideal lag1\"] = df_prep[\"Ideal\"].shift(+t)\n",
    "df_prep[\"Ideal lag1\"].fillna(0, inplace=True)\n",
    "\n",
    "df_prep[\"Dew point temperature(C) lag1\"] = df_prep[\"Dew point temperature(C)\"].shift(+t)\n",
    "df_prep[\"Dew point temperature(C) lag1\"].fillna(0, inplace=True)\n",
    "\n",
    "#added from amr file \n",
    "df_prep[\"Humidity lag2\"] = df_prep[\"Humidity(%)\"].shift(+t-1)\n",
    "df_prep[\"Humidity lag2\"].fillna(0, inplace=True)\n",
    "\n",
    "\n",
    "df_prep[\"Rainfall(mm) rolling\"] =df_prep [\"Rainfall(mm)\"].rolling(2).sum()\n",
    "df_prep[\"Rainfall(mm) rolling\"].fillna(0, inplace=True)\n",
    "\n",
    "df_prep[\"Wind speed (m/s) rolling\"] =df_prep[\"Weather_State\"].rolling(2).sum()\n",
    "df_prep[\"Wind speed (m/s) rolling\"].fillna(0, inplace=True)\n",
    "\n",
    "df_prep[\"Ideal lag2\"] = df_prep[\"Ideal\"].shift(+t-1)\n",
    "df_prep[\"Ideal lag2\"].fillna(0, inplace=True)\n",
    "\n",
    "df_prep[\"Rush_hour lag2\"] = df_prep[\"Rush_hour\"].shift(+t-1)\n",
    "df_prep[\"Rush_hour lag2\"].fillna(0, inplace=True)"
   ]
  },
  {
   "cell_type": "code",
   "execution_count": 28,
   "metadata": {},
   "outputs": [],
   "source": [
    "mohhey =  df_prep.columns"
   ]
  },
  {
   "cell_type": "code",
   "execution_count": 29,
   "metadata": {},
   "outputs": [],
   "source": [
    "amr = ['Date', 'y', 'Hour', 'Temperature(C)', 'Humidity(%)',\n",
    "       'Wind speed (m/s)', 'Visibility (10m)', 'Dew point temperature(C)',\n",
    "       'Solar Radiation (MJ/m2)', 'Rainfall(mm)', 'Snowfall (cm)', 'Seasons',\n",
    "       'Holiday', 'Functioning Day', 'Year', 'Week', 'Month', 'WeekDay',\n",
    "       'Rush_hour', 'Dead_hour', 'day_night', 'Humidity_high',\n",
    "       'Temperature_high', 'Weather_bad', 'Humidex', 'Ideal', 'Visibility_cat',\n",
    "       'Visibility_dist', 'Rain_cat', 'Snow_cat', 'Weather_State',\n",
    "       'Weather_stat&visb_dist', 'Weather&visb', 'Sky_State', 'Temp_State',\n",
    "       'GBL_Forecast', 'Date_tmp', 'Prev Month y', 'Temperature lag1',\n",
    "       'Rainfall lag1', 'Visibility  lag1', 'Wind speed lag1',\n",
    "       'Weather_State lag1', 'Humidity lag1', 'Humidity lag2',\n",
    "       'Rainfall(mm) rolling', 'Wind speed (m/s) rolling', 'Rush_hour lag1',\n",
    "       'Dead_hour lag1', 'Ideal lag1', 'Ideal lag2', 'Rush_hour lag2',\n",
    "       'Dew point temperature(C) lag1']\n"
   ]
  },
  {
   "cell_type": "code",
   "execution_count": 30,
   "metadata": {},
   "outputs": [
    {
     "data": {
      "text/plain": [
       "[]"
      ]
     },
     "execution_count": 30,
     "metadata": {},
     "output_type": "execute_result"
    }
   ],
   "source": [
    "[v for v in amr if v not in mohhey ]"
   ]
  },
  {
   "cell_type": "markdown",
   "metadata": {},
   "source": [
    "### Test Data "
   ]
  },
  {
   "cell_type": "code",
   "execution_count": 32,
   "metadata": {},
   "outputs": [],
   "source": [
    "full_test_path = r\"SeoulBikeDataTestFull.csv\""
   ]
  },
  {
   "cell_type": "code",
   "execution_count": 33,
   "metadata": {},
   "outputs": [],
   "source": [
    "full_test = pd.read_csv(full_test_path)"
   ]
  },
  {
   "cell_type": "code",
   "execution_count": 34,
   "metadata": {},
   "outputs": [],
   "source": [
    "test = df_test.copy()"
   ]
  },
  {
   "cell_type": "code",
   "execution_count": 35,
   "metadata": {},
   "outputs": [],
   "source": [
    "test['Year'] = df_test['Date'].dt.year.astype('int')\n",
    "test['Week'] = df_test['Date'].dt.isocalendar().week.astype('int')\n",
    "test['Month'] = df_test['Date'].dt.month.astype('int') \n",
    "test['WeekDay'] = df_test['Date'].dt.weekday.astype('int')"
   ]
  },
  {
   "cell_type": "code",
   "execution_count": 36,
   "metadata": {},
   "outputs": [],
   "source": [
    "#test.y.value_counts()"
   ]
  },
  {
   "cell_type": "markdown",
   "metadata": {},
   "source": [
    "## Test Data Procc"
   ]
  },
  {
   "cell_type": "code",
   "execution_count": 37,
   "metadata": {},
   "outputs": [],
   "source": [
    "map_data_series(test,'Functioning Day',['Yes','No'],[1,0])"
   ]
  },
  {
   "cell_type": "code",
   "execution_count": 38,
   "metadata": {},
   "outputs": [],
   "source": [
    "map_data_series(test,'Holiday',['Holiday','No Holiday'],[1,0])"
   ]
  },
  {
   "cell_type": "code",
   "execution_count": 39,
   "metadata": {},
   "outputs": [],
   "source": [
    "map_data_series(test,'Seasons',['Winter','Spring','Summer','Autumn'],[0,1,2,3])"
   ]
  },
  {
   "cell_type": "code",
   "execution_count": 40,
   "metadata": {},
   "outputs": [],
   "source": [
    "new_feature_data_series(test,['Hour','Functioning Day'],dead_hour_grad_2,'Dead_hour')\n",
    "new_feature_data_series(test,['Hour','Functioning Day'],rush_hour_grad,'Rush_hour')"
   ]
  },
  {
   "cell_type": "code",
   "execution_count": 41,
   "metadata": {},
   "outputs": [],
   "source": [
    "new_feature_data_series(test,['Hour'],day_night,'day_night')\n",
    "new_feature_data_series(test,['Humidity(%)'],lambda df : 0 if (df['Humidity(%)'] <= 70) else 1,'Humidity_high')\n",
    "new_feature_data_series(test,['Temperature(C)'],lambda df : 0 if (df['Temperature(C)'] <= 35) else 1,'Temperature_high')"
   ]
  },
  {
   "cell_type": "code",
   "execution_count": 42,
   "metadata": {},
   "outputs": [],
   "source": [
    "new_feature_data_series(test,['Humidity(%)','Temperature(C)','Solar Radiation (MJ/m2)'],lambda df : 0 if (df['Temperature(C)'] < 35) and (df['Humidity(%)'] < 70) and (df['Solar Radiation (MJ/m2)'] < 1.4) else 1,'Weather_bad')"
   ]
  },
  {
   "cell_type": "code",
   "execution_count": 43,
   "metadata": {},
   "outputs": [],
   "source": [
    "test['Ideal'] = df_test[['Temperature(C)', 'Wind speed (m/s)']] \\\n",
    "    .apply(lambda df: 1 if (df['Temperature(C)'] < 30 and df['Wind speed (m/s)'] < 2.8) else 0, axis = 1)"
   ]
  },
  {
   "cell_type": "code",
   "execution_count": 44,
   "metadata": {},
   "outputs": [],
   "source": [
    "#new_feature_data_series(test,['Temperature(C)','Humidity(%)','Functioning Day'],feels_like,'Feels_like')\n",
    "new_feature_data_series(test,['Temperature(C)','Dew point temperature(C)','Functioning Day'],humidex,'Humidex')"
   ]
  },
  {
   "cell_type": "code",
   "execution_count": 45,
   "metadata": {},
   "outputs": [],
   "source": [
    "new_feature_data_series(test,['Visibility (10m)'],visibility,'Visibility_cat')"
   ]
  },
  {
   "cell_type": "code",
   "execution_count": 46,
   "metadata": {},
   "outputs": [],
   "source": [
    "new_feature_data_series(test,['Rainfall(mm)'],rain_fall,'Rain_cat')"
   ]
  },
  {
   "cell_type": "code",
   "execution_count": 47,
   "metadata": {},
   "outputs": [],
   "source": [
    "new_feature_data_series(test,['Snowfall (cm)'],snow_fall,'Snow_cat')"
   ]
  },
  {
   "cell_type": "code",
   "execution_count": 48,
   "metadata": {},
   "outputs": [],
   "source": [
    "test['Weather_State'] =test[['Temperature(C)', 'Solar Radiation (MJ/m2)' , 'day_night','Snowfall (cm)','Rainfall(mm)']]  \\\n",
    "    .apply(lambda df: \"Sunny_hot\" if Sunny_Hot(df)\\\n",
    "           else \"Clear_hot\" if Clear_hot(df)\\\n",
    "           else \"PCloudy_hot\" if PCloudy_hot(df)\\\n",
    "           else \"Cloudy_hot\" if Cloudy_hot(df)\\\n",
    "           else \"Rain_hot\" if Rain_hot(df)\\\n",
    "           else \"Night_hot\" if Night_hot(df)\\\n",
    "           else \"Sunny_Warm\" if Sunny_Warm(df)\\\n",
    "           else \"Clear_Warm\" if Clear_Warm(df)\\\n",
    "           else \"PCloudy_Warm\" if PCloudy_Warm(df)\\\n",
    "           else \"Cloudy_Warm\" if Cloudy_Warm(df)\\\n",
    "           else \"Rain_Warm\" if Rain_Warm(df)\\\n",
    "           else \"Night_Warm\" if Night_Warm(df)\\\n",
    "           else \"Sunny_Cold\" if Sunny_Cold(df)\\\n",
    "           else \"Clear_Cold\" if Clear_Cold(df)\\\n",
    "           else \"PCloudy_Cold\" if PCloudy_Cold(df)\\\n",
    "           else \"Cloudy_Cold\" if Cloudy_Cold(df)\\\n",
    "           else \"Rain_Cold\" if Rain_Cold(df)\\\n",
    "           else \"Snow_Cold\" if Snow_Cold(df)\\\n",
    "           else \"Night_Cold\" if Night_Cold(df)\\\n",
    "           else \"Sunny_Freezing\" if Sunny_Freezing(df)\\\n",
    "           else \"Clear_Freezing\" if Clear_Freezing(df)\\\n",
    "           else \"PCloudy_Freezing\" if PCloudy_Freezing(df)\\\n",
    "           else \"Cloudy_Freezing\" if Cloudy_Freezing(df)\\\n",
    "           else \"Rain_Freezing\" if Rain_Freezing(df)\\\n",
    "           else \"Snow_Freezing\" if Snow_Freezing(df)\\\n",
    "           else \"Night_Freezing\" if Night_Freezing(df)\\\n",
    "           else \"Rain&Snow\" if Rain_Snow(df)\\\n",
    "           else 0, axis = 1)"
   ]
  },
  {
   "cell_type": "code",
   "execution_count": 49,
   "metadata": {},
   "outputs": [],
   "source": [
    "map_data_series(test,'Weather_State',Weather_Description_list,Weather_Description_neumeric)"
   ]
  },
  {
   "cell_type": "code",
   "execution_count": 50,
   "metadata": {},
   "outputs": [],
   "source": [
    "test[\"Date_tmp\"] = test['Date'].dt.to_period('M')\n",
    "test = pd.merge(test, new_feature_df, on=\"Date_tmp\", how=\"left\")"
   ]
  },
  {
   "cell_type": "code",
   "execution_count": 51,
   "metadata": {},
   "outputs": [],
   "source": [
    "new_feature_data_series(test,['Visibility (10m)'],visibility_dist,'Visibility_dist')"
   ]
  },
  {
   "cell_type": "code",
   "execution_count": 52,
   "metadata": {},
   "outputs": [],
   "source": [
    "new_feature_data_series(test,['Weather_State','Visibility_dist'],lambda df :df['Weather_State']*(df['Visibility_dist']),'Weather_stat&visb_dist')"
   ]
  },
  {
   "cell_type": "code",
   "execution_count": 53,
   "metadata": {},
   "outputs": [],
   "source": [
    "new_feature_data_series(test,['Weather_State','Visibility (10m)'],lambda df :df['Weather_State']*np.log(df['Visibility (10m)']),'Weather&visb')"
   ]
  },
  {
   "cell_type": "code",
   "execution_count": 54,
   "metadata": {},
   "outputs": [],
   "source": [
    "test['Sky_State'] =test[['Temperature(C)','Visibility_dist', 'Solar Radiation (MJ/m2)' , 'day_night','Snowfall (cm)','Rainfall(mm)']]  \\\n",
    "    .apply(lambda df: 4 if Cond4(df)\\\n",
    "                 else 2 if Cond2(df)\\\n",
    "                 else 3 if Cond3(df)\\\n",
    "                 else 1 if Cond1(df)\\\n",
    "                 else 5, axis = 1)"
   ]
  },
  {
   "cell_type": "code",
   "execution_count": 55,
   "metadata": {},
   "outputs": [],
   "source": [
    "test['Temp_State'] =test[['Temperature(C)','Visibility_dist', 'Solar Radiation (MJ/m2)' , 'day_night','Snowfall (cm)','Rainfall(mm)']]  \\\n",
    "    .apply(lambda df: 1 if Warm(df)\\\n",
    "                 else 2 if Cold(df)\\\n",
    "                 else 3 if Hot(df)\\\n",
    "                 else 4 if Freezing(df)\\\n",
    "                 \n",
    "                 else 5, axis = 1)"
   ]
  },
  {
   "cell_type": "code",
   "execution_count": 56,
   "metadata": {},
   "outputs": [],
   "source": [
    "new_feature_data_series(test,['Sky_State','Temp_State'],lambda df :df['Sky_State']*(df['Temp_State']),'GBL_Forecast')"
   ]
  },
  {
   "cell_type": "code",
   "execution_count": 57,
   "metadata": {},
   "outputs": [],
   "source": [
    "test[\"Temperature lag1\"] = test[\"Temperature(C)\"].shift(+t)\n",
    "test[\"Temperature lag1\"].fillna(0, inplace=True)\n",
    "\n",
    "test[\"Rainfall lag1\"] = test[\"Rainfall(mm)\"].shift(+t)\n",
    "test[\"Rainfall lag1\"].fillna(0, inplace=True)\n",
    "\n",
    "test[\"Visibility  lag1\"] = test[\"Visibility (10m)\"].shift(+t)\n",
    "test[\"Visibility  lag1\"].fillna(0, inplace=True)\n",
    "\n",
    "test[\"Wind speed lag1\"] = test[\"Wind speed (m/s)\"].shift(+t)\n",
    "test[\"Wind speed lag1\"].fillna(0, inplace=True)\n",
    "\n",
    "test[\"Weather_State lag1\"] = test[\"Weather_State\"].shift(+t)\n",
    "test[\"Weather_State lag1\"].fillna(0, inplace=True)\n",
    "\n",
    "test[\"Humidity lag1\"] = test[\"Humidity(%)\"].shift(+t)\n",
    "test[\"Humidity lag1\"].fillna(0, inplace=True)\n",
    "\n",
    "test[\"Rush_hour lag1\"] = test[\"Rush_hour\"].shift(+t)\n",
    "test[\"Rush_hour lag1\"].fillna(0, inplace=True)\n",
    "\n",
    "test[\"Dead_hour lag1\"] = test[\"Dead_hour\"].shift(+t)\n",
    "test[\"Dead_hour lag1\"].fillna(0, inplace=True)\n",
    "\n",
    "test[\"Ideal lag1\"] = test[\"Ideal\"].shift(+t)\n",
    "test[\"Ideal lag1\"].fillna(0, inplace=True)\n",
    "\n",
    "test[\"Dew point temperature(C) lag1\"] = test[\"Dew point temperature(C)\"].shift(+t)\n",
    "test[\"Dew point temperature(C) lag1\"].fillna(0, inplace=True)\n",
    "\n",
    "\n",
    "test[\"Humidity lag2\"] = test[\"Humidity(%)\"].shift(+t-1)\n",
    "test[\"Humidity lag2\"].fillna(0, inplace=True)\n",
    "\n",
    "\n",
    "test[\"Rainfall(mm) rolling\"] =test [\"Rainfall(mm)\"].rolling(2).sum()\n",
    "test[\"Rainfall(mm) rolling\"].fillna(0, inplace=True)\n",
    "\n",
    "test[\"Wind speed (m/s) rolling\"] =test[\"Weather_State\"].rolling(2).sum()\n",
    "test[\"Wind speed (m/s) rolling\"].fillna(0, inplace=True)\n",
    "\n",
    "test[\"Ideal lag2\"] = test[\"Ideal\"].shift(+t-1)\n",
    "test[\"Ideal lag2\"].fillna(0, inplace=True)\n",
    "\n",
    "test[\"Rush_hour lag2\"] = test[\"Rush_hour\"].shift(+t-1)\n",
    "test[\"Rush_hour lag2\"].fillna(0, inplace=True)"
   ]
  },
  {
   "cell_type": "code",
   "execution_count": 58,
   "metadata": {
    "scrolled": true
   },
   "outputs": [
    {
     "data": {
      "text/plain": [
       "['y']"
      ]
     },
     "execution_count": 58,
     "metadata": {},
     "output_type": "execute_result"
    }
   ],
   "source": [
    "[value for value in df_prep.columns if value not in test.columns]"
   ]
  },
  {
   "cell_type": "code",
   "execution_count": 60,
   "metadata": {},
   "outputs": [
    {
     "data": {
      "text/plain": [
       "53"
      ]
     },
     "execution_count": 60,
     "metadata": {},
     "output_type": "execute_result"
    }
   ],
   "source": [
    "df_prep.columns.size"
   ]
  },
  {
   "cell_type": "code",
   "execution_count": null,
   "metadata": {},
   "outputs": [],
   "source": []
  }
 ],
 "metadata": {
  "kernelspec": {
   "display_name": "Python 3",
   "language": "python",
   "name": "python3"
  },
  "language_info": {
   "codemirror_mode": {
    "name": "ipython",
    "version": 3
   },
   "file_extension": ".py",
   "mimetype": "text/x-python",
   "name": "python",
   "nbconvert_exporter": "python",
   "pygments_lexer": "ipython3",
   "version": "3.8.3"
  }
 },
 "nbformat": 4,
 "nbformat_minor": 4
}
