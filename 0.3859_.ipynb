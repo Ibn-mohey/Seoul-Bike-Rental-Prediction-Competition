{
 "cells": [
  {
   "cell_type": "code",
   "execution_count": 75,
   "metadata": {},
   "outputs": [],
   "source": [
    "from sklearn.datasets import make_regression\n",
    "from sklearn.linear_model import LinearRegression\n",
    "from sklearn.neighbors import KNeighborsRegressor\n",
    "from sklearn.tree import DecisionTreeRegressor\n",
    "from sklearn.svm import SVR\n",
    "from sklearn.ensemble import StackingRegressor\n",
    "from sklearn.model_selection import train_test_split\n",
    "from sklearn.model_selection import TimeSeriesSplit\n",
    "from sklearn import metrics\n",
    "from sklearn.metrics import r2_score, mean_squared_error, mean_squared_log_error\n",
    "from sklearn.model_selection import GridSearchCV, StratifiedKFold, RepeatedKFold, cross_val_score\n",
    "from sklearn.feature_selection import RFECV\n",
    "from sklearn.ensemble import RandomForestRegressor\n",
    "from sklearn.ensemble import ExtraTreesRegressor\n",
    "from sklearn.linear_model import SGDRegressor\n",
    "from sklearn.pipeline import Pipeline\n",
    "from sklearn.model_selection import KFold\n",
    "from sklearn.ensemble import RandomForestRegressor,AdaBoostRegressor,BaggingRegressor,GradientBoostingRegressor\n",
    "from sklearn.inspection import permutation_importance\n",
    "from sklearn.utils import shuffle\n",
    "import xgboost as xgb\n",
    "import catboost as cb"
   ]
  },
  {
   "cell_type": "markdown",
   "metadata": {},
   "source": [
    "### Imports"
   ]
  },
  {
   "cell_type": "code",
   "execution_count": 76,
   "metadata": {},
   "outputs": [],
   "source": [
    "import numpy as np\n",
    "import pandas as pd\n",
    "import matplotlib.pyplot as plt\n",
    "import seaborn as sns"
   ]
  },
  {
   "cell_type": "code",
   "execution_count": 77,
   "metadata": {},
   "outputs": [],
   "source": [
    "from sklearn.model_selection import train_test_split\n",
    "from sklearn.model_selection import TimeSeriesSplit\n",
    "from sklearn import metrics\n",
    "from sklearn.metrics import r2_score, mean_squared_error, mean_squared_log_error\n",
    "from sklearn.model_selection import GridSearchCV, StratifiedKFold\n",
    "from sklearn.ensemble import RandomForestRegressor\n",
    "from sklearn.ensemble import ExtraTreesRegressor\n",
    "from sklearn.model_selection import KFold\n",
    "from sklearn.ensemble import RandomForestRegressor,AdaBoostRegressor,BaggingRegressor,GradientBoostingRegressor\n",
    "from sklearn.inspection import permutation_importance\n",
    "from sklearn.utils import shuffle\n",
    "import xgboost as xgb\n",
    "import catboost as cb"
   ]
  },
  {
   "cell_type": "code",
   "execution_count": 78,
   "metadata": {},
   "outputs": [],
   "source": [
    "#---------- configs\n",
    "pd.set_option('max_rows',100)\n",
    "pd.set_option('max_columns',40)"
   ]
  },
  {
   "cell_type": "markdown",
   "metadata": {},
   "source": [
    "### loading data"
   ]
  },
  {
   "cell_type": "code",
   "execution_count": 79,
   "metadata": {},
   "outputs": [],
   "source": [
    "train_path = r\"train.csv\"\n",
    "test_path = r\"test.csv\""
   ]
  },
  {
   "cell_type": "code",
   "execution_count": 80,
   "metadata": {},
   "outputs": [],
   "source": [
    "df = pd.read_csv(train_path,index_col=0,parse_dates=['Date'],dayfirst=True)\n",
    "df_test = pd.read_csv(test_path,parse_dates=['Date'],dayfirst=True)\n",
    "\n",
    "df = df.rename(columns={'Temperature(�C)':'Temperature(C)','Dew point temperature(�C)'  : 'Dew point temperature(C)'})\n",
    "df_test = df_test.rename(columns={'Temperature(�C)':'Temperature(C)','Dew point temperature(�C)'  : 'Dew point temperature(C)'})"
   ]
  },
  {
   "cell_type": "markdown",
   "metadata": {},
   "source": [
    "## Feature Engineering"
   ]
  },
  {
   "cell_type": "markdown",
   "metadata": {},
   "source": [
    "##### based on the previous notebook (eda) we will consider the following \n",
    "\n",
    "- A) The Hourly cycle has a good correlation. [7am-18pm has the bigger share]\n",
    "- B) The Temperature has good corr. [high is good except > ~ 27]\n",
    "- C) The Functional Day has good corr. [functional is good for target]\n",
    "- D) The Seasons has good corr. [hot season is better]\n",
    "\n",
    "-------------\n",
    "\n",
    "- E) The Visibility may prove to be good. [if encoded to very_low visibility vs normal visibiliy].\n",
    "- F) The RainFall/SnowFall may prove to be good. [if encoded to Snowing / Raining or not].\n",
    "- G) The Humidity may have something to investigate. [if encoded as 0-80 % normal rentals, 80-100% show sharp decay in rentals]\n",
    "\n",
    "---------------\n",
    "- H) the Dew point temperature is strongly corr to Temperature will drop it.\n",
    "- I) the Solar Radiation may be discarded .. i didn't see good relation.\n",
    "- J) the holidays didn't prove decisive saying on our target. maybe discarded too."
   ]
  },
  {
   "cell_type": "code",
   "execution_count": 81,
   "metadata": {},
   "outputs": [
    {
     "name": "stdout",
     "output_type": "stream",
     "text": [
      "<class 'pandas.core.frame.DataFrame'>\n",
      "Int64Index: 5760 entries, 0 to 5759\n",
      "Data columns (total 14 columns):\n",
      " #   Column                    Non-Null Count  Dtype         \n",
      "---  ------                    --------------  -----         \n",
      " 0   Date                      5760 non-null   datetime64[ns]\n",
      " 1   y                         5760 non-null   int64         \n",
      " 2   Hour                      5760 non-null   int64         \n",
      " 3   Temperature(C)            5760 non-null   float64       \n",
      " 4   Humidity(%)               5760 non-null   int64         \n",
      " 5   Wind speed (m/s)          5760 non-null   float64       \n",
      " 6   Visibility (10m)          5760 non-null   int64         \n",
      " 7   Dew point temperature(C)  5760 non-null   float64       \n",
      " 8   Solar Radiation (MJ/m2)   5760 non-null   float64       \n",
      " 9   Rainfall(mm)              5760 non-null   float64       \n",
      " 10  Snowfall (cm)             5760 non-null   float64       \n",
      " 11  Seasons                   5760 non-null   object        \n",
      " 12  Holiday                   5760 non-null   object        \n",
      " 13  Functioning Day           5760 non-null   object        \n",
      "dtypes: datetime64[ns](1), float64(6), int64(4), object(3)\n",
      "memory usage: 675.0+ KB\n"
     ]
    }
   ],
   "source": [
    "df.info()"
   ]
  },
  {
   "cell_type": "code",
   "execution_count": 82,
   "metadata": {},
   "outputs": [
    {
     "data": {
      "text/html": [
       "<div>\n",
       "<style scoped>\n",
       "    .dataframe tbody tr th:only-of-type {\n",
       "        vertical-align: middle;\n",
       "    }\n",
       "\n",
       "    .dataframe tbody tr th {\n",
       "        vertical-align: top;\n",
       "    }\n",
       "\n",
       "    .dataframe thead th {\n",
       "        text-align: right;\n",
       "    }\n",
       "</style>\n",
       "<table border=\"1\" class=\"dataframe\">\n",
       "  <thead>\n",
       "    <tr style=\"text-align: right;\">\n",
       "      <th></th>\n",
       "      <th>y</th>\n",
       "      <th>Hour</th>\n",
       "      <th>Temperature(C)</th>\n",
       "      <th>Humidity(%)</th>\n",
       "      <th>Wind speed (m/s)</th>\n",
       "      <th>Visibility (10m)</th>\n",
       "      <th>Dew point temperature(C)</th>\n",
       "      <th>Solar Radiation (MJ/m2)</th>\n",
       "      <th>Rainfall(mm)</th>\n",
       "      <th>Snowfall (cm)</th>\n",
       "    </tr>\n",
       "  </thead>\n",
       "  <tbody>\n",
       "    <tr>\n",
       "      <th>count</th>\n",
       "      <td>5760.000000</td>\n",
       "      <td>5760.000000</td>\n",
       "      <td>5760.000000</td>\n",
       "      <td>5760.000000</td>\n",
       "      <td>5760.000000</td>\n",
       "      <td>5760.000000</td>\n",
       "      <td>5760.000000</td>\n",
       "      <td>5760.000000</td>\n",
       "      <td>5760.000000</td>\n",
       "      <td>5760.000000</td>\n",
       "    </tr>\n",
       "    <tr>\n",
       "      <th>mean</th>\n",
       "      <td>703.483854</td>\n",
       "      <td>11.500000</td>\n",
       "      <td>12.803559</td>\n",
       "      <td>58.361806</td>\n",
       "      <td>1.723333</td>\n",
       "      <td>1473.711458</td>\n",
       "      <td>4.058264</td>\n",
       "      <td>0.572325</td>\n",
       "      <td>0.135122</td>\n",
       "      <td>0.046302</td>\n",
       "    </tr>\n",
       "    <tr>\n",
       "      <th>std</th>\n",
       "      <td>655.249491</td>\n",
       "      <td>6.922788</td>\n",
       "      <td>11.902206</td>\n",
       "      <td>19.840167</td>\n",
       "      <td>1.047898</td>\n",
       "      <td>585.879880</td>\n",
       "      <td>13.003582</td>\n",
       "      <td>0.869943</td>\n",
       "      <td>1.075320</td>\n",
       "      <td>0.323728</td>\n",
       "    </tr>\n",
       "    <tr>\n",
       "      <th>min</th>\n",
       "      <td>0.000000</td>\n",
       "      <td>0.000000</td>\n",
       "      <td>-15.100000</td>\n",
       "      <td>0.000000</td>\n",
       "      <td>0.000000</td>\n",
       "      <td>27.000000</td>\n",
       "      <td>-26.900000</td>\n",
       "      <td>0.000000</td>\n",
       "      <td>0.000000</td>\n",
       "      <td>0.000000</td>\n",
       "    </tr>\n",
       "    <tr>\n",
       "      <th>25%</th>\n",
       "      <td>188.000000</td>\n",
       "      <td>5.750000</td>\n",
       "      <td>3.200000</td>\n",
       "      <td>43.000000</td>\n",
       "      <td>0.900000</td>\n",
       "      <td>1025.750000</td>\n",
       "      <td>-5.400000</td>\n",
       "      <td>0.000000</td>\n",
       "      <td>0.000000</td>\n",
       "      <td>0.000000</td>\n",
       "    </tr>\n",
       "    <tr>\n",
       "      <th>50%</th>\n",
       "      <td>485.500000</td>\n",
       "      <td>11.500000</td>\n",
       "      <td>13.700000</td>\n",
       "      <td>57.000000</td>\n",
       "      <td>1.500000</td>\n",
       "      <td>1732.000000</td>\n",
       "      <td>5.200000</td>\n",
       "      <td>0.010000</td>\n",
       "      <td>0.000000</td>\n",
       "      <td>0.000000</td>\n",
       "    </tr>\n",
       "    <tr>\n",
       "      <th>75%</th>\n",
       "      <td>1066.000000</td>\n",
       "      <td>17.250000</td>\n",
       "      <td>22.225000</td>\n",
       "      <td>73.000000</td>\n",
       "      <td>2.300000</td>\n",
       "      <td>2000.000000</td>\n",
       "      <td>14.700000</td>\n",
       "      <td>0.940000</td>\n",
       "      <td>0.000000</td>\n",
       "      <td>0.000000</td>\n",
       "    </tr>\n",
       "    <tr>\n",
       "      <th>max</th>\n",
       "      <td>3556.000000</td>\n",
       "      <td>23.000000</td>\n",
       "      <td>39.400000</td>\n",
       "      <td>98.000000</td>\n",
       "      <td>7.400000</td>\n",
       "      <td>2000.000000</td>\n",
       "      <td>27.200000</td>\n",
       "      <td>3.520000</td>\n",
       "      <td>35.000000</td>\n",
       "      <td>5.100000</td>\n",
       "    </tr>\n",
       "  </tbody>\n",
       "</table>\n",
       "</div>"
      ],
      "text/plain": [
       "                 y         Hour  Temperature(C)  Humidity(%)  \\\n",
       "count  5760.000000  5760.000000     5760.000000  5760.000000   \n",
       "mean    703.483854    11.500000       12.803559    58.361806   \n",
       "std     655.249491     6.922788       11.902206    19.840167   \n",
       "min       0.000000     0.000000      -15.100000     0.000000   \n",
       "25%     188.000000     5.750000        3.200000    43.000000   \n",
       "50%     485.500000    11.500000       13.700000    57.000000   \n",
       "75%    1066.000000    17.250000       22.225000    73.000000   \n",
       "max    3556.000000    23.000000       39.400000    98.000000   \n",
       "\n",
       "       Wind speed (m/s)  Visibility (10m)  Dew point temperature(C)  \\\n",
       "count       5760.000000       5760.000000               5760.000000   \n",
       "mean           1.723333       1473.711458                  4.058264   \n",
       "std            1.047898        585.879880                 13.003582   \n",
       "min            0.000000         27.000000                -26.900000   \n",
       "25%            0.900000       1025.750000                 -5.400000   \n",
       "50%            1.500000       1732.000000                  5.200000   \n",
       "75%            2.300000       2000.000000                 14.700000   \n",
       "max            7.400000       2000.000000                 27.200000   \n",
       "\n",
       "       Solar Radiation (MJ/m2)  Rainfall(mm)  Snowfall (cm)  \n",
       "count              5760.000000   5760.000000    5760.000000  \n",
       "mean                  0.572325      0.135122       0.046302  \n",
       "std                   0.869943      1.075320       0.323728  \n",
       "min                   0.000000      0.000000       0.000000  \n",
       "25%                   0.000000      0.000000       0.000000  \n",
       "50%                   0.010000      0.000000       0.000000  \n",
       "75%                   0.940000      0.000000       0.000000  \n",
       "max                   3.520000     35.000000       5.100000  "
      ]
     },
     "execution_count": 82,
     "metadata": {},
     "output_type": "execute_result"
    }
   ],
   "source": [
    "df.describe()"
   ]
  },
  {
   "cell_type": "code",
   "execution_count": 83,
   "metadata": {},
   "outputs": [
    {
     "data": {
      "text/plain": [
       "84"
      ]
     },
     "execution_count": 83,
     "metadata": {},
     "output_type": "execute_result"
    }
   ],
   "source": [
    "len(df[(df['Snowfall (cm)'])>=1.5])"
   ]
  },
  {
   "cell_type": "code",
   "execution_count": 84,
   "metadata": {},
   "outputs": [
    {
     "data": {
      "text/plain": [
       "Autumn    1440\n",
       "Summer    1440\n",
       "Spring    1440\n",
       "Winter    1440\n",
       "Name: Seasons, dtype: int64"
      ]
     },
     "execution_count": 84,
     "metadata": {},
     "output_type": "execute_result"
    }
   ],
   "source": [
    "df['Seasons'].value_counts()"
   ]
  },
  {
   "cell_type": "code",
   "execution_count": 85,
   "metadata": {},
   "outputs": [],
   "source": [
    "df_prep = df.copy()"
   ]
  },
  {
   "cell_type": "code",
   "execution_count": 86,
   "metadata": {},
   "outputs": [],
   "source": [
    "df_prep['Year'] = df['Date'].dt.year.astype('int')\n",
    "df_prep['Week'] = df['Date'].dt.isocalendar().week.astype('int')\n",
    "df_prep['Month'] = df['Date'].dt.month.astype('int')\n",
    "df_prep['WeekDay'] = df['Date'].dt.weekday.astype('int')"
   ]
  },
  {
   "cell_type": "code",
   "execution_count": 87,
   "metadata": {},
   "outputs": [],
   "source": [
    "def restore_data_series(dataframe,dforiginal,col_name):\n",
    "    dataframe[col_name] = dforiginal[col_name]"
   ]
  },
  {
   "cell_type": "code",
   "execution_count": 88,
   "metadata": {},
   "outputs": [],
   "source": [
    "def map_data_series(dataframe,col_name,from_vals,to_vals):\n",
    "    dataframe[col_name].replace(from_vals,to_vals,inplace=True)"
   ]
  },
  {
   "cell_type": "code",
   "execution_count": 89,
   "metadata": {},
   "outputs": [],
   "source": [
    "def new_feature_data_series(dataframe,col_name,function,new_col_name):\n",
    "       dataframe[new_col_name]  = dataframe[col_name].apply(function,axis=1)"
   ]
  },
  {
   "cell_type": "code",
   "execution_count": 90,
   "metadata": {},
   "outputs": [],
   "source": [
    "map_data_series(df_prep,'Functioning Day',['Yes','No'],[1,0])"
   ]
  },
  {
   "cell_type": "code",
   "execution_count": 91,
   "metadata": {},
   "outputs": [],
   "source": [
    "map_data_series(df_prep,'Holiday',['Holiday','No Holiday'],[1,0])"
   ]
  },
  {
   "cell_type": "code",
   "execution_count": 92,
   "metadata": {},
   "outputs": [],
   "source": [
    "map_data_series(df_prep,'Seasons',['Winter','Spring','Summer','Autumn'],[0,1,2,3])"
   ]
  },
  {
   "cell_type": "raw",
   "metadata": {},
   "source": [
    "# feature eng for hour of the day\n",
    "around 8 am & around 6 pm (18) there is a peak in rentals \n",
    "around 4 am we hit the daily.\n",
    "how can we factor that?"
   ]
  },
  {
   "cell_type": "code",
   "execution_count": null,
   "metadata": {},
   "outputs": [],
   "source": []
  },
  {
   "cell_type": "code",
   "execution_count": 93,
   "metadata": {},
   "outputs": [],
   "source": [
    "## lambda df : 0 if ( (abs(df['Hour'] - 8) <=rush_range_1) or (abs(df['Hour'] - 18) <= rush_range_2) ) else 1\n",
    "def rush_hour(df):\n",
    "    #rush_range_1 = 2 # around the rush hour by +- 2 hrs\n",
    "    #rush_range_2 = 4 # around the rush hour by +- 4 hrs\n",
    "    if (df['Hour'] in [6,7,8,9,10,16,17,18,19,20]):\n",
    "        return 1\n",
    "    else:\n",
    "        return 0\n",
    "    \n",
    "def rush_hour_grad_2(df):\n",
    "    rush_range_1 = 2 # around the rush hour by +- 2 hrs\n",
    "    rush_range_2 = 5 # around the rush hour by +- 4 hrs\n",
    "    is_functional = df['Functioning Day']\n",
    "\n",
    "    return (np.exp(-abs(df['Hour'] - 8)) +  np.exp(-abs(df['Hour'] - 18))) * is_functional\n",
    "\n",
    "def rush_hour_grad(df):\n",
    "    #from 8 am , 6 pm\n",
    "    rush_range_1 = 2 # around the rush hour by +- 2 hrs\n",
    "    rush_range_2 = 5 # around the rush hour by +- 4 hrs\n",
    "    is_functional = df['Functioning Day'] \n",
    "    \n",
    "    if (abs(df['Hour'] - 8) <= rush_range_1): \n",
    "        return np.exp(-abs(df['Hour'] - 8)) * is_functional\n",
    "    \n",
    "    elif (abs(df['Hour'] - 18) <= rush_range_2):\n",
    "        return np.exp(-abs(df['Hour'] - 18)) * is_functional\n",
    "    else:\n",
    "        return 0\n",
    "    \n",
    "def dead_hour_grad(df):\n",
    "    dead_range_1 = 3 # around the dead hour by +- 3 hrs from 4 am\n",
    "    is_functional = df['Functioning Day'] \n",
    "    \n",
    "    if (abs(df['Hour'] - 4) <= dead_range_1): \n",
    "        return np.exp(-abs(df['Hour'] - 4)) * is_functional\n",
    "    else:\n",
    "        return 0\n",
    "    \n",
    "def dead_hour_grad_2(df):\n",
    "    #dead_range_1 = 5 # around the dead hour by +- 3 hrs from 4 am\n",
    "    is_functional = df['Functioning Day'] \n",
    "    \n",
    "    if(df['Hour'] in [22,23,0,1,2,3,4,5]):\n",
    "        return np.exp(-abs(df['Hour'] - 4)) * is_functional\n",
    "    else:\n",
    "        return 0   \n",
    "new_feature_data_series(df_prep,['Hour','Functioning Day'],rush_hour_grad,'Rush_hour')\n",
    "new_feature_data_series(df_prep,['Hour','Functioning Day'],dead_hour_grad_2,'Dead_hour')"
   ]
  },
  {
   "cell_type": "code",
   "execution_count": null,
   "metadata": {},
   "outputs": [],
   "source": []
  },
  {
   "cell_type": "code",
   "execution_count": 94,
   "metadata": {},
   "outputs": [],
   "source": [
    "## lambda df : 0 if ( (abs(df['Hour'] - 8) <=rush_range_1) or (abs(df['Hour'] - 18) <= rush_range_2) ) else 1\n",
    "def day_night(df):\n",
    "    #rush_range_1 = 2 # around the rush hour by +- 2 hrs\n",
    "    #rush_range_2 = 4 # around the rush hour by +- 4 hrs\n",
    "    if (df['Hour'] >=6 and df['Hour'] <=18):\n",
    "        return 1\n",
    "    else:\n",
    "        return 0\n",
    "\n",
    "new_feature_data_series(df_prep,['Hour'],day_night,'day_night')"
   ]
  },
  {
   "cell_type": "raw",
   "metadata": {},
   "source": [
    "# for humidity \n",
    "increase from 0 to 50% , decay from 50 to 100%\n",
    "how can we factor that?"
   ]
  },
  {
   "cell_type": "code",
   "execution_count": 95,
   "metadata": {},
   "outputs": [],
   "source": [
    "new_feature_data_series(df_prep,['Humidity(%)'],lambda df : 0 if (df['Humidity(%)'] <= 70) else 1,'Humidity_high')"
   ]
  },
  {
   "cell_type": "code",
   "execution_count": 96,
   "metadata": {},
   "outputs": [],
   "source": [
    "new_feature_data_series(df_prep,['Temperature(C)'],lambda df : 0 if (df['Temperature(C)'] <= 35) else 1,'Temperature_high')"
   ]
  },
  {
   "cell_type": "code",
   "execution_count": 97,
   "metadata": {},
   "outputs": [],
   "source": [
    "new_feature_data_series(df_prep,['Humidity(%)','Temperature(C)','Solar Radiation (MJ/m2)','Wind speed (m/s)'],lambda df : 0 if (df['Temperature(C)'] < 35) and (df['Humidity(%)'] < 70) and (df['Solar Radiation (MJ/m2)'] < 1.4) else 1,'Weather_bad')"
   ]
  },
  {
   "cell_type": "code",
   "execution_count": 98,
   "metadata": {},
   "outputs": [],
   "source": [
    "def humidex(df):\n",
    "    ### humidex\n",
    "    ## eq H = Tair + 5/9 * [(6.11 * e^5417.7530 * (a-b)) - 10 ]\n",
    "    Tair = df['Temperature(C)']\n",
    "    Tdew = df['Dew point temperature(C)']\n",
    "    is_functionalDay = df['Functioning Day']\n",
    "    a = 1/273.16\n",
    "    b = 1/(273.15 + Tdew)\n",
    "    Humidex = Tair + (5/9) * (6.11 * np.exp(5417.7530 * (a-b)) -10)\n",
    "    return Humidex  \n",
    "new_feature_data_series(df_prep,['Temperature(C)','Dew point temperature(C)','Functioning Day'],humidex,'Humidex')"
   ]
  },
  {
   "cell_type": "code",
   "execution_count": 99,
   "metadata": {},
   "outputs": [],
   "source": [
    "df_prep['Ideal'] = df[['Temperature(C)', 'Wind speed (m/s)']] \\\n",
    "    .apply(lambda df: 1 if (df['Temperature(C)'] < 30 and df['Wind speed (m/s)'] < 2.8) else 0, axis = 1)"
   ]
  },
  {
   "cell_type": "code",
   "execution_count": 100,
   "metadata": {},
   "outputs": [
    {
     "data": {
      "text/plain": [
       "1    4548\n",
       "0    1212\n",
       "Name: Ideal, dtype: int64"
      ]
     },
     "execution_count": 100,
     "metadata": {},
     "output_type": "execute_result"
    }
   ],
   "source": [
    "df_prep[\"Ideal\"].value_counts()"
   ]
  },
  {
   "cell_type": "raw",
   "metadata": {},
   "source": [
    "# for visibility\n",
    "three important ranges very low , low low , normal_>\n",
    "how can we factor that?"
   ]
  },
  {
   "cell_type": "code",
   "execution_count": 101,
   "metadata": {},
   "outputs": [],
   "source": [
    "def visibility(df):\n",
    "    #0:250 , 250:500 : 500:inf\n",
    "    \n",
    "    if df['Visibility (10m)'] <=250 :\n",
    "        return 0\n",
    "    elif df['Visibility (10m)'] <=350 :\n",
    "        return 1\n",
    "    elif df['Visibility (10m)'] <=450 :\n",
    "        return 1\n",
    "    elif df['Visibility (10m)'] <=550 :\n",
    "        return 2\n",
    "    elif df['Visibility (10m)'] <=650 :\n",
    "        return 2\n",
    "    elif df['Visibility (10m)'] <=850 :\n",
    "        return 3\n",
    "    elif df['Visibility (10m)'] <=1150 :\n",
    "        return 3\n",
    "    elif df['Visibility (10m)'] <=1350 :\n",
    "        return 4\n",
    "    else:\n",
    "        return 5\n",
    "    \n",
    "new_feature_data_series(df_prep,['Visibility (10m)'],visibility,'Visibility_cat')"
   ]
  },
  {
   "cell_type": "code",
   "execution_count": 102,
   "metadata": {},
   "outputs": [],
   "source": [
    "def visibility_dist(df):\n",
    "    #0:250 , 250:500 : 500:inf\n",
    "    \n",
    "    if df['Visibility (10m)'] <100 :     #can't see\n",
    "        return 1\n",
    "    elif df['Visibility (10m)'] <400 :   # foggy\n",
    "        return 2\n",
    "    elif df['Visibility (10m)'] <1000 :  # low fog\n",
    "        return 3\n",
    "    elif df['Visibility (10m)'] <2000 :  # no fog (good vision)\n",
    "        return 4\n",
    "    elif df['Visibility (10m)'] <4000 :  # no fog (excellent vision)\n",
    "        return 5\n",
    "    else:\n",
    "        return 5\n",
    "    \n",
    "new_feature_data_series(df_prep,['Visibility (10m)'],visibility_dist,'Visibility_dist')"
   ]
  },
  {
   "cell_type": "code",
   "execution_count": 103,
   "metadata": {},
   "outputs": [],
   "source": [
    "# for rainfall\n",
    "\n",
    "def rain_fall(df):\n",
    "    # 0:2.5 , \n",
    "    \n",
    "    if df['Rainfall(mm)'] < 0.5 :\n",
    "        return 0\n",
    "    else:\n",
    "        return 1\n",
    "\n",
    "new_feature_data_series(df_prep,['Rainfall(mm)'],rain_fall,'Rain_cat')"
   ]
  },
  {
   "cell_type": "code",
   "execution_count": 104,
   "metadata": {},
   "outputs": [],
   "source": [
    "def snow_fall(df):\n",
    "    # 0:2.5 , \n",
    "    \n",
    "    if df['Snowfall (cm)'] == 0 :\n",
    "        return 0\n",
    "    else:\n",
    "        return 1\n",
    "\n",
    "new_feature_data_series(df_prep,['Snowfall (cm)'],snow_fall,'Snow_cat')"
   ]
  },
  {
   "cell_type": "code",
   "execution_count": 105,
   "metadata": {},
   "outputs": [],
   "source": [
    "def Sunny_Hot (df):\n",
    "    if ((df['Temperature(C)']>25)&((df['Solar Radiation (MJ/m2)'] >2)&(df['day_night']==1))):\n",
    "        return True\n",
    "    else:\n",
    "        return False\n",
    "\n",
    "def Clear_hot (df):\n",
    "    if ((df['Temperature(C)']>25)&(((df['Solar Radiation (MJ/m2)'] <=2)&(df['Solar Radiation (MJ/m2)'] >1))\\\n",
    "                                   &(df['day_night']==1))&(df['Rainfall(mm)'] == 0)&(df['Snowfall (cm)'] == 0)):\n",
    "        return True\n",
    "    else:\n",
    "        return False\n",
    "\n",
    "def PCloudy_hot(df):  \n",
    "    if((df['Temperature(C)']>25)&(((df['Solar Radiation (MJ/m2)'] <=1)&(df['Solar Radiation (MJ/m2)'] >0.5))\\\n",
    "                                                       &(df['day_night']==1))&(df['Rainfall(mm)'] == 0)&(df['Snowfall (cm)'] == 0)):\n",
    "        return True\n",
    "    else:\n",
    "        return False\n",
    "def Cloudy_hot(df): \n",
    "    if((df['Temperature(C)']>25)&(((df['Solar Radiation (MJ/m2)'] <=0.5))&(df['day_night']==1))\\\n",
    "                      &(df['Rainfall(mm)'] == 0)&(df['Snowfall (cm)'] == 0)):\n",
    "        return True\n",
    "    else:\n",
    "        return False\n",
    "def Rain_hot(df):  \n",
    "    if((df['Temperature(C)']>25)&(df['Rainfall(mm)'] >0)&(df['Snowfall (cm)'] == 0)):\n",
    "        return True\n",
    "    else:\n",
    "        return False\n",
    "\n",
    "def Night_hot(df): \n",
    "    if((df['Temperature(C)']>25)&(df['day_night']==0)\n",
    "                      &(df['Rainfall(mm)'] == 0)&(df['Snowfall (cm)'] == 0)):\n",
    "        return True\n",
    "    else:\n",
    "        return False\n",
    "\n",
    "#len(sunny_hot)+len(Clear_hot)+len(PCloudy_hot)+len(Cloudy_hot)+len(Rain_hot)+len(Night_hot)"
   ]
  },
  {
   "cell_type": "code",
   "execution_count": 106,
   "metadata": {},
   "outputs": [],
   "source": [
    "def Sunny_Warm (df):\n",
    "    if (((df['Temperature(C)']<=25)&(df['Temperature(C)']>10))&((df['Solar Radiation (MJ/m2)'] >2)&(df['day_night']==1))):\n",
    "        return True\n",
    "    else:\n",
    "        return False\n",
    "\n",
    "def Clear_Warm (df):\n",
    "    if (((df['Temperature(C)']<=25)&(df['Temperature(C)']>10))\\\n",
    "        &(((df['Solar Radiation (MJ/m2)'] <=2)&(df['Solar Radiation (MJ/m2)'] >1))&(df['day_night']==1))\\\n",
    "        &(df['Rainfall(mm)'] == 0)&(df['Snowfall (cm)'] == 0)):\n",
    "        return True\n",
    "    else:\n",
    "        return False\n",
    "\n",
    "def PCloudy_Warm(df):  \n",
    "    if(((df['Temperature(C)']<=25)&(df['Temperature(C)']>10))\\\n",
    "       &(((df['Solar Radiation (MJ/m2)'] <=1)&(df['Solar Radiation (MJ/m2)'] >0.5))&(df['day_night']==1))\\\n",
    "       &(df['Rainfall(mm)'] == 0)&(df['Snowfall (cm)'] == 0)):\n",
    "        return True\n",
    "    else:\n",
    "        return False\n",
    "def Cloudy_Warm(df): \n",
    "    if(((df['Temperature(C)']<=25)&(df['Temperature(C)']>10))\\\n",
    "       &(((df['Solar Radiation (MJ/m2)'] <=0.5))&(df['day_night']==1))\\\n",
    "       &(df['Rainfall(mm)'] == 0)&(df['Snowfall (cm)'] == 0)):\n",
    "        return True\n",
    "    else:\n",
    "        return False\n",
    "def Rain_Warm(df):  \n",
    "    if(((df['Temperature(C)']<=25)&(df['Temperature(C)']>10))&(df['Rainfall(mm)'] >0)&(df['Snowfall (cm)'] == 0)):\n",
    "        return True\n",
    "    else:\n",
    "        return False\n",
    "\n",
    "def Night_Warm(df): \n",
    "    if(((df['Temperature(C)']<=25)&(df['Temperature(C)']>10))\\\n",
    "       &(df['day_night']==0)&(df['Rainfall(mm)'] == 0)&(df['Snowfall (cm)'] == 0)):\n",
    "        return True\n",
    "    else:\n",
    "        return False"
   ]
  },
  {
   "cell_type": "code",
   "execution_count": 107,
   "metadata": {},
   "outputs": [],
   "source": [
    "def Sunny_Cold (df):\n",
    "    if (((df['Temperature(C)']<=10)&(df['Temperature(C)']>0))&((df['Solar Radiation (MJ/m2)'] >2)&(df['day_night']==1))):\n",
    "        return True\n",
    "    else:\n",
    "        return False\n",
    "\n",
    "def Clear_Cold (df):\n",
    "    if (((df['Temperature(C)']<=10)&(df['Temperature(C)']>0))\\\n",
    "        &(((df['Solar Radiation (MJ/m2)'] <=2)&(df['Solar Radiation (MJ/m2)'] >1))&(df['day_night']==1))\\\n",
    "        &(df['Rainfall(mm)'] == 0)&(df['Snowfall (cm)'] == 0)):\n",
    "        return True\n",
    "    else:\n",
    "        return False\n",
    "\n",
    "def PCloudy_Cold(df):  \n",
    "    if(((df['Temperature(C)']<=10)&(df['Temperature(C)']>0))\\\n",
    "       &(((df['Solar Radiation (MJ/m2)'] <=1)&(df['Solar Radiation (MJ/m2)'] >0.5))&(df['day_night']==1))\\\n",
    "       &(df['Rainfall(mm)'] == 0)&(df['Snowfall (cm)'] == 0)):\n",
    "        return True\n",
    "    else:\n",
    "        return False\n",
    "def Cloudy_Cold(df): \n",
    "    if(((df['Temperature(C)']<=10)&(df['Temperature(C)']>0))\\\n",
    "       &(((df['Solar Radiation (MJ/m2)'] <=0.5))&(df['day_night']==1))\\\n",
    "       &(df['Rainfall(mm)'] == 0)&(df['Snowfall (cm)'] == 0)):\n",
    "        return True\n",
    "    else:\n",
    "        return False\n",
    "def Rain_Cold(df):  \n",
    "    if(((df['Temperature(C)']<=10)&(df['Temperature(C)']>0))&(df['Rainfall(mm)'] >0)&(df['Snowfall (cm)'] == 0)):\n",
    "        return True\n",
    "    else:\n",
    "        return False\n",
    "def Snow_Cold(df):  \n",
    "    if(((df['Temperature(C)']<=10)&(df['Temperature(C)']>0))&(df['Rainfall(mm)'] ==0)&(df['Snowfall (cm)'] >0)):\n",
    "        return True\n",
    "    else:\n",
    "        return False\n",
    "def Night_Cold(df): \n",
    "    if(((df['Temperature(C)']<=10)&(df['Temperature(C)']>0))\\\n",
    "       &(df['day_night']==0)&(df['Rainfall(mm)'] == 0)&(df['Snowfall (cm)'] == 0)):\n",
    "        return True\n",
    "    else:\n",
    "        return False"
   ]
  },
  {
   "cell_type": "code",
   "execution_count": 108,
   "metadata": {},
   "outputs": [],
   "source": [
    "def Sunny_Freezing (df):\n",
    "    if ((df['Temperature(C)']<=0)&((df['Solar Radiation (MJ/m2)'] >2)&(df['day_night']==1))):\n",
    "        return True\n",
    "    else:\n",
    "        return False\n",
    "\n",
    "def Clear_Freezing (df):\n",
    "    if ((df['Temperature(C)']<=0)&(((df['Solar Radiation (MJ/m2)'] <=2)&(df['Solar Radiation (MJ/m2)'] >1))\\\n",
    "                                   &(df['day_night']==1))&(df['Rainfall(mm)'] == 0)&(df['Snowfall (cm)'] == 0)):\n",
    "        return True\n",
    "    else:\n",
    "        return False\n",
    "\n",
    "def PCloudy_Freezing(df):  \n",
    "    if((df['Temperature(C)']<=0)&(((df['Solar Radiation (MJ/m2)'] <=1)&(df['Solar Radiation (MJ/m2)'] >0.5))\\\n",
    "                                                       &(df['day_night']==1))&(df['Rainfall(mm)'] == 0)&(df['Snowfall (cm)'] == 0)):\n",
    "        return True\n",
    "    else:\n",
    "        return False\n",
    "def Cloudy_Freezing(df): \n",
    "    if((df['Temperature(C)']<=0)&(((df['Solar Radiation (MJ/m2)'] <=0.5))&(df['day_night']==1))\\\n",
    "                      &(df['Rainfall(mm)'] == 0)&(df['Snowfall (cm)'] == 0)):\n",
    "        return True\n",
    "    else:\n",
    "        return False\n",
    "def Rain_Freezing(df):  \n",
    "    if((df['Temperature(C)']<=0)&(df['Rainfall(mm)'] >0)&(df['Snowfall (cm)'] == 0)):\n",
    "        return True\n",
    "    else:\n",
    "        return False\n",
    "def Snow_Freezing(df):  \n",
    "    if((df['Temperature(C)']<=0)&(df['Rainfall(mm)'] ==0)&(df['Snowfall (cm)'] >0)):\n",
    "        return True\n",
    "    else:\n",
    "        return False\n",
    "\n",
    "def Night_Freezing(df): \n",
    "    if((df['Temperature(C)']<=0)&(df['day_night']==0)\n",
    "                      &(df['Rainfall(mm)'] == 0)&(df['Snowfall (cm)'] == 0)):\n",
    "        return True\n",
    "    else:\n",
    "        return False\n",
    "def Rain_Snow(df):\n",
    "    if (df['Rainfall(mm)'] >0)&(df['Snowfall (cm)'] >0):\n",
    "        return True\n",
    "    else:\n",
    "        return False\n",
    "\n",
    "#len(sunny_hot)+len(Clear_hot)+len(PCloudy_hot)+len(Cloudy_hot)+len(Rain_hot)+len(Night_hot)"
   ]
  },
  {
   "cell_type": "code",
   "execution_count": 109,
   "metadata": {},
   "outputs": [],
   "source": [
    "df_prep['Weather_State'] = df_prep[['Temperature(C)', 'Solar Radiation (MJ/m2)' , 'day_night','Snowfall (cm)','Rainfall(mm)']]  \\\n",
    "    .apply(lambda df: 1 if Sunny_Hot(df)\\\n",
    "           else 1 if Clear_hot(df)\\\n",
    "           else 1 if PCloudy_hot(df)\\\n",
    "           else 1 if Cloudy_hot(df)\\\n",
    "           else 1 if Rain_hot(df)\\\n",
    "           else 1 if Night_hot(df)\\\n",
    "           else 2 if Sunny_Warm(df)\\\n",
    "           else 2 if Clear_Warm(df)\\\n",
    "           else 2 if PCloudy_Warm(df)\\\n",
    "           else 2 if Cloudy_Warm(df)\\\n",
    "           else 2 if Rain_Warm(df)\\\n",
    "           else 2 if Night_Warm(df)\\\n",
    "           else 3 if Sunny_Cold(df)\\\n",
    "           else 3 if Clear_Cold(df)\\\n",
    "           else 3 if PCloudy_Cold(df)\\\n",
    "           else 3 if Cloudy_Cold(df)\\\n",
    "           else 3 if Rain_Cold(df)\\\n",
    "           else 3 if Snow_Cold(df)\\\n",
    "           else 3 if Night_Cold(df)\\\n",
    "           else 4 if Sunny_Freezing(df)\\\n",
    "           else 4 if Clear_Freezing(df)\\\n",
    "           else 4 if PCloudy_Freezing(df)\\\n",
    "           else 4 if Cloudy_Freezing(df)\\\n",
    "           else 4 if Rain_Freezing(df)\\\n",
    "           else 4 if Snow_Freezing(df)\\\n",
    "           else 4 if Night_Freezing(df)\\\n",
    "           else 5 if Rain_Snow(df)\\\n",
    "           else 6, axis = 1)"
   ]
  },
  {
   "cell_type": "code",
   "execution_count": 110,
   "metadata": {},
   "outputs": [],
   "source": [
    "Weather_Description_list = ['Night_Freezing', 'Cloudy_Freezing', 'PCloudy_Freezing',\n",
    "                            'Clear_Cold', 'PCloudy_Cold', 'Cloudy_Cold', 'Night_Cold',\n",
    "                            'Rain_Cold', 'Clear_Freezing', 'Rain&Snow', 'Snow_Freezing',\n",
    "                            'Snow_Cold', 'Sunny_Freezing', 'Sunny_Cold', 'Sunny_Warm',\n",
    "                            'Clear_Warm', 'PCloudy_Warm', 'Cloudy_Warm', 'Night_Warm',\n",
    "                            'Rain_Warm', 'Sunny_hot', 'Clear_hot', 'Cloudy_hot', 'Night_hot',\n",
    "                            'PCloudy_hot', 'Rain_hot']\n",
    "\n",
    "length = len(Weather_Description_list)+1\n",
    "Weather_Description_neumeric = [*range(1, length, 1)]"
   ]
  },
  {
   "cell_type": "code",
   "execution_count": 111,
   "metadata": {},
   "outputs": [],
   "source": [
    "# map_data_series(df_prep,'Weather_State',Weather_Description_list,Weather_Description_neumeric)"
   ]
  },
  {
   "cell_type": "code",
   "execution_count": 112,
   "metadata": {},
   "outputs": [],
   "source": [
    "new_feature_data_series(df_prep,['Weather_State','Visibility_dist'],lambda df :df['Weather_State']*(df['Visibility_dist']),'Weather_stat&visb_dist')"
   ]
  },
  {
   "cell_type": "code",
   "execution_count": 113,
   "metadata": {},
   "outputs": [],
   "source": [
    "new_feature_data_series(df_prep,['Weather_State','Visibility (10m)'],lambda df :df['Weather_State']*np.log(df['Visibility (10m)']),'Weather&visb')"
   ]
  },
  {
   "cell_type": "code",
   "execution_count": 114,
   "metadata": {},
   "outputs": [
    {
     "data": {
      "text/html": [
       "<div>\n",
       "<style scoped>\n",
       "    .dataframe tbody tr th:only-of-type {\n",
       "        vertical-align: middle;\n",
       "    }\n",
       "\n",
       "    .dataframe tbody tr th {\n",
       "        vertical-align: top;\n",
       "    }\n",
       "\n",
       "    .dataframe thead th {\n",
       "        text-align: right;\n",
       "    }\n",
       "</style>\n",
       "<table border=\"1\" class=\"dataframe\">\n",
       "  <thead>\n",
       "    <tr style=\"text-align: right;\">\n",
       "      <th></th>\n",
       "      <th>Date</th>\n",
       "      <th>y</th>\n",
       "      <th>Hour</th>\n",
       "      <th>Temperature(C)</th>\n",
       "      <th>Humidity(%)</th>\n",
       "      <th>Wind speed (m/s)</th>\n",
       "      <th>Visibility (10m)</th>\n",
       "      <th>Dew point temperature(C)</th>\n",
       "      <th>Solar Radiation (MJ/m2)</th>\n",
       "      <th>Rainfall(mm)</th>\n",
       "      <th>Snowfall (cm)</th>\n",
       "      <th>Seasons</th>\n",
       "      <th>Holiday</th>\n",
       "      <th>Functioning Day</th>\n",
       "      <th>Year</th>\n",
       "      <th>Week</th>\n",
       "      <th>Month</th>\n",
       "      <th>WeekDay</th>\n",
       "      <th>Rush_hour</th>\n",
       "      <th>Dead_hour</th>\n",
       "      <th>day_night</th>\n",
       "      <th>Humidity_high</th>\n",
       "      <th>Temperature_high</th>\n",
       "      <th>Weather_bad</th>\n",
       "      <th>Humidex</th>\n",
       "      <th>Ideal</th>\n",
       "      <th>Visibility_cat</th>\n",
       "      <th>Visibility_dist</th>\n",
       "      <th>Rain_cat</th>\n",
       "      <th>Snow_cat</th>\n",
       "      <th>Weather_State</th>\n",
       "      <th>Weather_stat&amp;visb_dist</th>\n",
       "      <th>Weather&amp;visb</th>\n",
       "    </tr>\n",
       "    <tr>\n",
       "      <th>ID</th>\n",
       "      <th></th>\n",
       "      <th></th>\n",
       "      <th></th>\n",
       "      <th></th>\n",
       "      <th></th>\n",
       "      <th></th>\n",
       "      <th></th>\n",
       "      <th></th>\n",
       "      <th></th>\n",
       "      <th></th>\n",
       "      <th></th>\n",
       "      <th></th>\n",
       "      <th></th>\n",
       "      <th></th>\n",
       "      <th></th>\n",
       "      <th></th>\n",
       "      <th></th>\n",
       "      <th></th>\n",
       "      <th></th>\n",
       "      <th></th>\n",
       "      <th></th>\n",
       "      <th></th>\n",
       "      <th></th>\n",
       "      <th></th>\n",
       "      <th></th>\n",
       "      <th></th>\n",
       "      <th></th>\n",
       "      <th></th>\n",
       "      <th></th>\n",
       "      <th></th>\n",
       "      <th></th>\n",
       "      <th></th>\n",
       "      <th></th>\n",
       "    </tr>\n",
       "  </thead>\n",
       "  <tbody>\n",
       "    <tr>\n",
       "      <th>0</th>\n",
       "      <td>2017-12-01</td>\n",
       "      <td>254</td>\n",
       "      <td>0</td>\n",
       "      <td>-5.2</td>\n",
       "      <td>37</td>\n",
       "      <td>2.2</td>\n",
       "      <td>2000</td>\n",
       "      <td>-17.6</td>\n",
       "      <td>0.0</td>\n",
       "      <td>0.0</td>\n",
       "      <td>0.0</td>\n",
       "      <td>0</td>\n",
       "      <td>0</td>\n",
       "      <td>1</td>\n",
       "      <td>2017</td>\n",
       "      <td>48</td>\n",
       "      <td>12</td>\n",
       "      <td>4</td>\n",
       "      <td>0.000000</td>\n",
       "      <td>1.831564e-02</td>\n",
       "      <td>0</td>\n",
       "      <td>0</td>\n",
       "      <td>0</td>\n",
       "      <td>0</td>\n",
       "      <td>-9.890186</td>\n",
       "      <td>1</td>\n",
       "      <td>5</td>\n",
       "      <td>5</td>\n",
       "      <td>0</td>\n",
       "      <td>0</td>\n",
       "      <td>4</td>\n",
       "      <td>20</td>\n",
       "      <td>30.403610</td>\n",
       "    </tr>\n",
       "    <tr>\n",
       "      <th>1</th>\n",
       "      <td>2017-12-01</td>\n",
       "      <td>204</td>\n",
       "      <td>1</td>\n",
       "      <td>-5.5</td>\n",
       "      <td>38</td>\n",
       "      <td>0.8</td>\n",
       "      <td>2000</td>\n",
       "      <td>-17.6</td>\n",
       "      <td>0.0</td>\n",
       "      <td>0.0</td>\n",
       "      <td>0.0</td>\n",
       "      <td>0</td>\n",
       "      <td>0</td>\n",
       "      <td>1</td>\n",
       "      <td>2017</td>\n",
       "      <td>48</td>\n",
       "      <td>12</td>\n",
       "      <td>4</td>\n",
       "      <td>0.000000</td>\n",
       "      <td>4.978707e-02</td>\n",
       "      <td>0</td>\n",
       "      <td>0</td>\n",
       "      <td>0</td>\n",
       "      <td>0</td>\n",
       "      <td>-10.190186</td>\n",
       "      <td>1</td>\n",
       "      <td>5</td>\n",
       "      <td>5</td>\n",
       "      <td>0</td>\n",
       "      <td>0</td>\n",
       "      <td>4</td>\n",
       "      <td>20</td>\n",
       "      <td>30.403610</td>\n",
       "    </tr>\n",
       "    <tr>\n",
       "      <th>2</th>\n",
       "      <td>2017-12-01</td>\n",
       "      <td>173</td>\n",
       "      <td>2</td>\n",
       "      <td>-6.0</td>\n",
       "      <td>39</td>\n",
       "      <td>1.0</td>\n",
       "      <td>2000</td>\n",
       "      <td>-17.7</td>\n",
       "      <td>0.0</td>\n",
       "      <td>0.0</td>\n",
       "      <td>0.0</td>\n",
       "      <td>0</td>\n",
       "      <td>0</td>\n",
       "      <td>1</td>\n",
       "      <td>2017</td>\n",
       "      <td>48</td>\n",
       "      <td>12</td>\n",
       "      <td>4</td>\n",
       "      <td>0.000000</td>\n",
       "      <td>1.353353e-01</td>\n",
       "      <td>0</td>\n",
       "      <td>0</td>\n",
       "      <td>0</td>\n",
       "      <td>0</td>\n",
       "      <td>-10.697338</td>\n",
       "      <td>1</td>\n",
       "      <td>5</td>\n",
       "      <td>5</td>\n",
       "      <td>0</td>\n",
       "      <td>0</td>\n",
       "      <td>4</td>\n",
       "      <td>20</td>\n",
       "      <td>30.403610</td>\n",
       "    </tr>\n",
       "    <tr>\n",
       "      <th>3</th>\n",
       "      <td>2017-12-01</td>\n",
       "      <td>107</td>\n",
       "      <td>3</td>\n",
       "      <td>-6.2</td>\n",
       "      <td>40</td>\n",
       "      <td>0.9</td>\n",
       "      <td>2000</td>\n",
       "      <td>-17.6</td>\n",
       "      <td>0.0</td>\n",
       "      <td>0.0</td>\n",
       "      <td>0.0</td>\n",
       "      <td>0</td>\n",
       "      <td>0</td>\n",
       "      <td>1</td>\n",
       "      <td>2017</td>\n",
       "      <td>48</td>\n",
       "      <td>12</td>\n",
       "      <td>4</td>\n",
       "      <td>0.000000</td>\n",
       "      <td>3.678794e-01</td>\n",
       "      <td>0</td>\n",
       "      <td>0</td>\n",
       "      <td>0</td>\n",
       "      <td>0</td>\n",
       "      <td>-10.890186</td>\n",
       "      <td>1</td>\n",
       "      <td>5</td>\n",
       "      <td>5</td>\n",
       "      <td>0</td>\n",
       "      <td>0</td>\n",
       "      <td>4</td>\n",
       "      <td>20</td>\n",
       "      <td>30.403610</td>\n",
       "    </tr>\n",
       "    <tr>\n",
       "      <th>4</th>\n",
       "      <td>2017-12-01</td>\n",
       "      <td>78</td>\n",
       "      <td>4</td>\n",
       "      <td>-6.0</td>\n",
       "      <td>36</td>\n",
       "      <td>2.3</td>\n",
       "      <td>2000</td>\n",
       "      <td>-18.6</td>\n",
       "      <td>0.0</td>\n",
       "      <td>0.0</td>\n",
       "      <td>0.0</td>\n",
       "      <td>0</td>\n",
       "      <td>0</td>\n",
       "      <td>1</td>\n",
       "      <td>2017</td>\n",
       "      <td>48</td>\n",
       "      <td>12</td>\n",
       "      <td>4</td>\n",
       "      <td>0.000000</td>\n",
       "      <td>1.000000e+00</td>\n",
       "      <td>0</td>\n",
       "      <td>0</td>\n",
       "      <td>0</td>\n",
       "      <td>0</td>\n",
       "      <td>-10.759339</td>\n",
       "      <td>1</td>\n",
       "      <td>5</td>\n",
       "      <td>5</td>\n",
       "      <td>0</td>\n",
       "      <td>0</td>\n",
       "      <td>4</td>\n",
       "      <td>20</td>\n",
       "      <td>30.403610</td>\n",
       "    </tr>\n",
       "    <tr>\n",
       "      <th>...</th>\n",
       "      <td>...</td>\n",
       "      <td>...</td>\n",
       "      <td>...</td>\n",
       "      <td>...</td>\n",
       "      <td>...</td>\n",
       "      <td>...</td>\n",
       "      <td>...</td>\n",
       "      <td>...</td>\n",
       "      <td>...</td>\n",
       "      <td>...</td>\n",
       "      <td>...</td>\n",
       "      <td>...</td>\n",
       "      <td>...</td>\n",
       "      <td>...</td>\n",
       "      <td>...</td>\n",
       "      <td>...</td>\n",
       "      <td>...</td>\n",
       "      <td>...</td>\n",
       "      <td>...</td>\n",
       "      <td>...</td>\n",
       "      <td>...</td>\n",
       "      <td>...</td>\n",
       "      <td>...</td>\n",
       "      <td>...</td>\n",
       "      <td>...</td>\n",
       "      <td>...</td>\n",
       "      <td>...</td>\n",
       "      <td>...</td>\n",
       "      <td>...</td>\n",
       "      <td>...</td>\n",
       "      <td>...</td>\n",
       "      <td>...</td>\n",
       "      <td>...</td>\n",
       "    </tr>\n",
       "    <tr>\n",
       "      <th>5755</th>\n",
       "      <td>2018-11-20</td>\n",
       "      <td>1317</td>\n",
       "      <td>19</td>\n",
       "      <td>8.7</td>\n",
       "      <td>34</td>\n",
       "      <td>2.2</td>\n",
       "      <td>1857</td>\n",
       "      <td>-6.3</td>\n",
       "      <td>0.0</td>\n",
       "      <td>0.0</td>\n",
       "      <td>0.0</td>\n",
       "      <td>3</td>\n",
       "      <td>0</td>\n",
       "      <td>1</td>\n",
       "      <td>2018</td>\n",
       "      <td>47</td>\n",
       "      <td>11</td>\n",
       "      <td>1</td>\n",
       "      <td>0.367879</td>\n",
       "      <td>0.000000e+00</td>\n",
       "      <td>0</td>\n",
       "      <td>0</td>\n",
       "      <td>0</td>\n",
       "      <td>0</td>\n",
       "      <td>5.268122</td>\n",
       "      <td>1</td>\n",
       "      <td>5</td>\n",
       "      <td>4</td>\n",
       "      <td>0</td>\n",
       "      <td>0</td>\n",
       "      <td>3</td>\n",
       "      <td>12</td>\n",
       "      <td>22.580153</td>\n",
       "    </tr>\n",
       "    <tr>\n",
       "      <th>5756</th>\n",
       "      <td>2018-11-20</td>\n",
       "      <td>1078</td>\n",
       "      <td>20</td>\n",
       "      <td>8.5</td>\n",
       "      <td>32</td>\n",
       "      <td>2.6</td>\n",
       "      <td>1789</td>\n",
       "      <td>-7.2</td>\n",
       "      <td>0.0</td>\n",
       "      <td>0.0</td>\n",
       "      <td>0.0</td>\n",
       "      <td>3</td>\n",
       "      <td>0</td>\n",
       "      <td>1</td>\n",
       "      <td>2018</td>\n",
       "      <td>47</td>\n",
       "      <td>11</td>\n",
       "      <td>1</td>\n",
       "      <td>0.135335</td>\n",
       "      <td>0.000000e+00</td>\n",
       "      <td>0</td>\n",
       "      <td>0</td>\n",
       "      <td>0</td>\n",
       "      <td>0</td>\n",
       "      <td>4.927112</td>\n",
       "      <td>1</td>\n",
       "      <td>5</td>\n",
       "      <td>4</td>\n",
       "      <td>0</td>\n",
       "      <td>0</td>\n",
       "      <td>3</td>\n",
       "      <td>12</td>\n",
       "      <td>22.468236</td>\n",
       "    </tr>\n",
       "    <tr>\n",
       "      <th>5757</th>\n",
       "      <td>2018-11-20</td>\n",
       "      <td>1020</td>\n",
       "      <td>21</td>\n",
       "      <td>8.8</td>\n",
       "      <td>37</td>\n",
       "      <td>3.8</td>\n",
       "      <td>1750</td>\n",
       "      <td>-5.1</td>\n",
       "      <td>0.0</td>\n",
       "      <td>0.0</td>\n",
       "      <td>0.0</td>\n",
       "      <td>3</td>\n",
       "      <td>0</td>\n",
       "      <td>1</td>\n",
       "      <td>2018</td>\n",
       "      <td>47</td>\n",
       "      <td>11</td>\n",
       "      <td>1</td>\n",
       "      <td>0.049787</td>\n",
       "      <td>0.000000e+00</td>\n",
       "      <td>0</td>\n",
       "      <td>0</td>\n",
       "      <td>0</td>\n",
       "      <td>0</td>\n",
       "      <td>5.570188</td>\n",
       "      <td>0</td>\n",
       "      <td>5</td>\n",
       "      <td>4</td>\n",
       "      <td>0</td>\n",
       "      <td>0</td>\n",
       "      <td>3</td>\n",
       "      <td>12</td>\n",
       "      <td>22.402113</td>\n",
       "    </tr>\n",
       "    <tr>\n",
       "      <th>5758</th>\n",
       "      <td>2018-11-20</td>\n",
       "      <td>922</td>\n",
       "      <td>22</td>\n",
       "      <td>8.9</td>\n",
       "      <td>40</td>\n",
       "      <td>3.4</td>\n",
       "      <td>1810</td>\n",
       "      <td>-3.9</td>\n",
       "      <td>0.0</td>\n",
       "      <td>0.0</td>\n",
       "      <td>0.0</td>\n",
       "      <td>3</td>\n",
       "      <td>0</td>\n",
       "      <td>1</td>\n",
       "      <td>2018</td>\n",
       "      <td>47</td>\n",
       "      <td>11</td>\n",
       "      <td>1</td>\n",
       "      <td>0.018316</td>\n",
       "      <td>1.522998e-08</td>\n",
       "      <td>0</td>\n",
       "      <td>0</td>\n",
       "      <td>0</td>\n",
       "      <td>0</td>\n",
       "      <td>5.889417</td>\n",
       "      <td>0</td>\n",
       "      <td>5</td>\n",
       "      <td>4</td>\n",
       "      <td>0</td>\n",
       "      <td>0</td>\n",
       "      <td>3</td>\n",
       "      <td>12</td>\n",
       "      <td>22.503246</td>\n",
       "    </tr>\n",
       "    <tr>\n",
       "      <th>5759</th>\n",
       "      <td>2018-11-20</td>\n",
       "      <td>378</td>\n",
       "      <td>23</td>\n",
       "      <td>9.3</td>\n",
       "      <td>43</td>\n",
       "      <td>3.5</td>\n",
       "      <td>1807</td>\n",
       "      <td>-2.6</td>\n",
       "      <td>0.0</td>\n",
       "      <td>0.0</td>\n",
       "      <td>0.0</td>\n",
       "      <td>3</td>\n",
       "      <td>0</td>\n",
       "      <td>1</td>\n",
       "      <td>2018</td>\n",
       "      <td>47</td>\n",
       "      <td>11</td>\n",
       "      <td>1</td>\n",
       "      <td>0.006738</td>\n",
       "      <td>5.602796e-09</td>\n",
       "      <td>0</td>\n",
       "      <td>0</td>\n",
       "      <td>0</td>\n",
       "      <td>0</td>\n",
       "      <td>6.547766</td>\n",
       "      <td>0</td>\n",
       "      <td>5</td>\n",
       "      <td>4</td>\n",
       "      <td>0</td>\n",
       "      <td>0</td>\n",
       "      <td>3</td>\n",
       "      <td>12</td>\n",
       "      <td>22.498270</td>\n",
       "    </tr>\n",
       "  </tbody>\n",
       "</table>\n",
       "<p>5760 rows × 33 columns</p>\n",
       "</div>"
      ],
      "text/plain": [
       "           Date     y  Hour  Temperature(C)  Humidity(%)  Wind speed (m/s)  \\\n",
       "ID                                                                           \n",
       "0    2017-12-01   254     0            -5.2           37               2.2   \n",
       "1    2017-12-01   204     1            -5.5           38               0.8   \n",
       "2    2017-12-01   173     2            -6.0           39               1.0   \n",
       "3    2017-12-01   107     3            -6.2           40               0.9   \n",
       "4    2017-12-01    78     4            -6.0           36               2.3   \n",
       "...         ...   ...   ...             ...          ...               ...   \n",
       "5755 2018-11-20  1317    19             8.7           34               2.2   \n",
       "5756 2018-11-20  1078    20             8.5           32               2.6   \n",
       "5757 2018-11-20  1020    21             8.8           37               3.8   \n",
       "5758 2018-11-20   922    22             8.9           40               3.4   \n",
       "5759 2018-11-20   378    23             9.3           43               3.5   \n",
       "\n",
       "      Visibility (10m)  Dew point temperature(C)  Solar Radiation (MJ/m2)  \\\n",
       "ID                                                                          \n",
       "0                 2000                     -17.6                      0.0   \n",
       "1                 2000                     -17.6                      0.0   \n",
       "2                 2000                     -17.7                      0.0   \n",
       "3                 2000                     -17.6                      0.0   \n",
       "4                 2000                     -18.6                      0.0   \n",
       "...                ...                       ...                      ...   \n",
       "5755              1857                      -6.3                      0.0   \n",
       "5756              1789                      -7.2                      0.0   \n",
       "5757              1750                      -5.1                      0.0   \n",
       "5758              1810                      -3.9                      0.0   \n",
       "5759              1807                      -2.6                      0.0   \n",
       "\n",
       "      Rainfall(mm)  Snowfall (cm)  Seasons  Holiday  Functioning Day  Year  \\\n",
       "ID                                                                           \n",
       "0              0.0            0.0        0        0                1  2017   \n",
       "1              0.0            0.0        0        0                1  2017   \n",
       "2              0.0            0.0        0        0                1  2017   \n",
       "3              0.0            0.0        0        0                1  2017   \n",
       "4              0.0            0.0        0        0                1  2017   \n",
       "...            ...            ...      ...      ...              ...   ...   \n",
       "5755           0.0            0.0        3        0                1  2018   \n",
       "5756           0.0            0.0        3        0                1  2018   \n",
       "5757           0.0            0.0        3        0                1  2018   \n",
       "5758           0.0            0.0        3        0                1  2018   \n",
       "5759           0.0            0.0        3        0                1  2018   \n",
       "\n",
       "      Week  Month  WeekDay  Rush_hour     Dead_hour  day_night  Humidity_high  \\\n",
       "ID                                                                              \n",
       "0       48     12        4   0.000000  1.831564e-02          0              0   \n",
       "1       48     12        4   0.000000  4.978707e-02          0              0   \n",
       "2       48     12        4   0.000000  1.353353e-01          0              0   \n",
       "3       48     12        4   0.000000  3.678794e-01          0              0   \n",
       "4       48     12        4   0.000000  1.000000e+00          0              0   \n",
       "...    ...    ...      ...        ...           ...        ...            ...   \n",
       "5755    47     11        1   0.367879  0.000000e+00          0              0   \n",
       "5756    47     11        1   0.135335  0.000000e+00          0              0   \n",
       "5757    47     11        1   0.049787  0.000000e+00          0              0   \n",
       "5758    47     11        1   0.018316  1.522998e-08          0              0   \n",
       "5759    47     11        1   0.006738  5.602796e-09          0              0   \n",
       "\n",
       "      Temperature_high  Weather_bad    Humidex  Ideal  Visibility_cat  \\\n",
       "ID                                                                      \n",
       "0                    0            0  -9.890186      1               5   \n",
       "1                    0            0 -10.190186      1               5   \n",
       "2                    0            0 -10.697338      1               5   \n",
       "3                    0            0 -10.890186      1               5   \n",
       "4                    0            0 -10.759339      1               5   \n",
       "...                ...          ...        ...    ...             ...   \n",
       "5755                 0            0   5.268122      1               5   \n",
       "5756                 0            0   4.927112      1               5   \n",
       "5757                 0            0   5.570188      0               5   \n",
       "5758                 0            0   5.889417      0               5   \n",
       "5759                 0            0   6.547766      0               5   \n",
       "\n",
       "      Visibility_dist  Rain_cat  Snow_cat  Weather_State  \\\n",
       "ID                                                         \n",
       "0                   5         0         0              4   \n",
       "1                   5         0         0              4   \n",
       "2                   5         0         0              4   \n",
       "3                   5         0         0              4   \n",
       "4                   5         0         0              4   \n",
       "...               ...       ...       ...            ...   \n",
       "5755                4         0         0              3   \n",
       "5756                4         0         0              3   \n",
       "5757                4         0         0              3   \n",
       "5758                4         0         0              3   \n",
       "5759                4         0         0              3   \n",
       "\n",
       "      Weather_stat&visb_dist  Weather&visb  \n",
       "ID                                          \n",
       "0                         20     30.403610  \n",
       "1                         20     30.403610  \n",
       "2                         20     30.403610  \n",
       "3                         20     30.403610  \n",
       "4                         20     30.403610  \n",
       "...                      ...           ...  \n",
       "5755                      12     22.580153  \n",
       "5756                      12     22.468236  \n",
       "5757                      12     22.402113  \n",
       "5758                      12     22.503246  \n",
       "5759                      12     22.498270  \n",
       "\n",
       "[5760 rows x 33 columns]"
      ]
     },
     "execution_count": 114,
     "metadata": {},
     "output_type": "execute_result"
    }
   ],
   "source": [
    "df_prep"
   ]
  },
  {
   "cell_type": "code",
   "execution_count": 115,
   "metadata": {},
   "outputs": [],
   "source": [
    "def Clear(df):\n",
    "    if (df['Solar Radiation (MJ/m2)'] >2) & (df['day_night'] ==1):\n",
    "        return 1\n",
    "    else:\n",
    "        return 0\n",
    "    \n",
    "def Few_Clouds(df):\n",
    "    if (((df['Solar Radiation (MJ/m2)'] <=2)&(df['Solar Radiation (MJ/m2)'] >1.5)) & (df['day_night'] ==1)):\n",
    "        return 1  \n",
    "    else:\n",
    "        return 0\n",
    "    \n",
    "def Scatterd_Clouds(df):\n",
    "    if (((df['Solar Radiation (MJ/m2)'] <=1.5)&(df['Solar Radiation (MJ/m2)'] >1)) & (df['day_night'] ==1)):\n",
    "        return 1  \n",
    "    else:\n",
    "        return 0\n",
    "    \n",
    "def Partly_Cloudy(df):\n",
    "    if (((df['Solar Radiation (MJ/m2)'] <=1)&(df['Solar Radiation (MJ/m2)'] >0.5)) & (df['day_night'] ==1)):\n",
    "        return 1  \n",
    "    else:\n",
    "        return 0\n",
    "    \n",
    "def Cloudy(df):\n",
    "    if ((df['Solar Radiation (MJ/m2)'] <= 0.5) & (df['day_night'] ==1)):\n",
    "        return 1\n",
    "    else:\n",
    "        return 0\n",
    "    \n",
    "def Night(df):\n",
    "    if ((df['Solar Radiation (MJ/m2)'] <= 0.8) & (df['day_night'] ==0)):\n",
    "        return 1\n",
    "    else:\n",
    "        return 0\n",
    "    "
   ]
  },
  {
   "cell_type": "code",
   "execution_count": 116,
   "metadata": {},
   "outputs": [],
   "source": [
    "def Mist(df):\n",
    "    if df['Visibility_dist'] == 3:\n",
    "        return 1\n",
    "    else:\n",
    "        return 0\n",
    "    \n",
    "def Fog(df):\n",
    "    if ((df['Visibility_dist'] == 1) | (df['Visibility_dist'] == 2)) :\n",
    "        return 1\n",
    "    else:\n",
    "        return 0"
   ]
  },
  {
   "cell_type": "code",
   "execution_count": 117,
   "metadata": {},
   "outputs": [],
   "source": [
    "def Light_Rain(df):\n",
    "    if ((df['Rainfall(mm)']) >0 & (df['Rainfall(mm)'] < 2.5))  :\n",
    "        return 1\n",
    "    else:\n",
    "        return 0\n",
    "    \n",
    "def Heavy_Rain(df):\n",
    "    if (df['Rainfall(mm)'] >= 2.5)  :\n",
    "        return 1\n",
    "    else:\n",
    "        return 0\n",
    "def Ice_pallets(df):\n",
    "        if ((df['Rainfall(mm)'] > 0 )& (df['Snowfall (cm)'] > 0 ))  :\n",
    "            return 1\n",
    "        else:\n",
    "            return 0\n"
   ]
  },
  {
   "cell_type": "code",
   "execution_count": 118,
   "metadata": {},
   "outputs": [],
   "source": [
    "def Light_Snow(df):\n",
    "    if ((df['Snowfall (cm)']) >0 & (df['Snowfall (cm)'] < 1))  :\n",
    "        return 1\n",
    "    else:\n",
    "        return 0\n",
    "    \n",
    "def Snow(df):\n",
    "    if (df['Snowfall (cm)'] >= 1)  :\n",
    "        return 1\n",
    "    else:\n",
    "        return 0"
   ]
  },
  {
   "cell_type": "code",
   "execution_count": 119,
   "metadata": {},
   "outputs": [],
   "source": [
    "def Cond1(df):\n",
    "    if Clear(df) or Few_Clouds(df) or Partly_Cloudy(df) or Cloudy(df):\n",
    "        return 1\n",
    "    else:\n",
    "        return 0\n",
    "def Cond2(df):\n",
    "    if (Mist(df) and Cloudy(df)) or (Mist(df) and Partly_Cloudy(df)) or (Mist(df) and Few_Clouds(df)) or Mist(df):\n",
    "        return 1\n",
    "    else:\n",
    "        return 0\n",
    "def Cond3(df):\n",
    "    if Light_Snow(df) or (Light_Rain(df) and Scatterd_Clouds(df)) or Light_Rain(df):\n",
    "        return 1\n",
    "    else:\n",
    "        return 0\n",
    "def Cond4(df):\n",
    "    if (Ice_pallets(df) and Mist(df)) or (Snow(df) and Fog(df)) or Snow(df) :\n",
    "        return 1\n",
    "    else:\n",
    "        return 0\n",
    "def Cond5(df):\n",
    "    if Night(df):\n",
    "        return 1\n",
    "    else:\n",
    "        return 0"
   ]
  },
  {
   "cell_type": "code",
   "execution_count": 120,
   "metadata": {},
   "outputs": [],
   "source": [
    "df_prep['Sky_State'] =df_prep[['Temperature(C)','Visibility_dist', 'Solar Radiation (MJ/m2)' , 'day_night','Snowfall (cm)','Rainfall(mm)']]  \\\n",
    "    .apply(lambda df: 4 if Cond4(df)\\\n",
    "                 else 2 if Cond2(df)\\\n",
    "                 else 3 if Cond3(df)\\\n",
    "                 else 1 if Cond1(df)\\\n",
    "                 \n",
    "                 else 5, axis = 1)"
   ]
  },
  {
   "cell_type": "code",
   "execution_count": 121,
   "metadata": {},
   "outputs": [],
   "source": [
    "def Hot(df):\n",
    "    if (df['Temperature(C)']>25):\n",
    "        return 1\n",
    "    else:\n",
    "        return 0\n",
    "def Warm(df):\n",
    "    if ((df['Temperature(C)']<=25)&(df['Temperature(C)']>10)):\n",
    "        return 1\n",
    "    else:\n",
    "        return 0\n",
    "def Cold(df):\n",
    "    if ((df['Temperature(C)']<=10)&(df['Temperature(C)']>0)):\n",
    "        return 1\n",
    "    else:\n",
    "        return 0\n",
    "def Freezing(df):\n",
    "    if (df['Temperature(C)']<=0):\n",
    "        return 1\n",
    "    else:\n",
    "        return 0"
   ]
  },
  {
   "cell_type": "code",
   "execution_count": 122,
   "metadata": {},
   "outputs": [],
   "source": [
    "df_prep['Temp_State'] =df_prep[['Temperature(C)','Visibility_dist', 'Solar Radiation (MJ/m2)' , 'day_night','Snowfall (cm)','Rainfall(mm)']]  \\\n",
    "    .apply(lambda df: 1 if Warm(df)\\\n",
    "                 else 2 if Cold(df)\\\n",
    "                 else 3 if Hot(df)\\\n",
    "                 else 4 if Freezing(df)\\\n",
    "                 \n",
    "                 else 5, axis = 1)"
   ]
  },
  {
   "cell_type": "code",
   "execution_count": 123,
   "metadata": {},
   "outputs": [
    {
     "data": {
      "text/plain": [
       "Temp_State\n",
       "1             2396\n",
       "2             1358\n",
       "3             1004\n",
       "4             1002\n",
       "dtype: int64"
      ]
     },
     "execution_count": 123,
     "metadata": {},
     "output_type": "execute_result"
    }
   ],
   "source": [
    "df_prep[[\"Temp_State\"]].value_counts()"
   ]
  },
  {
   "cell_type": "code",
   "execution_count": 124,
   "metadata": {},
   "outputs": [],
   "source": [
    "new_feature_data_series(df_prep,['Sky_State','Temp_State'],lambda df :df['Sky_State']*(df['Temp_State']),'GBL_Forecast')"
   ]
  },
  {
   "cell_type": "code",
   "execution_count": 126,
   "metadata": {},
   "outputs": [],
   "source": [
    "def value(df):\n",
    "    return np.log((np.abs(df['Humidity(%)']*(df['Temperature(C)'])*df['Dew point temperature(C)']))+1)"
   ]
  },
  {
   "cell_type": "code",
   "execution_count": 128,
   "metadata": {},
   "outputs": [],
   "source": [
    "def F_state(df1):\n",
    "    if df1['X_Temp']-df1['Temperature(C)']>= 1:\n",
    "        return 1\n",
    "    else:\n",
    "        return 0\n",
    "def Fogs (df):\n",
    "    if ((df['Fog_State']==1) & (df['Visibility (10m)'] <= 1000)):\n",
    "        return 1\n",
    "    else :\n",
    "        return 0"
   ]
  },
  {
   "cell_type": "code",
   "execution_count": 129,
   "metadata": {},
   "outputs": [],
   "source": [
    "#added from the Abdo nabil\n",
    "new_feature_data_series(df_prep,['Temperature(C)','Humidity(%)','Dew point temperature(C)']\n",
    "                        ,lambda df :value(df) if value(df) != float('nan') else 0,'Abdo_try')\n",
    "new_feature_data_series(df_prep,['Temperature(C)','Humidity(%)']\n",
    "                        ,lambda  df :df['Humidity(%)']*(df['Temperature(C)'])/100  ,'X_Temp')\n",
    "df_prep['Fog_State'] =df_prep[['Temperature(C)','X_Temp']]  \\\n",
    "    .apply(lambda df: 1 if F_state(df)\\\n",
    "                 else 0, axis = 1)\n",
    "df_prep['Fog'] =df_prep[['Fog_State','Visibility (10m)']]  \\\n",
    "    .apply(lambda df: 2 if Fogs(df)\\\n",
    "                 else 1, axis = 1)"
   ]
  },
  {
   "cell_type": "code",
   "execution_count": 130,
   "metadata": {},
   "outputs": [],
   "source": [
    "# df_prep[\"Date_tmp\"] = df_prep['Date'].dt.to_period('M')\n",
    "# new_feature_df = pd.DataFrame(df_prep.groupby(['Date_tmp', 'Year'])['y'].mean()).sort_values([\"Year\"])\n",
    "# new_feature_df = pd.DataFrame(new_feature_df['y'].shift(+1))\n",
    "# new_feature_df.reset_index(inplace=True)\n",
    "# new_feature_df.rename(columns={'y':'Prev Month y'}, inplace=True)\n",
    "# new_feature_df.drop(['Year'], axis = 1, inplace =True)\n",
    "#new_feature_df.fillna(225, inplace = True)"
   ]
  },
  {
   "cell_type": "code",
   "execution_count": 131,
   "metadata": {},
   "outputs": [],
   "source": [
    "# df_prep = pd.merge(df_prep, new_feature_df, on='Date_tmp', how='left')"
   ]
  },
  {
   "cell_type": "code",
   "execution_count": 132,
   "metadata": {},
   "outputs": [
    {
     "data": {
      "text/plain": [
       "Index(['Date', 'y', 'Hour', 'Temperature(C)', 'Humidity(%)',\n",
       "       'Wind speed (m/s)', 'Visibility (10m)', 'Dew point temperature(C)',\n",
       "       'Solar Radiation (MJ/m2)', 'Rainfall(mm)', 'Snowfall (cm)', 'Seasons',\n",
       "       'Holiday', 'Functioning Day', 'Year', 'Week', 'Month', 'WeekDay',\n",
       "       'Rush_hour', 'Dead_hour', 'day_night', 'Humidity_high',\n",
       "       'Temperature_high', 'Weather_bad', 'Humidex', 'Ideal', 'Visibility_cat',\n",
       "       'Visibility_dist', 'Rain_cat', 'Snow_cat', 'Weather_State',\n",
       "       'Weather_stat&visb_dist', 'Weather&visb', 'Sky_State', 'Temp_State',\n",
       "       'GBL_Forecast', 'Abdo_try', 'X_Temp', 'Fog_State', 'Fog'],\n",
       "      dtype='object')"
      ]
     },
     "execution_count": 132,
     "metadata": {},
     "output_type": "execute_result"
    }
   ],
   "source": [
    "df_prep.columns"
   ]
  },
  {
   "cell_type": "markdown",
   "metadata": {},
   "source": [
    "----\n",
    "# Training The Model"
   ]
  },
  {
   "cell_type": "markdown",
   "metadata": {},
   "source": [
    "####  Our Scoring Metric (RMSLE)"
   ]
  },
  {
   "cell_type": "code",
   "execution_count": 133,
   "metadata": {},
   "outputs": [],
   "source": [
    "def rmsle(y_true, y_pred, convertExp=True):\n",
    "    if convertExp:\n",
    "        y_true = np.exp(y_true)\n",
    "        y_pred = np.exp(y_pred)\n",
    "        \n",
    "    log_true = np.nan_to_num(np.array([np.log(y+1.0) for y in y_true]))\n",
    "    log_pred = np.nan_to_num(np.array([np.log(y+1.0) for y in y_pred]))\n",
    "    \n",
    "    output = np.sqrt(np.mean((log_true - log_pred)**2))\n",
    "    return output\n",
    "\n",
    "def NumPyRMSLE(y_true:list, y_pred:list) -> float:\n",
    "    \"\"\"\n",
    "        The Root Mean Squared Log Error (RMSLE) metric using only NumPy\n",
    "        N.B. This function is a lot slower than sklearn's implementation\n",
    "        \n",
    "        :param y_true: The ground truth labels given in the dataset\n",
    "        :param y_pred: Our predictions\n",
    "        :return: The RMSLE score\n",
    "    \"\"\"\n",
    "    n = len(y_true)\n",
    "    msle = np.mean([(np.log(y_pred[i] + 1) - np.log(y_true[i] + 1)) ** 2.0 for i in range(n)])\n",
    "    return np.sqrt(msle)\n",
    "\n",
    "rmsle_scorer = metrics.make_scorer(rmsle, greater_is_better=False) "
   ]
  },
  {
   "cell_type": "markdown",
   "metadata": {},
   "source": [
    "##### Selecting features and splitting (do this everytime you change the features! and want to do training)"
   ]
  },
  {
   "cell_type": "code",
   "execution_count": 134,
   "metadata": {},
   "outputs": [],
   "source": [
    "\n",
    "selected_features = ['Hour','Week', 'Month','Year', 'Solar Radiation (MJ/m2)','Rainfall(mm)',\n",
    "                     'Snowfall (cm)','Wind speed (m/s)','Visibility (10m)','WeekDay',\n",
    "                     'Seasons','Holiday' ,'Temperature(C)', 'Humidity(%)',\n",
    "                    'Functioning Day','Rush_hour','Dead_hour','Weather_State',\n",
    "                    'Weather&visb','Weather_stat&visb_dist','Sky_State','Temp_State','GBL_Forecast'] \n",
    "\n",
    "train = df_prep.copy()\n",
    "train[\"y\"] = np.log(df_prep[\"y\"]+0.00001) ##--- someone explain why this works better than +1\n",
    "\n",
    "#train[\"y\"] = df_prep[\"y\"]\n",
    "X1 = train[selected_features]\n",
    "y1 = train[\"y\"]\n",
    "\n",
    "\n",
    "\n",
    "\n",
    "# tss = TimeSeriesSplit(n_splits=2)\n",
    "# train_ind,test_ind  = tss.split(X1,groups=[20,1])\n",
    "\n",
    "X_train, X_test, y_train, y_test = train_test_split(X1, y1, test_size = 0.2, random_state=42,shuffle=True,)"
   ]
  },
  {
   "cell_type": "code",
   "execution_count": 135,
   "metadata": {},
   "outputs": [
    {
     "data": {
      "text/plain": [
       "23"
      ]
     },
     "execution_count": 135,
     "metadata": {},
     "output_type": "execute_result"
    }
   ],
   "source": [
    "len(selected_features)"
   ]
  },
  {
   "cell_type": "code",
   "execution_count": 136,
   "metadata": {},
   "outputs": [
    {
     "name": "stdout",
     "output_type": "stream",
     "text": [
      "(Train)  BaggingRegressor  RMSLE: 0.13600967003042333\n",
      "(Test) BaggingRegressor RMSLE: 0.2986905783339536\n",
      "---------------------------------\n",
      "(Train) Prev RMSLE: 0\n",
      "(Test) Prev RMSLE: 0\n",
      "---------------------------------\n",
      "Training Score: 99.8580943640935  %\n",
      "Test Score: 99.42271765350864  %\n"
     ]
    }
   ],
   "source": [
    "\n",
    "selected_features = ['Hour', 'Temperature(C)', 'Humidity(%)', 'Wind speed (m/s)',\n",
    "       'Visibility (10m)', 'Dew point temperature(C)',\n",
    "       'Solar Radiation (MJ/m2)', 'Rainfall(mm)', 'Snowfall (cm)', 'Seasons',\n",
    "       'Holiday', 'Functioning Day', 'Year', 'Week', 'Month', 'WeekDay',\n",
    "       'day_night', 'Humidex', 'Visibility_dist', 'Rain_cat', 'Snow_cat',\n",
    "       'Rush_hour', 'Dead_hour', 'Humidity_high', 'Weather_bad', 'Ideal',\n",
    "       'Weather_State', 'Weather_stat&visb_dist', 'Weather&visb', 'Sky_State',\n",
    "       'Temp_State', 'GBL_Forecast', 'X_Temp', 'Abdo_try', 'Fog_State', 'Fog']\n",
    "\n",
    "# No bagging \n",
    "#2500 \n",
    "\n",
    "# define dataset\n",
    "train = df_prep.copy()\n",
    "train[\"y\"] = np.log(df_prep[\"y\"]+0.00001) ##--- someone explain why this works better than +1\n",
    "#train[\"y\"] = df_prep[\"y\"]\n",
    "X1 = train[selected_features]\n",
    "y1 = train[\"y\"]\n",
    "X_train, X_test, y_train, y_test =\\\n",
    "train_test_split(X1, y1, test_size = 0.2, random_state=42,shuffle=True,)\n",
    "# define the model\n",
    "GBR = GradientBoostingRegressor(learning_rate=0.04, max_features=0.9,\n",
    "                                          min_samples_leaf=0.0001,\n",
    "                                          n_estimators=2500, random_state=0,\n",
    "                                          subsample=0.8)\n",
    "GBR.fit(X_train , y_train)\n",
    "# evaluate the model\n",
    "y_pred_train_GBR = GBR.predict(X_train)  \n",
    "y_pred_test_GBR = GBR.predict(X_test)  \n",
    "\n",
    "rmsle_train_GBR =  rmsle(y_train, y_pred_train_GBR, True)\n",
    "rmsle_test_GBR  = rmsle(y_test, y_pred_test_GBR, True)\n",
    "\n",
    "prev_train_GBR = 0\n",
    "prev_test_GBR = 0\n",
    "\n",
    "print('(Train)  BaggingRegressor  RMSLE:',rmsle_train_GBR )\n",
    "print('(Test) BaggingRegressor RMSLE:',rmsle_test_GBR  )\n",
    "print('---------------------------------' )\n",
    "print('(Train) Prev RMSLE:', prev_train_GBR)\n",
    "print('(Test) Prev RMSLE:', prev_test_GBR)\n",
    "prev_train_GBR = rmsle_train_GBR\n",
    "prev_test_GBR = rmsle_test_GBR \n",
    "print('---------------------------------' )\n",
    "print(\"Training Score:\", r2_score(y_train, y_pred_train_GBR) * 100,' %')\n",
    "print(\"Test Score:\", r2_score(y_test, y_pred_test_GBR) * 100,' %')"
   ]
  },
  {
   "cell_type": "raw",
   "metadata": {},
   "source": [
    "from sklearn.linear_model import LinearRegression\n",
    "from sklearn.ensemble import StackingRegressor\n",
    "\n",
    "# define the base models\n",
    "level0 = list()\n",
    "\n",
    "\n",
    "\n",
    "\n",
    "level0.append(('cat', cb.CatBoostRegressor(loss_function='RMSE',\n",
    "                random_state=0,max_depth=3,iterations=500,\n",
    "                l2_leaf_reg=2,learning_rate=0.069,subsample=0.8)))\n",
    "\n",
    "\n",
    "\n",
    "level0.append(('gbr', GradientBoostingRegressor(random_state=0, loss='ls',\n",
    "    n_estimators=2100, subsample=0.8, min_samples_leaf = 0.001\n",
    "    ,max_features=0.9, learning_rate=0.04\n",
    "    ,verbose = 0, criterion='friedman_mse')))\n",
    "\n",
    "\n",
    "\n",
    "\n",
    "\n",
    "level0.append(('xgb', xgb.XGBRegressor(n_estimators=2100, subsample=0.887\n",
    "                       ,colsample_bytree = 0.9, colsample_bylevel=0.9,\n",
    "                       learning_rate=0.05, n_jobs=8,max_depth =3)))\n",
    "\n",
    "\n",
    "# define meta learner model\n",
    "level1 = LinearRegression()\n",
    "# define the stacking ensemble\n",
    "model = StackingRegressor(estimators=level0, final_estimator=level1, cv=5)\n",
    "# fit the model on all available data\n",
    "model.fit(X_train, y_train)\n",
    "# make a prediction for one example\n",
    "pred_test = model.predict(X_test)\n",
    "pred_train = model.predict(X_train)"
   ]
  },
  {
   "cell_type": "raw",
   "metadata": {},
   "source": [
    "print('(Test) Stacking Regression RMSLE:', rmsle(y_test, pred_test, True))\n",
    "print('(Train) Stacking Regression RMSLE:', rmsle(y_train, pred_train, True))"
   ]
  },
  {
   "cell_type": "raw",
   "metadata": {},
   "source": [
    "cv = RepeatedKFold(n_splits=10, n_repeats=3, random_state=1)\n",
    "scores = cross_val_score(model, X_test, y_test, scoring=rmsle_scorer, cv=cv, n_jobs=-1)"
   ]
  },
  {
   "cell_type": "raw",
   "metadata": {},
   "source": [
    "-1*scores.mean()"
   ]
  },
  {
   "cell_type": "markdown",
   "metadata": {},
   "source": [
    "---\n",
    "\n",
    "### Submission Preparation"
   ]
  },
  {
   "cell_type": "code",
   "execution_count": 11,
   "metadata": {},
   "outputs": [],
   "source": [
    "full_test_path = r\"SeoulBikeDataTestFull.csv\""
   ]
  },
  {
   "cell_type": "code",
   "execution_count": 12,
   "metadata": {},
   "outputs": [],
   "source": [
    "full_test = pd.read_csv(full_test_path)"
   ]
  },
  {
   "cell_type": "code",
   "execution_count": 139,
   "metadata": {},
   "outputs": [],
   "source": [
    "test = df_test.copy()"
   ]
  },
  {
   "cell_type": "code",
   "execution_count": 140,
   "metadata": {},
   "outputs": [],
   "source": [
    "test['Year'] = df_test['Date'].dt.year.astype('int')\n",
    "test['Week'] = df_test['Date'].dt.isocalendar().week.astype('int')\n",
    "test['Month'] = df_test['Date'].dt.month.astype('int') \n",
    "test['WeekDay'] = df_test['Date'].dt.weekday.astype('int')"
   ]
  },
  {
   "cell_type": "code",
   "execution_count": 141,
   "metadata": {},
   "outputs": [],
   "source": [
    "#test.y.value_counts()"
   ]
  },
  {
   "cell_type": "code",
   "execution_count": 142,
   "metadata": {},
   "outputs": [
    {
     "data": {
      "text/plain": [
       "Index(['ID', 'Date', 'Hour', 'Temperature(C)', 'Humidity(%)',\n",
       "       'Wind speed (m/s)', 'Visibility (10m)', 'Dew point temperature(C)',\n",
       "       'Solar Radiation (MJ/m2)', 'Rainfall(mm)', 'Snowfall (cm)', 'Seasons',\n",
       "       'Holiday', 'Functioning Day', 'Year', 'Week', 'Month', 'WeekDay'],\n",
       "      dtype='object')"
      ]
     },
     "execution_count": 142,
     "metadata": {},
     "output_type": "execute_result"
    }
   ],
   "source": [
    "test.columns"
   ]
  },
  {
   "cell_type": "markdown",
   "metadata": {},
   "source": [
    "## Test Data Procc"
   ]
  },
  {
   "cell_type": "code",
   "execution_count": 143,
   "metadata": {},
   "outputs": [],
   "source": [
    "map_data_series(test,'Functioning Day',['Yes','No'],[1,0])"
   ]
  },
  {
   "cell_type": "code",
   "execution_count": 144,
   "metadata": {},
   "outputs": [],
   "source": [
    "map_data_series(test,'Holiday',['Holiday','No Holiday'],[1,0])"
   ]
  },
  {
   "cell_type": "code",
   "execution_count": 145,
   "metadata": {},
   "outputs": [],
   "source": [
    "map_data_series(test,'Seasons',['Winter','Spring','Summer','Autumn'],[0,1,2,3])"
   ]
  },
  {
   "cell_type": "code",
   "execution_count": 146,
   "metadata": {},
   "outputs": [],
   "source": [
    "new_feature_data_series(test,['Hour','Functioning Day'],dead_hour_grad_2,'Dead_hour')\n",
    "new_feature_data_series(test,['Hour','Functioning Day'],rush_hour_grad,'Rush_hour')"
   ]
  },
  {
   "cell_type": "code",
   "execution_count": 147,
   "metadata": {},
   "outputs": [],
   "source": [
    "new_feature_data_series(test,['Hour'],day_night,'day_night')\n",
    "new_feature_data_series(test,['Humidity(%)'],lambda df : 0 if (df['Humidity(%)'] <= 70) else 1,'Humidity_high')\n",
    "new_feature_data_series(test,['Temperature(C)'],lambda df : 0 if (df['Temperature(C)'] <= 35) else 1,'Temperature_high')"
   ]
  },
  {
   "cell_type": "code",
   "execution_count": 148,
   "metadata": {},
   "outputs": [],
   "source": [
    "new_feature_data_series(test,['Humidity(%)','Temperature(C)','Solar Radiation (MJ/m2)'],lambda df : 0 if (df['Temperature(C)'] < 35) and (df['Humidity(%)'] < 70) and (df['Solar Radiation (MJ/m2)'] < 1.4) else 1,'Weather_bad')"
   ]
  },
  {
   "cell_type": "code",
   "execution_count": 149,
   "metadata": {},
   "outputs": [],
   "source": [
    "test['Ideal'] = df_test[['Temperature(C)', 'Wind speed (m/s)']] \\\n",
    "    .apply(lambda df: 1 if (df['Temperature(C)'] < 30 and df['Wind speed (m/s)'] < 2.8) else 0, axis = 1)"
   ]
  },
  {
   "cell_type": "code",
   "execution_count": 150,
   "metadata": {},
   "outputs": [],
   "source": [
    "new_feature_data_series(test,['Temperature(C)','Dew point temperature(C)','Functioning Day'],humidex,'Humidex')"
   ]
  },
  {
   "cell_type": "code",
   "execution_count": 151,
   "metadata": {},
   "outputs": [],
   "source": [
    "new_feature_data_series(test,['Visibility (10m)'],visibility,'Visibility_cat')"
   ]
  },
  {
   "cell_type": "code",
   "execution_count": 152,
   "metadata": {},
   "outputs": [],
   "source": [
    "new_feature_data_series(test,['Rainfall(mm)'],rain_fall,'Rain_cat')"
   ]
  },
  {
   "cell_type": "code",
   "execution_count": 153,
   "metadata": {},
   "outputs": [],
   "source": [
    "new_feature_data_series(test,['Snowfall (cm)'],snow_fall,'Snow_cat')"
   ]
  },
  {
   "cell_type": "code",
   "execution_count": 154,
   "metadata": {},
   "outputs": [],
   "source": [
    "test['Weather_State'] =test[['Temperature(C)', 'Solar Radiation (MJ/m2)' , 'day_night','Snowfall (cm)','Rainfall(mm)']]  \\\n",
    "    .apply(lambda df: 1 if Sunny_Hot(df)\\\n",
    "           else 1 if Clear_hot(df)\\\n",
    "           else 1 if PCloudy_hot(df)\\\n",
    "           else 1 if Cloudy_hot(df)\\\n",
    "           else 1 if Rain_hot(df)\\\n",
    "           else 1 if Night_hot(df)\\\n",
    "           else 2 if Sunny_Warm(df)\\\n",
    "           else 2 if Clear_Warm(df)\\\n",
    "           else 2 if PCloudy_Warm(df)\\\n",
    "           else 2 if Cloudy_Warm(df)\\\n",
    "           else 2 if Rain_Warm(df)\\\n",
    "           else 2 if Night_Warm(df)\\\n",
    "           else 3 if Sunny_Cold(df)\\\n",
    "           else 3 if Clear_Cold(df)\\\n",
    "           else 3 if PCloudy_Cold(df)\\\n",
    "           else 3 if Cloudy_Cold(df)\\\n",
    "           else 3 if Rain_Cold(df)\\\n",
    "           else 3 if Snow_Cold(df)\\\n",
    "           else 3 if Night_Cold(df)\\\n",
    "           else 4 if Sunny_Freezing(df)\\\n",
    "           else 4 if Clear_Freezing(df)\\\n",
    "           else 4 if PCloudy_Freezing(df)\\\n",
    "           else 4 if Cloudy_Freezing(df)\\\n",
    "           else 4 if Rain_Freezing(df)\\\n",
    "           else 4 if Snow_Freezing(df)\\\n",
    "           else 4 if Night_Freezing(df)\\\n",
    "           else 5 if Rain_Snow(df)\\\n",
    "           else 6, axis = 1)"
   ]
  },
  {
   "cell_type": "code",
   "execution_count": 155,
   "metadata": {},
   "outputs": [],
   "source": [
    "new_feature_data_series(test,['Visibility (10m)'],visibility_dist,'Visibility_dist')"
   ]
  },
  {
   "cell_type": "code",
   "execution_count": 156,
   "metadata": {},
   "outputs": [],
   "source": [
    "new_feature_data_series(test,['Weather_State','Visibility_dist'],lambda df :df['Weather_State']*(df['Visibility_dist']),'Weather_stat&visb_dist')"
   ]
  },
  {
   "cell_type": "code",
   "execution_count": 157,
   "metadata": {},
   "outputs": [],
   "source": [
    "new_feature_data_series(test,['Weather_State','Visibility (10m)'],lambda df :df['Weather_State']*np.log(df['Visibility (10m)']),'Weather&visb')"
   ]
  },
  {
   "cell_type": "code",
   "execution_count": 158,
   "metadata": {},
   "outputs": [],
   "source": [
    "test['Sky_State'] =test[['Temperature(C)','Visibility_dist', 'Solar Radiation (MJ/m2)' , 'day_night','Snowfall (cm)','Rainfall(mm)']]  \\\n",
    "    .apply(lambda df: 4 if Cond4(df)\\\n",
    "                 else 2 if Cond2(df)\\\n",
    "                 else 3 if Cond3(df)\\\n",
    "                 else 1 if Cond1(df)\\\n",
    "                 else 5, axis = 1)"
   ]
  },
  {
   "cell_type": "code",
   "execution_count": 159,
   "metadata": {},
   "outputs": [],
   "source": [
    "test['Temp_State'] =test[['Temperature(C)','Visibility_dist', 'Solar Radiation (MJ/m2)' , 'day_night','Snowfall (cm)','Rainfall(mm)']]  \\\n",
    "    .apply(lambda df: 1 if Warm(df)\\\n",
    "                 else 2 if Cold(df)\\\n",
    "                 else 3 if Hot(df)\\\n",
    "                 else 4 if Freezing(df)\\\n",
    "                 \n",
    "                 else 5, axis = 1)"
   ]
  },
  {
   "cell_type": "code",
   "execution_count": 160,
   "metadata": {},
   "outputs": [],
   "source": [
    "new_feature_data_series(test,['Sky_State','Temp_State'],lambda df :df['Sky_State']*(df['Temp_State']),'GBL_Forecast')"
   ]
  },
  {
   "cell_type": "code",
   "execution_count": 161,
   "metadata": {},
   "outputs": [],
   "source": [
    "new_feature_data_series(test,['Temperature(C)','Humidity(%)','Dew point temperature(C)'],lambda df :value(df) if value(df) != float('nan') else 0,'Abdo_try')\n",
    "new_feature_data_series(test,['Temperature(C)','Humidity(%)']\n",
    "                        ,lambda  df :df['Humidity(%)']*(df['Temperature(C)'])/100  ,'X_Temp')\n",
    "test['Fog_State'] =test[['Temperature(C)','X_Temp']]  \\\n",
    "    .apply(lambda df: 1 if F_state(df)\\\n",
    "                 else 0, axis = 1)\n",
    "test['Fog'] =test[['Fog_State','Visibility (10m)']]  \\\n",
    "    .apply(lambda df: 2 if Fogs(df)\\\n",
    "                 else 1, axis = 1)"
   ]
  },
  {
   "cell_type": "code",
   "execution_count": 162,
   "metadata": {},
   "outputs": [
    {
     "data": {
      "text/plain": [
       "Index(['Hour', 'Temperature(C)', 'Humidity(%)', 'Wind speed (m/s)',\n",
       "       'Visibility (10m)', 'Dew point temperature(C)',\n",
       "       'Solar Radiation (MJ/m2)', 'Rainfall(mm)', 'Snowfall (cm)', 'Seasons',\n",
       "       'Holiday', 'Functioning Day', 'Year', 'Week', 'Month', 'WeekDay',\n",
       "       'day_night', 'Humidex', 'Visibility_dist', 'Rain_cat', 'Snow_cat',\n",
       "       'Rush_hour', 'Dead_hour', 'Humidity_high', 'Weather_bad', 'Ideal',\n",
       "       'Weather_State', 'Weather_stat&visb_dist', 'Weather&visb', 'Sky_State',\n",
       "       'Temp_State', 'GBL_Forecast', 'X_Temp', 'Abdo_try', 'Fog_State', 'Fog'],\n",
       "      dtype='object')"
      ]
     },
     "execution_count": 162,
     "metadata": {},
     "output_type": "execute_result"
    }
   ],
   "source": [
    "#test.drop([\"Date\", \"y\", \"Date_tmp\", \"Dataset\"], axis=1, inplace=True)\n",
    "Xtest = test[selected_features]\n",
    "Xtest.columns"
   ]
  },
  {
   "cell_type": "code",
   "execution_count": 163,
   "metadata": {},
   "outputs": [
    {
     "ename": "NameError",
     "evalue": "name 'model' is not defined",
     "output_type": "error",
     "traceback": [
      "\u001b[1;31m---------------------------------------------------------------------------\u001b[0m",
      "\u001b[1;31mNameError\u001b[0m                                 Traceback (most recent call last)",
      "\u001b[1;32m<ipython-input-163-dc9339a3d082>\u001b[0m in \u001b[0;36m<module>\u001b[1;34m\u001b[0m\n\u001b[1;32m----> 1\u001b[1;33m \u001b[0mpred_test\u001b[0m \u001b[1;33m=\u001b[0m \u001b[0mmodel\u001b[0m\u001b[1;33m.\u001b[0m\u001b[0mpredict\u001b[0m\u001b[1;33m(\u001b[0m\u001b[0mXtest\u001b[0m\u001b[1;33m)\u001b[0m\u001b[1;33m\u001b[0m\u001b[1;33m\u001b[0m\u001b[0m\n\u001b[0m",
      "\u001b[1;31mNameError\u001b[0m: name 'model' is not defined"
     ]
    }
   ],
   "source": [
    "pred_test = model.predict(Xtest)"
   ]
  },
  {
   "cell_type": "markdown",
   "metadata": {},
   "source": [
    "### model Predictions "
   ]
  },
  {
   "cell_type": "code",
   "execution_count": 164,
   "metadata": {},
   "outputs": [],
   "source": [
    "pred_test = GBR.predict(Xtest)"
   ]
  },
  {
   "cell_type": "code",
   "execution_count": 165,
   "metadata": {},
   "outputs": [
    {
     "name": "stdout",
     "output_type": "stream",
     "text": [
      "(Real) Stacking Regression RMSLE: 0.40715602116697847\n",
      "(Real) Stacking Regression R2: 0.9118720916161493\n"
     ]
    }
   ],
   "source": [
    "from sklearn.metrics import r2_score\n",
    "\n",
    "df_test_real = pd.read_csv(r\"SeoulBikeDataTestFull.csv\")\n",
    "y_pred_real = df_test_real['y']\n",
    "print('(Real) Stacking Regression RMSLE:', rmsle(y_pred_real, np.exp(pred_test), False))\n",
    "print('(Real) Stacking Regression R2:', r2_score(y_pred_real, np.exp(pred_test)))"
   ]
  },
  {
   "cell_type": "code",
   "execution_count": null,
   "metadata": {},
   "outputs": [],
   "source": [
    "df_test.info()"
   ]
  },
  {
   "cell_type": "code",
   "execution_count": null,
   "metadata": {},
   "outputs": [],
   "source": [
    "original_test = pd.read_csv(r\"datasets/test.csv\")\n",
    "df_test[\"ID\"] = original_test[\"ID\"]\n",
    "df_test[\"y\"] = np.exp(pred_test)\n",
    "df_test[[\"ID\", \"y\"]].to_csv('ultima2.csv', index=False)"
   ]
  },
  {
   "cell_type": "code",
   "execution_count": null,
   "metadata": {},
   "outputs": [],
   "source": [
    "print(df_test[\"y\"])"
   ]
  },
  {
   "cell_type": "markdown",
   "metadata": {},
   "source": [
    "### Save Submission"
   ]
  },
  {
   "cell_type": "code",
   "execution_count": null,
   "metadata": {},
   "outputs": [],
   "source": []
  },
  {
   "cell_type": "code",
   "execution_count": null,
   "metadata": {},
   "outputs": [],
   "source": []
  },
  {
   "cell_type": "code",
   "execution_count": null,
   "metadata": {},
   "outputs": [],
   "source": []
  },
  {
   "cell_type": "markdown",
   "metadata": {},
   "source": [
    "# "
   ]
  }
 ],
 "metadata": {
  "kernelspec": {
   "display_name": "Python 3",
   "language": "python",
   "name": "python3"
  },
  "language_info": {
   "codemirror_mode": {
    "name": "ipython",
    "version": 3
   },
   "file_extension": ".py",
   "mimetype": "text/x-python",
   "name": "python",
   "nbconvert_exporter": "python",
   "pygments_lexer": "ipython3",
   "version": "3.8.3"
  }
 },
 "nbformat": 4,
 "nbformat_minor": 4
}
