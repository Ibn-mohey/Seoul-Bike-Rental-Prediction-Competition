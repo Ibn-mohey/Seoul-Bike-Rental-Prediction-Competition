{
 "cells": [
  {
   "cell_type": "code",
   "execution_count": 1,
   "metadata": {},
   "outputs": [],
   "source": [
    "import pandas as pd\n",
    "import numpy as np \n",
    "from sklearn import metrics"
   ]
  },
  {
   "cell_type": "markdown",
   "metadata": {},
   "source": [
    "<a id='path'></a>\n",
    "### loading data\n",
    "##### [Jump Top](#Jump)"
   ]
  },
  {
   "cell_type": "raw",
   "metadata": {},
   "source": [
    "# train_path = r\"D:\\AI\\1-Technical_ITI\\02-Phase_2\\projects\\P1\\train.csv\"\n",
    "# test_path = r\"D:\\AI\\1-Technical_ITI\\02-Phase_2\\projects\\P1\\test.csv\""
   ]
  },
  {
   "cell_type": "code",
   "execution_count": 2,
   "metadata": {},
   "outputs": [],
   "source": [
    "#Mohey Path\n",
    "train_path = r\"train.csv\"\n",
    "test_path = r\"test.csv\""
   ]
  },
  {
   "cell_type": "code",
   "execution_count": 3,
   "metadata": {},
   "outputs": [],
   "source": [
    "df = pd.read_csv(train_path,index_col=0,parse_dates=['Date'],dayfirst=True)\n",
    "df_test = pd.read_csv(test_path,parse_dates=['Date'],dayfirst=True)\n",
    "\n",
    "df = df.rename(columns={'Temperature(�C)':'Temperature(C)'\n",
    "                        ,'Dew point temperature(�C)'  : 'Dew point temperature(C)'})\n",
    "df_test = df_test.rename(columns={'Temperature(�C)':'Temperature(C)'\n",
    "                                  ,'Dew point temperature(�C)'  : 'Dew point temperature(C)'})\n",
    "df_prep = df.copy()"
   ]
  },
  {
   "cell_type": "markdown",
   "metadata": {},
   "source": [
    "## Feature Engineering"
   ]
  },
  {
   "cell_type": "markdown",
   "metadata": {},
   "source": [
    "##### based on the previous notebook (eda) we will consider the following \n",
    "\n",
    "- A) The Hourly cycle has a good correlation. [7am-18pm has the bigger share]\n",
    "- B) The Temperature has good corr. [high is good except > ~ 27]\n",
    "- C) The Functional Day has good corr. [functional is good for target]\n",
    "- D) The Seasons has good corr. [hot season is better]\n",
    "\n",
    "-------------\n",
    "\n",
    "- E) The Visibility may prove to be good. [if encoded to very_low visibility vs normal visibiliy].\n",
    "- F) The RainFall/SnowFall may prove to be good. [if encoded to Snowing / Raining or not].\n",
    "- G) The Humidity may have something to investigate. [if encoded as 0-80 % normal rentals, 80-100% show sharp decay in rentals]\n",
    "\n",
    "---------------\n",
    "- H) the Dew point temperature is strongly corr to Temperature will drop it.\n",
    "- I) the Solar Radiation may be discarded .. i didn't see good relation.\n",
    "- J) the holidays didn't prove decisive saying on our target. maybe discarded too."
   ]
  },
  {
   "cell_type": "code",
   "execution_count": 4,
   "metadata": {
    "scrolled": true
   },
   "outputs": [
    {
     "name": "stdout",
     "output_type": "stream",
     "text": [
      "<class 'pandas.core.frame.DataFrame'>\n",
      "Int64Index: 5760 entries, 0 to 5759\n",
      "Data columns (total 14 columns):\n",
      " #   Column                    Non-Null Count  Dtype         \n",
      "---  ------                    --------------  -----         \n",
      " 0   Date                      5760 non-null   datetime64[ns]\n",
      " 1   y                         5760 non-null   int64         \n",
      " 2   Hour                      5760 non-null   int64         \n",
      " 3   Temperature(C)            5760 non-null   float64       \n",
      " 4   Humidity(%)               5760 non-null   int64         \n",
      " 5   Wind speed (m/s)          5760 non-null   float64       \n",
      " 6   Visibility (10m)          5760 non-null   int64         \n",
      " 7   Dew point temperature(C)  5760 non-null   float64       \n",
      " 8   Solar Radiation (MJ/m2)   5760 non-null   float64       \n",
      " 9   Rainfall(mm)              5760 non-null   float64       \n",
      " 10  Snowfall (cm)             5760 non-null   float64       \n",
      " 11  Seasons                   5760 non-null   object        \n",
      " 12  Holiday                   5760 non-null   object        \n",
      " 13  Functioning Day           5760 non-null   object        \n",
      "dtypes: datetime64[ns](1), float64(6), int64(4), object(3)\n",
      "memory usage: 675.0+ KB\n"
     ]
    }
   ],
   "source": [
    "df.info()"
   ]
  },
  {
   "cell_type": "code",
   "execution_count": 5,
   "metadata": {},
   "outputs": [
    {
     "data": {
      "text/html": [
       "<div>\n",
       "<style scoped>\n",
       "    .dataframe tbody tr th:only-of-type {\n",
       "        vertical-align: middle;\n",
       "    }\n",
       "\n",
       "    .dataframe tbody tr th {\n",
       "        vertical-align: top;\n",
       "    }\n",
       "\n",
       "    .dataframe thead th {\n",
       "        text-align: right;\n",
       "    }\n",
       "</style>\n",
       "<table border=\"1\" class=\"dataframe\">\n",
       "  <thead>\n",
       "    <tr style=\"text-align: right;\">\n",
       "      <th></th>\n",
       "      <th>y</th>\n",
       "      <th>Hour</th>\n",
       "      <th>Temperature(C)</th>\n",
       "      <th>Humidity(%)</th>\n",
       "      <th>Wind speed (m/s)</th>\n",
       "      <th>Visibility (10m)</th>\n",
       "      <th>Dew point temperature(C)</th>\n",
       "      <th>Solar Radiation (MJ/m2)</th>\n",
       "      <th>Rainfall(mm)</th>\n",
       "      <th>Snowfall (cm)</th>\n",
       "    </tr>\n",
       "  </thead>\n",
       "  <tbody>\n",
       "    <tr>\n",
       "      <th>count</th>\n",
       "      <td>5760.000000</td>\n",
       "      <td>5760.000000</td>\n",
       "      <td>5760.000000</td>\n",
       "      <td>5760.000000</td>\n",
       "      <td>5760.000000</td>\n",
       "      <td>5760.000000</td>\n",
       "      <td>5760.000000</td>\n",
       "      <td>5760.000000</td>\n",
       "      <td>5760.000000</td>\n",
       "      <td>5760.000000</td>\n",
       "    </tr>\n",
       "    <tr>\n",
       "      <th>mean</th>\n",
       "      <td>703.483854</td>\n",
       "      <td>11.500000</td>\n",
       "      <td>12.803559</td>\n",
       "      <td>58.361806</td>\n",
       "      <td>1.723333</td>\n",
       "      <td>1473.711458</td>\n",
       "      <td>4.058264</td>\n",
       "      <td>0.572325</td>\n",
       "      <td>0.135122</td>\n",
       "      <td>0.046302</td>\n",
       "    </tr>\n",
       "    <tr>\n",
       "      <th>std</th>\n",
       "      <td>655.249491</td>\n",
       "      <td>6.922788</td>\n",
       "      <td>11.902206</td>\n",
       "      <td>19.840167</td>\n",
       "      <td>1.047898</td>\n",
       "      <td>585.879880</td>\n",
       "      <td>13.003582</td>\n",
       "      <td>0.869943</td>\n",
       "      <td>1.075320</td>\n",
       "      <td>0.323728</td>\n",
       "    </tr>\n",
       "    <tr>\n",
       "      <th>min</th>\n",
       "      <td>0.000000</td>\n",
       "      <td>0.000000</td>\n",
       "      <td>-15.100000</td>\n",
       "      <td>0.000000</td>\n",
       "      <td>0.000000</td>\n",
       "      <td>27.000000</td>\n",
       "      <td>-26.900000</td>\n",
       "      <td>0.000000</td>\n",
       "      <td>0.000000</td>\n",
       "      <td>0.000000</td>\n",
       "    </tr>\n",
       "    <tr>\n",
       "      <th>25%</th>\n",
       "      <td>188.000000</td>\n",
       "      <td>5.750000</td>\n",
       "      <td>3.200000</td>\n",
       "      <td>43.000000</td>\n",
       "      <td>0.900000</td>\n",
       "      <td>1025.750000</td>\n",
       "      <td>-5.400000</td>\n",
       "      <td>0.000000</td>\n",
       "      <td>0.000000</td>\n",
       "      <td>0.000000</td>\n",
       "    </tr>\n",
       "    <tr>\n",
       "      <th>50%</th>\n",
       "      <td>485.500000</td>\n",
       "      <td>11.500000</td>\n",
       "      <td>13.700000</td>\n",
       "      <td>57.000000</td>\n",
       "      <td>1.500000</td>\n",
       "      <td>1732.000000</td>\n",
       "      <td>5.200000</td>\n",
       "      <td>0.010000</td>\n",
       "      <td>0.000000</td>\n",
       "      <td>0.000000</td>\n",
       "    </tr>\n",
       "    <tr>\n",
       "      <th>75%</th>\n",
       "      <td>1066.000000</td>\n",
       "      <td>17.250000</td>\n",
       "      <td>22.225000</td>\n",
       "      <td>73.000000</td>\n",
       "      <td>2.300000</td>\n",
       "      <td>2000.000000</td>\n",
       "      <td>14.700000</td>\n",
       "      <td>0.940000</td>\n",
       "      <td>0.000000</td>\n",
       "      <td>0.000000</td>\n",
       "    </tr>\n",
       "    <tr>\n",
       "      <th>max</th>\n",
       "      <td>3556.000000</td>\n",
       "      <td>23.000000</td>\n",
       "      <td>39.400000</td>\n",
       "      <td>98.000000</td>\n",
       "      <td>7.400000</td>\n",
       "      <td>2000.000000</td>\n",
       "      <td>27.200000</td>\n",
       "      <td>3.520000</td>\n",
       "      <td>35.000000</td>\n",
       "      <td>5.100000</td>\n",
       "    </tr>\n",
       "  </tbody>\n",
       "</table>\n",
       "</div>"
      ],
      "text/plain": [
       "                 y         Hour  Temperature(C)  Humidity(%)  \\\n",
       "count  5760.000000  5760.000000     5760.000000  5760.000000   \n",
       "mean    703.483854    11.500000       12.803559    58.361806   \n",
       "std     655.249491     6.922788       11.902206    19.840167   \n",
       "min       0.000000     0.000000      -15.100000     0.000000   \n",
       "25%     188.000000     5.750000        3.200000    43.000000   \n",
       "50%     485.500000    11.500000       13.700000    57.000000   \n",
       "75%    1066.000000    17.250000       22.225000    73.000000   \n",
       "max    3556.000000    23.000000       39.400000    98.000000   \n",
       "\n",
       "       Wind speed (m/s)  Visibility (10m)  Dew point temperature(C)  \\\n",
       "count       5760.000000       5760.000000               5760.000000   \n",
       "mean           1.723333       1473.711458                  4.058264   \n",
       "std            1.047898        585.879880                 13.003582   \n",
       "min            0.000000         27.000000                -26.900000   \n",
       "25%            0.900000       1025.750000                 -5.400000   \n",
       "50%            1.500000       1732.000000                  5.200000   \n",
       "75%            2.300000       2000.000000                 14.700000   \n",
       "max            7.400000       2000.000000                 27.200000   \n",
       "\n",
       "       Solar Radiation (MJ/m2)  Rainfall(mm)  Snowfall (cm)  \n",
       "count              5760.000000   5760.000000    5760.000000  \n",
       "mean                  0.572325      0.135122       0.046302  \n",
       "std                   0.869943      1.075320       0.323728  \n",
       "min                   0.000000      0.000000       0.000000  \n",
       "25%                   0.000000      0.000000       0.000000  \n",
       "50%                   0.010000      0.000000       0.000000  \n",
       "75%                   0.940000      0.000000       0.000000  \n",
       "max                   3.520000     35.000000       5.100000  "
      ]
     },
     "execution_count": 5,
     "metadata": {},
     "output_type": "execute_result"
    }
   ],
   "source": [
    "df.describe()"
   ]
  },
  {
   "cell_type": "markdown",
   "metadata": {},
   "source": [
    "## Feature creation "
   ]
  },
  {
   "cell_type": "code",
   "execution_count": 6,
   "metadata": {},
   "outputs": [],
   "source": [
    "def restore_data_series(dataframe,dforiginal,col_name):\n",
    "    dataframe[col_name] = dforiginal[col_name]"
   ]
  },
  {
   "cell_type": "code",
   "execution_count": 7,
   "metadata": {},
   "outputs": [],
   "source": [
    "def map_data_series(dataframe,col_name,from_vals,to_vals):\n",
    "    dataframe[col_name].replace(from_vals,to_vals,inplace=True)"
   ]
  },
  {
   "cell_type": "code",
   "execution_count": 8,
   "metadata": {},
   "outputs": [],
   "source": [
    "def new_feature_data_series(dataframe,col_name,function,new_col_name):\n",
    "       dataframe[new_col_name]  = dataframe[col_name].apply(function,axis=1)"
   ]
  },
  {
   "cell_type": "raw",
   "metadata": {},
   "source": [
    "# feature eng for hour of the day\n",
    "around 8 am & around 6 pm (18) there is a peak in rentals \n",
    "around 4 am we hit the daily.\n",
    "how can we factor that?"
   ]
  },
  {
   "cell_type": "code",
   "execution_count": 9,
   "metadata": {},
   "outputs": [],
   "source": [
    "## lambda df : 0 if ( (abs(df['Hour'] - 8) <=rush_range_1) or (abs(df['Hour'] - 18) <= rush_range_2) ) else 1\n",
    "def rush_hour(df):\n",
    "    #rush_range_1 = 2 # around the rush hour by +- 2 hrs\n",
    "    #rush_range_2 = 4 # around the rush hour by +- 4 hrs\n",
    "    if (df['Hour'] in [6,7,8,9,10,16,17,18,19,20]):\n",
    "        return 1\n",
    "    else:\n",
    "        return 0\n",
    "    \n",
    "def rush_hour_grad_2(df):\n",
    "    rush_range_1 = 2 # around the rush hour by +- 2 hrs\n",
    "    rush_range_2 = 5 # around the rush hour by +- 4 hrs\n",
    "    is_functional = df['Functioning Day']\n",
    "\n",
    "    return (np.exp(-abs(df['Hour'] - 8)) +  np.exp(-abs(df['Hour'] - 18))) * is_functional\n",
    "\n",
    "def rush_hour_grad(df):\n",
    "    #from 8 am , 6 pm\n",
    "    rush_range_1 = 2 # around the rush hour by +- 2 hrs\n",
    "    rush_range_2 = 5 # around the rush hour by +- 4 hrs\n",
    "    is_functional = df['Functioning Day'] \n",
    "    \n",
    "    if (abs(df['Hour'] - 8) <= rush_range_1): \n",
    "        return np.exp(-abs(df['Hour'] - 8)) * is_functional\n",
    "    \n",
    "    elif (abs(df['Hour'] - 18) <= rush_range_2):\n",
    "        return np.exp(-abs(df['Hour'] - 18)) * is_functional\n",
    "    else:\n",
    "        return 0\n",
    "    \n",
    "def dead_hour_grad(df):\n",
    "    dead_range_1 = 3 # around the dead hour by +- 3 hrs from 4 am\n",
    "    is_functional = df['Functioning Day'] \n",
    "    \n",
    "    if (abs(df['Hour'] - 4) <= dead_range_1): \n",
    "        return np.exp(-abs(df['Hour'] - 4)) * is_functional\n",
    "    else:\n",
    "        return 0\n",
    "    \n",
    "def dead_hour_grad_2(df):\n",
    "    #dead_range_1 = 5 # around the dead hour by +- 3 hrs from 4 am\n",
    "    is_functional = df['Functioning Day'] \n",
    "    \n",
    "    if(df['Hour'] in [22,23,0,1,2,3,4,5]):\n",
    "        return np.exp(-abs(df['Hour'] - 4)) * is_functional\n",
    "    else:\n",
    "        return 0   \n"
   ]
  },
  {
   "cell_type": "code",
   "execution_count": 10,
   "metadata": {},
   "outputs": [],
   "source": [
    "## lambda df : 0 if ( (abs(df['Hour'] - 8) <=rush_range_1) or (abs(df['Hour'] - 18) <= rush_range_2) ) else 1\n",
    "def day_night(df):\n",
    "    #rush_range_1 = 2 # around the rush hour by +- 2 hrs\n",
    "    #rush_range_2 = 4 # around the rush hour by +- 4 hrs\n",
    "    if (df['Hour'] >=6 and df['Hour'] <=18):\n",
    "        return 1\n",
    "    else:\n",
    "        return 0"
   ]
  },
  {
   "cell_type": "raw",
   "metadata": {},
   "source": [
    "# for humidity \n",
    "increase from 0 to 50% , decay from 50 to 100%\n",
    "how can we factor that?"
   ]
  },
  {
   "cell_type": "code",
   "execution_count": 11,
   "metadata": {},
   "outputs": [],
   "source": [
    "#something is wrong in feels like equation\n",
    "# def feels_like(df):\n",
    "#     ### inputs temp & humidity , outputs feels like temp\n",
    "#     ## equation heat_index = c1 + c2 T + c3 R + c4 TR + c5 T^2 + c6 R^2 +...\n",
    "#     c1 = -8.78469475556\n",
    "#     c2 = 1.61139411\n",
    "#     c3 = 2.33854883889\n",
    "#     c4 = -0.14611605\n",
    "#     c5 = -0.012308094\n",
    "#     c6 = -0.0164248277778\n",
    "#     c7 = 0.002211732\n",
    "#     c8 = 0.00072546\n",
    "#     c9 = -0.000003582\n",
    "#     T = df['Temperature(C)']\n",
    "#     R = df['Humidity(%)']\n",
    "#     is_functionalDay = df['Functioning Day']\n",
    "#     HI = (c1) + (c2 * T) +( c3 * R) + (c4  * T * R )+ (c5 *( T**2 ))+ (c6 * (R**2)) + (c7 * (T**2) * R) + (c8 * T * (R**2)) + (c9 * (T**2) * (R**2))\n",
    "#     #HI = c1 + (c2 * T) +( c3 * R )+ (c4  * T * R )+ (c5 * T**2 )\n",
    "#     return HI \n",
    "\n",
    "#new_feature_data_series(df_prep,['Temperature(C)','Humidity(%)','Functioning Day'],feels_like,'Feels_like')\n",
    "def humidex(df):\n",
    "    ### humidex\n",
    "    ## eq H = Tair + 5/9 * [(6.11 * e^5417.7530 * (a-b)) - 10 ]\n",
    "    Tair = df['Temperature(C)']\n",
    "    Tdew = df['Dew point temperature(C)']\n",
    "    is_functionalDay = df['Functioning Day']\n",
    "    a = 1/273.16\n",
    "    b = 1/(273.15 + Tdew)\n",
    "    Humidex = Tair + (5/9) * (6.11 * np.exp(5417.7530 * (a-b)) -10)\n",
    "    return Humidex  \n"
   ]
  },
  {
   "cell_type": "raw",
   "metadata": {},
   "source": [
    "# for visibility\n",
    "three important ranges very low , low low , normal_>\n",
    "how can we factor that?"
   ]
  },
  {
   "cell_type": "code",
   "execution_count": 12,
   "metadata": {},
   "outputs": [],
   "source": [
    "def visibility(df):\n",
    "    #0:250 , 250:500 : 500:inf\n",
    "    \n",
    "    if df['Visibility (10m)'] <=250 :\n",
    "        return 0\n",
    "    elif df['Visibility (10m)'] <=350 :\n",
    "        return 1\n",
    "    elif df['Visibility (10m)'] <=450 :\n",
    "        return 1\n",
    "    elif df['Visibility (10m)'] <=550 :\n",
    "        return 2\n",
    "    elif df['Visibility (10m)'] <=650 :\n",
    "        return 2\n",
    "    elif df['Visibility (10m)'] <=850 :\n",
    "        return 3\n",
    "    elif df['Visibility (10m)'] <=1150 :\n",
    "        return 3\n",
    "    elif df['Visibility (10m)'] <=1350 :\n",
    "        return 4\n",
    "    else:\n",
    "        return 5\n",
    "    \n"
   ]
  },
  {
   "cell_type": "code",
   "execution_count": 13,
   "metadata": {},
   "outputs": [],
   "source": [
    "def visibility_dist(df):\n",
    "    #0:250 , 250:500 : 500:inf\n",
    "    \n",
    "    if df['Visibility (10m)'] <100 :     #can't see\n",
    "        return 1\n",
    "    elif df['Visibility (10m)'] <400 :   # foggy\n",
    "        return 2\n",
    "    elif df['Visibility (10m)'] <1000 :  # low fog\n",
    "        return 3\n",
    "    elif df['Visibility (10m)'] <2000 :  # no fog (good vision)\n",
    "        return 4\n",
    "    elif df['Visibility (10m)'] <4000 :  # no fog (excellent vision)\n",
    "        return 5\n",
    "    else:\n",
    "        return 5\n",
    "    \n"
   ]
  },
  {
   "cell_type": "code",
   "execution_count": 14,
   "metadata": {},
   "outputs": [],
   "source": [
    "# for rainfall\n",
    "\n",
    "def rain_fall(df):\n",
    "    # 0:2.5 , \n",
    "    \n",
    "    if df['Rainfall(mm)'] < 0.5 :\n",
    "        return 0\n",
    "    else:\n",
    "        return 1\n",
    "\n"
   ]
  },
  {
   "cell_type": "code",
   "execution_count": 15,
   "metadata": {},
   "outputs": [],
   "source": [
    "def snow_fall(df):\n",
    "    # 0:2.5 , \n",
    "    \n",
    "    if df['Snowfall (cm)'] == 0 :\n",
    "        return 0\n",
    "    else:\n",
    "        return 1\n",
    "\n"
   ]
  },
  {
   "cell_type": "code",
   "execution_count": 16,
   "metadata": {},
   "outputs": [],
   "source": [
    "def Sunny_Hot (df):\n",
    "    if ((df['Temperature(C)']>25)&((df['Solar Radiation (MJ/m2)'] >2)&(df['day_night']==1))):\n",
    "        return True\n",
    "    else:\n",
    "        return False\n",
    "\n",
    "def Clear_hot (df):\n",
    "    if ((df['Temperature(C)']>25)&(((df['Solar Radiation (MJ/m2)'] <=2)&(df['Solar Radiation (MJ/m2)'] >1))\\\n",
    "                                   &(df['day_night']==1))&(df['Rainfall(mm)'] == 0)&(df['Snowfall (cm)'] == 0)):\n",
    "        return True\n",
    "    else:\n",
    "        return False\n",
    "\n",
    "def PCloudy_hot(df):  \n",
    "    if((df['Temperature(C)']>25)&(((df['Solar Radiation (MJ/m2)'] <=1)&(df['Solar Radiation (MJ/m2)'] >0.5))\\\n",
    "                                                       &(df['day_night']==1))&(df['Rainfall(mm)'] == 0)&(df['Snowfall (cm)'] == 0)):\n",
    "        return True\n",
    "    else:\n",
    "        return False\n",
    "def Cloudy_hot(df): \n",
    "    if((df['Temperature(C)']>25)&(((df['Solar Radiation (MJ/m2)'] <=0.5))&(df['day_night']==1))\\\n",
    "                      &(df['Rainfall(mm)'] == 0)&(df['Snowfall (cm)'] == 0)):\n",
    "        return True\n",
    "    else:\n",
    "        return False\n",
    "def Rain_hot(df):  \n",
    "    if((df['Temperature(C)']>25)&(df['Rainfall(mm)'] >0)&(df['Snowfall (cm)'] == 0)):\n",
    "        return True\n",
    "    else:\n",
    "        return False\n",
    "\n",
    "def Night_hot(df): \n",
    "    if((df['Temperature(C)']>25)&(df['day_night']==0)\n",
    "                      &(df['Rainfall(mm)'] == 0)&(df['Snowfall (cm)'] == 0)):\n",
    "        return True\n",
    "    else:\n",
    "        return False\n",
    "\n",
    "#len(sunny_hot)+len(Clear_hot)+len(PCloudy_hot)+len(Cloudy_hot)+len(Rain_hot)+len(Night_hot)"
   ]
  },
  {
   "cell_type": "code",
   "execution_count": 17,
   "metadata": {},
   "outputs": [],
   "source": [
    "def Sunny_Warm (df):\n",
    "    if (((df['Temperature(C)']<=25)&(df['Temperature(C)']>10))&((df['Solar Radiation (MJ/m2)'] >2)&(df['day_night']==1))):\n",
    "        return True\n",
    "    else:\n",
    "        return False\n",
    "\n",
    "def Clear_Warm (df):\n",
    "    if (((df['Temperature(C)']<=25)&(df['Temperature(C)']>10))\\\n",
    "        &(((df['Solar Radiation (MJ/m2)'] <=2)&(df['Solar Radiation (MJ/m2)'] >1))&(df['day_night']==1))\\\n",
    "        &(df['Rainfall(mm)'] == 0)&(df['Snowfall (cm)'] == 0)):\n",
    "        return True\n",
    "    else:\n",
    "        return False\n",
    "\n",
    "def PCloudy_Warm(df):  \n",
    "    if(((df['Temperature(C)']<=25)&(df['Temperature(C)']>10))\\\n",
    "       &(((df['Solar Radiation (MJ/m2)'] <=1)&(df['Solar Radiation (MJ/m2)'] >0.5))&(df['day_night']==1))\\\n",
    "       &(df['Rainfall(mm)'] == 0)&(df['Snowfall (cm)'] == 0)):\n",
    "        return True\n",
    "    else:\n",
    "        return False\n",
    "def Cloudy_Warm(df): \n",
    "    if(((df['Temperature(C)']<=25)&(df['Temperature(C)']>10))\\\n",
    "       &(((df['Solar Radiation (MJ/m2)'] <=0.5))&(df['day_night']==1))\\\n",
    "       &(df['Rainfall(mm)'] == 0)&(df['Snowfall (cm)'] == 0)):\n",
    "        return True\n",
    "    else:\n",
    "        return False\n",
    "def Rain_Warm(df):  \n",
    "    if(((df['Temperature(C)']<=25)&(df['Temperature(C)']>10))&(df['Rainfall(mm)'] >0)&(df['Snowfall (cm)'] == 0)):\n",
    "        return True\n",
    "    else:\n",
    "        return False\n",
    "\n",
    "def Night_Warm(df): \n",
    "    if(((df['Temperature(C)']<=25)&(df['Temperature(C)']>10))\\\n",
    "       &(df['day_night']==0)&(df['Rainfall(mm)'] == 0)&(df['Snowfall (cm)'] == 0)):\n",
    "        return True\n",
    "    else:\n",
    "        return False"
   ]
  },
  {
   "cell_type": "code",
   "execution_count": 18,
   "metadata": {},
   "outputs": [],
   "source": [
    "def Sunny_Cold (df):\n",
    "    if (((df['Temperature(C)']<=10)&(df['Temperature(C)']>0))&((df['Solar Radiation (MJ/m2)'] >2)&(df['day_night']==1))):\n",
    "        return True\n",
    "    else:\n",
    "        return False\n",
    "\n",
    "def Clear_Cold (df):\n",
    "    if (((df['Temperature(C)']<=10)&(df['Temperature(C)']>0))\\\n",
    "        &(((df['Solar Radiation (MJ/m2)'] <=2)&(df['Solar Radiation (MJ/m2)'] >1))&(df['day_night']==1))\\\n",
    "        &(df['Rainfall(mm)'] == 0)&(df['Snowfall (cm)'] == 0)):\n",
    "        return True\n",
    "    else:\n",
    "        return False\n",
    "\n",
    "def PCloudy_Cold(df):  \n",
    "    if(((df['Temperature(C)']<=10)&(df['Temperature(C)']>0))\\\n",
    "       &(((df['Solar Radiation (MJ/m2)'] <=1)&(df['Solar Radiation (MJ/m2)'] >0.5))&(df['day_night']==1))\\\n",
    "       &(df['Rainfall(mm)'] == 0)&(df['Snowfall (cm)'] == 0)):\n",
    "        return True\n",
    "    else:\n",
    "        return False\n",
    "def Cloudy_Cold(df): \n",
    "    if(((df['Temperature(C)']<=10)&(df['Temperature(C)']>0))\\\n",
    "       &(((df['Solar Radiation (MJ/m2)'] <=0.5))&(df['day_night']==1))\\\n",
    "       &(df['Rainfall(mm)'] == 0)&(df['Snowfall (cm)'] == 0)):\n",
    "        return True\n",
    "    else:\n",
    "        return False\n",
    "def Rain_Cold(df):  \n",
    "    if(((df['Temperature(C)']<=10)&(df['Temperature(C)']>0))&(df['Rainfall(mm)'] >0)&(df['Snowfall (cm)'] == 0)):\n",
    "        return True\n",
    "    else:\n",
    "        return False\n",
    "def Snow_Cold(df):  \n",
    "    if(((df['Temperature(C)']<=10)&(df['Temperature(C)']>0))&(df['Rainfall(mm)'] ==0)&(df['Snowfall (cm)'] >0)):\n",
    "        return True\n",
    "    else:\n",
    "        return False\n",
    "def Night_Cold(df): \n",
    "    if(((df['Temperature(C)']<=10)&(df['Temperature(C)']>0))\\\n",
    "       &(df['day_night']==0)&(df['Rainfall(mm)'] == 0)&(df['Snowfall (cm)'] == 0)):\n",
    "        return True\n",
    "    else:\n",
    "        return False"
   ]
  },
  {
   "cell_type": "code",
   "execution_count": 19,
   "metadata": {},
   "outputs": [],
   "source": [
    "def Sunny_Freezing (df):\n",
    "    if ((df['Temperature(C)']<=0)&((df['Solar Radiation (MJ/m2)'] >2)&(df['day_night']==1))):\n",
    "        return True\n",
    "    else:\n",
    "        return False\n",
    "\n",
    "def Clear_Freezing (df):\n",
    "    if ((df['Temperature(C)']<=0)&(((df['Solar Radiation (MJ/m2)'] <=2)&(df['Solar Radiation (MJ/m2)'] >1))\\\n",
    "                                   &(df['day_night']==1))&(df['Rainfall(mm)'] == 0)&(df['Snowfall (cm)'] == 0)):\n",
    "        return True\n",
    "    else:\n",
    "        return False\n",
    "\n",
    "def PCloudy_Freezing(df):  \n",
    "    if((df['Temperature(C)']<=0)&(((df['Solar Radiation (MJ/m2)'] <=1)&(df['Solar Radiation (MJ/m2)'] >0.5))\\\n",
    "                                                       &(df['day_night']==1))&(df['Rainfall(mm)'] == 0)&(df['Snowfall (cm)'] == 0)):\n",
    "        return True\n",
    "    else:\n",
    "        return False\n",
    "def Cloudy_Freezing(df): \n",
    "    if((df['Temperature(C)']<=0)&(((df['Solar Radiation (MJ/m2)'] <=0.5))&(df['day_night']==1))\\\n",
    "                      &(df['Rainfall(mm)'] == 0)&(df['Snowfall (cm)'] == 0)):\n",
    "        return True\n",
    "    else:\n",
    "        return False\n",
    "def Rain_Freezing(df):  \n",
    "    if((df['Temperature(C)']<=0)&(df['Rainfall(mm)'] >0)&(df['Snowfall (cm)'] == 0)):\n",
    "        return True\n",
    "    else:\n",
    "        return False\n",
    "def Snow_Freezing(df):  \n",
    "    if((df['Temperature(C)']<=0)&(df['Rainfall(mm)'] ==0)&(df['Snowfall (cm)'] >0)):\n",
    "        return True\n",
    "    else:\n",
    "        return False\n",
    "\n",
    "def Night_Freezing(df): \n",
    "    if((df['Temperature(C)']<=0)&(df['day_night']==0)\n",
    "                      &(df['Rainfall(mm)'] == 0)&(df['Snowfall (cm)'] == 0)):\n",
    "        return True\n",
    "    else:\n",
    "        return False\n",
    "def Rain_Snow(df):\n",
    "    if (df['Rainfall(mm)'] >0)&(df['Snowfall (cm)'] >0):\n",
    "        return True\n",
    "    else:\n",
    "        return False\n",
    "\n",
    "#len(sunny_hot)+len(Clear_hot)+len(PCloudy_hot)+len(Cloudy_hot)+len(Rain_hot)+len(Night_hot)"
   ]
  },
  {
   "cell_type": "code",
   "execution_count": 20,
   "metadata": {},
   "outputs": [],
   "source": [
    "def Clear(df):\n",
    "    if (df['Solar Radiation (MJ/m2)'] >2) & (df['day_night'] ==1):\n",
    "        return 1\n",
    "    else:\n",
    "        return 0\n",
    "    \n",
    "def Few_Clouds(df):\n",
    "    if (((df['Solar Radiation (MJ/m2)'] <=2)&(df['Solar Radiation (MJ/m2)'] >1.5)) & (df['day_night'] ==1)):\n",
    "        return 1  \n",
    "    else:\n",
    "        return 0\n",
    "    \n",
    "def Scatterd_Clouds(df):\n",
    "    if (((df['Solar Radiation (MJ/m2)'] <=1.5)&(df['Solar Radiation (MJ/m2)'] >1)) & (df['day_night'] ==1)):\n",
    "        return 1  \n",
    "    else:\n",
    "        return 0\n",
    "    \n",
    "def Partly_Cloudy(df):\n",
    "    if (((df['Solar Radiation (MJ/m2)'] <=1)&(df['Solar Radiation (MJ/m2)'] >0.5)) & (df['day_night'] ==1)):\n",
    "        return 1  \n",
    "    else:\n",
    "        return 0\n",
    "    \n",
    "def Cloudy(df):\n",
    "    if ((df['Solar Radiation (MJ/m2)'] <= 0.5) & (df['day_night'] ==1)):\n",
    "        return 1\n",
    "    else:\n",
    "        return 0\n",
    "    \n",
    "def Night(df):\n",
    "    if ((df['Solar Radiation (MJ/m2)'] <= 0.8) & (df['day_night'] ==0)):\n",
    "        return 1\n",
    "    else:\n",
    "        return 0\n",
    "    "
   ]
  },
  {
   "cell_type": "code",
   "execution_count": 21,
   "metadata": {},
   "outputs": [],
   "source": [
    "def Mist(df):\n",
    "    if df['Visibility_dist'] == 3:\n",
    "        return 1\n",
    "    else:\n",
    "        return 0\n",
    "    \n",
    "def Fog(df):\n",
    "    if ((df['Visibility_dist'] == 1) | (df['Visibility_dist'] == 2)) :\n",
    "        return 1\n",
    "    else:\n",
    "        return 0"
   ]
  },
  {
   "cell_type": "code",
   "execution_count": 22,
   "metadata": {},
   "outputs": [],
   "source": [
    "def Light_Rain(df):\n",
    "    if ((df['Rainfall(mm)']) >0 & (df['Rainfall(mm)'] < 2.5))  :\n",
    "        return 1\n",
    "    else:\n",
    "        return 0\n",
    "    \n",
    "def Heavy_Rain(df):\n",
    "    if (df['Rainfall(mm)'] >= 2.5)  :\n",
    "        return 1\n",
    "    else:\n",
    "        return 0\n",
    "def Ice_pallets(df):\n",
    "        if ((df['Rainfall(mm)'] > 0 )& (df['Snowfall (cm)'] > 0 ))  :\n",
    "            return 1\n",
    "        else:\n",
    "            return 0\n"
   ]
  },
  {
   "cell_type": "code",
   "execution_count": 23,
   "metadata": {},
   "outputs": [],
   "source": [
    "def Light_Snow(df):\n",
    "    if ((df['Snowfall (cm)']) >0 & (df['Snowfall (cm)'] < 1))  :\n",
    "        return 1\n",
    "    else:\n",
    "        return 0\n",
    "    \n",
    "def Snow(df):\n",
    "    if (df['Snowfall (cm)'] >= 1)  :\n",
    "        return 1\n",
    "    else:\n",
    "        return 0"
   ]
  },
  {
   "cell_type": "code",
   "execution_count": 24,
   "metadata": {},
   "outputs": [],
   "source": [
    "def Cond1(df):\n",
    "    if Clear(df) or Few_Clouds(df) or Partly_Cloudy(df) or Cloudy(df):\n",
    "        return 1\n",
    "    else:\n",
    "        return 0\n",
    "def Cond2(df):\n",
    "    if (Mist(df) and Cloudy(df)) or (Mist(df) and Partly_Cloudy(df)) or (Mist(df) and Few_Clouds(df)) or Mist(df):\n",
    "        return 1\n",
    "    else:\n",
    "        return 0\n",
    "def Cond3(df):\n",
    "    if Light_Snow(df) or (Light_Rain(df) and Scatterd_Clouds(df)) or Light_Rain(df):\n",
    "        return 1\n",
    "    else:\n",
    "        return 0\n",
    "def Cond4(df):\n",
    "    if (Ice_pallets(df) and Mist(df)) or (Snow(df) and Fog(df)) or Snow(df) :\n",
    "        return 1\n",
    "    else:\n",
    "        return 0\n",
    "def Cond5(df):\n",
    "    if Night(df):\n",
    "        return 1\n",
    "    else:\n",
    "        return 0"
   ]
  },
  {
   "cell_type": "code",
   "execution_count": 25,
   "metadata": {},
   "outputs": [],
   "source": [
    "def Hot(df):\n",
    "    if (df['Temperature(C)']>25):\n",
    "        return 1\n",
    "    else:\n",
    "        return 0\n",
    "def Warm(df):\n",
    "    if ((df['Temperature(C)']<=25)&(df['Temperature(C)']>10)):\n",
    "        return 1\n",
    "    else:\n",
    "        return 0\n",
    "def Cold(df):\n",
    "    if ((df['Temperature(C)']<=10)&(df['Temperature(C)']>0)):\n",
    "        return 1\n",
    "    else:\n",
    "        return 0\n",
    "def Freezing(df):\n",
    "    if (df['Temperature(C)']<=0):\n",
    "        return 1\n",
    "    else:\n",
    "        return 0"
   ]
  },
  {
   "cell_type": "code",
   "execution_count": 26,
   "metadata": {},
   "outputs": [],
   "source": [
    "def value(df):\n",
    "    return np.log((np.abs(df['Humidity(%)']*(df['Temperature(C)'])*df['Dew point temperature(C)']))+1)"
   ]
  },
  {
   "cell_type": "code",
   "execution_count": 27,
   "metadata": {},
   "outputs": [],
   "source": [
    "def F_state(df1):\n",
    "    if df1['X_Temp']-df1['Temperature(C)']>= 1:\n",
    "        return 1\n",
    "    else:\n",
    "        return 0\n",
    "def Fogs (df):\n",
    "    if ((df['Fog_State']==1) & (df['Visibility (10m)'] <= 1000)):\n",
    "        return 1\n",
    "    else :\n",
    "        return 0"
   ]
  },
  {
   "cell_type": "markdown",
   "metadata": {},
   "source": [
    "### Feature adding to the model"
   ]
  },
  {
   "cell_type": "code",
   "execution_count": 28,
   "metadata": {},
   "outputs": [],
   "source": [
    "df_prep['Year'] = df['Date'].dt.year.astype('int')\n",
    "df_prep['Week'] = df['Date'].dt.isocalendar().week.astype('int')\n",
    "df_prep['Month'] = df['Date'].dt.month.astype('int')\n",
    "df_prep['WeekDay'] = df['Date'].dt.weekday.astype('int')"
   ]
  },
  {
   "cell_type": "code",
   "execution_count": 29,
   "metadata": {},
   "outputs": [],
   "source": [
    "new_feature_data_series(df_prep,['Hour'],day_night,'day_night')\n",
    "new_feature_data_series(df_prep,['Temperature(C)','Dew point temperature(C)','Functioning Day'],humidex,'Humidex')\n",
    "new_feature_data_series(df_prep,['Visibility (10m)'],visibility,'Visibility_cat')\n",
    "new_feature_data_series(df_prep,['Visibility (10m)'],visibility_dist,'Visibility_dist')\n",
    "new_feature_data_series(df_prep,['Rainfall(mm)'],rain_fall,'Rain_cat')\n",
    "new_feature_data_series(df_prep,['Snowfall (cm)'],snow_fall,'Snow_cat')"
   ]
  },
  {
   "cell_type": "code",
   "execution_count": 30,
   "metadata": {},
   "outputs": [],
   "source": [
    "map_data_series(df_prep,'Functioning Day',['Yes','No'],[1,0])"
   ]
  },
  {
   "cell_type": "code",
   "execution_count": 31,
   "metadata": {},
   "outputs": [],
   "source": [
    "map_data_series(df_prep,'Holiday',['Holiday','No Holiday'],[1,0])"
   ]
  },
  {
   "cell_type": "code",
   "execution_count": 32,
   "metadata": {},
   "outputs": [],
   "source": [
    "map_data_series(df_prep,'Seasons',['Winter','Spring','Summer','Autumn'],[0,1,2,3])"
   ]
  },
  {
   "cell_type": "code",
   "execution_count": 33,
   "metadata": {},
   "outputs": [],
   "source": [
    "new_feature_data_series(df_prep,['Hour','Functioning Day'],rush_hour_grad,'Rush_hour')\n",
    "new_feature_data_series(df_prep,['Hour','Functioning Day'],dead_hour_grad_2,'Dead_hour')"
   ]
  },
  {
   "cell_type": "code",
   "execution_count": 34,
   "metadata": {},
   "outputs": [],
   "source": [
    "new_feature_data_series(df_prep,['Humidity(%)'],lambda df : 0 if (df['Humidity(%)'] <= 70) else 1,'Humidity_high')"
   ]
  },
  {
   "cell_type": "code",
   "execution_count": 35,
   "metadata": {},
   "outputs": [],
   "source": [
    "new_feature_data_series(df_prep,['Temperature(C)'],lambda df : 0 if (df['Temperature(C)'] <= 35) else 1,'Temperature_high')"
   ]
  },
  {
   "cell_type": "code",
   "execution_count": 36,
   "metadata": {},
   "outputs": [],
   "source": [
    "new_feature_data_series(df_prep,['Humidity(%)','Temperature(C)','Solar Radiation (MJ/m2)','Wind speed (m/s)'],lambda df : 0 if (df['Temperature(C)'] < 35) and (df['Humidity(%)'] < 70) and (df['Solar Radiation (MJ/m2)'] < 1.4) else 1,'Weather_bad')"
   ]
  },
  {
   "cell_type": "code",
   "execution_count": 37,
   "metadata": {},
   "outputs": [],
   "source": [
    "df_prep['Ideal'] = df[['Temperature(C)', 'Wind speed (m/s)']] \\\n",
    "    .apply(lambda df: 1 if (df['Temperature(C)'] < 30 and df['Wind speed (m/s)'] < 2.8) else 0, axis = 1)"
   ]
  },
  {
   "cell_type": "code",
   "execution_count": 38,
   "metadata": {},
   "outputs": [],
   "source": [
    "df_prep['Weather_State'] =df_prep[['Temperature(C)', 'Solar Radiation (MJ/m2)' , 'day_night','Snowfall (cm)','Rainfall(mm)']]  \\\n",
    "    .apply(lambda df: \"Sunny_hot\" if Sunny_Hot(df)\\\n",
    "           else \"Clear_hot\" if Clear_hot(df)\\\n",
    "           else \"PCloudy_hot\" if PCloudy_hot(df)\\\n",
    "           else \"Cloudy_hot\" if Cloudy_hot(df)\\\n",
    "           else \"Rain_hot\" if Rain_hot(df)\\\n",
    "           else \"Night_hot\" if Night_hot(df)\\\n",
    "           else \"Sunny_Warm\" if Sunny_Warm(df)\\\n",
    "           else \"Clear_Warm\" if Clear_Warm(df)\\\n",
    "           else \"PCloudy_Warm\" if PCloudy_Warm(df)\\\n",
    "           else \"Cloudy_Warm\" if Cloudy_Warm(df)\\\n",
    "           else \"Rain_Warm\" if Rain_Warm(df)\\\n",
    "           else \"Night_Warm\" if Night_Warm(df)\\\n",
    "           else \"Sunny_Cold\" if Sunny_Cold(df)\\\n",
    "           else \"Clear_Cold\" if Clear_Cold(df)\\\n",
    "           else \"PCloudy_Cold\" if PCloudy_Cold(df)\\\n",
    "           else \"Cloudy_Cold\" if Cloudy_Cold(df)\\\n",
    "           else \"Rain_Cold\" if Rain_Cold(df)\\\n",
    "           else \"Snow_Cold\" if Snow_Cold(df)\\\n",
    "           else \"Night_Cold\" if Night_Cold(df)\\\n",
    "           else \"Sunny_Freezing\" if Sunny_Freezing(df)\\\n",
    "           else \"Clear_Freezing\" if Clear_Freezing(df)\\\n",
    "           else \"PCloudy_Freezing\" if PCloudy_Freezing(df)\\\n",
    "           else \"Cloudy_Freezing\" if Cloudy_Freezing(df)\\\n",
    "           else \"Rain_Freezing\" if Rain_Freezing(df)\\\n",
    "           else \"Snow_Freezing\" if Snow_Freezing(df)\\\n",
    "           else \"Night_Freezing\" if Night_Freezing(df)\\\n",
    "           else \"Rain&Snow\" if Rain_Snow(df)\\\n",
    "           else 0, axis = 1)"
   ]
  },
  {
   "cell_type": "code",
   "execution_count": 39,
   "metadata": {},
   "outputs": [],
   "source": [
    "Weather_Description_list = ['Night_Freezing', 'Cloudy_Freezing', 'PCloudy_Freezing',\n",
    "                            'Clear_Cold', 'PCloudy_Cold', 'Cloudy_Cold', 'Night_Cold',\n",
    "                            'Rain_Cold', 'Clear_Freezing', 'Rain&Snow', 'Snow_Freezing',\n",
    "                            'Snow_Cold', 'Sunny_Freezing', 'Sunny_Cold', 'Sunny_Warm',\n",
    "                            'Clear_Warm', 'PCloudy_Warm', 'Cloudy_Warm', 'Night_Warm',\n",
    "                            'Rain_Warm', 'Sunny_hot', 'Clear_hot', 'Cloudy_hot', 'Night_hot',\n",
    "                            'PCloudy_hot', 'Rain_hot']\n",
    "length = len(Weather_Description_list)+1\n",
    "Weather_Description_neumeric = [*range(1, length, 1)]"
   ]
  },
  {
   "cell_type": "code",
   "execution_count": 40,
   "metadata": {},
   "outputs": [],
   "source": [
    "map_data_series(df_prep,'Weather_State',Weather_Description_list,Weather_Description_neumeric)"
   ]
  },
  {
   "cell_type": "code",
   "execution_count": 41,
   "metadata": {},
   "outputs": [],
   "source": [
    "new_feature_data_series(df_prep,['Weather_State','Visibility_dist']\n",
    "                        ,lambda df :df['Weather_State']*(df['Visibility_dist'])\n",
    "                        ,'Weather_stat&visb_dist')"
   ]
  },
  {
   "cell_type": "code",
   "execution_count": 42,
   "metadata": {},
   "outputs": [],
   "source": [
    "new_feature_data_series(df_prep,['Weather_State','Visibility (10m)']\n",
    "                        ,lambda df :df['Weather_State']*np.log(df['Visibility (10m)'])\n",
    "                        ,'Weather&visb')"
   ]
  },
  {
   "cell_type": "code",
   "execution_count": 43,
   "metadata": {},
   "outputs": [],
   "source": [
    "df_prep['Sky_State'] =df_prep[['Temperature(C)','Visibility_dist', 'Solar Radiation (MJ/m2)' \n",
    "                               , 'day_night','Snowfall (cm)','Rainfall(mm)']]  \\\n",
    "    .apply(lambda df: 4 if Cond4(df)\\\n",
    "                 else 2 if Cond2(df)\\\n",
    "                 else 3 if Cond3(df)\\\n",
    "                 else 1 if Cond1(df)\\\n",
    "                 \n",
    "                 else 5, axis = 1)"
   ]
  },
  {
   "cell_type": "code",
   "execution_count": 44,
   "metadata": {},
   "outputs": [],
   "source": [
    "df_prep['Temp_State'] =df_prep[['Temperature(C)','Visibility_dist', 'Solar Radiation (MJ/m2)' \n",
    "                                , 'day_night','Snowfall (cm)','Rainfall(mm)']]  \\\n",
    "    .apply(lambda df: 1 if Warm(df)\\\n",
    "                 else 2 if Cold(df)\\\n",
    "                 else 3 if Hot(df)\\\n",
    "                 else 4 if Freezing(df)\\\n",
    "                 \n",
    "                 else 5, axis = 1)"
   ]
  },
  {
   "cell_type": "code",
   "execution_count": 45,
   "metadata": {},
   "outputs": [],
   "source": [
    "new_feature_data_series(df_prep,['Sky_State','Temp_State']\n",
    "                        ,lambda df :df['Sky_State']*(df['Temp_State']),'GBL_Forecast')"
   ]
  },
  {
   "cell_type": "code",
   "execution_count": 46,
   "metadata": {},
   "outputs": [],
   "source": [
    "new_feature_data_series(df_prep,['Temperature(C)','Humidity(%)']\n",
    "                        ,lambda  df :df['Humidity(%)']*(df['Temperature(C)'])/100  ,'X_Temp')"
   ]
  },
  {
   "cell_type": "code",
   "execution_count": 47,
   "metadata": {},
   "outputs": [],
   "source": [
    "new_feature_data_series(df_prep,['Temperature(C)','Humidity(%)','Dew point temperature(C)']\n",
    "                        ,lambda df :value(df) if value(df) != float('nan') else 0,'Abdo_try')"
   ]
  },
  {
   "cell_type": "code",
   "execution_count": 48,
   "metadata": {},
   "outputs": [],
   "source": [
    "df_prep['Fog_State'] =df_prep[['Temperature(C)','X_Temp']]  \\\n",
    "    .apply(lambda df: 1 if F_state(df)\\\n",
    "                 else 0, axis = 1)"
   ]
  },
  {
   "cell_type": "code",
   "execution_count": 49,
   "metadata": {},
   "outputs": [],
   "source": [
    "df_prep['Fog'] =df_prep[['Fog_State','Visibility (10m)']]  \\\n",
    "    .apply(lambda df: 2 if Fogs(df)\\\n",
    "                 else 1, axis = 1)"
   ]
  },
  {
   "cell_type": "code",
   "execution_count": 50,
   "metadata": {},
   "outputs": [],
   "source": [
    "df_prep[\"Date_tmp\"] = df_prep['Date'].dt.to_period('M')\n",
    "new_feature_df = pd.DataFrame(df_prep.groupby(['Date_tmp', 'Year'])['y'].mean()).sort_values([\"Year\"])\n",
    "new_feature_df = pd.DataFrame(new_feature_df['y'].shift(+1))\n",
    "new_feature_df.reset_index(inplace=True)\n",
    "new_feature_df.rename(columns={'y':'Prev Month y'}, inplace=True)\n",
    "new_feature_df.drop(['Year'], axis = 1, inplace =True)"
   ]
  },
  {
   "cell_type": "code",
   "execution_count": 51,
   "metadata": {},
   "outputs": [],
   "source": [
    "df_prep = pd.merge(df_prep, new_feature_df, on='Date_tmp', how='left')"
   ]
  },
  {
   "cell_type": "markdown",
   "metadata": {},
   "source": [
    "----\n",
    "# Training The Model"
   ]
  },
  {
   "cell_type": "markdown",
   "metadata": {},
   "source": [
    "####  Our Scoring Metric (RMSLE)"
   ]
  },
  {
   "cell_type": "code",
   "execution_count": 52,
   "metadata": {},
   "outputs": [],
   "source": [
    "def rmsle(y_true, y_pred, convertExp=True):\n",
    "    if convertExp:\n",
    "        y_true = np.exp(y_true)\n",
    "        y_pred = np.exp(y_pred)\n",
    "        \n",
    "    log_true = np.nan_to_num(np.array([np.log(y+1.0) for y in y_true]))\n",
    "    log_pred = np.nan_to_num(np.array([np.log(y+1.0) for y in y_pred]))\n",
    "    \n",
    "    output = np.sqrt(np.mean((log_true - log_pred)**2))\n",
    "    return output\n",
    "\n",
    "def NumPyRMSLE(y_true:list, y_pred:list) -> float:\n",
    "    \"\"\"\n",
    "        The Root Mean Squared Log Error (RMSLE) metric using only NumPy\n",
    "        N.B. This function is a lot slower than sklearn's implementation\n",
    "        \n",
    "        :param y_true: The ground truth labels given in the dataset\n",
    "        :param y_pred: Our predictions\n",
    "        :return: The RMSLE score\n",
    "    \"\"\"\n",
    "    n = len(y_true)\n",
    "    msle = np.mean([(np.log(y_pred[i] + 1) - np.log(y_true[i] + 1)) ** 2.0 for i in range(n)])\n",
    "    return np.sqrt(msle)\n",
    "\n",
    "rmsle_scorer = metrics.make_scorer(rmsle, greater_is_better=False) "
   ]
  },
  {
   "cell_type": "code",
   "execution_count": null,
   "metadata": {},
   "outputs": [],
   "source": []
  },
  {
   "cell_type": "markdown",
   "metadata": {},
   "source": [
    "## Test Data Procc"
   ]
  },
  {
   "cell_type": "markdown",
   "metadata": {},
   "source": [
    "---\n",
    "<a id='Submission_Preparation'></a>\n",
    "### Submission Preparation\n",
    "### [Jump Top](#Jump)"
   ]
  },
  {
   "cell_type": "code",
   "execution_count": 53,
   "metadata": {},
   "outputs": [],
   "source": [
    "full_test_path = r\"SeoulBikeDataTestFull.csv\""
   ]
  },
  {
   "cell_type": "code",
   "execution_count": 54,
   "metadata": {},
   "outputs": [],
   "source": [
    "full_test = pd.read_csv(full_test_path)"
   ]
  },
  {
   "cell_type": "code",
   "execution_count": 55,
   "metadata": {},
   "outputs": [],
   "source": [
    "test = df_test.copy()"
   ]
  },
  {
   "cell_type": "code",
   "execution_count": 56,
   "metadata": {
    "scrolled": true
   },
   "outputs": [],
   "source": [
    "#they are here with the same order created up there\n",
    "test['Year'] = df['Date'].dt.year.astype('int')\n",
    "test['Week'] = df['Date'].dt.isocalendar().week.astype('int')\n",
    "test['Month'] = df['Date'].dt.month.astype('int')\n",
    "test['WeekDay'] = df['Date'].dt.weekday.astype('int')\n",
    "new_feature_data_series(test,['Hour'],day_night,'day_night')\n",
    "new_feature_data_series(test,['Temperature(C)','Dew point temperature(C)','Functioning Day'],humidex,'Humidex')\n",
    "new_feature_data_series(test,['Visibility (10m)'],visibility,'Visibility_cat')\n",
    "new_feature_data_series(test,['Visibility (10m)'],visibility_dist,'Visibility_dist')\n",
    "new_feature_data_series(test,['Rainfall(mm)'],rain_fall,'Rain_cat')\n",
    "new_feature_data_series(test,['Snowfall (cm)'],snow_fall,'Snow_cat')\n",
    "\n",
    "map_data_series(test,'Functioning Day',['Yes','No'],[1,0])\n",
    "map_data_series(test,'Holiday',['Holiday','No Holiday'],[1,0])\n",
    "map_data_series(test,'Seasons',['Winter','Spring','Summer','Autumn'],[0,1,2,3])\n",
    "new_feature_data_series(test,['Hour','Functioning Day'],rush_hour_grad,'Rush_hour')\n",
    "new_feature_data_series(test,['Hour','Functioning Day'],dead_hour_grad_2,'Dead_hour')\n",
    "new_feature_data_series(test,['Humidity(%)'],lambda df : 0 if (df['Humidity(%)'] <= 70) else 1,'Humidity_high')\n",
    "new_feature_data_series(test,['Temperature(C)'],lambda df : 0 if (df['Temperature(C)'] <= 35) else 1,'Temperature_high')\n",
    "new_feature_data_series(test,['Humidity(%)','Temperature(C)','Solar Radiation (MJ/m2)','Wind speed (m/s)'],lambda df : 0 if (df['Temperature(C)'] < 35) and (df['Humidity(%)'] < 70) and (df['Solar Radiation (MJ/m2)'] < 1.4) else 1,'Weather_bad')\n",
    "test['Ideal'] = df[['Temperature(C)', 'Wind speed (m/s)']] \\\n",
    "    .apply(lambda df: 1 if (df['Temperature(C)'] < 30 and df['Wind speed (m/s)'] < 2.8) else 0, axis = 1)\n",
    "test['Weather_State'] =test[['Temperature(C)', 'Solar Radiation (MJ/m2)' , 'day_night','Snowfall (cm)','Rainfall(mm)']]  \\\n",
    "    .apply(lambda df: \"Sunny_hot\" if Sunny_Hot(df)\\\n",
    "           else \"Clear_hot\" if Clear_hot(df)\\\n",
    "           else \"PCloudy_hot\" if PCloudy_hot(df)\\\n",
    "           else \"Cloudy_hot\" if Cloudy_hot(df)\\\n",
    "           else \"Rain_hot\" if Rain_hot(df)\\\n",
    "           else \"Night_hot\" if Night_hot(df)\\\n",
    "           else \"Sunny_Warm\" if Sunny_Warm(df)\\\n",
    "           else \"Clear_Warm\" if Clear_Warm(df)\\\n",
    "           else \"PCloudy_Warm\" if PCloudy_Warm(df)\\\n",
    "           else \"Cloudy_Warm\" if Cloudy_Warm(df)\\\n",
    "           else \"Rain_Warm\" if Rain_Warm(df)\\\n",
    "           else \"Night_Warm\" if Night_Warm(df)\\\n",
    "           else \"Sunny_Cold\" if Sunny_Cold(df)\\\n",
    "           else \"Clear_Cold\" if Clear_Cold(df)\\\n",
    "           else \"PCloudy_Cold\" if PCloudy_Cold(df)\\\n",
    "           else \"Cloudy_Cold\" if Cloudy_Cold(df)\\\n",
    "           else \"Rain_Cold\" if Rain_Cold(df)\\\n",
    "           else \"Snow_Cold\" if Snow_Cold(df)\\\n",
    "           else \"Night_Cold\" if Night_Cold(df)\\\n",
    "           else \"Sunny_Freezing\" if Sunny_Freezing(df)\\\n",
    "           else \"Clear_Freezing\" if Clear_Freezing(df)\\\n",
    "           else \"PCloudy_Freezing\" if PCloudy_Freezing(df)\\\n",
    "           else \"Cloudy_Freezing\" if Cloudy_Freezing(df)\\\n",
    "           else \"Rain_Freezing\" if Rain_Freezing(df)\\\n",
    "           else \"Snow_Freezing\" if Snow_Freezing(df)\\\n",
    "           else \"Night_Freezing\" if Night_Freezing(df)\\\n",
    "           else \"Rain&Snow\" if Rain_Snow(df)\\\n",
    "           else 0, axis = 1)\n",
    "map_data_series(test,'Weather_State',Weather_Description_list,Weather_Description_neumeric)\n",
    "new_feature_data_series(test,['Weather_State','Visibility_dist'],lambda df :df['Weather_State']*(df['Visibility_dist']),'Weather_stat&visb_dist')\n",
    "new_feature_data_series(test,['Weather_State','Visibility (10m)'],lambda df :df['Weather_State']*np.log(df['Visibility (10m)']),'Weather&visb')\n",
    "test['Sky_State'] =test[['Temperature(C)','Visibility_dist', 'Solar Radiation (MJ/m2)' , 'day_night','Snowfall (cm)','Rainfall(mm)']]  \\\n",
    "    .apply(lambda df: 4 if Cond4(df)\\\n",
    "                 else 2 if Cond2(df)\\\n",
    "                 else 3 if Cond3(df)\\\n",
    "                 else 1 if Cond1(df)\\\n",
    "                 \n",
    "                 else 5, axis = 1)\n",
    "test['Temp_State'] =test[['Temperature(C)','Visibility_dist', 'Solar Radiation (MJ/m2)' , 'day_night','Snowfall (cm)','Rainfall(mm)']]  \\\n",
    "    .apply(lambda df: 1 if Warm(df)\\\n",
    "                 else 2 if Cold(df)\\\n",
    "                 else 3 if Hot(df)\\\n",
    "                 else 4 if Freezing(df)\\\n",
    "                 \n",
    "                 else 5, axis = 1)\n",
    "new_feature_data_series(test,['Sky_State','Temp_State'],lambda df :df['Sky_State']*(df['Temp_State']),'GBL_Forecast')\n",
    "new_feature_data_series(test,['Temperature(C)','Humidity(%)'],lambda  df :df['Humidity(%)']*(df['Temperature(C)'])/100  ,'X_Temp')\n",
    "new_feature_data_series(test,['Temperature(C)','Humidity(%)','Dew point temperature(C)'],lambda df :value(df) if value(df) != float('nan') else 0,'Abdo_try')\n",
    "test['Fog_State'] =test[['Temperature(C)','X_Temp']]  \\\n",
    "    .apply(lambda df: 1 if F_state(df)\\\n",
    "                 else 0, axis = 1)\n",
    "test['Fog'] =test[['Fog_State','Visibility (10m)']]  \\\n",
    "    .apply(lambda df: 2 if Fogs(df)\\\n",
    "                 else 1, axis = 1)\n",
    "test[\"Date_tmp\"] = test['Date'].dt.to_period('M')\n",
    "#new_feature_df.fillna(225, inplace = True)\n",
    "test = pd.merge(test, new_feature_df, on='Date_tmp', how='left')"
   ]
  },
  {
   "cell_type": "code",
   "execution_count": 57,
   "metadata": {},
   "outputs": [],
   "source": [
    "#if it's = to ['y'] you are correct else do it again \n",
    "assert [value for value in df_prep.columns if value not in test.columns] == ['y']"
   ]
  }
 ],
 "metadata": {
  "kernelspec": {
   "display_name": "Python 3",
   "language": "python",
   "name": "python3"
  },
  "language_info": {
   "codemirror_mode": {
    "name": "ipython",
    "version": 3
   },
   "file_extension": ".py",
   "mimetype": "text/x-python",
   "name": "python",
   "nbconvert_exporter": "python",
   "pygments_lexer": "ipython3",
   "version": "3.8.3"
  }
 },
 "nbformat": 4,
 "nbformat_minor": 4
}
