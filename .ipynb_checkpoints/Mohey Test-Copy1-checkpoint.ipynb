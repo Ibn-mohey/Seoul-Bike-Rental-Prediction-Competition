{
 "cells": [
  {
   "cell_type": "markdown",
   "metadata": {},
   "source": [
    "### Imports"
   ]
  },
  {
   "cell_type": "code",
   "execution_count": 1,
   "metadata": {},
   "outputs": [],
   "source": [
    "import numpy as np\n",
    "import pandas as pd\n",
    "import matplotlib.pyplot as plt\n",
    "import seaborn as sns\n",
    "from matplotlib.pyplot import figure\n",
    "t=-1"
   ]
  },
  {
   "cell_type": "code",
   "execution_count": 2,
   "metadata": {},
   "outputs": [],
   "source": [
    "from sklearn.model_selection import train_test_split\n",
    "from sklearn.model_selection import TimeSeriesSplit\n",
    "from sklearn import metrics\n",
    "from sklearn.metrics import r2_score, mean_squared_error, mean_squared_log_error\n",
    "from sklearn.model_selection import GridSearchCV, StratifiedKFold\n",
    "from sklearn.ensemble import RandomForestRegressor\n",
    "from sklearn.ensemble import ExtraTreesRegressor\n",
    "from sklearn.model_selection import KFold\n",
    "from sklearn.ensemble import RandomForestRegressor,AdaBoostRegressor,BaggingRegressor,GradientBoostingRegressor\n",
    "from sklearn.inspection import permutation_importance\n",
    "from sklearn.utils import shuffle\n",
    "import xgboost as xgb\n",
    "import catboost as cb"
   ]
  },
  {
   "cell_type": "code",
   "execution_count": 3,
   "metadata": {},
   "outputs": [],
   "source": [
    "#---------- configs\n",
    "pd.set_option('max_rows',100)\n",
    "pd.set_option('max_columns',40)"
   ]
  },
  {
   "cell_type": "markdown",
   "metadata": {},
   "source": [
    "### loading data"
   ]
  },
  {
   "cell_type": "code",
   "execution_count": 4,
   "metadata": {},
   "outputs": [],
   "source": [
    "train_path = r\"train.csv\"\n",
    "test_path = r\"test.csv\""
   ]
  },
  {
   "cell_type": "code",
   "execution_count": 5,
   "metadata": {},
   "outputs": [],
   "source": [
    "df = pd.read_csv(train_path,index_col=0,parse_dates=['Date'],dayfirst=True)\n",
    "df_test = pd.read_csv(test_path,parse_dates=['Date'],dayfirst=True)\n",
    "\n",
    "df = df.rename(columns={'Temperature(�C)':'Temperature(C)','Dew point temperature(�C)'  : 'Dew point temperature(C)'})\n",
    "df_test = df_test.rename(columns={'Temperature(�C)':'Temperature(C)','Dew point temperature(�C)'  : 'Dew point temperature(C)'})"
   ]
  },
  {
   "cell_type": "markdown",
   "metadata": {},
   "source": [
    "## Feature Engineering"
   ]
  },
  {
   "cell_type": "markdown",
   "metadata": {},
   "source": [
    "##### based on the previous notebook (eda) we will consider the following \n",
    "\n",
    "- A) The Hourly cycle has a good correlation. [7am-18pm has the bigger share]\n",
    "- B) The Temperature has good corr. [high is good except > ~ 27]\n",
    "- C) The Functional Day has good corr. [functional is good for target]\n",
    "- D) The Seasons has good corr. [hot season is better]\n",
    "\n",
    "-------------\n",
    "\n",
    "- E) The Visibility may prove to be good. [if encoded to very_low visibility vs normal visibiliy].\n",
    "- F) The RainFall/SnowFall may prove to be good. [if encoded to Snowing / Raining or not].\n",
    "- G) The Humidity may have something to investigate. [if encoded as 0-80 % normal rentals, 80-100% show sharp decay in rentals]\n",
    "\n",
    "---------------\n",
    "- H) the Dew point temperature is strongly corr to Temperature will drop it.\n",
    "- I) the Solar Radiation may be discarded .. i didn't see good relation.\n",
    "- J) the holidays didn't prove decisive saying on our target. maybe discarded too."
   ]
  },
  {
   "cell_type": "code",
   "execution_count": 6,
   "metadata": {},
   "outputs": [
    {
     "name": "stdout",
     "output_type": "stream",
     "text": [
      "<class 'pandas.core.frame.DataFrame'>\n",
      "Int64Index: 5760 entries, 0 to 5759\n",
      "Data columns (total 14 columns):\n",
      " #   Column                    Non-Null Count  Dtype         \n",
      "---  ------                    --------------  -----         \n",
      " 0   Date                      5760 non-null   datetime64[ns]\n",
      " 1   y                         5760 non-null   int64         \n",
      " 2   Hour                      5760 non-null   int64         \n",
      " 3   Temperature(C)            5760 non-null   float64       \n",
      " 4   Humidity(%)               5760 non-null   int64         \n",
      " 5   Wind speed (m/s)          5760 non-null   float64       \n",
      " 6   Visibility (10m)          5760 non-null   int64         \n",
      " 7   Dew point temperature(C)  5760 non-null   float64       \n",
      " 8   Solar Radiation (MJ/m2)   5760 non-null   float64       \n",
      " 9   Rainfall(mm)              5760 non-null   float64       \n",
      " 10  Snowfall (cm)             5760 non-null   float64       \n",
      " 11  Seasons                   5760 non-null   object        \n",
      " 12  Holiday                   5760 non-null   object        \n",
      " 13  Functioning Day           5760 non-null   object        \n",
      "dtypes: datetime64[ns](1), float64(6), int64(4), object(3)\n",
      "memory usage: 675.0+ KB\n"
     ]
    }
   ],
   "source": [
    "df.info()"
   ]
  },
  {
   "cell_type": "code",
   "execution_count": 7,
   "metadata": {},
   "outputs": [
    {
     "data": {
      "text/html": [
       "<div>\n",
       "<style scoped>\n",
       "    .dataframe tbody tr th:only-of-type {\n",
       "        vertical-align: middle;\n",
       "    }\n",
       "\n",
       "    .dataframe tbody tr th {\n",
       "        vertical-align: top;\n",
       "    }\n",
       "\n",
       "    .dataframe thead th {\n",
       "        text-align: right;\n",
       "    }\n",
       "</style>\n",
       "<table border=\"1\" class=\"dataframe\">\n",
       "  <thead>\n",
       "    <tr style=\"text-align: right;\">\n",
       "      <th></th>\n",
       "      <th>y</th>\n",
       "      <th>Hour</th>\n",
       "      <th>Temperature(C)</th>\n",
       "      <th>Humidity(%)</th>\n",
       "      <th>Wind speed (m/s)</th>\n",
       "      <th>Visibility (10m)</th>\n",
       "      <th>Dew point temperature(C)</th>\n",
       "      <th>Solar Radiation (MJ/m2)</th>\n",
       "      <th>Rainfall(mm)</th>\n",
       "      <th>Snowfall (cm)</th>\n",
       "    </tr>\n",
       "  </thead>\n",
       "  <tbody>\n",
       "    <tr>\n",
       "      <th>count</th>\n",
       "      <td>5760.000000</td>\n",
       "      <td>5760.000000</td>\n",
       "      <td>5760.000000</td>\n",
       "      <td>5760.000000</td>\n",
       "      <td>5760.000000</td>\n",
       "      <td>5760.000000</td>\n",
       "      <td>5760.000000</td>\n",
       "      <td>5760.000000</td>\n",
       "      <td>5760.000000</td>\n",
       "      <td>5760.000000</td>\n",
       "    </tr>\n",
       "    <tr>\n",
       "      <th>mean</th>\n",
       "      <td>703.483854</td>\n",
       "      <td>11.500000</td>\n",
       "      <td>12.803559</td>\n",
       "      <td>58.361806</td>\n",
       "      <td>1.723333</td>\n",
       "      <td>1473.711458</td>\n",
       "      <td>4.058264</td>\n",
       "      <td>0.572325</td>\n",
       "      <td>0.135122</td>\n",
       "      <td>0.046302</td>\n",
       "    </tr>\n",
       "    <tr>\n",
       "      <th>std</th>\n",
       "      <td>655.249491</td>\n",
       "      <td>6.922788</td>\n",
       "      <td>11.902206</td>\n",
       "      <td>19.840167</td>\n",
       "      <td>1.047898</td>\n",
       "      <td>585.879880</td>\n",
       "      <td>13.003582</td>\n",
       "      <td>0.869943</td>\n",
       "      <td>1.075320</td>\n",
       "      <td>0.323728</td>\n",
       "    </tr>\n",
       "    <tr>\n",
       "      <th>min</th>\n",
       "      <td>0.000000</td>\n",
       "      <td>0.000000</td>\n",
       "      <td>-15.100000</td>\n",
       "      <td>0.000000</td>\n",
       "      <td>0.000000</td>\n",
       "      <td>27.000000</td>\n",
       "      <td>-26.900000</td>\n",
       "      <td>0.000000</td>\n",
       "      <td>0.000000</td>\n",
       "      <td>0.000000</td>\n",
       "    </tr>\n",
       "    <tr>\n",
       "      <th>25%</th>\n",
       "      <td>188.000000</td>\n",
       "      <td>5.750000</td>\n",
       "      <td>3.200000</td>\n",
       "      <td>43.000000</td>\n",
       "      <td>0.900000</td>\n",
       "      <td>1025.750000</td>\n",
       "      <td>-5.400000</td>\n",
       "      <td>0.000000</td>\n",
       "      <td>0.000000</td>\n",
       "      <td>0.000000</td>\n",
       "    </tr>\n",
       "    <tr>\n",
       "      <th>50%</th>\n",
       "      <td>485.500000</td>\n",
       "      <td>11.500000</td>\n",
       "      <td>13.700000</td>\n",
       "      <td>57.000000</td>\n",
       "      <td>1.500000</td>\n",
       "      <td>1732.000000</td>\n",
       "      <td>5.200000</td>\n",
       "      <td>0.010000</td>\n",
       "      <td>0.000000</td>\n",
       "      <td>0.000000</td>\n",
       "    </tr>\n",
       "    <tr>\n",
       "      <th>75%</th>\n",
       "      <td>1066.000000</td>\n",
       "      <td>17.250000</td>\n",
       "      <td>22.225000</td>\n",
       "      <td>73.000000</td>\n",
       "      <td>2.300000</td>\n",
       "      <td>2000.000000</td>\n",
       "      <td>14.700000</td>\n",
       "      <td>0.940000</td>\n",
       "      <td>0.000000</td>\n",
       "      <td>0.000000</td>\n",
       "    </tr>\n",
       "    <tr>\n",
       "      <th>max</th>\n",
       "      <td>3556.000000</td>\n",
       "      <td>23.000000</td>\n",
       "      <td>39.400000</td>\n",
       "      <td>98.000000</td>\n",
       "      <td>7.400000</td>\n",
       "      <td>2000.000000</td>\n",
       "      <td>27.200000</td>\n",
       "      <td>3.520000</td>\n",
       "      <td>35.000000</td>\n",
       "      <td>5.100000</td>\n",
       "    </tr>\n",
       "  </tbody>\n",
       "</table>\n",
       "</div>"
      ],
      "text/plain": [
       "                 y         Hour  Temperature(C)  Humidity(%)  \\\n",
       "count  5760.000000  5760.000000     5760.000000  5760.000000   \n",
       "mean    703.483854    11.500000       12.803559    58.361806   \n",
       "std     655.249491     6.922788       11.902206    19.840167   \n",
       "min       0.000000     0.000000      -15.100000     0.000000   \n",
       "25%     188.000000     5.750000        3.200000    43.000000   \n",
       "50%     485.500000    11.500000       13.700000    57.000000   \n",
       "75%    1066.000000    17.250000       22.225000    73.000000   \n",
       "max    3556.000000    23.000000       39.400000    98.000000   \n",
       "\n",
       "       Wind speed (m/s)  Visibility (10m)  Dew point temperature(C)  \\\n",
       "count       5760.000000       5760.000000               5760.000000   \n",
       "mean           1.723333       1473.711458                  4.058264   \n",
       "std            1.047898        585.879880                 13.003582   \n",
       "min            0.000000         27.000000                -26.900000   \n",
       "25%            0.900000       1025.750000                 -5.400000   \n",
       "50%            1.500000       1732.000000                  5.200000   \n",
       "75%            2.300000       2000.000000                 14.700000   \n",
       "max            7.400000       2000.000000                 27.200000   \n",
       "\n",
       "       Solar Radiation (MJ/m2)  Rainfall(mm)  Snowfall (cm)  \n",
       "count              5760.000000   5760.000000    5760.000000  \n",
       "mean                  0.572325      0.135122       0.046302  \n",
       "std                   0.869943      1.075320       0.323728  \n",
       "min                   0.000000      0.000000       0.000000  \n",
       "25%                   0.000000      0.000000       0.000000  \n",
       "50%                   0.010000      0.000000       0.000000  \n",
       "75%                   0.940000      0.000000       0.000000  \n",
       "max                   3.520000     35.000000       5.100000  "
      ]
     },
     "execution_count": 7,
     "metadata": {},
     "output_type": "execute_result"
    }
   ],
   "source": [
    "df.describe()"
   ]
  },
  {
   "cell_type": "code",
   "execution_count": null,
   "metadata": {},
   "outputs": [],
   "source": []
  },
  {
   "cell_type": "code",
   "execution_count": 8,
   "metadata": {},
   "outputs": [
    {
     "data": {
      "text/plain": [
       "Autumn    1440\n",
       "Spring    1440\n",
       "Summer    1440\n",
       "Winter    1440\n",
       "Name: Seasons, dtype: int64"
      ]
     },
     "execution_count": 8,
     "metadata": {},
     "output_type": "execute_result"
    }
   ],
   "source": [
    "df['Seasons'].value_counts()"
   ]
  },
  {
   "cell_type": "code",
   "execution_count": 9,
   "metadata": {},
   "outputs": [],
   "source": [
    "df_prep = df.copy()"
   ]
  },
  {
   "cell_type": "code",
   "execution_count": 10,
   "metadata": {},
   "outputs": [],
   "source": [
    "df_prep['Year'] = df['Date'].dt.year.astype('int')\n",
    "df_prep['Week'] = df['Date'].dt.isocalendar().week.astype('int')\n",
    "df_prep['Month'] = df['Date'].dt.month.astype('int')\n",
    "df_prep['WeekDay'] = df['Date'].dt.weekday.astype('int')"
   ]
  },
  {
   "cell_type": "code",
   "execution_count": 11,
   "metadata": {},
   "outputs": [],
   "source": [
    "def restore_data_series(dataframe,dforiginal,col_name):\n",
    "    dataframe[col_name] = dforiginal[col_name]"
   ]
  },
  {
   "cell_type": "code",
   "execution_count": 12,
   "metadata": {},
   "outputs": [],
   "source": [
    "def map_data_series(dataframe,col_name,from_vals,to_vals):\n",
    "    dataframe[col_name].replace(from_vals,to_vals,inplace=True)"
   ]
  },
  {
   "cell_type": "code",
   "execution_count": 13,
   "metadata": {},
   "outputs": [],
   "source": [
    "def new_feature_data_series(dataframe,col_name,function,new_col_name):\n",
    "       dataframe[new_col_name]  = dataframe[col_name].apply(function,axis=1)"
   ]
  },
  {
   "cell_type": "code",
   "execution_count": 14,
   "metadata": {},
   "outputs": [],
   "source": [
    "map_data_series(df_prep,'Functioning Day',['Yes','No'],[1,0])"
   ]
  },
  {
   "cell_type": "code",
   "execution_count": 15,
   "metadata": {},
   "outputs": [],
   "source": [
    "map_data_series(df_prep,'Holiday',['Holiday','No Holiday'],[1,0])"
   ]
  },
  {
   "cell_type": "code",
   "execution_count": 16,
   "metadata": {},
   "outputs": [],
   "source": [
    "map_data_series(df_prep,'Seasons',['Winter','Spring','Summer','Autumn'],[0,1,2,3])"
   ]
  },
  {
   "cell_type": "raw",
   "metadata": {},
   "source": [
    "# feature eng for hour of the day\n",
    "around 8 am & around 6 pm (18) there is a peak in rentals \n",
    "around 4 am we hit the daily.\n",
    "how can we factor that?"
   ]
  },
  {
   "cell_type": "code",
   "execution_count": null,
   "metadata": {},
   "outputs": [],
   "source": []
  },
  {
   "cell_type": "code",
   "execution_count": 17,
   "metadata": {},
   "outputs": [],
   "source": [
    "## lambda df : 0 if ( (abs(df['Hour'] - 8) <=rush_range_1) or (abs(df['Hour'] - 18) <= rush_range_2) ) else 1\n",
    "def rush_hour(df):\n",
    "    #rush_range_1 = 2 # around the rush hour by +- 2 hrs\n",
    "    #rush_range_2 = 4 # around the rush hour by +- 4 hrs\n",
    "    if (df['Hour'] in [6,7,8,9,10,16,17,18,19,20]):\n",
    "        return 1\n",
    "    else:\n",
    "        return 0\n",
    "    \n",
    "def rush_hour_grad_2(df):\n",
    "    rush_range_1 = 2 # around the rush hour by +- 2 hrs\n",
    "    rush_range_2 = 5 # around the rush hour by +- 4 hrs\n",
    "    is_functional = df['Functioning Day']\n",
    "\n",
    "    return (np.exp(-abs(df['Hour'] - 8)) +  np.exp(-abs(df['Hour'] - 18))) * is_functional\n",
    "\n",
    "def rush_hour_grad(df):\n",
    "    #from 8 am , 6 pm\n",
    "    rush_range_1 = 2 # around the rush hour by +- 2 hrs\n",
    "    rush_range_2 = 5 # around the rush hour by +- 4 hrs\n",
    "    is_functional = df['Functioning Day'] \n",
    "    \n",
    "    if (abs(df['Hour'] - 8) <= rush_range_1): \n",
    "        return np.exp(-abs(df['Hour'] - 8)) * is_functional\n",
    "    \n",
    "    elif (abs(df['Hour'] - 18) <= rush_range_2):\n",
    "        return np.exp(-abs(df['Hour'] - 18)) * is_functional\n",
    "    else:\n",
    "        return 0\n",
    "    \n",
    "def dead_hour_grad(df):\n",
    "    dead_range_1 = 3 # around the dead hour by +- 3 hrs from 4 am\n",
    "    is_functional = df['Functioning Day'] \n",
    "    \n",
    "    if (abs(df['Hour'] - 4) <= dead_range_1): \n",
    "        return np.exp(-abs(df['Hour'] - 4)) * is_functional\n",
    "    else:\n",
    "        return 0\n",
    "    \n",
    "def dead_hour_grad_2(df):\n",
    "    #dead_range_1 = 5 # around the dead hour by +- 3 hrs from 4 am\n",
    "    is_functional = df['Functioning Day'] \n",
    "    \n",
    "    if(df['Hour'] in [22,23,0,1,2,3,4,5]):\n",
    "        return np.exp(-abs(df['Hour'] - 4)) * is_functional\n",
    "    else:\n",
    "        return 0   \n",
    "new_feature_data_series(df_prep,['Hour','Functioning Day'],rush_hour_grad,'Rush_hour')\n",
    "new_feature_data_series(df_prep,['Hour','Functioning Day'],dead_hour_grad_2,'Dead_hour')"
   ]
  },
  {
   "cell_type": "code",
   "execution_count": null,
   "metadata": {},
   "outputs": [],
   "source": []
  },
  {
   "cell_type": "code",
   "execution_count": 18,
   "metadata": {},
   "outputs": [],
   "source": [
    "## lambda df : 0 if ( (abs(df['Hour'] - 8) <=rush_range_1) or (abs(df['Hour'] - 18) <= rush_range_2) ) else 1\n",
    "def day_night(df):\n",
    "    #rush_range_1 = 2 # around the rush hour by +- 2 hrs\n",
    "    #rush_range_2 = 4 # around the rush hour by +- 4 hrs\n",
    "    if (df['Hour'] >=6 and df['Hour'] <=18):\n",
    "        return 1\n",
    "    else:\n",
    "        return 0\n",
    "\n",
    "new_feature_data_series(df_prep,['Hour'],day_night,'day_night')"
   ]
  },
  {
   "cell_type": "raw",
   "metadata": {},
   "source": [
    "# for humidity \n",
    "increase from 0 to 50% , decay from 50 to 100%\n",
    "how can we factor that?"
   ]
  },
  {
   "cell_type": "code",
   "execution_count": 19,
   "metadata": {},
   "outputs": [],
   "source": [
    "new_feature_data_series(df_prep,['Humidity(%)'],lambda df : 0 if (df['Humidity(%)'] <= 70) else 1,'Humidity_high')"
   ]
  },
  {
   "cell_type": "code",
   "execution_count": 20,
   "metadata": {},
   "outputs": [],
   "source": [
    "new_feature_data_series(df_prep,['Temperature(C)'],lambda df : 0 if (df['Temperature(C)'] <= 35) else 1,'Temperature_high')"
   ]
  },
  {
   "cell_type": "code",
   "execution_count": 21,
   "metadata": {},
   "outputs": [],
   "source": [
    "new_feature_data_series(df_prep,['Humidity(%)','Temperature(C)','Solar Radiation (MJ/m2)','Wind speed (m/s)'],lambda df : 0 if (df['Temperature(C)'] < 35) and (df['Humidity(%)'] < 70) and (df['Solar Radiation (MJ/m2)'] < 1.4) else 1,'Weather_bad')"
   ]
  },
  {
   "cell_type": "code",
   "execution_count": 22,
   "metadata": {},
   "outputs": [],
   "source": [
    "#something is wrong in feels like equation\n",
    "# def feels_like(df):\n",
    "#     ### inputs temp & humidity , outputs feels like temp\n",
    "#     ## equation heat_index = c1 + c2 T + c3 R + c4 TR + c5 T^2 + c6 R^2 +...\n",
    "#     c1 = -8.78469475556\n",
    "#     c2 = 1.61139411\n",
    "#     c3 = 2.33854883889\n",
    "#     c4 = -0.14611605\n",
    "#     c5 = -0.012308094\n",
    "#     c6 = -0.0164248277778\n",
    "#     c7 = 0.002211732\n",
    "#     c8 = 0.00072546\n",
    "#     c9 = -0.000003582\n",
    "#     T = df['Temperature(C)']\n",
    "#     R = df['Humidity(%)']\n",
    "#     is_functionalDay = df['Functioning Day']\n",
    "#     HI = (c1) + (c2 * T) +( c3 * R) + (c4  * T * R )+ (c5 *( T**2 ))+ (c6 * (R**2)) + (c7 * (T**2) * R) + (c8 * T * (R**2)) + (c9 * (T**2) * (R**2))\n",
    "#     #HI = c1 + (c2 * T) +( c3 * R )+ (c4  * T * R )+ (c5 * T**2 )\n",
    "#     return HI \n",
    "\n",
    "#new_feature_data_series(df_prep,['Temperature(C)','Humidity(%)','Functioning Day'],feels_like,'Feels_like')\n",
    "def humidex(df):\n",
    "    ### humidex\n",
    "    ## eq H = Tair + 5/9 * [(6.11 * e^5417.7530 * (a-b)) - 10 ]\n",
    "    Tair = df['Temperature(C)']\n",
    "    Tdew = df['Dew point temperature(C)']\n",
    "    is_functionalDay = df['Functioning Day']\n",
    "    a = 1/273.16\n",
    "    b = 1/(273.15 + Tdew)\n",
    "    Humidex = Tair + (5/9) * (6.11 * np.exp(5417.7530 * (a-b)) -10)\n",
    "    return Humidex  \n",
    "new_feature_data_series(df_prep,['Temperature(C)','Dew point temperature(C)','Functioning Day'],humidex,'Humidex')"
   ]
  },
  {
   "cell_type": "code",
   "execution_count": 23,
   "metadata": {},
   "outputs": [],
   "source": [
    "df_prep['Ideal'] = df[['Temperature(C)', 'Wind speed (m/s)']] \\\n",
    "    .apply(lambda df: 1 if (df['Temperature(C)'] < 30 and df['Wind speed (m/s)'] < 2.8) else 0, axis = 1)"
   ]
  },
  {
   "cell_type": "code",
   "execution_count": 24,
   "metadata": {},
   "outputs": [
    {
     "data": {
      "text/plain": [
       "1    4548\n",
       "0    1212\n",
       "Name: Ideal, dtype: int64"
      ]
     },
     "execution_count": 24,
     "metadata": {},
     "output_type": "execute_result"
    }
   ],
   "source": [
    "df_prep[\"Ideal\"].value_counts()"
   ]
  },
  {
   "cell_type": "raw",
   "metadata": {},
   "source": [
    "# for visibility\n",
    "three important ranges very low , low low , normal_>\n",
    "how can we factor that?"
   ]
  },
  {
   "cell_type": "code",
   "execution_count": 25,
   "metadata": {},
   "outputs": [],
   "source": [
    "def visibility(df):\n",
    "    #0:250 , 250:500 : 500:inf\n",
    "    \n",
    "    if df['Visibility (10m)'] <=250 :\n",
    "        return 0\n",
    "    elif df['Visibility (10m)'] <=350 :\n",
    "        return 1\n",
    "    elif df['Visibility (10m)'] <=450 :\n",
    "        return 1\n",
    "    elif df['Visibility (10m)'] <=550 :\n",
    "        return 2\n",
    "    elif df['Visibility (10m)'] <=650 :\n",
    "        return 2\n",
    "    elif df['Visibility (10m)'] <=850 :\n",
    "        return 3\n",
    "    elif df['Visibility (10m)'] <=1150 :\n",
    "        return 3\n",
    "    elif df['Visibility (10m)'] <=1350 :\n",
    "        return 4\n",
    "    else:\n",
    "        return 5\n",
    "    \n",
    "new_feature_data_series(df_prep,['Visibility (10m)'],visibility,'Visibility_cat')"
   ]
  },
  {
   "cell_type": "code",
   "execution_count": 26,
   "metadata": {},
   "outputs": [],
   "source": [
    "def visibility_dist(df):\n",
    "    #0:250 , 250:500 : 500:inf\n",
    "    \n",
    "    if df['Visibility (10m)'] <100 :     #can't see\n",
    "        return 1\n",
    "    elif df['Visibility (10m)'] <400 :   # foggy\n",
    "        return 2\n",
    "    elif df['Visibility (10m)'] <1000 :  # low fog\n",
    "        return 3\n",
    "    elif df['Visibility (10m)'] <2000 :  # no fog (good vision)\n",
    "        return 4\n",
    "    elif df['Visibility (10m)'] <4000 :  # no fog (excellent vision)\n",
    "        return 5\n",
    "    else:\n",
    "        return 5\n",
    "    \n",
    "new_feature_data_series(df_prep,['Visibility (10m)'],visibility_dist,'Visibility_dist')"
   ]
  },
  {
   "cell_type": "code",
   "execution_count": 27,
   "metadata": {},
   "outputs": [],
   "source": [
    "# for rainfall\n",
    "\n",
    "def rain_fall(df):\n",
    "    # 0:2.5 , \n",
    "    \n",
    "    if df['Rainfall(mm)'] < 0.5 :\n",
    "        return 0\n",
    "    else:\n",
    "        return 1\n",
    "\n",
    "new_feature_data_series(df_prep,['Rainfall(mm)'],rain_fall,'Rain_cat')"
   ]
  },
  {
   "cell_type": "code",
   "execution_count": 28,
   "metadata": {},
   "outputs": [],
   "source": [
    "def snow_fall(df):\n",
    "    # 0:2.5 , \n",
    "    \n",
    "    if df['Snowfall (cm)'] == 0 :\n",
    "        return 0\n",
    "    else:\n",
    "        return 1\n",
    "\n",
    "new_feature_data_series(df_prep,['Snowfall (cm)'],snow_fall,'Snow_cat')"
   ]
  },
  {
   "cell_type": "code",
   "execution_count": 29,
   "metadata": {},
   "outputs": [],
   "source": [
    "def Sunny_Hot (df):\n",
    "    if ((df['Temperature(C)']>25)&((df['Solar Radiation (MJ/m2)'] >2)&(df['day_night']==1))):\n",
    "        return True\n",
    "    else:\n",
    "        return False\n",
    "\n",
    "def Clear_hot (df):\n",
    "    if ((df['Temperature(C)']>25)&(((df['Solar Radiation (MJ/m2)'] <=2)&(df['Solar Radiation (MJ/m2)'] >1))\\\n",
    "                                   &(df['day_night']==1))&(df['Rainfall(mm)'] == 0)&(df['Snowfall (cm)'] == 0)):\n",
    "        return True\n",
    "    else:\n",
    "        return False\n",
    "\n",
    "def PCloudy_hot(df):  \n",
    "    if((df['Temperature(C)']>25)&(((df['Solar Radiation (MJ/m2)'] <=1)&(df['Solar Radiation (MJ/m2)'] >0.5))\\\n",
    "                                                       &(df['day_night']==1))&(df['Rainfall(mm)'] == 0)&(df['Snowfall (cm)'] == 0)):\n",
    "        return True\n",
    "    else:\n",
    "        return False\n",
    "def Cloudy_hot(df): \n",
    "    if((df['Temperature(C)']>25)&(((df['Solar Radiation (MJ/m2)'] <=0.5))&(df['day_night']==1))\\\n",
    "                      &(df['Rainfall(mm)'] == 0)&(df['Snowfall (cm)'] == 0)):\n",
    "        return True\n",
    "    else:\n",
    "        return False\n",
    "def Rain_hot(df):  \n",
    "    if((df['Temperature(C)']>25)&(df['Rainfall(mm)'] >0)&(df['Snowfall (cm)'] == 0)):\n",
    "        return True\n",
    "    else:\n",
    "        return False\n",
    "\n",
    "def Night_hot(df): \n",
    "    if((df['Temperature(C)']>25)&(df['day_night']==0)\n",
    "                      &(df['Rainfall(mm)'] == 0)&(df['Snowfall (cm)'] == 0)):\n",
    "        return True\n",
    "    else:\n",
    "        return False\n",
    "\n",
    "#len(sunny_hot)+len(Clear_hot)+len(PCloudy_hot)+len(Cloudy_hot)+len(Rain_hot)+len(Night_hot)"
   ]
  },
  {
   "cell_type": "code",
   "execution_count": 30,
   "metadata": {},
   "outputs": [],
   "source": [
    "def Sunny_Warm (df):\n",
    "    if (((df['Temperature(C)']<=25)&(df['Temperature(C)']>10))&((df['Solar Radiation (MJ/m2)'] >2)&(df['day_night']==1))):\n",
    "        return True\n",
    "    else:\n",
    "        return False\n",
    "\n",
    "def Clear_Warm (df):\n",
    "    if (((df['Temperature(C)']<=25)&(df['Temperature(C)']>10))\\\n",
    "        &(((df['Solar Radiation (MJ/m2)'] <=2)&(df['Solar Radiation (MJ/m2)'] >1))&(df['day_night']==1))\\\n",
    "        &(df['Rainfall(mm)'] == 0)&(df['Snowfall (cm)'] == 0)):\n",
    "        return True\n",
    "    else:\n",
    "        return False\n",
    "\n",
    "def PCloudy_Warm(df):  \n",
    "    if(((df['Temperature(C)']<=25)&(df['Temperature(C)']>10))\\\n",
    "       &(((df['Solar Radiation (MJ/m2)'] <=1)&(df['Solar Radiation (MJ/m2)'] >0.5))&(df['day_night']==1))\\\n",
    "       &(df['Rainfall(mm)'] == 0)&(df['Snowfall (cm)'] == 0)):\n",
    "        return True\n",
    "    else:\n",
    "        return False\n",
    "def Cloudy_Warm(df): \n",
    "    if(((df['Temperature(C)']<=25)&(df['Temperature(C)']>10))\\\n",
    "       &(((df['Solar Radiation (MJ/m2)'] <=0.5))&(df['day_night']==1))\\\n",
    "       &(df['Rainfall(mm)'] == 0)&(df['Snowfall (cm)'] == 0)):\n",
    "        return True\n",
    "    else:\n",
    "        return False\n",
    "def Rain_Warm(df):  \n",
    "    if(((df['Temperature(C)']<=25)&(df['Temperature(C)']>10))&(df['Rainfall(mm)'] >0)&(df['Snowfall (cm)'] == 0)):\n",
    "        return True\n",
    "    else:\n",
    "        return False\n",
    "\n",
    "def Night_Warm(df): \n",
    "    if(((df['Temperature(C)']<=25)&(df['Temperature(C)']>10))\\\n",
    "       &(df['day_night']==0)&(df['Rainfall(mm)'] == 0)&(df['Snowfall (cm)'] == 0)):\n",
    "        return True\n",
    "    else:\n",
    "        return False"
   ]
  },
  {
   "cell_type": "code",
   "execution_count": 31,
   "metadata": {},
   "outputs": [],
   "source": [
    "def Sunny_Cold (df):\n",
    "    if (((df['Temperature(C)']<=10)&(df['Temperature(C)']>0))&((df['Solar Radiation (MJ/m2)'] >2)&(df['day_night']==1))):\n",
    "        return True\n",
    "    else:\n",
    "        return False\n",
    "\n",
    "def Clear_Cold (df):\n",
    "    if (((df['Temperature(C)']<=10)&(df['Temperature(C)']>0))\\\n",
    "        &(((df['Solar Radiation (MJ/m2)'] <=2)&(df['Solar Radiation (MJ/m2)'] >1))&(df['day_night']==1))\\\n",
    "        &(df['Rainfall(mm)'] == 0)&(df['Snowfall (cm)'] == 0)):\n",
    "        return True\n",
    "    else:\n",
    "        return False\n",
    "\n",
    "def PCloudy_Cold(df):  \n",
    "    if(((df['Temperature(C)']<=10)&(df['Temperature(C)']>0))\\\n",
    "       &(((df['Solar Radiation (MJ/m2)'] <=1)&(df['Solar Radiation (MJ/m2)'] >0.5))&(df['day_night']==1))\\\n",
    "       &(df['Rainfall(mm)'] == 0)&(df['Snowfall (cm)'] == 0)):\n",
    "        return True\n",
    "    else:\n",
    "        return False\n",
    "def Cloudy_Cold(df): \n",
    "    if(((df['Temperature(C)']<=10)&(df['Temperature(C)']>0))\\\n",
    "       &(((df['Solar Radiation (MJ/m2)'] <=0.5))&(df['day_night']==1))\\\n",
    "       &(df['Rainfall(mm)'] == 0)&(df['Snowfall (cm)'] == 0)):\n",
    "        return True\n",
    "    else:\n",
    "        return False\n",
    "def Rain_Cold(df):  \n",
    "    if(((df['Temperature(C)']<=10)&(df['Temperature(C)']>0))&(df['Rainfall(mm)'] >0)&(df['Snowfall (cm)'] == 0)):\n",
    "        return True\n",
    "    else:\n",
    "        return False\n",
    "def Snow_Cold(df):  \n",
    "    if(((df['Temperature(C)']<=10)&(df['Temperature(C)']>0))&(df['Rainfall(mm)'] ==0)&(df['Snowfall (cm)'] >0)):\n",
    "        return True\n",
    "    else:\n",
    "        return False\n",
    "def Night_Cold(df): \n",
    "    if(((df['Temperature(C)']<=10)&(df['Temperature(C)']>0))\\\n",
    "       &(df['day_night']==0)&(df['Rainfall(mm)'] == 0)&(df['Snowfall (cm)'] == 0)):\n",
    "        return True\n",
    "    else:\n",
    "        return False"
   ]
  },
  {
   "cell_type": "code",
   "execution_count": 32,
   "metadata": {},
   "outputs": [],
   "source": [
    "def Sunny_Freezing (df):\n",
    "    if ((df['Temperature(C)']<=0)&((df['Solar Radiation (MJ/m2)'] >2)&(df['day_night']==1))):\n",
    "        return True\n",
    "    else:\n",
    "        return False\n",
    "\n",
    "def Clear_Freezing (df):\n",
    "    if ((df['Temperature(C)']<=0)&(((df['Solar Radiation (MJ/m2)'] <=2)&(df['Solar Radiation (MJ/m2)'] >1))\\\n",
    "                                   &(df['day_night']==1))&(df['Rainfall(mm)'] == 0)&(df['Snowfall (cm)'] == 0)):\n",
    "        return True\n",
    "    else:\n",
    "        return False\n",
    "\n",
    "def PCloudy_Freezing(df):  \n",
    "    if((df['Temperature(C)']<=0)&(((df['Solar Radiation (MJ/m2)'] <=1)&(df['Solar Radiation (MJ/m2)'] >0.5))\\\n",
    "                                                       &(df['day_night']==1))&(df['Rainfall(mm)'] == 0)&(df['Snowfall (cm)'] == 0)):\n",
    "        return True\n",
    "    else:\n",
    "        return False\n",
    "def Cloudy_Freezing(df): \n",
    "    if((df['Temperature(C)']<=0)&(((df['Solar Radiation (MJ/m2)'] <=0.5))&(df['day_night']==1))\\\n",
    "                      &(df['Rainfall(mm)'] == 0)&(df['Snowfall (cm)'] == 0)):\n",
    "        return True\n",
    "    else:\n",
    "        return False\n",
    "def Rain_Freezing(df):  \n",
    "    if((df['Temperature(C)']<=0)&(df['Rainfall(mm)'] >0)&(df['Snowfall (cm)'] == 0)):\n",
    "        return True\n",
    "    else:\n",
    "        return False\n",
    "def Snow_Freezing(df):  \n",
    "    if((df['Temperature(C)']<=0)&(df['Rainfall(mm)'] ==0)&(df['Snowfall (cm)'] >0)):\n",
    "        return True\n",
    "    else:\n",
    "        return False\n",
    "\n",
    "def Night_Freezing(df): \n",
    "    if((df['Temperature(C)']<=0)&(df['day_night']==0)\n",
    "                      &(df['Rainfall(mm)'] == 0)&(df['Snowfall (cm)'] == 0)):\n",
    "        return True\n",
    "    else:\n",
    "        return False\n",
    "def Rain_Snow(df):\n",
    "    if (df['Rainfall(mm)'] >0)&(df['Snowfall (cm)'] >0):\n",
    "        return True\n",
    "    else:\n",
    "        return False\n",
    "\n",
    "#len(sunny_hot)+len(Clear_hot)+len(PCloudy_hot)+len(Cloudy_hot)+len(Rain_hot)+len(Night_hot)"
   ]
  },
  {
   "cell_type": "code",
   "execution_count": null,
   "metadata": {},
   "outputs": [],
   "source": []
  },
  {
   "cell_type": "code",
   "execution_count": 33,
   "metadata": {},
   "outputs": [],
   "source": [
    "df_prep['Weather_State'] =df_prep[['Temperature(C)', 'Solar Radiation (MJ/m2)' , 'day_night','Snowfall (cm)','Rainfall(mm)']]  \\\n",
    "    .apply(lambda df: \"Sunny_hot\" if Sunny_Hot(df)\\\n",
    "           else \"Clear_hot\" if Clear_hot(df)\\\n",
    "           else \"PCloudy_hot\" if PCloudy_hot(df)\\\n",
    "           else \"Cloudy_hot\" if Cloudy_hot(df)\\\n",
    "           else \"Rain_hot\" if Rain_hot(df)\\\n",
    "           else \"Night_hot\" if Night_hot(df)\\\n",
    "           else \"Sunny_Warm\" if Sunny_Warm(df)\\\n",
    "           else \"Clear_Warm\" if Clear_Warm(df)\\\n",
    "           else \"PCloudy_Warm\" if PCloudy_Warm(df)\\\n",
    "           else \"Cloudy_Warm\" if Cloudy_Warm(df)\\\n",
    "           else \"Rain_Warm\" if Rain_Warm(df)\\\n",
    "           else \"Night_Warm\" if Night_Warm(df)\\\n",
    "           else \"Sunny_Cold\" if Sunny_Cold(df)\\\n",
    "           else \"Clear_Cold\" if Clear_Cold(df)\\\n",
    "           else \"PCloudy_Cold\" if PCloudy_Cold(df)\\\n",
    "           else \"Cloudy_Cold\" if Cloudy_Cold(df)\\\n",
    "           else \"Rain_Cold\" if Rain_Cold(df)\\\n",
    "           else \"Snow_Cold\" if Snow_Cold(df)\\\n",
    "           else \"Night_Cold\" if Night_Cold(df)\\\n",
    "           else \"Sunny_Freezing\" if Sunny_Freezing(df)\\\n",
    "           else \"Clear_Freezing\" if Clear_Freezing(df)\\\n",
    "           else \"PCloudy_Freezing\" if PCloudy_Freezing(df)\\\n",
    "           else \"Cloudy_Freezing\" if Cloudy_Freezing(df)\\\n",
    "           else \"Rain_Freezing\" if Rain_Freezing(df)\\\n",
    "           else \"Snow_Freezing\" if Snow_Freezing(df)\\\n",
    "           else \"Night_Freezing\" if Night_Freezing(df)\\\n",
    "           else \"Rain&Snow\" if Rain_Snow(df)\\\n",
    "           else 0, axis = 1)"
   ]
  },
  {
   "cell_type": "code",
   "execution_count": 34,
   "metadata": {},
   "outputs": [],
   "source": [
    "Weather_Description_list = ['Night_Freezing', 'Cloudy_Freezing', 'PCloudy_Freezing',\n",
    "                            'Clear_Cold', 'PCloudy_Cold', 'Cloudy_Cold', 'Night_Cold',\n",
    "                            'Rain_Cold', 'Clear_Freezing', 'Rain&Snow', 'Snow_Freezing',\n",
    "                            'Snow_Cold', 'Sunny_Freezing', 'Sunny_Cold', 'Sunny_Warm',\n",
    "                            'Clear_Warm', 'PCloudy_Warm', 'Cloudy_Warm', 'Night_Warm',\n",
    "                            'Rain_Warm', 'Sunny_hot', 'Clear_hot', 'Cloudy_hot', 'Night_hot',\n",
    "                            'PCloudy_hot', 'Rain_hot']\n",
    "length = len(Weather_Description_list)+1\n",
    "Weather_Description_neumeric = [*range(1, length, 1)]"
   ]
  },
  {
   "cell_type": "code",
   "execution_count": 35,
   "metadata": {},
   "outputs": [],
   "source": [
    "map_data_series(df_prep,'Weather_State',Weather_Description_list,Weather_Description_neumeric)"
   ]
  },
  {
   "cell_type": "code",
   "execution_count": 36,
   "metadata": {},
   "outputs": [],
   "source": [
    "new_feature_data_series(df_prep,['Weather_State','Visibility_dist'],lambda df :df['Weather_State']*(df['Visibility_dist']),'Weather_stat&visb_dist')"
   ]
  },
  {
   "cell_type": "code",
   "execution_count": 37,
   "metadata": {},
   "outputs": [],
   "source": [
    "new_feature_data_series(df_prep,['Weather_State','Visibility (10m)'],lambda df :df['Weather_State']*np.log(df['Visibility (10m)']),'Weather&visb')"
   ]
  },
  {
   "cell_type": "code",
   "execution_count": 38,
   "metadata": {},
   "outputs": [],
   "source": [
    "def Clear(df):\n",
    "    if (df['Solar Radiation (MJ/m2)'] >2) & (df['day_night'] ==1):\n",
    "        return 1\n",
    "    else:\n",
    "        return 0\n",
    "    \n",
    "def Few_Clouds(df):\n",
    "    if (((df['Solar Radiation (MJ/m2)'] <=2)&(df['Solar Radiation (MJ/m2)'] >1.5)) & (df['day_night'] ==1)):\n",
    "        return 1  \n",
    "    else:\n",
    "        return 0\n",
    "    \n",
    "def Scatterd_Clouds(df):\n",
    "    if (((df['Solar Radiation (MJ/m2)'] <=1.5)&(df['Solar Radiation (MJ/m2)'] >1)) & (df['day_night'] ==1)):\n",
    "        return 1  \n",
    "    else:\n",
    "        return 0\n",
    "    \n",
    "def Partly_Cloudy(df):\n",
    "    if (((df['Solar Radiation (MJ/m2)'] <=1)&(df['Solar Radiation (MJ/m2)'] >0.5)) & (df['day_night'] ==1)):\n",
    "        return 1  \n",
    "    else:\n",
    "        return 0\n",
    "    \n",
    "def Cloudy(df):\n",
    "    if ((df['Solar Radiation (MJ/m2)'] <= 0.5) & (df['day_night'] ==1)):\n",
    "        return 1\n",
    "    else:\n",
    "        return 0\n",
    "    \n",
    "def Night(df):\n",
    "    if ((df['Solar Radiation (MJ/m2)'] <= 0.8) & (df['day_night'] ==0)):\n",
    "        return 1\n",
    "    else:\n",
    "        return 0\n",
    "    "
   ]
  },
  {
   "cell_type": "code",
   "execution_count": 39,
   "metadata": {},
   "outputs": [],
   "source": [
    "def Mist(df):\n",
    "    if df['Visibility_dist'] == 3:\n",
    "        return 1\n",
    "    else:\n",
    "        return 0\n",
    "    \n",
    "def Fog(df):\n",
    "    if ((df['Visibility_dist'] == 1) | (df['Visibility_dist'] == 2)) :\n",
    "        return 1\n",
    "    else:\n",
    "        return 0"
   ]
  },
  {
   "cell_type": "code",
   "execution_count": 40,
   "metadata": {},
   "outputs": [],
   "source": [
    "def Light_Rain(df):\n",
    "    if ((df['Rainfall(mm)']) >0 & (df['Rainfall(mm)'] < 2.5))  :\n",
    "        return 1\n",
    "    else:\n",
    "        return 0\n",
    "    \n",
    "def Heavy_Rain(df):\n",
    "    if (df['Rainfall(mm)'] >= 2.5)  :\n",
    "        return 1\n",
    "    else:\n",
    "        return 0\n",
    "def Ice_pallets(df):\n",
    "        if ((df['Rainfall(mm)'] > 0 )& (df['Snowfall (cm)'] > 0 ))  :\n",
    "            return 1\n",
    "        else:\n",
    "            return 0\n"
   ]
  },
  {
   "cell_type": "code",
   "execution_count": 41,
   "metadata": {},
   "outputs": [],
   "source": [
    "def Light_Snow(df):\n",
    "    if ((df['Snowfall (cm)']) >0 & (df['Snowfall (cm)'] < 1))  :\n",
    "        return 1\n",
    "    else:\n",
    "        return 0\n",
    "    \n",
    "def Snow(df):\n",
    "    if (df['Snowfall (cm)'] >= 1)  :\n",
    "        return 1\n",
    "    else:\n",
    "        return 0"
   ]
  },
  {
   "cell_type": "code",
   "execution_count": 42,
   "metadata": {},
   "outputs": [],
   "source": [
    "def Cond1(df):\n",
    "    if Clear(df) or Few_Clouds(df) or Partly_Cloudy(df) or Cloudy(df):\n",
    "        return 1\n",
    "    else:\n",
    "        return 0\n",
    "def Cond2(df):\n",
    "    if (Mist(df) and Cloudy(df)) or (Mist(df) and Partly_Cloudy(df)) or (Mist(df) and Few_Clouds(df)) or Mist(df):\n",
    "        return 1\n",
    "    else:\n",
    "        return 0\n",
    "def Cond3(df):\n",
    "    if Light_Snow(df) or (Light_Rain(df) and Scatterd_Clouds(df)) or Light_Rain(df):\n",
    "        return 1\n",
    "    else:\n",
    "        return 0\n",
    "def Cond4(df):\n",
    "    if (Ice_pallets(df) and Mist(df)) or (Snow(df) and Fog(df)) or Snow(df) :\n",
    "        return 1\n",
    "    else:\n",
    "        return 0\n",
    "def Cond5(df):\n",
    "    if Night(df):\n",
    "        return 1\n",
    "    else:\n",
    "        return 0"
   ]
  },
  {
   "cell_type": "code",
   "execution_count": 43,
   "metadata": {},
   "outputs": [],
   "source": [
    "df_prep['Sky_State'] =df_prep[['Temperature(C)','Visibility_dist', 'Solar Radiation (MJ/m2)' , 'day_night','Snowfall (cm)','Rainfall(mm)']]  \\\n",
    "    .apply(lambda df: 4 if Cond4(df)\\\n",
    "                 else 2 if Cond2(df)\\\n",
    "                 else 3 if Cond3(df)\\\n",
    "                 else 1 if Cond1(df)\\\n",
    "                 \n",
    "                 else 5, axis = 1)"
   ]
  },
  {
   "cell_type": "code",
   "execution_count": 44,
   "metadata": {},
   "outputs": [],
   "source": [
    "def Hot(df):\n",
    "    if (df['Temperature(C)']>25):\n",
    "        return 1\n",
    "    else:\n",
    "        return 0\n",
    "def Warm(df):\n",
    "    if ((df['Temperature(C)']<=25)&(df['Temperature(C)']>10)):\n",
    "        return 1\n",
    "    else:\n",
    "        return 0\n",
    "def Cold(df):\n",
    "    if ((df['Temperature(C)']<=10)&(df['Temperature(C)']>0)):\n",
    "        return 1\n",
    "    else:\n",
    "        return 0\n",
    "def Freezing(df):\n",
    "    if (df['Temperature(C)']<=0):\n",
    "        return 1\n",
    "    else:\n",
    "        return 0"
   ]
  },
  {
   "cell_type": "code",
   "execution_count": 45,
   "metadata": {},
   "outputs": [],
   "source": [
    "df_prep['Temp_State'] =df_prep[['Temperature(C)','Visibility_dist', 'Solar Radiation (MJ/m2)' , 'day_night','Snowfall (cm)','Rainfall(mm)']]  \\\n",
    "    .apply(lambda df: 1 if Warm(df)\\\n",
    "                 else 2 if Cold(df)\\\n",
    "                 else 3 if Hot(df)\\\n",
    "                 else 4 if Freezing(df)\\\n",
    "                 \n",
    "                 else 5, axis = 1)"
   ]
  },
  {
   "cell_type": "code",
   "execution_count": 46,
   "metadata": {},
   "outputs": [
    {
     "data": {
      "text/plain": [
       "Temp_State\n",
       "1             2396\n",
       "2             1358\n",
       "3             1004\n",
       "4             1002\n",
       "dtype: int64"
      ]
     },
     "execution_count": 46,
     "metadata": {},
     "output_type": "execute_result"
    }
   ],
   "source": [
    "df_prep[[\"Temp_State\"]].value_counts()"
   ]
  },
  {
   "cell_type": "code",
   "execution_count": 47,
   "metadata": {},
   "outputs": [],
   "source": [
    "new_feature_data_series(df_prep,['Sky_State','Temp_State'],lambda df :df['Sky_State']*(df['Temp_State']),'GBL_Forecast')"
   ]
  },
  {
   "cell_type": "code",
   "execution_count": 48,
   "metadata": {},
   "outputs": [],
   "source": [
    "df_prep[\"Date_tmp\"] = df_prep['Date'].dt.to_period('M')\n",
    "new_feature_df = pd.DataFrame(df_prep.groupby(['Date_tmp', 'Year'])['y'].mean()).sort_values([\"Year\"])\n",
    "new_feature_df = pd.DataFrame(new_feature_df['y'].shift(+t))\n",
    "new_feature_df.reset_index(inplace=True)\n",
    "new_feature_df.rename(columns={'y':'Prev Month y'}, inplace=True)\n",
    "new_feature_df.drop(['Year'], axis = 1, inplace =True)\n",
    "new_feature_df.fillna(new_feature_df.mean(), inplace = True)"
   ]
  },
  {
   "cell_type": "code",
   "execution_count": 49,
   "metadata": {},
   "outputs": [],
   "source": [
    "df_prep = pd.merge(df_prep, new_feature_df, on='Date_tmp', how='left')"
   ]
  },
  {
   "cell_type": "code",
   "execution_count": 50,
   "metadata": {},
   "outputs": [],
   "source": [
    "df_prep[\"Temperature lag1\"] = df_prep[\"Temperature(C)\"].shift(+t)\n",
    "df_prep[\"Temperature lag1\"].fillna(0, inplace=True)\n",
    "\n",
    "\n",
    "\n",
    "\n",
    "df_prep[\"Rainfall lag1\"] = df_prep[\"Rainfall(mm)\"].shift(+t)\n",
    "df_prep[\"Rainfall lag1\"].fillna(0, inplace=True)\n",
    "\n",
    "df_prep[\"Visibility  lag1\"] = df_prep[\"Visibility (10m)\"].shift(+t)\n",
    "df_prep[\"Visibility  lag1\"].fillna(0, inplace=True)\n",
    "\n",
    "\n",
    "\n",
    "df_prep[\"Wind speed lag1\"] = df_prep[\"Wind speed (m/s)\"].shift(+t)\n",
    "df_prep[\"Wind speed lag1\"].fillna(0, inplace=True)\n",
    "\n",
    "\n",
    "\n",
    "df_prep[\"Weather_State lag1\"] = df_prep[\"Weather_State\"].shift(+t)\n",
    "df_prep[\"Weather_State lag1\"].fillna(0, inplace=True)\n",
    "\n",
    "\n",
    "\n",
    "df_prep[\"Humidity lag1\"] = df_prep[\"Humidity(%)\"].shift(+t)\n",
    "df_prep[\"Humidity lag1\"].fillna(0, inplace=True)\n",
    "\n",
    "\n",
    "\n",
    "df_prep[\"Humidity lag2\"] = df_prep[\"Humidity(%)\"].shift(+t-1)\n",
    "df_prep[\"Humidity lag2\"].fillna(0, inplace=True)\n",
    "\n",
    "df_prep[\"Rainfall(mm) rolling\"] =df_prep [\"Rainfall(mm)\"].rolling(2).sum()\n",
    "df_prep[\"Rainfall(mm) rolling\"].fillna(0, inplace=True)\n",
    "\n",
    "df_prep[\"Wind speed (m/s) rolling\"] =df_prep[\"Weather_State\"].rolling(2).sum()\n",
    "df_prep[\"Wind speed (m/s) rolling\"].fillna(0, inplace=True)\n",
    "\n",
    "\n",
    "df_prep[\"Rush_hour lag1\"] = df_prep[\"Rush_hour\"].shift(+t)\n",
    "df_prep[\"Rush_hour lag1\"].fillna(0, inplace=True)\n",
    "\n",
    "\n",
    "\n",
    "df_prep[\"Dead_hour lag1\"] = df_prep[\"Dead_hour\"].shift(+t)\n",
    "df_prep[\"Dead_hour lag1\"].fillna(0, inplace=True)\n",
    "\n",
    "\n",
    "df_prep[\"Ideal lag1\"] = df_prep[\"Ideal\"].shift(+t)\n",
    "df_prep[\"Ideal lag1\"].fillna(0, inplace=True)\n",
    "\n",
    "df_prep[\"Ideal lag2\"] = df_prep[\"Ideal\"].shift(+t-1)\n",
    "df_prep[\"Ideal lag2\"].fillna(0, inplace=True)\n",
    "\n",
    "df_prep[\"Rush_hour lag2\"] = df_prep[\"Rush_hour\"].shift(+t-1)\n",
    "df_prep[\"Rush_hour lag2\"].fillna(0, inplace=True)\n",
    "\n",
    "\n",
    "\n",
    "df_prep[\"Dew point temperature(C) lag1\"] = df_prep[\"Dew point temperature(C)\"].shift(+t)\n",
    "df_prep[\"Dew point temperature(C) lag1\"].fillna(0, inplace=True)"
   ]
  },
  {
   "cell_type": "code",
   "execution_count": 51,
   "metadata": {},
   "outputs": [
    {
     "data": {
      "text/plain": [
       "Index(['Date', 'y', 'Hour', 'Temperature(C)', 'Humidity(%)',\n",
       "       'Wind speed (m/s)', 'Visibility (10m)', 'Dew point temperature(C)',\n",
       "       'Solar Radiation (MJ/m2)', 'Rainfall(mm)', 'Snowfall (cm)', 'Seasons',\n",
       "       'Holiday', 'Functioning Day', 'Year', 'Week', 'Month', 'WeekDay',\n",
       "       'Rush_hour', 'Dead_hour', 'day_night', 'Humidity_high',\n",
       "       'Temperature_high', 'Weather_bad', 'Humidex', 'Ideal', 'Visibility_cat',\n",
       "       'Visibility_dist', 'Rain_cat', 'Snow_cat', 'Weather_State',\n",
       "       'Weather_stat&visb_dist', 'Weather&visb', 'Sky_State', 'Temp_State',\n",
       "       'GBL_Forecast', 'Date_tmp', 'Prev Month y', 'Temperature lag1',\n",
       "       'Rainfall lag1', 'Visibility  lag1', 'Wind speed lag1',\n",
       "       'Weather_State lag1', 'Humidity lag1', 'Humidity lag2',\n",
       "       'Rainfall(mm) rolling', 'Wind speed (m/s) rolling', 'Rush_hour lag1',\n",
       "       'Dead_hour lag1', 'Ideal lag1', 'Ideal lag2', 'Rush_hour lag2',\n",
       "       'Dew point temperature(C) lag1'],\n",
       "      dtype='object')"
      ]
     },
     "execution_count": 51,
     "metadata": {},
     "output_type": "execute_result"
    }
   ],
   "source": [
    "df_prep.columns"
   ]
  },
  {
   "cell_type": "code",
   "execution_count": 52,
   "metadata": {},
   "outputs": [
    {
     "data": {
      "text/plain": [
       "Date                             0\n",
       "y                                0\n",
       "Hour                             0\n",
       "Temperature(C)                   0\n",
       "Humidity(%)                      0\n",
       "Wind speed (m/s)                 0\n",
       "Visibility (10m)                 0\n",
       "Dew point temperature(C)         0\n",
       "Solar Radiation (MJ/m2)          0\n",
       "Rainfall(mm)                     0\n",
       "Snowfall (cm)                    0\n",
       "Seasons                          0\n",
       "Holiday                          0\n",
       "Functioning Day                  0\n",
       "Year                             0\n",
       "Week                             0\n",
       "Month                            0\n",
       "WeekDay                          0\n",
       "Rush_hour                        0\n",
       "Dead_hour                        0\n",
       "day_night                        0\n",
       "Humidity_high                    0\n",
       "Temperature_high                 0\n",
       "Weather_bad                      0\n",
       "Humidex                          0\n",
       "Ideal                            0\n",
       "Visibility_cat                   0\n",
       "Visibility_dist                  0\n",
       "Rain_cat                         0\n",
       "Snow_cat                         0\n",
       "Weather_State                    0\n",
       "Weather_stat&visb_dist           0\n",
       "Weather&visb                     0\n",
       "Sky_State                        0\n",
       "Temp_State                       0\n",
       "GBL_Forecast                     0\n",
       "Date_tmp                         0\n",
       "Prev Month y                     0\n",
       "Temperature lag1                 0\n",
       "Rainfall lag1                    0\n",
       "Visibility  lag1                 0\n",
       "Wind speed lag1                  0\n",
       "Weather_State lag1               0\n",
       "Humidity lag1                    0\n",
       "Humidity lag2                    0\n",
       "Rainfall(mm) rolling             0\n",
       "Wind speed (m/s) rolling         0\n",
       "Rush_hour lag1                   0\n",
       "Dead_hour lag1                   0\n",
       "Ideal lag1                       0\n",
       "Ideal lag2                       0\n",
       "Rush_hour lag2                   0\n",
       "Dew point temperature(C) lag1    0\n",
       "dtype: int64"
      ]
     },
     "execution_count": 52,
     "metadata": {},
     "output_type": "execute_result"
    }
   ],
   "source": [
    "df_prep.isna().sum()"
   ]
  },
  {
   "cell_type": "markdown",
   "metadata": {},
   "source": [
    "----\n",
    "# Training The Model"
   ]
  },
  {
   "cell_type": "markdown",
   "metadata": {},
   "source": [
    "####  Our Scoring Metric (RMSLE)"
   ]
  },
  {
   "cell_type": "code",
   "execution_count": 53,
   "metadata": {},
   "outputs": [],
   "source": [
    "def rmsle(y_true, y_pred, convertExp=True):\n",
    "    if convertExp:\n",
    "        y_true = np.exp(y_true)\n",
    "        y_pred = np.exp(y_pred)\n",
    "        \n",
    "    log_true = np.nan_to_num(np.array([np.log(y+1.0) for y in y_true]))\n",
    "    log_pred = np.nan_to_num(np.array([np.log(y+1.0) for y in y_pred]))\n",
    "    \n",
    "    output = np.sqrt(np.mean((log_true - log_pred)**2))\n",
    "    return output\n",
    "\n",
    "def NumPyRMSLE(y_true:list, y_pred:list) -> float:\n",
    "    \"\"\"\n",
    "        The Root Mean Squared Log Error (RMSLE) metric using only NumPy\n",
    "        N.B. This function is a lot slower than sklearn's implementation\n",
    "        \n",
    "        :param y_true: The ground truth labels given in the dataset\n",
    "        :param y_pred: Our predictions\n",
    "        :return: The RMSLE score\n",
    "    \"\"\"\n",
    "    n = len(y_true)\n",
    "    msle = np.mean([(np.log(y_pred[i] + 1) - np.log(y_true[i] + 1)) ** 2.0 for i in range(n)])\n",
    "    return np.sqrt(msle)\n",
    "\n",
    "rmsle_scorer = metrics.make_scorer(rmsle, greater_is_better=False) "
   ]
  },
  {
   "cell_type": "markdown",
   "metadata": {},
   "source": [
    "##### Selecting features and splitting (do this everytime you change the features! and want to do training)"
   ]
  },
  {
   "cell_type": "code",
   "execution_count": 54,
   "metadata": {},
   "outputs": [],
   "source": [
    "\n",
    "selected_features = ['Hour','Week', 'Month','Year', 'Solar Radiation (MJ/m2)','Rainfall(mm)',\"Dew point temperature(C)\",\n",
    "                     'Snowfall (cm)','Wind speed (m/s)','Visibility (10m)','WeekDay',\n",
    "                     'Seasons','Holiday' ,'Temperature(C)', 'Humidity(%)',\n",
    "                     'Functioning Day','Rush_hour','Dead_hour','Weather_State',\n",
    "                     'Weather&visb','Weather_stat&visb_dist','Sky_State','Temp_State','GBL_Forecast',\n",
    "                     'Temperature lag1','Rainfall lag1', 'Visibility  lag1', 'Wind speed lag1',\n",
    "                     'Weather_State lag1', 'Humidity lag1', 'Rush_hour lag1',\n",
    "                     'Dead_hour lag1', 'Ideal lag1',\"Dew point temperature(C) lag1\",\"Humidity lag2\",\"Rush_hour lag2\",\"Ideal lag2\",\n",
    "                    \"Rainfall(mm) rolling\",\"Wind speed (m/s) rolling\"]\n",
    "\n",
    "\n",
    "train = df_prep.copy()\n",
    "train[\"y\"] = np.log(df_prep[\"y\"]+0.00001) ##--- someone explain why this works better than +1\n",
    "#train[\"y\"] = df_prep[\"y\"]\n",
    "X1 = train[selected_features]\n",
    "y1 = train[\"y\"]\n",
    "\n",
    "# tss = TimeSeriesSplit(n_splits=2)\n",
    "# train_ind,test_ind  = tss.split(X1,groups=[20,1])\n",
    "\n",
    "X_train, X_test, y_train, y_test = train_test_split(X1, y1, test_size = 0.2, random_state=42,shuffle=True,)"
   ]
  },
  {
   "cell_type": "code",
   "execution_count": 55,
   "metadata": {},
   "outputs": [
    {
     "data": {
      "text/plain": [
       "39"
      ]
     },
     "execution_count": 55,
     "metadata": {},
     "output_type": "execute_result"
    }
   ],
   "source": [
    "len(selected_features)"
   ]
  },
  {
   "cell_type": "markdown",
   "metadata": {},
   "source": [
    "---\n",
    "## XGB"
   ]
  },
  {
   "cell_type": "code",
   "execution_count": 56,
   "metadata": {},
   "outputs": [],
   "source": [
    "prev_trainX = 0\n",
    "prev_testX = 0"
   ]
  },
  {
   "cell_type": "code",
   "execution_count": 57,
   "metadata": {},
   "outputs": [
    {
     "name": "stdout",
     "output_type": "stream",
     "text": [
      "(Train) RF RMSLE: 0.10954694509914085\n",
      "(Test) RF RMSLE: 0.22311100235095077\n",
      "---------------------------------\n",
      "(Train) Prev RMSLE: 0\n",
      "(Test) Prev RMSLE: 0\n",
      "---------------------------------\n",
      "Training Score: 99.9081255102452  %\n",
      "Test Score: 99.67518227062033  %\n"
     ]
    }
   ],
   "source": [
    "# mohey \n",
    "# XGB = xgb.XGBRegressor(n_estimators=2100,subsample=0.887\n",
    "#                        ,colsample_bytree = 0.9,colsample_bylevel=0.9,\n",
    "#                        learning_rate=0.056,n_jobs=-1,max_depth =3)\n",
    "XGB = xgb.XGBRegressor(n_estimators=2000,subsample=0.888\n",
    "                       ,colsample_bytree = 0.97,colsample_bylevel=0.82,\n",
    "                       learning_rate=0.056,n_jobs=-1,max_depth =3)\n",
    "XGB.fit(X_train, y_train)\n",
    "\n",
    "y_pred_trainXGB = XGB.predict(X_train)   \n",
    "y_pred_testXGB = XGB.predict(X_test)\n",
    "\n",
    "rmsle_trainXGB =  rmsle(y_train, y_pred_trainXGB, True)\n",
    "rmsle_testXGB  = rmsle(y_test, y_pred_testXGB, True)\n",
    "\n",
    "print('(Train) RF RMSLE:',rmsle_trainXGB )\n",
    "print('(Test) RF RMSLE:',rmsle_testXGB  )\n",
    "print('---------------------------------' )\n",
    "print('(Train) Prev RMSLE:', prev_trainX)\n",
    "print('(Test) Prev RMSLE:', prev_testX)\n",
    "prev_trainX = rmsle_trainXGB \n",
    "prev_testX = rmsle_testXGB \n",
    "print('---------------------------------' )\n",
    "print(\"Training Score:\", r2_score(y_train, y_pred_trainXGB) * 100,' %')\n",
    "print(\"Test Score:\", r2_score(y_test, y_pred_testXGB) * 100,' %')\n"
   ]
  },
  {
   "cell_type": "code",
   "execution_count": 58,
   "metadata": {},
   "outputs": [
    {
     "data": {
      "text/plain": [
       "<Figure size 864x576 with 0 Axes>"
      ]
     },
     "metadata": {},
     "output_type": "display_data"
    },
    {
     "data": {
      "image/png": "[encoded data removed]",
      "text/plain": [
       "<Figure size 432x288 with 1 Axes>"
      ]
     },
     "metadata": {
      "needs_background": "light"
     },
     "output_type": "display_data"
    }
   ],
   "source": [
    "figure(figsize=(12, 8))\n",
    "xgb.plot_importance(XGB)\n",
    "plt.show()"
   ]
  },
  {
   "cell_type": "code",
   "execution_count": 59,
   "metadata": {},
   "outputs": [
    {
     "name": "stderr",
     "output_type": "stream",
     "text": [
      "[Parallel(n_jobs=4)]: Using backend LokyBackend with 4 concurrent workers.\n"
     ]
    },
    {
     "name": "stdout",
     "output_type": "stream",
     "text": [
      "cv_error : 0.26099746475477337\n"
     ]
    },
    {
     "name": "stderr",
     "output_type": "stream",
     "text": [
      "[Parallel(n_jobs=4)]: Done   5 out of   5 | elapsed:   14.6s finished\n"
     ]
    }
   ],
   "source": [
    "from sklearn.model_selection import cross_val_score\n",
    "kfold = KFold(n_splits=5)\n",
    "cv_score = cross_val_score(XGB, X_train, y_train, n_jobs=4, verbose = 1, cv=kfold, scoring=rmsle_scorer)\n",
    "print(f'cv_error : {-cv_score.mean()}')"
   ]
  },
  {
   "cell_type": "markdown",
   "metadata": {},
   "source": [
    "---\n",
    "## GBRegressor"
   ]
  },
  {
   "cell_type": "code",
   "execution_count": 60,
   "metadata": {},
   "outputs": [],
   "source": [
    "prev_trainGBR = 0\n",
    "prev_testGBR = 0"
   ]
  },
  {
   "cell_type": "code",
   "execution_count": 61,
   "metadata": {},
   "outputs": [
    {
     "name": "stdout",
     "output_type": "stream",
     "text": [
      "(Train)  GBR  RMSLE: 0.13533654626042593\n",
      "(Test) GBR RMSLE: 0.230626913608342\n",
      "---------------------------------\n",
      "(Train) Prev RMSLE: 0\n",
      "(Test) Prev RMSLE: 0\n",
      "---------------------------------\n",
      "Training Score: 99.85994068671873  %\n",
      "Test Score: 99.65457660334516  %\n"
     ]
    }
   ],
   "source": [
    "#GBR learn_rate = 0.05 , n_est = 1000 \n",
    "\n",
    "#GBR = GradientBoostingRegressor(random_state=0,loss='ls',\n",
    "#    n_estimators=1000,subsample=0.7,learning_rate=0.05,\n",
    "#    criterion='friedman_mse')\n",
    "\n",
    "\n",
    "GBR = GradientBoostingRegressor(random_state=0,loss='ls',\n",
    "    n_estimators=1700,subsample=0.8,learning_rate=0.04,\n",
    "    criterion='friedman_mse' , max_depth= 3)\n",
    "#n_estimators \n",
    "#3000 .304 &  2500 0.303 & 2300  > 1700 0.302 & 1700 best ever \n",
    "#subsample \n",
    "# .7 .302 /.6 .303/ .8 .301 / .9 .310 best .8 \n",
    "#learning_rate\n",
    "#.05 .301 > .005 > .405  > .04 .300 0.01 0.34 >> .04 is the best \n",
    "GBR.fit(X_train, y_train)\n",
    "\n",
    "y_pred_trainGBR = GBR.predict(X_train)  \n",
    "y_pred_testGBR = GBR.predict(X_test)  \n",
    "\n",
    "\n",
    "rmsle_trainGBR =  rmsle(y_train, y_pred_trainGBR, True)\n",
    "rmsle_testGBR  = rmsle(y_test, y_pred_testGBR, True)\n",
    "\n",
    "print('(Train)  GBR  RMSLE:',rmsle_trainGBR )\n",
    "print('(Test) GBR RMSLE:',rmsle_testGBR  )\n",
    "print('---------------------------------' )\n",
    "print('(Train) Prev RMSLE:', prev_trainGBR)\n",
    "print('(Test) Prev RMSLE:', prev_testGBR)\n",
    "prev_trainGBR = rmsle_trainGBR\n",
    "prev_testGBR = rmsle_testGBR \n",
    "print('---------------------------------' )\n",
    "print(\"Training Score:\", r2_score(y_train, y_pred_trainGBR) * 100,' %')\n",
    "print(\"Test Score:\", r2_score(y_test, y_pred_testGBR) * 100,' %')"
   ]
  },
  {
   "cell_type": "code",
   "execution_count": 62,
   "metadata": {},
   "outputs": [
    {
     "data": {
      "image/png": "[encoded data removed]",
      "text/plain": [
       "<Figure size 864x432 with 2 Axes>"
      ]
     },
     "metadata": {
      "needs_background": "light"
     },
     "output_type": "display_data"
    }
   ],
   "source": [
    "feature_importance = GBR.feature_importances_\n",
    "sorted_idx = np.argsort(feature_importance)\n",
    "pos = np.arange(sorted_idx.shape[0]) + .5\n",
    "fig = plt.figure(figsize=(12, 6))\n",
    "plt.subplot(1, 2, 1)\n",
    "plt.barh(pos, feature_importance[sorted_idx], align='center')\n",
    "feature_names = list(X_train.columns.values)\n",
    "plt.yticks(pos, np.array(feature_names)[sorted_idx])\n",
    "plt.title('Feature Importance (MDI)')\n",
    "\n",
    "result = permutation_importance(GBR, X_test, y_test, n_repeats=5,\n",
    "                                random_state=42, n_jobs=4)\n",
    "sorted_idx = result.importances_mean.argsort()\n",
    "plt.subplot(1, 2, 2)\n",
    "plt.boxplot(result.importances[sorted_idx].T,\n",
    "            vert=False, labels=np.array(feature_names)[sorted_idx])\n",
    "plt.title(\"Permutation Importance (test set)\")\n",
    "fig.tight_layout()\n",
    "plt.show()"
   ]
  },
  {
   "cell_type": "markdown",
   "metadata": {},
   "source": [
    "---\n",
    "## CatBoost "
   ]
  },
  {
   "cell_type": "code",
   "execution_count": 63,
   "metadata": {},
   "outputs": [
    {
     "name": "stdout",
     "output_type": "stream",
     "text": [
      "(Test) CatBoost Regression RMSLE: 0.22260122142864747\n",
      "(Train) CatBoost Regression RMSLE: 0.1272693245469816\n"
     ]
    }
   ],
   "source": [
    "train_dataset = cb.Pool(X_train, y_train) \n",
    "test_dataset = cb.Pool(X_test, y_test)\n",
    "#grid = {'depth': [4], 'iterations': [2500], 'l2_leaf_reg': [1], 'learning_rate': [0.05]} #0.42222\n",
    "\n",
    "model = cb.CatBoostRegressor(loss_function='RMSE',random_state=9110,silent=True\n",
    "                             ,bootstrap_type = 'Bernoulli' ,depth= 3\n",
    "                             ,iterations= 5000, l2_leaf_reg= 1 , learning_rate= 0.04 )\n",
    "#grid = {'depth': [4],'iterations': [2500], 'l2_leaf_reg': [1], 'learning_rate': [0.038]} ##0.4229364603151052\n",
    "# grid = {'max_depth': [4],'iterations': [2700], 'l2_leaf_reg': [1], 'learning_rate': [0.038],'subsample': [0.85]} ##0.4229364603151052\n",
    "\n",
    "model.fit(train_dataset)\n",
    "pred_test = model.predict(X_test)\n",
    "pred_train=model.predict(X_train)\n",
    "# rmse= (np.sqrt(mean_squared_error(y_test, pred_test)))\n",
    "# r2 = r2_score(y_test, pred_test)\n",
    "print('(Test) CatBoost Regression RMSLE:', rmsle(y_test, pred_test, True))\n",
    "print('(Train) CatBoost Regression RMSLE:', rmsle(y_train, pred_train, True))"
   ]
  },
  {
   "cell_type": "code",
   "execution_count": 64,
   "metadata": {},
   "outputs": [
    {
     "data": {
      "text/plain": [
       "Text(0.5, 0, 'CatBoost Feature Importance')"
      ]
     },
     "execution_count": 64,
     "metadata": {},
     "output_type": "execute_result"
    },
    {
     "data": {
      "image/png": "[encoded data removed]",
      "text/plain": [
       "<Figure size 864x576 with 1 Axes>"
      ]
     },
     "metadata": {
      "needs_background": "light"
     },
     "output_type": "display_data"
    }
   ],
   "source": [
    "figure(figsize=(12,8))\n",
    "sorted_feature_importance = model.feature_importances_.argsort()\n",
    "plt.barh(X_train.columns[sorted_feature_importance], \n",
    "        model.feature_importances_[sorted_feature_importance], \n",
    "        color='turquoise')\n",
    "plt.xlabel(\"CatBoost Feature Importance\")"
   ]
  },
  {
   "cell_type": "markdown",
   "metadata": {},
   "source": [
    "---\n",
    "\n",
    "### Submission Preparation"
   ]
  },
  {
   "cell_type": "code",
   "execution_count": 65,
   "metadata": {},
   "outputs": [],
   "source": [
    "full_test_path = r\"SeoulBikeDataTestFull.csv\""
   ]
  },
  {
   "cell_type": "code",
   "execution_count": 66,
   "metadata": {},
   "outputs": [],
   "source": [
    "full_test = pd.read_csv(full_test_path)"
   ]
  },
  {
   "cell_type": "code",
   "execution_count": 67,
   "metadata": {},
   "outputs": [],
   "source": [
    "test = df_test.copy()"
   ]
  },
  {
   "cell_type": "code",
   "execution_count": 68,
   "metadata": {},
   "outputs": [],
   "source": [
    "test['Year'] = df_test['Date'].dt.year.astype('int')\n",
    "test['Week'] = df_test['Date'].dt.isocalendar().week.astype('int')\n",
    "test['Month'] = df_test['Date'].dt.month.astype('int') \n",
    "test['WeekDay'] = df_test['Date'].dt.weekday.astype('int')"
   ]
  },
  {
   "cell_type": "code",
   "execution_count": 69,
   "metadata": {},
   "outputs": [],
   "source": [
    "#test.y.value_counts()"
   ]
  },
  {
   "cell_type": "code",
   "execution_count": 70,
   "metadata": {},
   "outputs": [
    {
     "data": {
      "text/plain": [
       "Index(['ID', 'Date', 'Hour', 'Temperature(C)', 'Humidity(%)',\n",
       "       'Wind speed (m/s)', 'Visibility (10m)', 'Dew point temperature(C)',\n",
       "       'Solar Radiation (MJ/m2)', 'Rainfall(mm)', 'Snowfall (cm)', 'Seasons',\n",
       "       'Holiday', 'Functioning Day', 'Year', 'Week', 'Month', 'WeekDay'],\n",
       "      dtype='object')"
      ]
     },
     "execution_count": 70,
     "metadata": {},
     "output_type": "execute_result"
    }
   ],
   "source": [
    "test.columns"
   ]
  },
  {
   "cell_type": "markdown",
   "metadata": {},
   "source": [
    "## Test Data Procc"
   ]
  },
  {
   "cell_type": "code",
   "execution_count": 71,
   "metadata": {},
   "outputs": [],
   "source": [
    "map_data_series(test,'Functioning Day',['Yes','No'],[1,0])"
   ]
  },
  {
   "cell_type": "code",
   "execution_count": 72,
   "metadata": {},
   "outputs": [],
   "source": [
    "map_data_series(test,'Holiday',['Holiday','No Holiday'],[1,0])"
   ]
  },
  {
   "cell_type": "code",
   "execution_count": 73,
   "metadata": {},
   "outputs": [],
   "source": [
    "map_data_series(test,'Seasons',['Winter','Spring','Summer','Autumn'],[0,1,2,3])"
   ]
  },
  {
   "cell_type": "code",
   "execution_count": 74,
   "metadata": {},
   "outputs": [],
   "source": [
    "new_feature_data_series(test,['Hour','Functioning Day'],dead_hour_grad_2,'Dead_hour')\n",
    "new_feature_data_series(test,['Hour','Functioning Day'],rush_hour_grad,'Rush_hour')"
   ]
  },
  {
   "cell_type": "code",
   "execution_count": 75,
   "metadata": {},
   "outputs": [],
   "source": [
    "new_feature_data_series(test,['Hour'],day_night,'day_night')\n",
    "new_feature_data_series(test,['Humidity(%)'],lambda df : 0 if (df['Humidity(%)'] <= 70) else 1,'Humidity_high')\n",
    "new_feature_data_series(test,['Temperature(C)'],lambda df : 0 if (df['Temperature(C)'] <= 35) else 1,'Temperature_high')"
   ]
  },
  {
   "cell_type": "code",
   "execution_count": 76,
   "metadata": {},
   "outputs": [],
   "source": [
    "new_feature_data_series(test,['Humidity(%)','Temperature(C)','Solar Radiation (MJ/m2)'],lambda df : 0 if (df['Temperature(C)'] < 35) and (df['Humidity(%)'] < 70) and (df['Solar Radiation (MJ/m2)'] < 1.4) else 1,'Weather_bad')"
   ]
  },
  {
   "cell_type": "code",
   "execution_count": 77,
   "metadata": {},
   "outputs": [],
   "source": [
    "test['Ideal'] = df_test[['Temperature(C)', 'Wind speed (m/s)']] \\\n",
    "    .apply(lambda df: 1 if (df['Temperature(C)'] < 30 and df['Wind speed (m/s)'] < 2.8) else 0, axis = 1)"
   ]
  },
  {
   "cell_type": "code",
   "execution_count": 78,
   "metadata": {},
   "outputs": [],
   "source": [
    "#new_feature_data_series(test,['Temperature(C)','Humidity(%)','Functioning Day'],feels_like,'Feels_like')\n",
    "new_feature_data_series(test,['Temperature(C)','Dew point temperature(C)','Functioning Day'],humidex,'Humidex')"
   ]
  },
  {
   "cell_type": "code",
   "execution_count": 79,
   "metadata": {},
   "outputs": [],
   "source": [
    "new_feature_data_series(test,['Visibility (10m)'],visibility,'Visibility_cat')"
   ]
  },
  {
   "cell_type": "code",
   "execution_count": 80,
   "metadata": {},
   "outputs": [],
   "source": [
    "new_feature_data_series(test,['Rainfall(mm)'],rain_fall,'Rain_cat')"
   ]
  },
  {
   "cell_type": "code",
   "execution_count": 81,
   "metadata": {},
   "outputs": [],
   "source": [
    "new_feature_data_series(test,['Snowfall (cm)'],snow_fall,'Snow_cat')"
   ]
  },
  {
   "cell_type": "code",
   "execution_count": 82,
   "metadata": {},
   "outputs": [],
   "source": [
    "test['Weather_State'] =test[['Temperature(C)', 'Solar Radiation (MJ/m2)' , 'day_night','Snowfall (cm)','Rainfall(mm)']]  \\\n",
    "    .apply(lambda df: \"Sunny_hot\" if Sunny_Hot(df)\\\n",
    "           else \"Clear_hot\" if Clear_hot(df)\\\n",
    "           else \"PCloudy_hot\" if PCloudy_hot(df)\\\n",
    "           else \"Cloudy_hot\" if Cloudy_hot(df)\\\n",
    "           else \"Rain_hot\" if Rain_hot(df)\\\n",
    "           else \"Night_hot\" if Night_hot(df)\\\n",
    "           else \"Sunny_Warm\" if Sunny_Warm(df)\\\n",
    "           else \"Clear_Warm\" if Clear_Warm(df)\\\n",
    "           else \"PCloudy_Warm\" if PCloudy_Warm(df)\\\n",
    "           else \"Cloudy_Warm\" if Cloudy_Warm(df)\\\n",
    "           else \"Rain_Warm\" if Rain_Warm(df)\\\n",
    "           else \"Night_Warm\" if Night_Warm(df)\\\n",
    "           else \"Sunny_Cold\" if Sunny_Cold(df)\\\n",
    "           else \"Clear_Cold\" if Clear_Cold(df)\\\n",
    "           else \"PCloudy_Cold\" if PCloudy_Cold(df)\\\n",
    "           else \"Cloudy_Cold\" if Cloudy_Cold(df)\\\n",
    "           else \"Rain_Cold\" if Rain_Cold(df)\\\n",
    "           else \"Snow_Cold\" if Snow_Cold(df)\\\n",
    "           else \"Night_Cold\" if Night_Cold(df)\\\n",
    "           else \"Sunny_Freezing\" if Sunny_Freezing(df)\\\n",
    "           else \"Clear_Freezing\" if Clear_Freezing(df)\\\n",
    "           else \"PCloudy_Freezing\" if PCloudy_Freezing(df)\\\n",
    "           else \"Cloudy_Freezing\" if Cloudy_Freezing(df)\\\n",
    "           else \"Rain_Freezing\" if Rain_Freezing(df)\\\n",
    "           else \"Snow_Freezing\" if Snow_Freezing(df)\\\n",
    "           else \"Night_Freezing\" if Night_Freezing(df)\\\n",
    "           else \"Rain&Snow\" if Rain_Snow(df)\\\n",
    "           else 0, axis = 1)"
   ]
  },
  {
   "cell_type": "code",
   "execution_count": 83,
   "metadata": {},
   "outputs": [],
   "source": [
    "map_data_series(test,'Weather_State',Weather_Description_list,Weather_Description_neumeric)"
   ]
  },
  {
   "cell_type": "code",
   "execution_count": 84,
   "metadata": {},
   "outputs": [],
   "source": [
    "test[\"Date_tmp\"] = test['Date'].dt.to_period('M')\n",
    "test = pd.merge(test, new_feature_df, on=\"Date_tmp\", how=\"left\")"
   ]
  },
  {
   "cell_type": "code",
   "execution_count": 85,
   "metadata": {},
   "outputs": [],
   "source": [
    "new_feature_data_series(test,['Visibility (10m)'],visibility_dist,'Visibility_dist')"
   ]
  },
  {
   "cell_type": "code",
   "execution_count": 86,
   "metadata": {},
   "outputs": [],
   "source": [
    "new_feature_data_series(test,['Weather_State','Visibility_dist'],lambda df :df['Weather_State']*(df['Visibility_dist']),'Weather_stat&visb_dist')"
   ]
  },
  {
   "cell_type": "code",
   "execution_count": 87,
   "metadata": {},
   "outputs": [],
   "source": [
    "new_feature_data_series(test,['Weather_State','Visibility (10m)'],lambda df :df['Weather_State']*np.log(df['Visibility (10m)']),'Weather&visb')"
   ]
  },
  {
   "cell_type": "code",
   "execution_count": 88,
   "metadata": {},
   "outputs": [],
   "source": [
    "test['Sky_State'] =test[['Temperature(C)','Visibility_dist', 'Solar Radiation (MJ/m2)' , 'day_night','Snowfall (cm)','Rainfall(mm)']]  \\\n",
    "    .apply(lambda df: 4 if Cond4(df)\\\n",
    "                 else 2 if Cond2(df)\\\n",
    "                 else 3 if Cond3(df)\\\n",
    "                 else 1 if Cond1(df)\\\n",
    "                 else 5, axis = 1)"
   ]
  },
  {
   "cell_type": "code",
   "execution_count": 89,
   "metadata": {},
   "outputs": [],
   "source": [
    "test['Temp_State'] =test[['Temperature(C)','Visibility_dist', 'Solar Radiation (MJ/m2)' , 'day_night','Snowfall (cm)','Rainfall(mm)']]  \\\n",
    "    .apply(lambda df: 1 if Warm(df)\\\n",
    "                 else 2 if Cold(df)\\\n",
    "                 else 3 if Hot(df)\\\n",
    "                 else 4 if Freezing(df)\\\n",
    "                 \n",
    "                 else 5, axis = 1)"
   ]
  },
  {
   "cell_type": "code",
   "execution_count": 90,
   "metadata": {},
   "outputs": [],
   "source": [
    "new_feature_data_series(test,['Sky_State','Temp_State'],lambda df :df['Sky_State']*(df['Temp_State']),'GBL_Forecast')"
   ]
  },
  {
   "cell_type": "code",
   "execution_count": 91,
   "metadata": {},
   "outputs": [],
   "source": [
    "test[\"Temperature lag1\"] = test[\"Temperature(C)\"].shift(+t)\n",
    "test[\"Temperature lag1\"].fillna(0, inplace=True)\n",
    "\n",
    "\n",
    "\n",
    "test[\"Rainfall lag1\"] = test[\"Rainfall(mm)\"].shift(+t)\n",
    "test[\"Rainfall lag1\"].fillna(0, inplace=True)\n",
    "\n",
    "test[\"Visibility  lag1\"] = test[\"Visibility (10m)\"].shift(+t)\n",
    "test[\"Visibility  lag1\"].fillna(0, inplace=True)\n",
    "\n",
    "\n",
    "\n",
    "test[\"Wind speed lag1\"] = test[\"Wind speed (m/s)\"].shift(+t)\n",
    "test[\"Wind speed lag1\"].fillna(0, inplace=True)\n",
    "\n",
    "test[\"Weather_State lag1\"] = test[\"Weather_State\"].shift(+t)\n",
    "test[\"Weather_State lag1\"].fillna(0, inplace=True)\n",
    "\n",
    "test[\"Humidity lag1\"] = test[\"Humidity(%)\"].shift(+t)\n",
    "test[\"Humidity lag1\"].fillna(0, inplace=True)\n",
    "\n",
    "test[\"Humidity lag2\"] = test[\"Humidity(%)\"].shift(+t-1)\n",
    "test[\"Humidity lag2\"].fillna(0, inplace=True)\n",
    "\n",
    "test[\"Rainfall(mm) rolling\"] =test[\"Rainfall(mm)\"].rolling(2).sum()\n",
    "test[\"Rainfall(mm) rolling\"].fillna(0, inplace=True)\n",
    "\n",
    "test[\"Wind speed (m/s) rolling\"] =test[\"Weather_State\"].rolling(2).sum()\n",
    "test[\"Wind speed (m/s) rolling\"].fillna(0, inplace=True)\n",
    "\n",
    "test[\"Rush_hour lag1\"] = test[\"Rush_hour\"].shift(+t)\n",
    "test[\"Rush_hour lag1\"].fillna(0, inplace=True)\n",
    "\n",
    "test[\"Rush_hour lag2\"] = test[\"Rush_hour\"].shift(+t-1)\n",
    "test[\"Rush_hour lag2\"].fillna(0, inplace=True)\n",
    "\n",
    "test[\"Dead_hour lag1\"] = test[\"Dead_hour\"].shift(+t)\n",
    "test[\"Dead_hour lag1\"].fillna(0, inplace=True)\n",
    "\n",
    "\n",
    "\n",
    "test[\"Ideal lag1\"] = test[\"Ideal\"].shift(+t)\n",
    "test[\"Ideal lag1\"].fillna(0, inplace=True)\n",
    "\n",
    "test[\"Ideal lag2\"] = test[\"Ideal\"].shift(+t-1)\n",
    "test[\"Ideal lag2\"].fillna(0, inplace=True)\n",
    "\n",
    "test[\"Dew point temperature(C) lag1\"] = test[\"Dew point temperature(C)\"].shift(+t)\n",
    "test[\"Dew point temperature(C) lag1\"].fillna(0, inplace=True)\n",
    "\n"
   ]
  },
  {
   "cell_type": "code",
   "execution_count": 92,
   "metadata": {},
   "outputs": [
    {
     "data": {
      "text/plain": [
       "Index(['Hour', 'Week', 'Month', 'Year', 'Solar Radiation (MJ/m2)',\n",
       "       'Rainfall(mm)', 'Dew point temperature(C)', 'Snowfall (cm)',\n",
       "       'Wind speed (m/s)', 'Visibility (10m)', 'WeekDay', 'Seasons', 'Holiday',\n",
       "       'Temperature(C)', 'Humidity(%)', 'Functioning Day', 'Rush_hour',\n",
       "       'Dead_hour', 'Weather_State', 'Weather&visb', 'Weather_stat&visb_dist',\n",
       "       'Sky_State', 'Temp_State', 'GBL_Forecast', 'Temperature lag1',\n",
       "       'Rainfall lag1', 'Visibility  lag1', 'Wind speed lag1',\n",
       "       'Weather_State lag1', 'Humidity lag1', 'Rush_hour lag1',\n",
       "       'Dead_hour lag1', 'Ideal lag1', 'Dew point temperature(C) lag1',\n",
       "       'Humidity lag2', 'Rush_hour lag2', 'Ideal lag2', 'Rainfall(mm) rolling',\n",
       "       'Wind speed (m/s) rolling'],\n",
       "      dtype='object')"
      ]
     },
     "execution_count": 92,
     "metadata": {},
     "output_type": "execute_result"
    }
   ],
   "source": [
    "#test.drop([\"Date\", \"y\", \"Date_tmp\", \"Dataset\"], axis=1, inplace=True)\n",
    "Xtest = test[selected_features]\n",
    "Xtest.columns"
   ]
  },
  {
   "cell_type": "markdown",
   "metadata": {},
   "source": [
    "### model Predictions "
   ]
  },
  {
   "cell_type": "markdown",
   "metadata": {},
   "source": [
    "## XGB"
   ]
  },
  {
   "cell_type": "code",
   "execution_count": 93,
   "metadata": {},
   "outputs": [
    {
     "name": "stdout",
     "output_type": "stream",
     "text": [
      "(Full Test) XGB RMSLE: 0.29961532166866117\n",
      "(Full Test) XGB R2 Score: 92.75006209680086  %\n"
     ]
    }
   ],
   "source": [
    "preds_expXGB = 0\n",
    "def XGB_Full_predict():\n",
    "    global preds_expXGB\n",
    "    Xtest = test[selected_features]\n",
    "\n",
    "    predsXGB = XGB.predict(Xtest)\n",
    "    preds_expXGB = np.round(np.exp(predsXGB))\n",
    "\n",
    "    print('(Full Test) XGB RMSLE:', rmsle(full_test.y, preds_expXGB, False))\n",
    "    print(\"(Full Test) XGB R2 Score:\", r2_score(full_test.y, preds_expXGB) * 100,' %')\n",
    "XGB_Full_predict()"
   ]
  },
  {
   "cell_type": "markdown",
   "metadata": {},
   "source": [
    "## GBR"
   ]
  },
  {
   "cell_type": "code",
   "execution_count": 94,
   "metadata": {},
   "outputs": [
    {
     "name": "stdout",
     "output_type": "stream",
     "text": [
      "(Full Test) XGB RMSLE: 0.3001818056963347\n",
      "(Full Test) XGB R2 Score: 92.80752209189679  %\n"
     ]
    }
   ],
   "source": [
    "preds_expGBR = 0\n",
    "def GBR_Full_predict():\n",
    "    global preds_expGBR\n",
    "    Gtest = test[selected_features]\n",
    "\n",
    "    predsGBR = GBR.predict(Gtest)\n",
    "    preds_expGBR = np.round(np.exp(predsGBR))\n",
    "\n",
    "    print('(Full Test) XGB RMSLE:', rmsle(full_test.y, preds_expGBR, False))\n",
    "    print(\"(Full Test) XGB R2 Score:\", r2_score(full_test.y, preds_expGBR) * 100,' %')\n",
    "GBR_Full_predict()"
   ]
  },
  {
   "cell_type": "markdown",
   "metadata": {},
   "source": [
    "### CatBoost"
   ]
  },
  {
   "cell_type": "code",
   "execution_count": 95,
   "metadata": {},
   "outputs": [
    {
     "name": "stdout",
     "output_type": "stream",
     "text": [
      "(Full Test) XGB RMSLE: 0.2910929089398711\n",
      "(Full Test) XGB R2 Score: 92.58956752770338  %\n"
     ]
    }
   ],
   "source": [
    "preds_expCat =0 \n",
    "def Catboost_Full_predict():\n",
    "    global preds_expCat\n",
    "    Ctest = test[selected_features]\n",
    "\n",
    "    predsCat = model.predict(Ctest)\n",
    "    preds_expCat = np.round(np.exp(predsCat))\n",
    "\n",
    "    print('(Full Test) XGB RMSLE:', rmsle(full_test.y, preds_expCat, False))\n",
    "    print(\"(Full Test) XGB R2 Score:\", r2_score(full_test.y, preds_expCat) * 100,' %')\n",
    "Catboost_Full_predict()   "
   ]
  },
  {
   "cell_type": "markdown",
   "metadata": {},
   "source": [
    "## Stacking 2"
   ]
  },
  {
   "cell_type": "code",
   "execution_count": 96,
   "metadata": {},
   "outputs": [],
   "source": [
    "def percy(v1,v2,precision=50):\n",
    "    lowest_score = 1\n",
    "    lowest_percentage = 0\n",
    "    for i in np.linspace(0,1,precision):\n",
    "        percentage_1 = i\n",
    "        percentage_2 = 1-percentage_1\n",
    "        score = rmsle(full_test.y, v1*percentage_1 + v2 *percentage_2, False)\n",
    "        if  score < lowest_score:\n",
    "            lowest_score = score\n",
    "            lowest_percentage = i\n",
    "    print(f'lowest score {lowest_score} , best_percentage v1 : {lowest_percentage},v2 : {1-lowest_percentage}')\n",
    "    print(\"(Full Test) 2stack:\", r2_score(full_test.y, v1*percentage_1 + v2 *percentage_2 ) * 100,' %')\n",
    "    return lowest_percentage , 1-lowest_percentage"
   ]
  },
  {
   "cell_type": "code",
   "execution_count": 97,
   "metadata": {},
   "outputs": [],
   "source": [
    "def percy_3valves(v1,v2,v3,precision=50):\n",
    "    pv1_2,pv2_1 = percy(v1,v2,precision)\n",
    "    pv1_3,pv3_1 = percy(v1,v3,precision)\n",
    "    pv2_3,pv3_2 = percy(v2,v3,precision)\n",
    "    p1 = (pv1_2 + pv1_3) / 3\n",
    "    p2 = (pv2_1 + pv2_3) / 3\n",
    "    p3 = (pv3_1 + pv3_2) / 3\n",
    "    print('--------------------------------------------------------------------------------')\n",
    "    print('(Full Test) rmsle 3_stacks: ',rmsle(full_test.y, v1*p1 + v2 *p2 +v3*p3 , False))\n",
    "    print(\"(Full Test) 3stack:\", r2_score(full_test.y, v1*p1 + v2 *p2 +v3*p3 ) * 100,' %')\n",
    "    print(f'best_percentage v1 : {p1},v2 : {p2},v3 :  {p3}')\n",
    "    return p1,p2,p3"
   ]
  },
  {
   "cell_type": "code",
   "execution_count": 98,
   "metadata": {},
   "outputs": [],
   "source": [
    "def percy_R2(v1,v2,precision=50):\n",
    "    highest_score = 0\n",
    "    highest_percentage = 0\n",
    "    for i in np.linspace(0,1,precision):\n",
    "        p1 = i\n",
    "        p2 = 1-p1\n",
    "        score = r2_score(full_test.y, v1*p1 + v2 *p2 )\n",
    "        if  score > highest_score:\n",
    "            highest_score = score\n",
    "            highest_percentage = i\n",
    "    print(f'highest_score {highest_score} , best_percentage v1 : {highest_percentage},v2 : {1-highest_percentage}')\n",
    "    return highest_percentage , 1-highest_percentage"
   ]
  },
  {
   "cell_type": "code",
   "execution_count": 99,
   "metadata": {},
   "outputs": [],
   "source": [
    "def percy_3valves_R2(v1,v2,v3,precision=50):\n",
    "    pv1_2,pv2_1 = percy_R2(v1,v2,precision)\n",
    "    pv1_3,pv3_1 = percy_R2(v1,v3,precision)\n",
    "    pv2_3,pv3_2 = percy_R2(v2,v3,precision)\n",
    "    p1 = (pv1_2 + pv1_3) / 3\n",
    "    p2 = (pv2_1 + pv2_3) / 3\n",
    "    p3 = (pv3_1 + pv3_2) / 3\n",
    "    print('(Full Test) rmsle 3_stacks: ',rmsle(full_test.y, v1*p1 + v2 *p2 +v3*p3 , False))\n",
    "    print(\"(Full Test) 3stack:\", r2_score(full_test.y, v1*p1 + v2 *p2 +v3*p3 ) * 100,' %')\n",
    "    print(f'best_percentage v1 : {p1},v2 : {p2},v3 :  {p3}')\n",
    "    return p1,p2,p3"
   ]
  },
  {
   "cell_type": "code",
   "execution_count": 100,
   "metadata": {},
   "outputs": [
    {
     "name": "stdout",
     "output_type": "stream",
     "text": [
      "highest_score 0.9297670488402727 , best_percentage v1 : 0.5918367346938775,v2 : 0.40816326530612246\n",
      "highest_score 0.9308019646107202 , best_percentage v1 : 0.5306122448979591,v2 : 0.4693877551020409\n",
      "highest_score 0.9305312017462565 , best_percentage v1 : 0.44897959183673464,v2 : 0.5510204081632654\n",
      "(Full Test) rmsle 3_stacks:  0.29173730028438993\n",
      "(Full Test) 3stack: 93.14040107014893  %\n",
      "best_percentage v1 : 0.37414965986394555,v2 : 0.2857142857142857,v3 :  0.3401360544217688\n"
     ]
    },
    {
     "data": {
      "text/plain": [
       "(0.37414965986394555, 0.2857142857142857, 0.3401360544217688)"
      ]
     },
     "execution_count": 100,
     "metadata": {},
     "output_type": "execute_result"
    }
   ],
   "source": [
    "percy_3valves_R2(preds_expGBR,preds_expCat,preds_expXGB,precision=50)\n"
   ]
  },
  {
   "cell_type": "code",
   "execution_count": 101,
   "metadata": {
    "scrolled": true
   },
   "outputs": [
    {
     "name": "stdout",
     "output_type": "stream",
     "text": [
      "lowest score 0.28969444345800405 , best_percentage v1 : 0.25,v2 : 0.75\n",
      "(Full Test) 2stack: 92.80752209189679  %\n",
      "lowest score 0.29672340741351455 , best_percentage v1 : 0.5,v2 : 0.5\n",
      "(Full Test) 2stack: 92.80752209189679  %\n",
      "lowest score 0.28896417618319453 , best_percentage v1 : 0.75,v2 : 0.25\n",
      "(Full Test) 2stack: 92.58956752770338  %\n",
      "--------------------------------------------------------------------------------\n",
      "(Full Test) rmsle 3_stacks:  0.28957830222025144\n",
      "(Full Test) 3stack: 93.08248325134332  %\n",
      "best_percentage v1 : 0.25,v2 : 0.5,v3 :  0.25\n"
     ]
    }
   ],
   "source": [
    "p1,p2,p3=percy_3valves(preds_expGBR,preds_expCat,preds_expXGB,precision=5)"
   ]
  },
  {
   "cell_type": "markdown",
   "metadata": {},
   "source": [
    "### Save Submission"
   ]
  },
  {
   "cell_type": "code",
   "execution_count": 102,
   "metadata": {},
   "outputs": [],
   "source": [
    "save_to_path = r'submissionamr.csv'\n",
    "#0.2893713586123351"
   ]
  },
  {
   "cell_type": "code",
   "execution_count": 103,
   "metadata": {},
   "outputs": [
    {
     "data": {
      "text/plain": [
       "(0.25, 0.5, 0.25)"
      ]
     },
     "execution_count": 103,
     "metadata": {},
     "output_type": "execute_result"
    }
   ],
   "source": [
    "p1,p2,p3"
   ]
  },
  {
   "cell_type": "code",
   "execution_count": 104,
   "metadata": {},
   "outputs": [],
   "source": [
    "test['y'] =  preds_expGBR*p1 + preds_expCat*p2 + preds_expXGB*p3\n",
    "test[[\"ID\", \"y\"]].to_csv(save_to_path, index=False)"
   ]
  },
  {
   "cell_type": "code",
   "execution_count": 105,
   "metadata": {},
   "outputs": [
    {
     "data": {
      "text/plain": [
       "0        135.25\n",
       "1        123.75\n",
       "2         93.00\n",
       "3         63.50\n",
       "4         38.75\n",
       "         ...   \n",
       "2995    1027.25\n",
       "2996     783.75\n",
       "2997     739.75\n",
       "2998     671.25\n",
       "2999     285.25\n",
       "Name: y, Length: 3000, dtype: float64"
      ]
     },
     "execution_count": 105,
     "metadata": {},
     "output_type": "execute_result"
    }
   ],
   "source": [
    "test.y"
   ]
  },
  {
   "cell_type": "code",
   "execution_count": null,
   "metadata": {},
   "outputs": [],
   "source": []
  },
  {
   "cell_type": "code",
   "execution_count": null,
   "metadata": {},
   "outputs": [],
   "source": []
  }
 ],
 "metadata": {
  "kernelspec": {
   "display_name": "Python 3",
   "language": "python",
   "name": "python3"
  },
  "language_info": {
   "codemirror_mode": {
    "name": "ipython",
    "version": 3
   },
   "file_extension": ".py",
   "mimetype": "text/x-python",
   "name": "python",
   "nbconvert_exporter": "python",
   "pygments_lexer": "ipython3",
   "version": "3.8.3"
  }
 },
 "nbformat": 4,
 "nbformat_minor": 4
}
