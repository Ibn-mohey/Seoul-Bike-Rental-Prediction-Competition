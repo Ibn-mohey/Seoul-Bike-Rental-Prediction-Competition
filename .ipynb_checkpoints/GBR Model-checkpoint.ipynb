{
 "cells": [
  {
   "cell_type": "markdown",
   "metadata": {},
   "source": [
    "### now we run the feature and continud "
   ]
  },
  {
   "cell_type": "code",
   "execution_count": 4,
   "metadata": {},
   "outputs": [],
   "source": [
    "from numpy import mean\n",
    "from numpy import std\n",
    "\n",
    "from sklearn.model_selection import cross_val_score\n",
    "from sklearn.model_selection import RepeatedKFold\n",
    "from sklearn.model_selection import GridSearchCV\n",
    "from sklearn.model_selection import train_test_split\n",
    "\n",
    "from sklearn.feature_selection import RFECV\n",
    "\n",
    "from sklearn.ensemble import BaggingRegressor\n",
    "from sklearn.ensemble import GradientBoostingRegressor\n",
    "\n",
    "from sklearn.metrics import r2_score"
   ]
  },
  {
   "cell_type": "code",
   "execution_count": 15,
   "metadata": {},
   "outputs": [
    {
     "name": "stdout",
     "output_type": "stream",
     "text": [
      "عملتها يا شباب كدا انا ضامن استقلالية البرنامج شوية و ان شاء الله احسن المره الجايه\n",
      "كدا حيكون معاك \n",
      "df , df_prep , test , full_test وباقي الحاجات اللى اتعملت في ال features \n"
     ]
    }
   ],
   "source": [
    "# !pip install nest-asyncio\n",
    "import nest_asyncio\n",
    "nest_asyncio.apply()\n",
    "%run ./NewFeatureFile.ipynb"
   ]
  },
  {
   "cell_type": "code",
   "execution_count": 6,
   "metadata": {},
   "outputs": [],
   "source": [
    "scoring=rmsle_scorer"
   ]
  },
  {
   "cell_type": "code",
   "execution_count": 7,
   "metadata": {},
   "outputs": [
    {
     "name": "stdout",
     "output_type": "stream",
     "text": [
      "(5760, 53)\n"
     ]
    },
    {
     "data": {
      "text/html": [
       "<div>\n",
       "<style scoped>\n",
       "    .dataframe tbody tr th:only-of-type {\n",
       "        vertical-align: middle;\n",
       "    }\n",
       "\n",
       "    .dataframe tbody tr th {\n",
       "        vertical-align: top;\n",
       "    }\n",
       "\n",
       "    .dataframe thead th {\n",
       "        text-align: right;\n",
       "    }\n",
       "</style>\n",
       "<table border=\"1\" class=\"dataframe\">\n",
       "  <thead>\n",
       "    <tr style=\"text-align: right;\">\n",
       "      <th></th>\n",
       "      <th>Date</th>\n",
       "      <th>y</th>\n",
       "      <th>Hour</th>\n",
       "      <th>Temperature(C)</th>\n",
       "      <th>Humidity(%)</th>\n",
       "      <th>Wind speed (m/s)</th>\n",
       "      <th>Visibility (10m)</th>\n",
       "      <th>Dew point temperature(C)</th>\n",
       "      <th>Solar Radiation (MJ/m2)</th>\n",
       "      <th>Rainfall(mm)</th>\n",
       "      <th>Snowfall (cm)</th>\n",
       "      <th>Seasons</th>\n",
       "      <th>Holiday</th>\n",
       "      <th>Functioning Day</th>\n",
       "      <th>Year</th>\n",
       "      <th>Week</th>\n",
       "      <th>Month</th>\n",
       "      <th>WeekDay</th>\n",
       "      <th>Rush_hour</th>\n",
       "      <th>Dead_hour</th>\n",
       "      <th>...</th>\n",
       "      <th>Sky_State</th>\n",
       "      <th>Temp_State</th>\n",
       "      <th>GBL_Forecast</th>\n",
       "      <th>Date_tmp</th>\n",
       "      <th>Prev Month y</th>\n",
       "      <th>Temperature lag1</th>\n",
       "      <th>Rainfall lag1</th>\n",
       "      <th>Visibility  lag1</th>\n",
       "      <th>Wind speed lag1</th>\n",
       "      <th>Weather_State lag1</th>\n",
       "      <th>Humidity lag1</th>\n",
       "      <th>Rush_hour lag1</th>\n",
       "      <th>Dead_hour lag1</th>\n",
       "      <th>Ideal lag1</th>\n",
       "      <th>Dew point temperature(C) lag1</th>\n",
       "      <th>Humidity lag2</th>\n",
       "      <th>Rainfall(mm) rolling</th>\n",
       "      <th>Wind speed (m/s) rolling</th>\n",
       "      <th>Ideal lag2</th>\n",
       "      <th>Rush_hour lag2</th>\n",
       "    </tr>\n",
       "  </thead>\n",
       "  <tbody>\n",
       "    <tr>\n",
       "      <th>0</th>\n",
       "      <td>2017-12-01</td>\n",
       "      <td>254</td>\n",
       "      <td>0</td>\n",
       "      <td>-5.2</td>\n",
       "      <td>37</td>\n",
       "      <td>2.2</td>\n",
       "      <td>2000</td>\n",
       "      <td>-17.6</td>\n",
       "      <td>0.0</td>\n",
       "      <td>0.0</td>\n",
       "      <td>0.0</td>\n",
       "      <td>0</td>\n",
       "      <td>0</td>\n",
       "      <td>1</td>\n",
       "      <td>2017</td>\n",
       "      <td>48</td>\n",
       "      <td>12</td>\n",
       "      <td>4</td>\n",
       "      <td>0.0</td>\n",
       "      <td>0.018316</td>\n",
       "      <td>...</td>\n",
       "      <td>5</td>\n",
       "      <td>4</td>\n",
       "      <td>20</td>\n",
       "      <td>2017-12</td>\n",
       "      <td>230.316667</td>\n",
       "      <td>-5.5</td>\n",
       "      <td>0.0</td>\n",
       "      <td>2000.0</td>\n",
       "      <td>0.8</td>\n",
       "      <td>1.0</td>\n",
       "      <td>38.0</td>\n",
       "      <td>0.0</td>\n",
       "      <td>0.049787</td>\n",
       "      <td>1.0</td>\n",
       "      <td>-17.6</td>\n",
       "      <td>39.0</td>\n",
       "      <td>0.0</td>\n",
       "      <td>0.0</td>\n",
       "      <td>1.0</td>\n",
       "      <td>0.0</td>\n",
       "    </tr>\n",
       "    <tr>\n",
       "      <th>1</th>\n",
       "      <td>2017-12-01</td>\n",
       "      <td>204</td>\n",
       "      <td>1</td>\n",
       "      <td>-5.5</td>\n",
       "      <td>38</td>\n",
       "      <td>0.8</td>\n",
       "      <td>2000</td>\n",
       "      <td>-17.6</td>\n",
       "      <td>0.0</td>\n",
       "      <td>0.0</td>\n",
       "      <td>0.0</td>\n",
       "      <td>0</td>\n",
       "      <td>0</td>\n",
       "      <td>1</td>\n",
       "      <td>2017</td>\n",
       "      <td>48</td>\n",
       "      <td>12</td>\n",
       "      <td>4</td>\n",
       "      <td>0.0</td>\n",
       "      <td>0.049787</td>\n",
       "      <td>...</td>\n",
       "      <td>5</td>\n",
       "      <td>4</td>\n",
       "      <td>20</td>\n",
       "      <td>2017-12</td>\n",
       "      <td>230.316667</td>\n",
       "      <td>-6.0</td>\n",
       "      <td>0.0</td>\n",
       "      <td>2000.0</td>\n",
       "      <td>1.0</td>\n",
       "      <td>1.0</td>\n",
       "      <td>39.0</td>\n",
       "      <td>0.0</td>\n",
       "      <td>0.135335</td>\n",
       "      <td>1.0</td>\n",
       "      <td>-17.7</td>\n",
       "      <td>40.0</td>\n",
       "      <td>0.0</td>\n",
       "      <td>2.0</td>\n",
       "      <td>1.0</td>\n",
       "      <td>0.0</td>\n",
       "    </tr>\n",
       "    <tr>\n",
       "      <th>2</th>\n",
       "      <td>2017-12-01</td>\n",
       "      <td>173</td>\n",
       "      <td>2</td>\n",
       "      <td>-6.0</td>\n",
       "      <td>39</td>\n",
       "      <td>1.0</td>\n",
       "      <td>2000</td>\n",
       "      <td>-17.7</td>\n",
       "      <td>0.0</td>\n",
       "      <td>0.0</td>\n",
       "      <td>0.0</td>\n",
       "      <td>0</td>\n",
       "      <td>0</td>\n",
       "      <td>1</td>\n",
       "      <td>2017</td>\n",
       "      <td>48</td>\n",
       "      <td>12</td>\n",
       "      <td>4</td>\n",
       "      <td>0.0</td>\n",
       "      <td>0.135335</td>\n",
       "      <td>...</td>\n",
       "      <td>5</td>\n",
       "      <td>4</td>\n",
       "      <td>20</td>\n",
       "      <td>2017-12</td>\n",
       "      <td>230.316667</td>\n",
       "      <td>-6.2</td>\n",
       "      <td>0.0</td>\n",
       "      <td>2000.0</td>\n",
       "      <td>0.9</td>\n",
       "      <td>1.0</td>\n",
       "      <td>40.0</td>\n",
       "      <td>0.0</td>\n",
       "      <td>0.367879</td>\n",
       "      <td>1.0</td>\n",
       "      <td>-17.6</td>\n",
       "      <td>36.0</td>\n",
       "      <td>0.0</td>\n",
       "      <td>2.0</td>\n",
       "      <td>1.0</td>\n",
       "      <td>0.0</td>\n",
       "    </tr>\n",
       "  </tbody>\n",
       "</table>\n",
       "<p>3 rows × 53 columns</p>\n",
       "</div>"
      ],
      "text/plain": [
       "        Date    y  Hour  Temperature(C)  Humidity(%)  Wind speed (m/s)  \\\n",
       "0 2017-12-01  254     0            -5.2           37               2.2   \n",
       "1 2017-12-01  204     1            -5.5           38               0.8   \n",
       "2 2017-12-01  173     2            -6.0           39               1.0   \n",
       "\n",
       "   Visibility (10m)  Dew point temperature(C)  Solar Radiation (MJ/m2)  \\\n",
       "0              2000                     -17.6                      0.0   \n",
       "1              2000                     -17.6                      0.0   \n",
       "2              2000                     -17.7                      0.0   \n",
       "\n",
       "   Rainfall(mm)  Snowfall (cm)  Seasons  Holiday  Functioning Day  Year  Week  \\\n",
       "0           0.0            0.0        0        0                1  2017    48   \n",
       "1           0.0            0.0        0        0                1  2017    48   \n",
       "2           0.0            0.0        0        0                1  2017    48   \n",
       "\n",
       "   Month  WeekDay  Rush_hour  Dead_hour  ...  Sky_State  Temp_State  \\\n",
       "0     12        4        0.0   0.018316  ...          5           4   \n",
       "1     12        4        0.0   0.049787  ...          5           4   \n",
       "2     12        4        0.0   0.135335  ...          5           4   \n",
       "\n",
       "   GBL_Forecast  Date_tmp  Prev Month y  Temperature lag1  Rainfall lag1  \\\n",
       "0            20   2017-12    230.316667              -5.5            0.0   \n",
       "1            20   2017-12    230.316667              -6.0            0.0   \n",
       "2            20   2017-12    230.316667              -6.2            0.0   \n",
       "\n",
       "   Visibility  lag1  Wind speed lag1  Weather_State lag1  Humidity lag1  \\\n",
       "0            2000.0              0.8                 1.0           38.0   \n",
       "1            2000.0              1.0                 1.0           39.0   \n",
       "2            2000.0              0.9                 1.0           40.0   \n",
       "\n",
       "   Rush_hour lag1  Dead_hour lag1  Ideal lag1  Dew point temperature(C) lag1  \\\n",
       "0             0.0        0.049787         1.0                          -17.6   \n",
       "1             0.0        0.135335         1.0                          -17.7   \n",
       "2             0.0        0.367879         1.0                          -17.6   \n",
       "\n",
       "   Humidity lag2 Rainfall(mm) rolling  Wind speed (m/s) rolling  Ideal lag2  \\\n",
       "0           39.0                  0.0                       0.0         1.0   \n",
       "1           40.0                  0.0                       2.0         1.0   \n",
       "2           36.0                  0.0                       2.0         1.0   \n",
       "\n",
       "   Rush_hour lag2  \n",
       "0             0.0  \n",
       "1             0.0  \n",
       "2             0.0  \n",
       "\n",
       "[3 rows x 53 columns]"
      ]
     },
     "execution_count": 7,
     "metadata": {},
     "output_type": "execute_result"
    }
   ],
   "source": [
    "print(df_prep.shape)\n",
    "df_prep.head(3)"
   ]
  },
  {
   "cell_type": "code",
   "execution_count": 8,
   "metadata": {},
   "outputs": [
    {
     "name": "stdout",
     "output_type": "stream",
     "text": [
      "(3000, 53)\n"
     ]
    },
    {
     "data": {
      "text/html": [
       "<div>\n",
       "<style scoped>\n",
       "    .dataframe tbody tr th:only-of-type {\n",
       "        vertical-align: middle;\n",
       "    }\n",
       "\n",
       "    .dataframe tbody tr th {\n",
       "        vertical-align: top;\n",
       "    }\n",
       "\n",
       "    .dataframe thead th {\n",
       "        text-align: right;\n",
       "    }\n",
       "</style>\n",
       "<table border=\"1\" class=\"dataframe\">\n",
       "  <thead>\n",
       "    <tr style=\"text-align: right;\">\n",
       "      <th></th>\n",
       "      <th>ID</th>\n",
       "      <th>Date</th>\n",
       "      <th>Hour</th>\n",
       "      <th>Temperature(C)</th>\n",
       "      <th>Humidity(%)</th>\n",
       "      <th>Wind speed (m/s)</th>\n",
       "      <th>Visibility (10m)</th>\n",
       "      <th>Dew point temperature(C)</th>\n",
       "      <th>Solar Radiation (MJ/m2)</th>\n",
       "      <th>Rainfall(mm)</th>\n",
       "      <th>Snowfall (cm)</th>\n",
       "      <th>Seasons</th>\n",
       "      <th>Holiday</th>\n",
       "      <th>Functioning Day</th>\n",
       "      <th>Year</th>\n",
       "      <th>Week</th>\n",
       "      <th>Month</th>\n",
       "      <th>WeekDay</th>\n",
       "      <th>Dead_hour</th>\n",
       "      <th>Rush_hour</th>\n",
       "      <th>...</th>\n",
       "      <th>Weather_stat&amp;visb_dist</th>\n",
       "      <th>Weather&amp;visb</th>\n",
       "      <th>Sky_State</th>\n",
       "      <th>Temp_State</th>\n",
       "      <th>GBL_Forecast</th>\n",
       "      <th>Temperature lag1</th>\n",
       "      <th>Rainfall lag1</th>\n",
       "      <th>Visibility  lag1</th>\n",
       "      <th>Wind speed lag1</th>\n",
       "      <th>Weather_State lag1</th>\n",
       "      <th>Humidity lag1</th>\n",
       "      <th>Rush_hour lag1</th>\n",
       "      <th>Dead_hour lag1</th>\n",
       "      <th>Ideal lag1</th>\n",
       "      <th>Dew point temperature(C) lag1</th>\n",
       "      <th>Humidity lag2</th>\n",
       "      <th>Rainfall(mm) rolling</th>\n",
       "      <th>Wind speed (m/s) rolling</th>\n",
       "      <th>Ideal lag2</th>\n",
       "      <th>Rush_hour lag2</th>\n",
       "    </tr>\n",
       "  </thead>\n",
       "  <tbody>\n",
       "    <tr>\n",
       "      <th>0</th>\n",
       "      <td>5760</td>\n",
       "      <td>2017-12-21</td>\n",
       "      <td>0</td>\n",
       "      <td>-1.3</td>\n",
       "      <td>90</td>\n",
       "      <td>2.0</td>\n",
       "      <td>259</td>\n",
       "      <td>-2.7</td>\n",
       "      <td>0.0</td>\n",
       "      <td>0.0</td>\n",
       "      <td>2.2</td>\n",
       "      <td>0</td>\n",
       "      <td>0</td>\n",
       "      <td>1</td>\n",
       "      <td>2017</td>\n",
       "      <td>51</td>\n",
       "      <td>12</td>\n",
       "      <td>3</td>\n",
       "      <td>0.018316</td>\n",
       "      <td>0.0</td>\n",
       "      <td>...</td>\n",
       "      <td>22</td>\n",
       "      <td>61.125109</td>\n",
       "      <td>4</td>\n",
       "      <td>4</td>\n",
       "      <td>16</td>\n",
       "      <td>-1.8</td>\n",
       "      <td>0.0</td>\n",
       "      <td>263.0</td>\n",
       "      <td>1.6</td>\n",
       "      <td>11.0</td>\n",
       "      <td>90.0</td>\n",
       "      <td>0.0</td>\n",
       "      <td>0.049787</td>\n",
       "      <td>1.0</td>\n",
       "      <td>-3.2</td>\n",
       "      <td>88.0</td>\n",
       "      <td>0.0</td>\n",
       "      <td>0.0</td>\n",
       "      <td>1.0</td>\n",
       "      <td>0.0</td>\n",
       "    </tr>\n",
       "    <tr>\n",
       "      <th>1</th>\n",
       "      <td>5761</td>\n",
       "      <td>2017-12-21</td>\n",
       "      <td>1</td>\n",
       "      <td>-1.8</td>\n",
       "      <td>90</td>\n",
       "      <td>1.6</td>\n",
       "      <td>263</td>\n",
       "      <td>-3.2</td>\n",
       "      <td>0.0</td>\n",
       "      <td>0.0</td>\n",
       "      <td>2.2</td>\n",
       "      <td>0</td>\n",
       "      <td>0</td>\n",
       "      <td>1</td>\n",
       "      <td>2017</td>\n",
       "      <td>51</td>\n",
       "      <td>12</td>\n",
       "      <td>3</td>\n",
       "      <td>0.049787</td>\n",
       "      <td>0.0</td>\n",
       "      <td>...</td>\n",
       "      <td>22</td>\n",
       "      <td>61.293694</td>\n",
       "      <td>4</td>\n",
       "      <td>4</td>\n",
       "      <td>16</td>\n",
       "      <td>-2.2</td>\n",
       "      <td>0.0</td>\n",
       "      <td>348.0</td>\n",
       "      <td>1.4</td>\n",
       "      <td>11.0</td>\n",
       "      <td>88.0</td>\n",
       "      <td>0.0</td>\n",
       "      <td>0.135335</td>\n",
       "      <td>1.0</td>\n",
       "      <td>-3.9</td>\n",
       "      <td>89.0</td>\n",
       "      <td>0.0</td>\n",
       "      <td>22.0</td>\n",
       "      <td>1.0</td>\n",
       "      <td>0.0</td>\n",
       "    </tr>\n",
       "    <tr>\n",
       "      <th>2</th>\n",
       "      <td>5762</td>\n",
       "      <td>2017-12-21</td>\n",
       "      <td>2</td>\n",
       "      <td>-2.2</td>\n",
       "      <td>88</td>\n",
       "      <td>1.4</td>\n",
       "      <td>348</td>\n",
       "      <td>-3.9</td>\n",
       "      <td>0.0</td>\n",
       "      <td>0.0</td>\n",
       "      <td>2.2</td>\n",
       "      <td>0</td>\n",
       "      <td>0</td>\n",
       "      <td>1</td>\n",
       "      <td>2017</td>\n",
       "      <td>51</td>\n",
       "      <td>12</td>\n",
       "      <td>3</td>\n",
       "      <td>0.135335</td>\n",
       "      <td>0.0</td>\n",
       "      <td>...</td>\n",
       "      <td>22</td>\n",
       "      <td>64.374227</td>\n",
       "      <td>4</td>\n",
       "      <td>4</td>\n",
       "      <td>16</td>\n",
       "      <td>-2.9</td>\n",
       "      <td>0.0</td>\n",
       "      <td>288.0</td>\n",
       "      <td>1.3</td>\n",
       "      <td>11.0</td>\n",
       "      <td>89.0</td>\n",
       "      <td>0.0</td>\n",
       "      <td>0.367879</td>\n",
       "      <td>1.0</td>\n",
       "      <td>-4.4</td>\n",
       "      <td>91.0</td>\n",
       "      <td>0.0</td>\n",
       "      <td>22.0</td>\n",
       "      <td>1.0</td>\n",
       "      <td>0.0</td>\n",
       "    </tr>\n",
       "  </tbody>\n",
       "</table>\n",
       "<p>3 rows × 53 columns</p>\n",
       "</div>"
      ],
      "text/plain": [
       "     ID       Date  Hour  Temperature(C)  Humidity(%)  Wind speed (m/s)  \\\n",
       "0  5760 2017-12-21     0            -1.3           90               2.0   \n",
       "1  5761 2017-12-21     1            -1.8           90               1.6   \n",
       "2  5762 2017-12-21     2            -2.2           88               1.4   \n",
       "\n",
       "   Visibility (10m)  Dew point temperature(C)  Solar Radiation (MJ/m2)  \\\n",
       "0               259                      -2.7                      0.0   \n",
       "1               263                      -3.2                      0.0   \n",
       "2               348                      -3.9                      0.0   \n",
       "\n",
       "   Rainfall(mm)  Snowfall (cm)  Seasons  Holiday  Functioning Day  Year  Week  \\\n",
       "0           0.0            2.2        0        0                1  2017    51   \n",
       "1           0.0            2.2        0        0                1  2017    51   \n",
       "2           0.0            2.2        0        0                1  2017    51   \n",
       "\n",
       "   Month  WeekDay  Dead_hour  Rush_hour  ...  Weather_stat&visb_dist  \\\n",
       "0     12        3   0.018316        0.0  ...                      22   \n",
       "1     12        3   0.049787        0.0  ...                      22   \n",
       "2     12        3   0.135335        0.0  ...                      22   \n",
       "\n",
       "   Weather&visb  Sky_State  Temp_State  GBL_Forecast  Temperature lag1  \\\n",
       "0     61.125109          4           4            16              -1.8   \n",
       "1     61.293694          4           4            16              -2.2   \n",
       "2     64.374227          4           4            16              -2.9   \n",
       "\n",
       "   Rainfall lag1  Visibility  lag1  Wind speed lag1  Weather_State lag1  \\\n",
       "0            0.0             263.0              1.6                11.0   \n",
       "1            0.0             348.0              1.4                11.0   \n",
       "2            0.0             288.0              1.3                11.0   \n",
       "\n",
       "  Humidity lag1  Rush_hour lag1  Dead_hour lag1  Ideal lag1  \\\n",
       "0          90.0             0.0        0.049787         1.0   \n",
       "1          88.0             0.0        0.135335         1.0   \n",
       "2          89.0             0.0        0.367879         1.0   \n",
       "\n",
       "   Dew point temperature(C) lag1  Humidity lag2  Rainfall(mm) rolling  \\\n",
       "0                           -3.2           88.0                   0.0   \n",
       "1                           -3.9           89.0                   0.0   \n",
       "2                           -4.4           91.0                   0.0   \n",
       "\n",
       "   Wind speed (m/s) rolling  Ideal lag2  Rush_hour lag2  \n",
       "0                       0.0         1.0             0.0  \n",
       "1                      22.0         1.0             0.0  \n",
       "2                      22.0         1.0             0.0  \n",
       "\n",
       "[3 rows x 53 columns]"
      ]
     },
     "execution_count": 8,
     "metadata": {},
     "output_type": "execute_result"
    }
   ],
   "source": [
    "print(test.shape)\n",
    "test.head(3)"
   ]
  },
  {
   "cell_type": "code",
   "execution_count": 9,
   "metadata": {
    "scrolled": true
   },
   "outputs": [
    {
     "data": {
      "text/plain": [
       "Index(['Date', 'y', 'Hour', 'Temperature(C)', 'Humidity(%)',\n",
       "       'Wind speed (m/s)', 'Visibility (10m)', 'Dew point temperature(C)',\n",
       "       'Solar Radiation (MJ/m2)', 'Rainfall(mm)', 'Snowfall (cm)', 'Seasons',\n",
       "       'Holiday', 'Functioning Day', 'Year', 'Week', 'Month', 'WeekDay',\n",
       "       'Rush_hour', 'Dead_hour', 'day_night', 'Humidity_high',\n",
       "       'Temperature_high', 'Weather_bad', 'Humidex', 'Ideal', 'Visibility_cat',\n",
       "       'Visibility_dist', 'Rain_cat', 'Snow_cat', 'Weather_State',\n",
       "       'Weather_stat&visb_dist', 'Weather&visb', 'Sky_State', 'Temp_State',\n",
       "       'GBL_Forecast', 'Date_tmp', 'Prev Month y', 'Temperature lag1',\n",
       "       'Rainfall lag1', 'Visibility  lag1', 'Wind speed lag1',\n",
       "       'Weather_State lag1', 'Humidity lag1', 'Rush_hour lag1',\n",
       "       'Dead_hour lag1', 'Ideal lag1', 'Dew point temperature(C) lag1',\n",
       "       'Humidity lag2', 'Rainfall(mm) rolling', 'Wind speed (m/s) rolling',\n",
       "       'Ideal lag2', 'Rush_hour lag2'],\n",
       "      dtype='object')"
      ]
     },
     "execution_count": 9,
     "metadata": {},
     "output_type": "execute_result"
    }
   ],
   "source": [
    "df_prep.columns"
   ]
  },
  {
   "cell_type": "code",
   "execution_count": 10,
   "metadata": {},
   "outputs": [],
   "source": [
    "features = df_prep.columns.to_list()\n",
    "features.remove('y')\n",
    "features.remove('Date')\n",
    "features.remove('Date_tmp')\n",
    "features.remove('Prev Month y')"
   ]
  },
  {
   "cell_type": "markdown",
   "metadata": {},
   "source": [
    "## Abdo Ashwal model\n"
   ]
  },
  {
   "cell_type": "code",
   "execution_count": 11,
   "metadata": {},
   "outputs": [],
   "source": [
    "prev_trainGBR ,prev_testGBR = 0 ,0\n"
   ]
  },
  {
   "cell_type": "code",
   "execution_count": 49,
   "metadata": {},
   "outputs": [
    {
     "name": "stdout",
     "output_type": "stream",
     "text": [
      "(Train) RMSLE: 0.13533654626042593\n",
      "(Test) RMSLE: 0.230626913608342\n",
      "(Real) RMSLE: 0.3002528930524066\n",
      "---------------------------------\n",
      "(Train) Prev RMSLE: 0.23770835987595035\n",
      "(Test) Prev RMSLE: 0.2687923526893738\n",
      "(Real) Prev RMSLE: 0\n",
      "---------------------------------\n",
      "Training Score: 99.85994068671873  %\n",
      "Test Score: 99.65457660334516  %\n",
      "(Real) R2: 0.9280724009051554\n",
      "---------------------------------\n"
     ]
    }
   ],
   "source": [
    "selected_features = ['Hour','Week', 'Month','Year', 'Solar Radiation (MJ/m2)','Rainfall(mm)',\"Dew point temperature(C)\",\n",
    "                     'Snowfall (cm)','Wind speed (m/s)','Visibility (10m)','WeekDay',\n",
    "                     'Seasons','Holiday' ,'Temperature(C)', 'Humidity(%)',\n",
    "                     'Functioning Day','Rush_hour','Dead_hour','Weather_State',\n",
    "                     'Weather&visb','Weather_stat&visb_dist','Sky_State','Temp_State','GBL_Forecast',\n",
    "                     'Temperature lag1','Rainfall lag1', 'Visibility  lag1', 'Wind speed lag1',\n",
    "                     'Weather_State lag1', 'Humidity lag1', 'Rush_hour lag1',\n",
    "                     'Dead_hour lag1', 'Ideal lag1',\"Dew point temperature(C) lag1\",\"Humidity lag2\",\"Rush_hour lag2\",\"Ideal lag2\",\n",
    "                    \"Rainfall(mm) rolling\",\"Wind speed (m/s) rolling\"]\n",
    "\n",
    "\n",
    "train = df_prep.copy()\n",
    "train[\"y\"] = np.log(df_prep[\"y\"]+0.00001) ##--- someone explain why this works better than +1\n",
    "#train[\"y\"] = df_prep[\"y\"]\n",
    "X1 = train[selected_features]\n",
    "y1 = train[\"y\"]\n",
    "\n",
    "# tss = TimeSeriesSplit(n_splits=2)\n",
    "# train_ind,test_ind  = tss.split(X1,groups=[20,1])\n",
    "\n",
    "X_train, X_test, y_train, y_test\\\n",
    "= train_test_split(X1, y1, test_size = 0.2, random_state=42,shuffle=True,)\n",
    "\n",
    "#GBR learn_rate = 0.05 , n_est = 1000 \n",
    "\n",
    "GBR = GradientBoostingRegressor(random_state=0,loss='ls',\n",
    "    n_estimators=1700,subsample=0.8,learning_rate=0.04,\n",
    "    criterion='friedman_mse' , max_depth= 3)\n",
    "#n_estimators \n",
    "#3000 .304 &  2500 0.303 & 2300  > 1700 0.302 & 1700 best ever \n",
    "#subsample \n",
    "# .7 .302 /.6 .303/ .8 .301 / .9 .310 best .8 \n",
    "#learning_rate\n",
    "#.05 .301 > .005 > .405  > .04 .300 0.01 0.34 >> .04 is the best \n",
    "GBR.fit(X_train, y_train)\n",
    "\n",
    "prev_trainGBR ,prev_testGBR , old_real =\\\n",
    "evaluationandSave(GBR,selected_features,prev_trainGBR ,prev_testGBR,old_real  )"
   ]
  },
  {
   "cell_type": "markdown",
   "metadata": {},
   "source": [
    "### Auto Feature Selection RFECV Model"
   ]
  },
  {
   "cell_type": "raw",
   "metadata": {},
   "source": [
    "prev_train_RFECVM= 0\n",
    "prev_test_RFECVM= 0"
   ]
  },
  {
   "cell_type": "raw",
   "metadata": {},
   "source": [
    "# define dataset\n",
    "train = df_prep.copy()\n",
    "train[\"y\"] = np.log(df_prep[\"y\"]+0.00001) ##--- someone explain why this works better than +1\n",
    "\n",
    "X1 = train[features]\n",
    "y1 = train[\"y\"]\n",
    "\n",
    "#split\n",
    "X_train, X_test, y_train, y_test =\\\n",
    "train_test_split(X1, y1, test_size = 0.2, random_state=42,shuffle=True,)\n",
    "\n",
    "#model \n",
    "GBR = GradientBoostingRegressor(random_state =0,loss='ls',\n",
    "    n_estimators=2500,subsample=0.8,min_samples_leaf = 0.0001\n",
    "    ,max_features=0.9,learning_rate=0.04\n",
    "    ,verbose =0, criterion='friedman_mse')\n",
    "\n",
    "#add feature model\n",
    "RFECVM= RFECV(estimator = GBR, step=1, min_features_to_select=20\n",
    "                                , cv=5, scoring= scoring\n",
    "                                ,n_jobs=2)\n",
    "#fit model \n",
    "RFECVM.fit(X_train , y_train)\n",
    "\n",
    "#predict the splited train\n",
    "y_pred_train_RFECVM= RFECVM.predict(X_train)  \n",
    "y_pred_test_RFECVM= RFECVM.predict(X_test)  \n",
    "\n",
    "\n",
    "rmsle_train_RFECVM=  rmsle(y_train, y_pred_train_RFECVM, True)\n",
    "rmsle_test_RFECVM= rmsle(y_test, y_pred_test_RFECVM, True)\n",
    "print('(Train)  GBR  RMSLE:',rmsle_train_RFECVM)\n",
    "print('(Test) GBR RMSLE:',rmsle_test_RFECVM )\n",
    "print('---------------------------------' )\n",
    "print('(Train) Prev RMSLE:', prev_train_RFECVM)\n",
    "print('(Test) Prev RMSLE:', prev_test_RFECVM)\n",
    "prev_train_RFECVM= rmsle_train_RFECVM\n",
    "prev_test_RFECVM= rmsle_test_RFECVM\n",
    "print('---------------------------------' )\n",
    "print(\"Training Score:\", r2_score(y_train, y_pred_train_RFECVM) * 100,' %')\n",
    "print(\"Test Score:\", r2_score(y_test, y_pred_test_RFECVM) * 100,' %')\n",
    "print('---------------------------------' )\n",
    "realtest(RFECVM,features)\n",
    "VEry Very Bad "
   ]
  },
  {
   "cell_type": "markdown",
   "metadata": {},
   "source": [
    "##### [Getting features in RFECV scikit-learn](https://stackoverflow.com/questions/50387089/getting-features-in-rfecv-scikit-learn)"
   ]
  },
  {
   "cell_type": "raw",
   "metadata": {},
   "source": [
    "X_train.columns[~RFECV.support_]"
   ]
  },
  {
   "cell_type": "raw",
   "metadata": {},
   "source": [
    "# # First, you can see which features it selected where the cross validation score\n",
    "# is the largest (in your case this corresponds to the number of features 17 or 21\n",
    "#                 , I am not sure from the figure) with\n",
    "print('RFECVM.support_\\n')\n",
    "print(RFECVM.support_)\n",
    "print('\\nRFECVM.ranking_\\n' )\n",
    "print(RFECVM.ranking_ )\n",
    "# Then you can calculate the importances of selected features (for the peak of the cv score curve) \n",
    "# by\n",
    "print('\\nimportances of selected features\\n')\n",
    "# print(np.absolute(RFECVM.estimator_.coef_))\n",
    "# for simple estimators or\n",
    "print('simple estimators')\n",
    "print('\\n')\n",
    "print(RFECVM.estimator_.feature_importances_ )\n",
    "# if your estimator is some ensemble, like random forest.\n",
    "\n",
    "# Then you can remove the least important feature one by one in the loop,\n",
    "# and recalculate RFECVM for the remaining feature sets."
   ]
  },
  {
   "cell_type": "raw",
   "metadata": {},
   "source": [
    "selected_features =  X_train.columns[RFECV.support_]\n",
    "selected_features"
   ]
  },
  {
   "cell_type": "markdown",
   "metadata": {},
   "source": [
    "### Normal GBR"
   ]
  },
  {
   "cell_type": "code",
   "execution_count": 35,
   "metadata": {},
   "outputs": [],
   "source": [
    "selected_features = ['Hour', 'Temperature(C)', 'Humidity(%)', 'Wind speed (m/s)',\n",
    "       'Visibility (10m)', 'Dew point temperature(C)',\n",
    "       'Solar Radiation (MJ/m2)', 'Rainfall(mm)', 'Snowfall (cm)', 'Seasons',\n",
    "       'Holiday', 'Functioning Day', 'Year', 'Week', 'Month', 'WeekDay',\n",
    "       'day_night', 'Humidex', 'Visibility_dist', 'Rain_cat', 'Snow_cat',\n",
    "       'Rush_hour', 'Dead_hour', 'Humidity_high', 'Weather_bad', 'Ideal',\n",
    "       'Weather_State', 'Weather_stat&visb_dist', 'Weather&visb', 'Sky_State',\n",
    "       'Temp_State', 'GBL_Forecast', 'X_Temp', 'Abdo_try', 'Fog_State', 'Fog']"
   ]
  },
  {
   "cell_type": "code",
   "execution_count": 38,
   "metadata": {},
   "outputs": [],
   "source": [
    "prev_train , prev_test = 0,0"
   ]
  },
  {
   "cell_type": "code",
   "execution_count": 39,
   "metadata": {
    "scrolled": true
   },
   "outputs": [
    {
     "name": "stdout",
     "output_type": "stream",
     "text": [
      "(Train) RMSLE: 0.1351784095567747\n",
      "(Test) RMSLE: 0.29705949464132403\n",
      "---------------------------------\n",
      "(Train) Prev RMSLE: 0\n",
      "(Test) Prev RMSLE: 0\n",
      "---------------------------------\n",
      "Training Score: 99.85906318228496  %\n",
      "Test Score: 99.42776956103462  %\n",
      "---------------------------------\n",
      "(Real) RMSLE: 0.9858534885622104\n",
      "(Real) R2: 0.21255600238905425\n"
     ]
    }
   ],
   "source": [
    "# define dataset\n",
    "train = df_prep.copy()\n",
    "train[\"y\"] = np.log(df_prep[\"y\"]+0.00001) ##--- someone explain why this works better than +1\n",
    "#train[\"y\"] = df_prep[\"y\"]\n",
    "X1 = train[selected_features]\n",
    "y1 = train[\"y\"]\n",
    "X_train, X_test, y_train, y_test =\\\n",
    "train_test_split(X1, y1, test_size = 0.2, random_state=42,shuffle=True,)\n",
    "# define the model\n",
    "GBR = GradientBoostingRegressor(learning_rate=0.04, max_features=0.9,\n",
    "                                          min_samples_leaf=0.0001,\n",
    "                                          n_estimators=2500, random_state=0,\n",
    "                                          subsample=0.8)\n",
    "GBR.fit(X_train , y_train)\n",
    "prev_train , prev_test = evaluationandSave(GBR , selected_features,prev_train , prev_test)"
   ]
  },
  {
   "cell_type": "markdown",
   "metadata": {},
   "source": [
    "### Grid search on them "
   ]
  },
  {
   "cell_type": "code",
   "execution_count": 11,
   "metadata": {},
   "outputs": [],
   "source": [
    "prev_train_GBR = 0\n",
    "prev_test_GBR = 0"
   ]
  },
  {
   "cell_type": "markdown",
   "metadata": {},
   "source": [
    "(*, loss='ls', learning_rate=0.1, n_estimators=100, subsample=1.0, criterion='friedman_mse', min_samples_split=2, min_samples_leaf=1, min_weight_fraction_leaf=0.0, max_depth=3, min_impurity_decrease=0.0, min_impurity_split=None, init=None, random_state=None, max_features=None, alpha=0.9, verbose=0, max_leaf_nodes=None, warm_start=False, validation_fraction=0.1, n_iter_no_change=None, tol=0.0001, ccp_alpha=0.0)"
   ]
  },
  {
   "cell_type": "code",
   "execution_count": 55,
   "metadata": {},
   "outputs": [
    {
     "data": {
      "text/plain": [
       "GridSearchCV(cv=2,\n",
       "             estimator=GradientBoostingRegressor(max_features=0.8,\n",
       "                                                 min_samples_leaf=0.0001,\n",
       "                                                 random_state=9110),\n",
       "             n_jobs=-1,\n",
       "             param_grid={'learning_rate': [0.001, 0.01, 0.02, 0.1],\n",
       "                         'max_depth': [1, 2, 4, 6],\n",
       "                         'n_estimators': [2000, 3000, 4000, 5000, 6000, 7000,\n",
       "                                          8000, 9000, 10000, 11000],\n",
       "                         'subsample': [0.5, 0.75, 1]},\n",
       "             scoring=make_scorer(rmsle, greater_is_better=False))"
      ]
     },
     "execution_count": 55,
     "metadata": {},
     "output_type": "execute_result"
    }
   ],
   "source": [
    "# define dataset\n",
    "train = df_prep.copy()\n",
    "train[\"y\"] = np.log(df_prep[\"y\"]+0.00001) ##--- someone explain why this works better than +1\n",
    "#train[\"y\"] = df_prep[\"y\"]\n",
    "X1 = train[features]\n",
    "y1 = train[\"y\"]\n",
    "X_train, X_test, y_train, y_test =\\\n",
    "train_test_split(X1, y1, test_size = 0.2, random_state=42,shuffle=True,)\n",
    "# define the model\n",
    "\n",
    "GBR = GradientBoostingRegressor(max_features=0.8,\n",
    "                                          min_samples_leaf=0.0001, random_state=9110,)\n",
    "\n",
    "params={'n_estimators':[*range(2000,12000,1000)]\n",
    "             ,'learning_rate':[.001,0.01,0.02,.1]\n",
    "             ,'max_depth':[1,2]\n",
    "             ,'subsample':[.5,.75,1]}\n",
    "\n",
    "# params = {\n",
    "#         'min_child_weight': [1, 5, 10],\n",
    "#         'gamma': [0.5, 1, 1.5, 2, 5],\n",
    "#         'subsample': [0.6, 0.8, 0.887,1.0],\n",
    "#         'colsample_bytree': [0.6, 0.8,0.895, 1.0],\n",
    "#         'max_depth': [3, 4, 5],\n",
    "#     'learning_rate':[*range(.001,.02,.05)],\n",
    "#     'n_estimators' : [*range(2000,12000,1000)]\n",
    "#         }\n",
    "CV_rfc = GridSearchCV(estimator=GBR, \n",
    "                      param_grid = params,\n",
    "                      cv= 5, scoring = rmsle_scorer,n_jobs=-1)\n",
    "\n",
    "CV_rfc.fit(X_train, y_train)"
   ]
  },
  {
   "cell_type": "code",
   "execution_count": 57,
   "metadata": {},
   "outputs": [
    {
     "name": "stdout",
     "output_type": "stream",
     "text": [
      "(Train) RMSLE: 0.00926796923051593\n",
      "(Test) RMSLE: 0.26041591196861796\n",
      "---------------------------------\n",
      "(Train) Prev RMSLE: 0\n",
      "(Test) Prev RMSLE: 0\n",
      "---------------------------------\n",
      "Training Score: 99.9993398992272  %\n",
      "Test Score: 99.56229212293887  %\n",
      "---------------------------------\n",
      "(Real) RMSLE: 0.8082548956486604\n",
      "(Real) R2: 0.35584910889334065\n"
     ]
    },
    {
     "data": {
      "text/plain": [
       "(0.00926796923051593, 0.26041591196861796)"
      ]
     },
     "execution_count": 57,
     "metadata": {},
     "output_type": "execute_result"
    }
   ],
   "source": [
    "evaluationandSave(CV_rfc , features)"
   ]
  },
  {
   "cell_type": "code",
   "execution_count": 60,
   "metadata": {},
   "outputs": [
    {
     "name": "stdout",
     "output_type": "stream",
     "text": [
      "(Train) RMSLE: 0.00926796923051593\n",
      "(Test) RMSLE: 0.26041591196861796\n",
      "---------------------------------\n",
      "(Train) Prev RMSLE: 0\n",
      "(Test) Prev RMSLE: 0\n",
      "---------------------------------\n",
      "Training Score: 99.9993398992272  %\n",
      "Test Score: 99.56229212293887  %\n",
      "---------------------------------\n",
      "(Real) RMSLE: 0.8082548956486604\n",
      "(Real) R2: 0.35584910889334065\n"
     ]
    },
    {
     "data": {
      "text/plain": [
       "(0.00926796923051593, 0.26041591196861796)"
      ]
     },
     "execution_count": 60,
     "metadata": {},
     "output_type": "execute_result"
    }
   ],
   "source": [
    "evaluationandSave(CV_rfc.best_estimator_ , features)"
   ]
  },
  {
   "cell_type": "code",
   "execution_count": 58,
   "metadata": {},
   "outputs": [
    {
     "data": {
      "text/plain": [
       "GradientBoostingRegressor(learning_rate=0.01, max_depth=6, max_features=0.8,\n",
       "                          min_samples_leaf=0.0001, n_estimators=11000,\n",
       "                          random_state=9110, subsample=0.5)"
      ]
     },
     "execution_count": 58,
     "metadata": {},
     "output_type": "execute_result"
    }
   ],
   "source": [
    "CV_rfc.best_estimator_"
   ]
  },
  {
   "cell_type": "code",
   "execution_count": null,
   "metadata": {},
   "outputs": [],
   "source": [
    "# validationandSave(CV_rfc.best_estimator_ , features)\n",
    "# print()"
   ]
  },
  {
   "cell_type": "code",
   "execution_count": null,
   "metadata": {},
   "outputs": [],
   "source": [
    "# GBR_best = CV_rfc.best_estimator_\n",
    "# GBR_best.fit(X_train , y_train)\n",
    "# # evaluate the model\n",
    "# y_pred_train_GBR = GBR_best.predict(X_train)  \n",
    "# y_pred_test_GBR = GBR_best.predict(X_test)  \n",
    "\n",
    "# rmsle_train_GBR =  rmsle(y_train, y_pred_train_GBR, True)\n",
    "# rmsle_test_GBR  = rmsle(y_test, y_pred_test_GBR, True)\n",
    "# print('(Train)  BaggingRegressor  RMSLE:',rmsle_train_GBR )\n",
    "# print('(Test) BaggingRegressor RMSLE:',rmsle_test_GBR  )\n",
    "# print('---------------------------------' )\n",
    "# print('(Train) Prev RMSLE:', prev_train_GBR)\n",
    "# print('(Test) Prev RMSLE:', prev_test_GBR)\n",
    "# prev_train_GBR = rmsle_train_GBR\n",
    "# prev_test_GBR = rmsle_test_GBR \n",
    "# print('---------------------------------' )\n",
    "# print(\"Training Score:\", r2_score(y_train, y_pred_train_GBR) * 100,' %')\n",
    "# print(\"Test Score:\", r2_score(y_test, y_pred_test_GBR) * 100,' %')\n",
    "# print('---------------------------------' )\n",
    "# # realtest(GBR_best,selected_features)\n",
    "# toSave(rmsle_train_GBR,rmsle_test_GBR,GBR_best,selected_features)"
   ]
  },
  {
   "cell_type": "markdown",
   "metadata": {},
   "source": [
    "### normal model with manual selection Wtih bagging "
   ]
  },
  {
   "cell_type": "code",
   "execution_count": 9,
   "metadata": {},
   "outputs": [],
   "source": [
    "prev_train , prev_test = 0 , 0"
   ]
  },
  {
   "cell_type": "code",
   "execution_count": 18,
   "metadata": {},
   "outputs": [
    {
     "data": {
      "text/plain": [
       "37"
      ]
     },
     "execution_count": 18,
     "metadata": {},
     "output_type": "execute_result"
    }
   ],
   "source": [
    "len(features)"
   ]
  },
  {
   "cell_type": "code",
   "execution_count": 30,
   "metadata": {
    "scrolled": true
   },
   "outputs": [
    {
     "name": "stderr",
     "output_type": "stream",
     "text": [
      "<ipython-input-2-e0e1d9e2718d>:4: RuntimeWarning: overflow encountered in exp\n",
      "  y_pred = np.exp(y_pred)\n",
      "<ipython-input-2-e0e1d9e2718d>:9: RuntimeWarning: overflow encountered in square\n",
      "  output = np.sqrt(np.mean((log_true - log_pred)**2))\n"
     ]
    },
    {
     "name": "stdout",
     "output_type": "stream",
     "text": [
      "(Train) RMSLE: inf\n",
      "(Test) RMSLE: inf\n",
      "---------------------------------\n",
      "(Train) Prev RMSLE: inf\n",
      "(Test) Prev RMSLE: inf\n",
      "---------------------------------\n",
      "Training Score: 97.32495233434264  %\n",
      "Test Score: 94.16287166576635  %\n",
      "---------------------------------\n",
      "(Real) RMSLE: 0.7225455803654052\n",
      "(Real) R2: 0.4122150047128731\n"
     ]
    },
    {
     "ename": "PermissionError",
     "evalue": "[Errno 13] Permission denied: 'MY tries.csv'",
     "output_type": "error",
     "traceback": [
      "\u001b[1;31m---------------------------------------------------------------------------\u001b[0m",
      "\u001b[1;31mPermissionError\u001b[0m                           Traceback (most recent call last)",
      "\u001b[1;32m<ipython-input-30-9c5eaedc5906>\u001b[0m in \u001b[0;36m<module>\u001b[1;34m\u001b[0m\n\u001b[0;32m     25\u001b[0m \u001b[0mBaggModel\u001b[0m\u001b[1;33m.\u001b[0m\u001b[0mfit\u001b[0m\u001b[1;33m(\u001b[0m\u001b[0mX_train\u001b[0m \u001b[1;33m,\u001b[0m \u001b[0my_train\u001b[0m\u001b[1;33m)\u001b[0m\u001b[1;33m\u001b[0m\u001b[1;33m\u001b[0m\u001b[0m\n\u001b[0;32m     26\u001b[0m \u001b[1;31m# evaluate the model\u001b[0m\u001b[1;33m\u001b[0m\u001b[1;33m\u001b[0m\u001b[1;33m\u001b[0m\u001b[0m\n\u001b[1;32m---> 27\u001b[1;33m \u001b[0mprev_train\u001b[0m \u001b[1;33m,\u001b[0m \u001b[0mprev_test\u001b[0m \u001b[1;33m=\u001b[0m \u001b[0mevaluationandSave\u001b[0m\u001b[1;33m(\u001b[0m\u001b[0mBaggModel\u001b[0m \u001b[1;33m,\u001b[0m \u001b[0mfeatures\u001b[0m\u001b[1;33m,\u001b[0m\u001b[0mprev_train\u001b[0m \u001b[1;33m,\u001b[0m \u001b[0mprev_test\u001b[0m\u001b[1;33m)\u001b[0m\u001b[1;33m\u001b[0m\u001b[1;33m\u001b[0m\u001b[0m\n\u001b[0m",
      "\u001b[1;32m<ipython-input-28-835a41a90373>\u001b[0m in \u001b[0;36mevaluationandSave\u001b[1;34m(model, feature_used, old_train_rmsle, old_test_rmsle)\u001b[0m\n\u001b[0;32m     31\u001b[0m                            ,\"feature_used\":(len(feature_used) , feature_used)} \n\u001b[0;32m     32\u001b[0m                          , ignore_index=True)\n\u001b[1;32m---> 33\u001b[1;33m     \u001b[0mTable\u001b[0m\u001b[1;33m.\u001b[0m\u001b[0mto_csv\u001b[0m\u001b[1;33m(\u001b[0m\u001b[1;34m'MY tries.csv'\u001b[0m \u001b[1;33m,\u001b[0m \u001b[0mmode\u001b[0m\u001b[1;33m=\u001b[0m \u001b[1;34m'a'\u001b[0m\u001b[1;33m,\u001b[0m \u001b[0mheader\u001b[0m\u001b[1;33m=\u001b[0m\u001b[1;32mFalse\u001b[0m\u001b[1;33m)\u001b[0m\u001b[1;33m\u001b[0m\u001b[1;33m\u001b[0m\u001b[0m\n\u001b[0m\u001b[0;32m     34\u001b[0m     \u001b[1;32mreturn\u001b[0m \u001b[0mrmsle_train\u001b[0m\u001b[1;33m,\u001b[0m\u001b[0mrmsle_test\u001b[0m\u001b[1;33m\u001b[0m\u001b[1;33m\u001b[0m\u001b[0m\n",
      "\u001b[1;32mC:\\ProgramData\\Anaconda3\\lib\\site-packages\\pandas\\core\\generic.py\u001b[0m in \u001b[0;36mto_csv\u001b[1;34m(self, path_or_buf, sep, na_rep, float_format, columns, header, index, index_label, mode, encoding, compression, quoting, quotechar, line_terminator, chunksize, date_format, doublequote, escapechar, decimal, errors)\u001b[0m\n\u001b[0;32m   3168\u001b[0m             \u001b[0mdecimal\u001b[0m\u001b[1;33m=\u001b[0m\u001b[0mdecimal\u001b[0m\u001b[1;33m,\u001b[0m\u001b[1;33m\u001b[0m\u001b[1;33m\u001b[0m\u001b[0m\n\u001b[0;32m   3169\u001b[0m         )\n\u001b[1;32m-> 3170\u001b[1;33m         \u001b[0mformatter\u001b[0m\u001b[1;33m.\u001b[0m\u001b[0msave\u001b[0m\u001b[1;33m(\u001b[0m\u001b[1;33m)\u001b[0m\u001b[1;33m\u001b[0m\u001b[1;33m\u001b[0m\u001b[0m\n\u001b[0m\u001b[0;32m   3171\u001b[0m \u001b[1;33m\u001b[0m\u001b[0m\n\u001b[0;32m   3172\u001b[0m         \u001b[1;32mif\u001b[0m \u001b[0mpath_or_buf\u001b[0m \u001b[1;32mis\u001b[0m \u001b[1;32mNone\u001b[0m\u001b[1;33m:\u001b[0m\u001b[1;33m\u001b[0m\u001b[1;33m\u001b[0m\u001b[0m\n",
      "\u001b[1;32mC:\\ProgramData\\Anaconda3\\lib\\site-packages\\pandas\\io\\formats\\csvs.py\u001b[0m in \u001b[0;36msave\u001b[1;34m(self)\u001b[0m\n\u001b[0;32m    183\u001b[0m             \u001b[0mclose\u001b[0m \u001b[1;33m=\u001b[0m \u001b[1;32mFalse\u001b[0m\u001b[1;33m\u001b[0m\u001b[1;33m\u001b[0m\u001b[0m\n\u001b[0;32m    184\u001b[0m         \u001b[1;32melse\u001b[0m\u001b[1;33m:\u001b[0m\u001b[1;33m\u001b[0m\u001b[1;33m\u001b[0m\u001b[0m\n\u001b[1;32m--> 185\u001b[1;33m             f, handles = get_handle(\n\u001b[0m\u001b[0;32m    186\u001b[0m                 \u001b[0mself\u001b[0m\u001b[1;33m.\u001b[0m\u001b[0mpath_or_buf\u001b[0m\u001b[1;33m,\u001b[0m\u001b[1;33m\u001b[0m\u001b[1;33m\u001b[0m\u001b[0m\n\u001b[0;32m    187\u001b[0m                 \u001b[0mself\u001b[0m\u001b[1;33m.\u001b[0m\u001b[0mmode\u001b[0m\u001b[1;33m,\u001b[0m\u001b[1;33m\u001b[0m\u001b[1;33m\u001b[0m\u001b[0m\n",
      "\u001b[1;32mC:\\ProgramData\\Anaconda3\\lib\\site-packages\\pandas\\io\\common.py\u001b[0m in \u001b[0;36mget_handle\u001b[1;34m(path_or_buf, mode, encoding, compression, memory_map, is_text, errors)\u001b[0m\n\u001b[0;32m    491\u001b[0m         \u001b[1;32mif\u001b[0m \u001b[0mencoding\u001b[0m\u001b[1;33m:\u001b[0m\u001b[1;33m\u001b[0m\u001b[1;33m\u001b[0m\u001b[0m\n\u001b[0;32m    492\u001b[0m             \u001b[1;31m# Encoding\u001b[0m\u001b[1;33m\u001b[0m\u001b[1;33m\u001b[0m\u001b[1;33m\u001b[0m\u001b[0m\n\u001b[1;32m--> 493\u001b[1;33m             \u001b[0mf\u001b[0m \u001b[1;33m=\u001b[0m \u001b[0mopen\u001b[0m\u001b[1;33m(\u001b[0m\u001b[0mpath_or_buf\u001b[0m\u001b[1;33m,\u001b[0m \u001b[0mmode\u001b[0m\u001b[1;33m,\u001b[0m \u001b[0mencoding\u001b[0m\u001b[1;33m=\u001b[0m\u001b[0mencoding\u001b[0m\u001b[1;33m,\u001b[0m \u001b[0merrors\u001b[0m\u001b[1;33m=\u001b[0m\u001b[0merrors\u001b[0m\u001b[1;33m,\u001b[0m \u001b[0mnewline\u001b[0m\u001b[1;33m=\u001b[0m\u001b[1;34m\"\"\u001b[0m\u001b[1;33m)\u001b[0m\u001b[1;33m\u001b[0m\u001b[1;33m\u001b[0m\u001b[0m\n\u001b[0m\u001b[0;32m    494\u001b[0m         \u001b[1;32melif\u001b[0m \u001b[0mis_text\u001b[0m\u001b[1;33m:\u001b[0m\u001b[1;33m\u001b[0m\u001b[1;33m\u001b[0m\u001b[0m\n\u001b[0;32m    495\u001b[0m             \u001b[1;31m# No explicit encoding\u001b[0m\u001b[1;33m\u001b[0m\u001b[1;33m\u001b[0m\u001b[1;33m\u001b[0m\u001b[0m\n",
      "\u001b[1;31mPermissionError\u001b[0m: [Errno 13] Permission denied: 'MY tries.csv'"
     ]
    }
   ],
   "source": [
    "# evaluate bagging ensemble for regression\n",
    "#2500 \n",
    "\n",
    "# define dataset\n",
    "train = df_prep.copy()\n",
    "train[\"y\"] = np.log(df_prep[\"y\"]+0.00001) ##--- someone explain why this works better than +1\n",
    "#train[\"y\"] = df_prep[\"y\"]\n",
    "\n",
    "X1 = train[features]\n",
    "y1 = train[\"y\"]\n",
    "X_train, X_test, y_train, y_test =\\\n",
    "train_test_split(X1, y1, test_size = 0.2, random_state=42,shuffle=True,)\n",
    "# define the model\n",
    "GBR = GradientBoostingRegressor(random_state =0,loss='ls',\n",
    "    n_estimators=2500,subsample=0.8,min_samples_leaf = 0.0001\n",
    "    ,max_features=0.9,learning_rate=0.04\n",
    "    ,verbose =0, criterion='friedman_mse')\n",
    "# BaggingRegressor(base_estimator=None, n_estimators=10, *, max_samples=1.0, max_features=1.0\n",
    "#                  , bootstrap=True, bootstrap_features=False, oob_score=False, warm_start=False\n",
    "#                  , n_jobs=None, random_state=None, verbose=0)\n",
    "BaggModel = BaggingRegressor(base_estimator = GBR , n_estimators =20 ,  bootstrap=True \n",
    "                            , bootstrap_features=True\n",
    "                             ,n_jobs=3, random_state=911 )\n",
    "BaggModel.fit(X_train , y_train)\n",
    "# evaluate the model\n"
   ]
  },
  {
   "cell_type": "code",
   "execution_count": 32,
   "metadata": {},
   "outputs": [
    {
     "name": "stderr",
     "output_type": "stream",
     "text": [
      "<ipython-input-2-e0e1d9e2718d>:4: RuntimeWarning: overflow encountered in exp\n",
      "  y_pred = np.exp(y_pred)\n",
      "<ipython-input-2-e0e1d9e2718d>:9: RuntimeWarning: overflow encountered in square\n",
      "  output = np.sqrt(np.mean((log_true - log_pred)**2))\n"
     ]
    },
    {
     "name": "stdout",
     "output_type": "stream",
     "text": [
      "(Train) RMSLE: inf\n",
      "(Test) RMSLE: inf\n",
      "---------------------------------\n",
      "(Train) Prev RMSLE: 0\n",
      "(Test) Prev RMSLE: 0\n",
      "---------------------------------\n",
      "Training Score: 97.32495233434264  %\n",
      "Test Score: 94.16287166576635  %\n",
      "---------------------------------\n",
      "(Real) RMSLE: 0.7225455803654052\n",
      "(Real) R2: 0.4122150047128731\n"
     ]
    },
    {
     "ename": "PermissionError",
     "evalue": "[Errno 13] Permission denied: 'MY tries.csv'",
     "output_type": "error",
     "traceback": [
      "\u001b[1;31m---------------------------------------------------------------------------\u001b[0m",
      "\u001b[1;31mPermissionError\u001b[0m                           Traceback (most recent call last)",
      "\u001b[1;32m<ipython-input-32-4bb065f2eb3b>\u001b[0m in \u001b[0;36m<module>\u001b[1;34m\u001b[0m\n\u001b[1;32m----> 1\u001b[1;33m \u001b[0mprev_train\u001b[0m \u001b[1;33m,\u001b[0m \u001b[0mprev_test\u001b[0m \u001b[1;33m=\u001b[0m \u001b[0mevaluationandSave\u001b[0m\u001b[1;33m(\u001b[0m\u001b[0mBaggModel\u001b[0m \u001b[1;33m,\u001b[0m \u001b[0mfeatures\u001b[0m\u001b[1;33m,\u001b[0m\u001b[1;36m0\u001b[0m \u001b[1;33m,\u001b[0m \u001b[1;36m0\u001b[0m\u001b[1;33m)\u001b[0m\u001b[1;33m\u001b[0m\u001b[1;33m\u001b[0m\u001b[0m\n\u001b[0m",
      "\u001b[1;32m<ipython-input-28-835a41a90373>\u001b[0m in \u001b[0;36mevaluationandSave\u001b[1;34m(model, feature_used, old_train_rmsle, old_test_rmsle)\u001b[0m\n\u001b[0;32m     31\u001b[0m                            ,\"feature_used\":(len(feature_used) , feature_used)} \n\u001b[0;32m     32\u001b[0m                          , ignore_index=True)\n\u001b[1;32m---> 33\u001b[1;33m     \u001b[0mTable\u001b[0m\u001b[1;33m.\u001b[0m\u001b[0mto_csv\u001b[0m\u001b[1;33m(\u001b[0m\u001b[1;34m'MY tries.csv'\u001b[0m \u001b[1;33m,\u001b[0m \u001b[0mmode\u001b[0m\u001b[1;33m=\u001b[0m \u001b[1;34m'a'\u001b[0m\u001b[1;33m,\u001b[0m \u001b[0mheader\u001b[0m\u001b[1;33m=\u001b[0m\u001b[1;32mFalse\u001b[0m\u001b[1;33m)\u001b[0m\u001b[1;33m\u001b[0m\u001b[1;33m\u001b[0m\u001b[0m\n\u001b[0m\u001b[0;32m     34\u001b[0m     \u001b[1;32mreturn\u001b[0m \u001b[0mrmsle_train\u001b[0m\u001b[1;33m,\u001b[0m\u001b[0mrmsle_test\u001b[0m\u001b[1;33m\u001b[0m\u001b[1;33m\u001b[0m\u001b[0m\n",
      "\u001b[1;32mC:\\ProgramData\\Anaconda3\\lib\\site-packages\\pandas\\core\\generic.py\u001b[0m in \u001b[0;36mto_csv\u001b[1;34m(self, path_or_buf, sep, na_rep, float_format, columns, header, index, index_label, mode, encoding, compression, quoting, quotechar, line_terminator, chunksize, date_format, doublequote, escapechar, decimal, errors)\u001b[0m\n\u001b[0;32m   3168\u001b[0m             \u001b[0mdecimal\u001b[0m\u001b[1;33m=\u001b[0m\u001b[0mdecimal\u001b[0m\u001b[1;33m,\u001b[0m\u001b[1;33m\u001b[0m\u001b[1;33m\u001b[0m\u001b[0m\n\u001b[0;32m   3169\u001b[0m         )\n\u001b[1;32m-> 3170\u001b[1;33m         \u001b[0mformatter\u001b[0m\u001b[1;33m.\u001b[0m\u001b[0msave\u001b[0m\u001b[1;33m(\u001b[0m\u001b[1;33m)\u001b[0m\u001b[1;33m\u001b[0m\u001b[1;33m\u001b[0m\u001b[0m\n\u001b[0m\u001b[0;32m   3171\u001b[0m \u001b[1;33m\u001b[0m\u001b[0m\n\u001b[0;32m   3172\u001b[0m         \u001b[1;32mif\u001b[0m \u001b[0mpath_or_buf\u001b[0m \u001b[1;32mis\u001b[0m \u001b[1;32mNone\u001b[0m\u001b[1;33m:\u001b[0m\u001b[1;33m\u001b[0m\u001b[1;33m\u001b[0m\u001b[0m\n",
      "\u001b[1;32mC:\\ProgramData\\Anaconda3\\lib\\site-packages\\pandas\\io\\formats\\csvs.py\u001b[0m in \u001b[0;36msave\u001b[1;34m(self)\u001b[0m\n\u001b[0;32m    183\u001b[0m             \u001b[0mclose\u001b[0m \u001b[1;33m=\u001b[0m \u001b[1;32mFalse\u001b[0m\u001b[1;33m\u001b[0m\u001b[1;33m\u001b[0m\u001b[0m\n\u001b[0;32m    184\u001b[0m         \u001b[1;32melse\u001b[0m\u001b[1;33m:\u001b[0m\u001b[1;33m\u001b[0m\u001b[1;33m\u001b[0m\u001b[0m\n\u001b[1;32m--> 185\u001b[1;33m             f, handles = get_handle(\n\u001b[0m\u001b[0;32m    186\u001b[0m                 \u001b[0mself\u001b[0m\u001b[1;33m.\u001b[0m\u001b[0mpath_or_buf\u001b[0m\u001b[1;33m,\u001b[0m\u001b[1;33m\u001b[0m\u001b[1;33m\u001b[0m\u001b[0m\n\u001b[0;32m    187\u001b[0m                 \u001b[0mself\u001b[0m\u001b[1;33m.\u001b[0m\u001b[0mmode\u001b[0m\u001b[1;33m,\u001b[0m\u001b[1;33m\u001b[0m\u001b[1;33m\u001b[0m\u001b[0m\n",
      "\u001b[1;32mC:\\ProgramData\\Anaconda3\\lib\\site-packages\\pandas\\io\\common.py\u001b[0m in \u001b[0;36mget_handle\u001b[1;34m(path_or_buf, mode, encoding, compression, memory_map, is_text, errors)\u001b[0m\n\u001b[0;32m    491\u001b[0m         \u001b[1;32mif\u001b[0m \u001b[0mencoding\u001b[0m\u001b[1;33m:\u001b[0m\u001b[1;33m\u001b[0m\u001b[1;33m\u001b[0m\u001b[0m\n\u001b[0;32m    492\u001b[0m             \u001b[1;31m# Encoding\u001b[0m\u001b[1;33m\u001b[0m\u001b[1;33m\u001b[0m\u001b[1;33m\u001b[0m\u001b[0m\n\u001b[1;32m--> 493\u001b[1;33m             \u001b[0mf\u001b[0m \u001b[1;33m=\u001b[0m \u001b[0mopen\u001b[0m\u001b[1;33m(\u001b[0m\u001b[0mpath_or_buf\u001b[0m\u001b[1;33m,\u001b[0m \u001b[0mmode\u001b[0m\u001b[1;33m,\u001b[0m \u001b[0mencoding\u001b[0m\u001b[1;33m=\u001b[0m\u001b[0mencoding\u001b[0m\u001b[1;33m,\u001b[0m \u001b[0merrors\u001b[0m\u001b[1;33m=\u001b[0m\u001b[0merrors\u001b[0m\u001b[1;33m,\u001b[0m \u001b[0mnewline\u001b[0m\u001b[1;33m=\u001b[0m\u001b[1;34m\"\"\u001b[0m\u001b[1;33m)\u001b[0m\u001b[1;33m\u001b[0m\u001b[1;33m\u001b[0m\u001b[0m\n\u001b[0m\u001b[0;32m    494\u001b[0m         \u001b[1;32melif\u001b[0m \u001b[0mis_text\u001b[0m\u001b[1;33m:\u001b[0m\u001b[1;33m\u001b[0m\u001b[1;33m\u001b[0m\u001b[0m\n\u001b[0;32m    495\u001b[0m             \u001b[1;31m# No explicit encoding\u001b[0m\u001b[1;33m\u001b[0m\u001b[1;33m\u001b[0m\u001b[1;33m\u001b[0m\u001b[0m\n",
      "\u001b[1;31mPermissionError\u001b[0m: [Errno 13] Permission denied: 'MY tries.csv'"
     ]
    }
   ],
   "source": [
    "\n",
    "prev_train , prev_test = evaluationandSave(BaggModel , features,0 , 0)"
   ]
  },
  {
   "cell_type": "code",
   "execution_count": null,
   "metadata": {},
   "outputs": [],
   "source": []
  }
 ],
 "metadata": {
  "kernelspec": {
   "display_name": "Python 3",
   "language": "python",
   "name": "python3"
  },
  "language_info": {
   "codemirror_mode": {
    "name": "ipython",
    "version": 3
   },
   "file_extension": ".py",
   "mimetype": "text/x-python",
   "name": "python",
   "nbconvert_exporter": "python",
   "pygments_lexer": "ipython3",
   "version": "3.8.3"
  }
 },
 "nbformat": 4,
 "nbformat_minor": 4
}
