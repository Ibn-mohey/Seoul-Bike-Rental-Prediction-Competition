{
 "cells": [
  {
   "cell_type": "markdown",
   "metadata": {},
   "source": [
    "### now we run the feature and continud "
   ]
  },
  {
   "cell_type": "code",
   "execution_count": 1,
   "metadata": {},
   "outputs": [],
   "source": [
    "from numpy import mean\n",
    "from numpy import std\n",
    "\n",
    "import matplotlib.pyplot as plt\n",
    "import seaborn as sns\n",
    "from matplotlib.pyplot import figure\n",
    "\n",
    "from sklearn.model_selection import cross_val_score\n",
    "from sklearn.model_selection import RepeatedKFold\n",
    "from sklearn.model_selection import GridSearchCV\n",
    "from sklearn.model_selection import train_test_split\n",
    "\n",
    "\n",
    "from sklearn.ensemble import BaggingRegressor\n",
    "from sklearn.feature_selection import RFECV\n",
    "\n",
    "import catboost as cb\n",
    "\n",
    "from sklearn.metrics import r2_score"
   ]
  },
  {
   "cell_type": "code",
   "execution_count": 22,
   "metadata": {},
   "outputs": [
    {
     "name": "stdout",
     "output_type": "stream",
     "text": [
      "عملتها يا شباب كدا انا ضامن استقلالية البرنامج شوية و ان شاء الله احسن المره الجايه\n",
      "كدا حيكون معاك \n",
      "df , df_prep , test , full_test وباقي الحاجات اللى اتعملت في ال features \n"
     ]
    }
   ],
   "source": [
    "# !pip install nest-asyncio\n",
    "import nest_asyncio\n",
    "nest_asyncio.apply()\n",
    "%run ./NewFeatureFile.ipynb"
   ]
  },
  {
   "cell_type": "code",
   "execution_count": 3,
   "metadata": {},
   "outputs": [],
   "source": [
    "scoring=rmsle_scorer"
   ]
  },
  {
   "cell_type": "code",
   "execution_count": 4,
   "metadata": {},
   "outputs": [
    {
     "name": "stdout",
     "output_type": "stream",
     "text": [
      "(5760, 53)\n"
     ]
    },
    {
     "data": {
      "text/html": [
       "<div>\n",
       "<style scoped>\n",
       "    .dataframe tbody tr th:only-of-type {\n",
       "        vertical-align: middle;\n",
       "    }\n",
       "\n",
       "    .dataframe tbody tr th {\n",
       "        vertical-align: top;\n",
       "    }\n",
       "\n",
       "    .dataframe thead th {\n",
       "        text-align: right;\n",
       "    }\n",
       "</style>\n",
       "<table border=\"1\" class=\"dataframe\">\n",
       "  <thead>\n",
       "    <tr style=\"text-align: right;\">\n",
       "      <th></th>\n",
       "      <th>Date</th>\n",
       "      <th>y</th>\n",
       "      <th>Hour</th>\n",
       "      <th>Temperature(C)</th>\n",
       "      <th>Humidity(%)</th>\n",
       "      <th>Wind speed (m/s)</th>\n",
       "      <th>Visibility (10m)</th>\n",
       "      <th>Dew point temperature(C)</th>\n",
       "      <th>Solar Radiation (MJ/m2)</th>\n",
       "      <th>Rainfall(mm)</th>\n",
       "      <th>Snowfall (cm)</th>\n",
       "      <th>Seasons</th>\n",
       "      <th>Holiday</th>\n",
       "      <th>Functioning Day</th>\n",
       "      <th>Year</th>\n",
       "      <th>Week</th>\n",
       "      <th>Month</th>\n",
       "      <th>WeekDay</th>\n",
       "      <th>Rush_hour</th>\n",
       "      <th>Dead_hour</th>\n",
       "      <th>...</th>\n",
       "      <th>Sky_State</th>\n",
       "      <th>Temp_State</th>\n",
       "      <th>GBL_Forecast</th>\n",
       "      <th>Date_tmp</th>\n",
       "      <th>Prev Month y</th>\n",
       "      <th>Temperature lag1</th>\n",
       "      <th>Rainfall lag1</th>\n",
       "      <th>Visibility  lag1</th>\n",
       "      <th>Wind speed lag1</th>\n",
       "      <th>Weather_State lag1</th>\n",
       "      <th>Humidity lag1</th>\n",
       "      <th>Rush_hour lag1</th>\n",
       "      <th>Dead_hour lag1</th>\n",
       "      <th>Ideal lag1</th>\n",
       "      <th>Dew point temperature(C) lag1</th>\n",
       "      <th>Humidity lag2</th>\n",
       "      <th>Rainfall(mm) rolling</th>\n",
       "      <th>Wind speed (m/s) rolling</th>\n",
       "      <th>Ideal lag2</th>\n",
       "      <th>Rush_hour lag2</th>\n",
       "    </tr>\n",
       "  </thead>\n",
       "  <tbody>\n",
       "    <tr>\n",
       "      <th>0</th>\n",
       "      <td>2017-12-01</td>\n",
       "      <td>254</td>\n",
       "      <td>0</td>\n",
       "      <td>-5.2</td>\n",
       "      <td>37</td>\n",
       "      <td>2.2</td>\n",
       "      <td>2000</td>\n",
       "      <td>-17.6</td>\n",
       "      <td>0.0</td>\n",
       "      <td>0.0</td>\n",
       "      <td>0.0</td>\n",
       "      <td>0</td>\n",
       "      <td>0</td>\n",
       "      <td>1</td>\n",
       "      <td>2017</td>\n",
       "      <td>48</td>\n",
       "      <td>12</td>\n",
       "      <td>4</td>\n",
       "      <td>0.0</td>\n",
       "      <td>0.018316</td>\n",
       "      <td>...</td>\n",
       "      <td>5</td>\n",
       "      <td>4</td>\n",
       "      <td>20</td>\n",
       "      <td>2017-12</td>\n",
       "      <td>230.316667</td>\n",
       "      <td>-5.5</td>\n",
       "      <td>0.0</td>\n",
       "      <td>2000.0</td>\n",
       "      <td>0.8</td>\n",
       "      <td>1.0</td>\n",
       "      <td>38.0</td>\n",
       "      <td>0.0</td>\n",
       "      <td>0.049787</td>\n",
       "      <td>1.0</td>\n",
       "      <td>-17.6</td>\n",
       "      <td>39.0</td>\n",
       "      <td>0.0</td>\n",
       "      <td>0.0</td>\n",
       "      <td>1.0</td>\n",
       "      <td>0.0</td>\n",
       "    </tr>\n",
       "    <tr>\n",
       "      <th>1</th>\n",
       "      <td>2017-12-01</td>\n",
       "      <td>204</td>\n",
       "      <td>1</td>\n",
       "      <td>-5.5</td>\n",
       "      <td>38</td>\n",
       "      <td>0.8</td>\n",
       "      <td>2000</td>\n",
       "      <td>-17.6</td>\n",
       "      <td>0.0</td>\n",
       "      <td>0.0</td>\n",
       "      <td>0.0</td>\n",
       "      <td>0</td>\n",
       "      <td>0</td>\n",
       "      <td>1</td>\n",
       "      <td>2017</td>\n",
       "      <td>48</td>\n",
       "      <td>12</td>\n",
       "      <td>4</td>\n",
       "      <td>0.0</td>\n",
       "      <td>0.049787</td>\n",
       "      <td>...</td>\n",
       "      <td>5</td>\n",
       "      <td>4</td>\n",
       "      <td>20</td>\n",
       "      <td>2017-12</td>\n",
       "      <td>230.316667</td>\n",
       "      <td>-6.0</td>\n",
       "      <td>0.0</td>\n",
       "      <td>2000.0</td>\n",
       "      <td>1.0</td>\n",
       "      <td>1.0</td>\n",
       "      <td>39.0</td>\n",
       "      <td>0.0</td>\n",
       "      <td>0.135335</td>\n",
       "      <td>1.0</td>\n",
       "      <td>-17.7</td>\n",
       "      <td>40.0</td>\n",
       "      <td>0.0</td>\n",
       "      <td>2.0</td>\n",
       "      <td>1.0</td>\n",
       "      <td>0.0</td>\n",
       "    </tr>\n",
       "    <tr>\n",
       "      <th>2</th>\n",
       "      <td>2017-12-01</td>\n",
       "      <td>173</td>\n",
       "      <td>2</td>\n",
       "      <td>-6.0</td>\n",
       "      <td>39</td>\n",
       "      <td>1.0</td>\n",
       "      <td>2000</td>\n",
       "      <td>-17.7</td>\n",
       "      <td>0.0</td>\n",
       "      <td>0.0</td>\n",
       "      <td>0.0</td>\n",
       "      <td>0</td>\n",
       "      <td>0</td>\n",
       "      <td>1</td>\n",
       "      <td>2017</td>\n",
       "      <td>48</td>\n",
       "      <td>12</td>\n",
       "      <td>4</td>\n",
       "      <td>0.0</td>\n",
       "      <td>0.135335</td>\n",
       "      <td>...</td>\n",
       "      <td>5</td>\n",
       "      <td>4</td>\n",
       "      <td>20</td>\n",
       "      <td>2017-12</td>\n",
       "      <td>230.316667</td>\n",
       "      <td>-6.2</td>\n",
       "      <td>0.0</td>\n",
       "      <td>2000.0</td>\n",
       "      <td>0.9</td>\n",
       "      <td>1.0</td>\n",
       "      <td>40.0</td>\n",
       "      <td>0.0</td>\n",
       "      <td>0.367879</td>\n",
       "      <td>1.0</td>\n",
       "      <td>-17.6</td>\n",
       "      <td>36.0</td>\n",
       "      <td>0.0</td>\n",
       "      <td>2.0</td>\n",
       "      <td>1.0</td>\n",
       "      <td>0.0</td>\n",
       "    </tr>\n",
       "  </tbody>\n",
       "</table>\n",
       "<p>3 rows × 53 columns</p>\n",
       "</div>"
      ],
      "text/plain": [
       "        Date    y  Hour  Temperature(C)  Humidity(%)  Wind speed (m/s)  \\\n",
       "0 2017-12-01  254     0            -5.2           37               2.2   \n",
       "1 2017-12-01  204     1            -5.5           38               0.8   \n",
       "2 2017-12-01  173     2            -6.0           39               1.0   \n",
       "\n",
       "   Visibility (10m)  Dew point temperature(C)  Solar Radiation (MJ/m2)  \\\n",
       "0              2000                     -17.6                      0.0   \n",
       "1              2000                     -17.6                      0.0   \n",
       "2              2000                     -17.7                      0.0   \n",
       "\n",
       "   Rainfall(mm)  Snowfall (cm)  Seasons  Holiday  Functioning Day  Year  Week  \\\n",
       "0           0.0            0.0        0        0                1  2017    48   \n",
       "1           0.0            0.0        0        0                1  2017    48   \n",
       "2           0.0            0.0        0        0                1  2017    48   \n",
       "\n",
       "   Month  WeekDay  Rush_hour  Dead_hour  ...  Sky_State  Temp_State  \\\n",
       "0     12        4        0.0   0.018316  ...          5           4   \n",
       "1     12        4        0.0   0.049787  ...          5           4   \n",
       "2     12        4        0.0   0.135335  ...          5           4   \n",
       "\n",
       "   GBL_Forecast  Date_tmp  Prev Month y  Temperature lag1  Rainfall lag1  \\\n",
       "0            20   2017-12    230.316667              -5.5            0.0   \n",
       "1            20   2017-12    230.316667              -6.0            0.0   \n",
       "2            20   2017-12    230.316667              -6.2            0.0   \n",
       "\n",
       "   Visibility  lag1  Wind speed lag1  Weather_State lag1  Humidity lag1  \\\n",
       "0            2000.0              0.8                 1.0           38.0   \n",
       "1            2000.0              1.0                 1.0           39.0   \n",
       "2            2000.0              0.9                 1.0           40.0   \n",
       "\n",
       "   Rush_hour lag1  Dead_hour lag1  Ideal lag1  Dew point temperature(C) lag1  \\\n",
       "0             0.0        0.049787         1.0                          -17.6   \n",
       "1             0.0        0.135335         1.0                          -17.7   \n",
       "2             0.0        0.367879         1.0                          -17.6   \n",
       "\n",
       "   Humidity lag2 Rainfall(mm) rolling  Wind speed (m/s) rolling  Ideal lag2  \\\n",
       "0           39.0                  0.0                       0.0         1.0   \n",
       "1           40.0                  0.0                       2.0         1.0   \n",
       "2           36.0                  0.0                       2.0         1.0   \n",
       "\n",
       "   Rush_hour lag2  \n",
       "0             0.0  \n",
       "1             0.0  \n",
       "2             0.0  \n",
       "\n",
       "[3 rows x 53 columns]"
      ]
     },
     "execution_count": 4,
     "metadata": {},
     "output_type": "execute_result"
    }
   ],
   "source": [
    "print(df_prep.shape)\n",
    "df_prep.head(3)"
   ]
  },
  {
   "cell_type": "code",
   "execution_count": 5,
   "metadata": {},
   "outputs": [
    {
     "name": "stdout",
     "output_type": "stream",
     "text": [
      "(3000, 53)\n"
     ]
    },
    {
     "data": {
      "text/html": [
       "<div>\n",
       "<style scoped>\n",
       "    .dataframe tbody tr th:only-of-type {\n",
       "        vertical-align: middle;\n",
       "    }\n",
       "\n",
       "    .dataframe tbody tr th {\n",
       "        vertical-align: top;\n",
       "    }\n",
       "\n",
       "    .dataframe thead th {\n",
       "        text-align: right;\n",
       "    }\n",
       "</style>\n",
       "<table border=\"1\" class=\"dataframe\">\n",
       "  <thead>\n",
       "    <tr style=\"text-align: right;\">\n",
       "      <th></th>\n",
       "      <th>ID</th>\n",
       "      <th>Date</th>\n",
       "      <th>Hour</th>\n",
       "      <th>Temperature(C)</th>\n",
       "      <th>Humidity(%)</th>\n",
       "      <th>Wind speed (m/s)</th>\n",
       "      <th>Visibility (10m)</th>\n",
       "      <th>Dew point temperature(C)</th>\n",
       "      <th>Solar Radiation (MJ/m2)</th>\n",
       "      <th>Rainfall(mm)</th>\n",
       "      <th>Snowfall (cm)</th>\n",
       "      <th>Seasons</th>\n",
       "      <th>Holiday</th>\n",
       "      <th>Functioning Day</th>\n",
       "      <th>Year</th>\n",
       "      <th>Week</th>\n",
       "      <th>Month</th>\n",
       "      <th>WeekDay</th>\n",
       "      <th>Dead_hour</th>\n",
       "      <th>Rush_hour</th>\n",
       "      <th>...</th>\n",
       "      <th>Weather_stat&amp;visb_dist</th>\n",
       "      <th>Weather&amp;visb</th>\n",
       "      <th>Sky_State</th>\n",
       "      <th>Temp_State</th>\n",
       "      <th>GBL_Forecast</th>\n",
       "      <th>Temperature lag1</th>\n",
       "      <th>Rainfall lag1</th>\n",
       "      <th>Visibility  lag1</th>\n",
       "      <th>Wind speed lag1</th>\n",
       "      <th>Weather_State lag1</th>\n",
       "      <th>Humidity lag1</th>\n",
       "      <th>Rush_hour lag1</th>\n",
       "      <th>Dead_hour lag1</th>\n",
       "      <th>Ideal lag1</th>\n",
       "      <th>Dew point temperature(C) lag1</th>\n",
       "      <th>Humidity lag2</th>\n",
       "      <th>Rainfall(mm) rolling</th>\n",
       "      <th>Wind speed (m/s) rolling</th>\n",
       "      <th>Ideal lag2</th>\n",
       "      <th>Rush_hour lag2</th>\n",
       "    </tr>\n",
       "  </thead>\n",
       "  <tbody>\n",
       "    <tr>\n",
       "      <th>0</th>\n",
       "      <td>5760</td>\n",
       "      <td>2017-12-21</td>\n",
       "      <td>0</td>\n",
       "      <td>-1.3</td>\n",
       "      <td>90</td>\n",
       "      <td>2.0</td>\n",
       "      <td>259</td>\n",
       "      <td>-2.7</td>\n",
       "      <td>0.0</td>\n",
       "      <td>0.0</td>\n",
       "      <td>2.2</td>\n",
       "      <td>0</td>\n",
       "      <td>0</td>\n",
       "      <td>1</td>\n",
       "      <td>2017</td>\n",
       "      <td>51</td>\n",
       "      <td>12</td>\n",
       "      <td>3</td>\n",
       "      <td>0.018316</td>\n",
       "      <td>0.0</td>\n",
       "      <td>...</td>\n",
       "      <td>22</td>\n",
       "      <td>61.125109</td>\n",
       "      <td>4</td>\n",
       "      <td>4</td>\n",
       "      <td>16</td>\n",
       "      <td>-1.8</td>\n",
       "      <td>0.0</td>\n",
       "      <td>263.0</td>\n",
       "      <td>1.6</td>\n",
       "      <td>11.0</td>\n",
       "      <td>90.0</td>\n",
       "      <td>0.0</td>\n",
       "      <td>0.049787</td>\n",
       "      <td>1.0</td>\n",
       "      <td>-3.2</td>\n",
       "      <td>88.0</td>\n",
       "      <td>0.0</td>\n",
       "      <td>0.0</td>\n",
       "      <td>1.0</td>\n",
       "      <td>0.0</td>\n",
       "    </tr>\n",
       "    <tr>\n",
       "      <th>1</th>\n",
       "      <td>5761</td>\n",
       "      <td>2017-12-21</td>\n",
       "      <td>1</td>\n",
       "      <td>-1.8</td>\n",
       "      <td>90</td>\n",
       "      <td>1.6</td>\n",
       "      <td>263</td>\n",
       "      <td>-3.2</td>\n",
       "      <td>0.0</td>\n",
       "      <td>0.0</td>\n",
       "      <td>2.2</td>\n",
       "      <td>0</td>\n",
       "      <td>0</td>\n",
       "      <td>1</td>\n",
       "      <td>2017</td>\n",
       "      <td>51</td>\n",
       "      <td>12</td>\n",
       "      <td>3</td>\n",
       "      <td>0.049787</td>\n",
       "      <td>0.0</td>\n",
       "      <td>...</td>\n",
       "      <td>22</td>\n",
       "      <td>61.293694</td>\n",
       "      <td>4</td>\n",
       "      <td>4</td>\n",
       "      <td>16</td>\n",
       "      <td>-2.2</td>\n",
       "      <td>0.0</td>\n",
       "      <td>348.0</td>\n",
       "      <td>1.4</td>\n",
       "      <td>11.0</td>\n",
       "      <td>88.0</td>\n",
       "      <td>0.0</td>\n",
       "      <td>0.135335</td>\n",
       "      <td>1.0</td>\n",
       "      <td>-3.9</td>\n",
       "      <td>89.0</td>\n",
       "      <td>0.0</td>\n",
       "      <td>22.0</td>\n",
       "      <td>1.0</td>\n",
       "      <td>0.0</td>\n",
       "    </tr>\n",
       "    <tr>\n",
       "      <th>2</th>\n",
       "      <td>5762</td>\n",
       "      <td>2017-12-21</td>\n",
       "      <td>2</td>\n",
       "      <td>-2.2</td>\n",
       "      <td>88</td>\n",
       "      <td>1.4</td>\n",
       "      <td>348</td>\n",
       "      <td>-3.9</td>\n",
       "      <td>0.0</td>\n",
       "      <td>0.0</td>\n",
       "      <td>2.2</td>\n",
       "      <td>0</td>\n",
       "      <td>0</td>\n",
       "      <td>1</td>\n",
       "      <td>2017</td>\n",
       "      <td>51</td>\n",
       "      <td>12</td>\n",
       "      <td>3</td>\n",
       "      <td>0.135335</td>\n",
       "      <td>0.0</td>\n",
       "      <td>...</td>\n",
       "      <td>22</td>\n",
       "      <td>64.374227</td>\n",
       "      <td>4</td>\n",
       "      <td>4</td>\n",
       "      <td>16</td>\n",
       "      <td>-2.9</td>\n",
       "      <td>0.0</td>\n",
       "      <td>288.0</td>\n",
       "      <td>1.3</td>\n",
       "      <td>11.0</td>\n",
       "      <td>89.0</td>\n",
       "      <td>0.0</td>\n",
       "      <td>0.367879</td>\n",
       "      <td>1.0</td>\n",
       "      <td>-4.4</td>\n",
       "      <td>91.0</td>\n",
       "      <td>0.0</td>\n",
       "      <td>22.0</td>\n",
       "      <td>1.0</td>\n",
       "      <td>0.0</td>\n",
       "    </tr>\n",
       "  </tbody>\n",
       "</table>\n",
       "<p>3 rows × 53 columns</p>\n",
       "</div>"
      ],
      "text/plain": [
       "     ID       Date  Hour  Temperature(C)  Humidity(%)  Wind speed (m/s)  \\\n",
       "0  5760 2017-12-21     0            -1.3           90               2.0   \n",
       "1  5761 2017-12-21     1            -1.8           90               1.6   \n",
       "2  5762 2017-12-21     2            -2.2           88               1.4   \n",
       "\n",
       "   Visibility (10m)  Dew point temperature(C)  Solar Radiation (MJ/m2)  \\\n",
       "0               259                      -2.7                      0.0   \n",
       "1               263                      -3.2                      0.0   \n",
       "2               348                      -3.9                      0.0   \n",
       "\n",
       "   Rainfall(mm)  Snowfall (cm)  Seasons  Holiday  Functioning Day  Year  Week  \\\n",
       "0           0.0            2.2        0        0                1  2017    51   \n",
       "1           0.0            2.2        0        0                1  2017    51   \n",
       "2           0.0            2.2        0        0                1  2017    51   \n",
       "\n",
       "   Month  WeekDay  Dead_hour  Rush_hour  ...  Weather_stat&visb_dist  \\\n",
       "0     12        3   0.018316        0.0  ...                      22   \n",
       "1     12        3   0.049787        0.0  ...                      22   \n",
       "2     12        3   0.135335        0.0  ...                      22   \n",
       "\n",
       "   Weather&visb  Sky_State  Temp_State  GBL_Forecast  Temperature lag1  \\\n",
       "0     61.125109          4           4            16              -1.8   \n",
       "1     61.293694          4           4            16              -2.2   \n",
       "2     64.374227          4           4            16              -2.9   \n",
       "\n",
       "   Rainfall lag1  Visibility  lag1  Wind speed lag1  Weather_State lag1  \\\n",
       "0            0.0             263.0              1.6                11.0   \n",
       "1            0.0             348.0              1.4                11.0   \n",
       "2            0.0             288.0              1.3                11.0   \n",
       "\n",
       "  Humidity lag1  Rush_hour lag1  Dead_hour lag1  Ideal lag1  \\\n",
       "0          90.0             0.0        0.049787         1.0   \n",
       "1          88.0             0.0        0.135335         1.0   \n",
       "2          89.0             0.0        0.367879         1.0   \n",
       "\n",
       "   Dew point temperature(C) lag1  Humidity lag2  Rainfall(mm) rolling  \\\n",
       "0                           -3.2           88.0                   0.0   \n",
       "1                           -3.9           89.0                   0.0   \n",
       "2                           -4.4           91.0                   0.0   \n",
       "\n",
       "   Wind speed (m/s) rolling  Ideal lag2  Rush_hour lag2  \n",
       "0                       0.0         1.0             0.0  \n",
       "1                      22.0         1.0             0.0  \n",
       "2                      22.0         1.0             0.0  \n",
       "\n",
       "[3 rows x 53 columns]"
      ]
     },
     "execution_count": 5,
     "metadata": {},
     "output_type": "execute_result"
    }
   ],
   "source": [
    "print(test.shape)\n",
    "test.head(3)"
   ]
  },
  {
   "cell_type": "code",
   "execution_count": 6,
   "metadata": {
    "scrolled": false
   },
   "outputs": [
    {
     "data": {
      "text/plain": [
       "Index(['Date', 'y', 'Hour', 'Temperature(C)', 'Humidity(%)',\n",
       "       'Wind speed (m/s)', 'Visibility (10m)', 'Dew point temperature(C)',\n",
       "       'Solar Radiation (MJ/m2)', 'Rainfall(mm)', 'Snowfall (cm)', 'Seasons',\n",
       "       'Holiday', 'Functioning Day', 'Year', 'Week', 'Month', 'WeekDay',\n",
       "       'Rush_hour', 'Dead_hour', 'day_night', 'Humidity_high',\n",
       "       'Temperature_high', 'Weather_bad', 'Humidex', 'Ideal', 'Visibility_cat',\n",
       "       'Visibility_dist', 'Rain_cat', 'Snow_cat', 'Weather_State',\n",
       "       'Weather_stat&visb_dist', 'Weather&visb', 'Sky_State', 'Temp_State',\n",
       "       'GBL_Forecast', 'Date_tmp', 'Prev Month y', 'Temperature lag1',\n",
       "       'Rainfall lag1', 'Visibility  lag1', 'Wind speed lag1',\n",
       "       'Weather_State lag1', 'Humidity lag1', 'Rush_hour lag1',\n",
       "       'Dead_hour lag1', 'Ideal lag1', 'Dew point temperature(C) lag1',\n",
       "       'Humidity lag2', 'Rainfall(mm) rolling', 'Wind speed (m/s) rolling',\n",
       "       'Ideal lag2', 'Rush_hour lag2'],\n",
       "      dtype='object')"
      ]
     },
     "execution_count": 6,
     "metadata": {},
     "output_type": "execute_result"
    }
   ],
   "source": [
    "df_prep.columns"
   ]
  },
  {
   "cell_type": "markdown",
   "metadata": {},
   "source": [
    "### Basic Model (gabal one )"
   ]
  },
  {
   "cell_type": "code",
   "execution_count": 15,
   "metadata": {},
   "outputs": [],
   "source": [
    "prev_trainX = 0\n",
    "prev_testX = 0\n",
    "old_real = 0"
   ]
  },
  {
   "cell_type": "code",
   "execution_count": 44,
   "metadata": {},
   "outputs": [
    {
     "name": "stdout",
     "output_type": "stream",
     "text": [
      "1\n"
     ]
    }
   ],
   "source": [
    "for changable in range(0,1):\n",
    "    print(1)"
   ]
  },
  {
   "cell_type": "code",
   "execution_count": 46,
   "metadata": {
    "scrolled": true
   },
   "outputs": [
    {
     "name": "stderr",
     "output_type": "stream",
     "text": [
      "Custom logger is already specified. Specify more than one logger at same time is not thread safe."
     ]
    },
    {
     "name": "stdout",
     "output_type": "stream",
     "text": [
      "(Train) RMSLE: 0.1272693245469816\n",
      "(Test) RMSLE: 0.22260122142864747\n",
      "(Real) RMSLE: 0.29108013296678814\n",
      "---------------------------------\n",
      "(Train) Prev RMSLE: 0.0957831394871095\n",
      "(Test) Prev RMSLE: 0.21476584876051394\n",
      "(Real) Prev RMSLE: 0.29190131050221096\n",
      "---------------------------------\n",
      "Training Score: 99.87579356891855  %\n",
      "Test Score: 99.67627608875004  %\n",
      "(Real) R2: 0.9259015746765132\n",
      "---------------------------------\n"
     ]
    }
   ],
   "source": [
    "selected_features = ['Hour','Week', 'Month','Year', 'Solar Radiation (MJ/m2)','Rainfall(mm)',\"Dew point temperature(C)\",\n",
    "                     'Snowfall (cm)','Wind speed (m/s)','Visibility (10m)','WeekDay',\n",
    "                     'Seasons','Holiday' ,'Temperature(C)', 'Humidity(%)',\n",
    "                     'Functioning Day','Rush_hour','Dead_hour','Weather_State',\n",
    "                     'Weather&visb','Weather_stat&visb_dist','Sky_State','Temp_State','GBL_Forecast',\n",
    "                     'Temperature lag1','Rainfall lag1', 'Visibility  lag1', 'Wind speed lag1',\n",
    "                     'Weather_State lag1', 'Humidity lag1', 'Rush_hour lag1',\n",
    "                     'Dead_hour lag1', 'Ideal lag1',\"Dew point temperature(C) lag1\",\"Humidity lag2\",\"Rush_hour lag2\",\"Ideal lag2\",\n",
    "                    \"Rainfall(mm) rolling\",\"Wind speed (m/s) rolling\"]\n",
    "\n",
    "train = df_prep.copy()\n",
    "train[\"y\"] = np.log(df_prep[\"y\"]+0.00001) ##--- someone explain why this works better than +1\n",
    "#train[\"y\"] = df_prep[\"y\"]\n",
    "X1 = train[selected_features]\n",
    "y1 = train[\"y\"]\n",
    "\n",
    "# tss = TimeSeriesSplit(n_splits=2)\n",
    "# train_ind,test_ind  = tss.split(X1,groups=[20,1])\n",
    "X_train, X_test, y_train, y_test\\\n",
    "= train_test_split(X1, y1, test_size = 0.2, random_state=42,shuffle=True)\n",
    "\n",
    "train_dataset = cb.Pool(X_train, y_train) \n",
    "test_dataset = cb.Pool(X_test, y_test)\n",
    "#grid = {'depth': [4], 'iterations': [2500], 'l2_leaf_reg': [1], 'learning_rate': [0.05]} #0.42222\n",
    "record  = {}\n",
    "for changable in range(0,1):\n",
    "    model = cb.CatBoostRegressor(loss_function='RMSE',random_state=9110,silent=True\n",
    "                             ,bootstrap_type = 'Bernoulli' ,depth= 3\n",
    "                             ,iterations= 5000, l2_leaf_reg= 1 , learning_rate= 0.04 )\n",
    "    \"\"\" ['Bayesian' 0.2998 ,'Bernoulli' 0.2936 ,'MVS' 0.3007 ] Bernoulli\"\"\" \n",
    "    \"\"\"'depth': [3 2936, 4 0.2962] 3\"\"\"\n",
    "    \"\"\" { l2_leaf_reg 1: 0.2936, 2: 0.2975, 3: 0.296, 4: 0.2958} 1 \"\"\"\n",
    "    \"\"\" { iterations 2000: 0.2964, 2500: 0.2936, 3000: 0.2917, 3500: 0.2917\n",
    "    , 3500: 0.2917, 4000: 0.2912, 4500: 0.2913 , 5000: 0.2911}  5000 \"\"\"\n",
    "    model.fit(train_dataset)\n",
    "    \n",
    "#     grid = {'depth': [3],'iterations': [5000], 'l2_leaf_reg': [1]\n",
    "#             , 'learning_rate': [0.04] ,  } \n",
    "\n",
    "#     model.grid_search(grid, train_dataset)\n",
    "\n",
    "    prev_trainX , prev_testX , old_real = \\\n",
    "    evaluationandSave(model,selected_features,prev_trainX , prev_testX, old_real )\n",
    "    record[changable] = round(old_real,  4)"
   ]
  },
  {
   "cell_type": "code",
   "execution_count": 61,
   "metadata": {},
   "outputs": [
    {
     "data": {
      "text/plain": [
       "<Figure size 1152x720 with 0 Axes>"
      ]
     },
     "metadata": {},
     "output_type": "display_data"
    },
    {
     "data": {
      "image/png": "[encoded data removed]",
      "text/plain": [
       "<Figure size 432x288 with 1 Axes>"
      ]
     },
     "metadata": {
      "needs_background": "light"
     },
     "output_type": "display_data"
    }
   ],
   "source": [
    "figure(figsize=(16, 10))\n",
    "xgb.plot_importance(XGB)\n",
    "plt.show()"
   ]
  },
  {
   "cell_type": "code",
   "execution_count": 110,
   "metadata": {},
   "outputs": [
    {
     "name": "stdout",
     "output_type": "stream",
     "text": [
      "(Train) RMSLE: 0.11304900834720479\n",
      "(Test) RMSLE: 0.2453413136779098\n",
      "---------------------------------\n",
      "(Train) Prev RMSLE: 0.05292596084088082\n",
      "(Test) Prev RMSLE: 0.23123412535219345\n",
      "---------------------------------\n",
      "Training Score: 99.90207308346078  %\n",
      "Test Score: 99.60427855177234  %\n",
      "---------------------------------\n",
      "(Real) RMSLE: 0.3263680685092337\n",
      "(Real) R2: 0.9295038739823196\n"
     ]
    }
   ],
   "source": [
    "selected_features = selected_features = ['Hour','Week', 'Month','Year', 'Solar Radiation (MJ/m2)','Rainfall(mm)',\"Dew point temperature(C)\",\n",
    "                     'Snowfall (cm)','Wind speed (m/s)','Visibility (10m)','WeekDay',\n",
    "                     'Seasons','Holiday' ,'Temperature(C)', 'Humidity(%)',\n",
    "                     'Functioning Day','Rush_hour','Dead_hour','Weather_State',\n",
    "                     'Weather&visb','Weather_stat&visb_dist','Sky_State','Temp_State','GBL_Forecast',\n",
    "                     'Temperature lag1','Rainfall lag1', 'Visibility  lag1', 'Wind speed lag1',\n",
    "                     'Weather_State lag1', 'Humidity lag1', 'Rush_hour lag1',\n",
    "                     'Dead_hour lag1', 'Ideal lag1',\"Dew point temperature(C) lag1\"]\n",
    "\n",
    "\n",
    "train = df_prep.copy()\n",
    "train[\"y\"] = np.log(df_prep[\"y\"]+0.00001) ##--- someone explain why this works better than +1\n",
    "#train[\"y\"] = df_prep[\"y\"]\n",
    "X1 = train[selected_features]\n",
    "y1 = train[\"y\"]\n",
    "\n",
    "# tss = TimeSeriesSplit(n_splits=2)\n",
    "# train_ind,test_ind  = tss.split(X1,groups=[20,1])\n",
    "\n",
    "X_train, X_test, y_train, y_test =\\\n",
    "train_test_split(X1, y1, test_size = 0.2, random_state=42,shuffle=True,)\n",
    "\n",
    "XGB = xgb.XGBRegressor(colsample_bylevel=0.9,colsample_bytree=0.9,\n",
    "             learning_rate=0.056, max_depth=3,\n",
    "             min_child_weight=1, n_estimators=2100, n_jobs=-1, random_state=9110,\n",
    "             subsample=0.887\n",
    "                      )\n",
    "\n",
    "XGB.fit(X_train, y_train)\n",
    "\n",
    "prev_trainX , prev_testX = evaluationandSave(XGB,selected_features,prev_trainX , prev_testX )\n"
   ]
  },
  {
   "cell_type": "markdown",
   "metadata": {},
   "source": [
    "### Auto Feature Selection RFECV Model"
   ]
  },
  {
   "cell_type": "raw",
   "metadata": {},
   "source": [
    "prev_train_RFECVM , prev_test_RFECVM = 0,0"
   ]
  },
  {
   "cell_type": "raw",
   "metadata": {},
   "source": [
    "# define dataset\n",
    "train = df_prep.copy()\n",
    "train[\"y\"] = np.log(df_prep[\"y\"]+0.00001) ##--- someone explain why this works better than +1\n",
    "\n",
    "X1 = train[features]\n",
    "y1 = train[\"y\"]\n",
    "\n",
    "#split\n",
    "X_train, X_test, y_train, y_test =\\\n",
    "train_test_split(X1, y1, test_size = 0.2, random_state=42,shuffle=True,)\n",
    "\n",
    "#model \n",
    "XGB = xgb.XGBRegressor(n_estimators=2100,subsample=0.887\n",
    "                       ,colsample_bytree = 0.9,colsample_bylevel=0.9,\n",
    "                       learning_rate=0.056,n_jobs=-1,max_depth =3  ,min_child_weight = 5)\n",
    "\n",
    "#add feature model\n",
    "RFECVM= RFECV(estimator = XGB, step=1, min_features_to_select=30\n",
    "                                , cv=5, scoring= scoring\n",
    "                                ,n_jobs=-1)\n",
    "#fit model \n",
    "RFECVM.fit(X_train , y_train)\n",
    "\n",
    "prev_train_RFECVM , prev_test_RFECVM = evaluationandSave(RFECVM ,features , prev_train_RFECVM , prev_test_RFECVM )"
   ]
  },
  {
   "cell_type": "markdown",
   "metadata": {},
   "source": [
    "##### [Getting features in RFECV scikit-learn](https://stackoverflow.com/questions/50387089/getting-features-in-rfecv-scikit-learn)"
   ]
  },
  {
   "cell_type": "raw",
   "metadata": {},
   "source": [
    "X1 = train[features]\n",
    "y1 = train[\"y\"]\n",
    "\n",
    "#split\n",
    "X_train, X_test, y_train, y_test =\\\n",
    "train_test_split(X1, y1, test_size = 0.2, random_state=42,shuffle=True,)"
   ]
  },
  {
   "cell_type": "raw",
   "metadata": {},
   "source": [
    "X_train.columns[~RFECVM.support_]"
   ]
  },
  {
   "cell_type": "raw",
   "metadata": {},
   "source": [
    "X_train.columns[~RFECV.support_]"
   ]
  },
  {
   "cell_type": "raw",
   "metadata": {},
   "source": [
    "# # First, you can see which features it selected where the cross validation score\n",
    "# is the largest (in your case this corresponds to the number of features 17 or 21\n",
    "#                 , I am not sure from the figure) with\n",
    "print('RFECVM.support_\\n')\n",
    "print(RFECVM.support_)\n",
    "print('\\nRFECVM.ranking_\\n' )\n",
    "print(RFECVM.ranking_ )\n",
    "# Then you can calculate the importances of selected features (for the peak of the cv score curve) \n",
    "# by\n",
    "print('\\nimportances of selected features\\n')\n",
    "# print(np.absolute(RFECVM.estimator_.coef_))\n",
    "# for simple estimators or\n",
    "print('simple estimators')\n",
    "print('\\n')\n",
    "print(RFECVM.estimator_.feature_importances_ )\n",
    "# if your estimator is some ensemble, like random forest.\n",
    "\n",
    "# Then you can remove the least important feature one by one in the loop,\n",
    "# and recalculate RFECVM for the remaining feature sets."
   ]
  },
  {
   "cell_type": "raw",
   "metadata": {},
   "source": [
    "selected_features =  X_train.columns[RFECV.support_]\n",
    "selected_features"
   ]
  },
  {
   "cell_type": "raw",
   "metadata": {},
   "source": [
    "newone = RFECVM.transform(X_train)"
   ]
  },
  {
   "cell_type": "raw",
   "metadata": {},
   "source": [
    "newone"
   ]
  },
  {
   "cell_type": "markdown",
   "metadata": {},
   "source": [
    "### Grid search on them "
   ]
  },
  {
   "cell_type": "raw",
   "metadata": {},
   "source": [
    "Grid_train = 0\n",
    "Grid_test = 0"
   ]
  },
  {
   "cell_type": "markdown",
   "metadata": {},
   "source": [
    "(*, loss='ls', learning_rate=0.1, n_estimators=100, subsample=1.0, criterion='friedman_mse', min_samples_split=2, min_samples_leaf=1, min_weight_fraction_leaf=0.0, max_depth=3, min_impurity_decrease=0.0, min_impurity_split=None, init=None, random_state=None, max_features=None, alpha=0.9, verbose=0, max_leaf_nodes=None, warm_start=False, validation_fraction=0.1, n_iter_no_change=None, tol=0.0001, ccp_alpha=0.0)"
   ]
  },
  {
   "cell_type": "raw",
   "metadata": {},
   "source": [
    "df_prep.columns.size"
   ]
  },
  {
   "cell_type": "raw",
   "metadata": {},
   "source": [
    "selected_features = ['Hour','Week', 'Month','Year', 'Solar Radiation (MJ/m2)','Rainfall(mm)',\"Dew point temperature(C)\",\n",
    "                     'Snowfall (cm)','Wind speed (m/s)','Visibility (10m)','WeekDay',\n",
    "                     'Seasons','Holiday' ,'Temperature(C)', 'Humidity(%)',\n",
    "                     'Functioning Day','Rush_hour','Dead_hour','Weather_State',\n",
    "                     'Weather&visb','Weather_stat&visb_dist','Sky_State','Temp_State','GBL_Forecast',\n",
    "                     'Temperature lag1','Rainfall lag1', 'Visibility  lag1', 'Wind speed lag1',\n",
    "                     'Weather_State lag1', 'Humidity lag1', 'Rush_hour lag1',\n",
    "                     'Dead_hour lag1', 'Ideal lag1',\"Dew point temperature(C) lag1\"]"
   ]
  },
  {
   "cell_type": "raw",
   "metadata": {},
   "source": [
    "len(selected_features)"
   ]
  },
  {
   "cell_type": "raw",
   "metadata": {},
   "source": [
    "# define dataset\n",
    "train = df_prep.copy()\n",
    "train[\"y\"] = np.log(df_prep[\"y\"]+0.00001) ##--- someone explain why this works better than +1\n",
    "#train[\"y\"] = df_prep[\"y\"]\n",
    "X1 = train[features]\n",
    "y1 = train[\"y\"]\n",
    "X_train, X_test, y_train, y_test =\\\n",
    "train_test_split(X1, y1, test_size = 0.2, random_state=42,shuffle=True,)\n",
    "# define the model\n",
    "\n",
    "XGB = xgb.XGBRegressor(colsample_bytree = 0.9,colsample_bylevel=0.9,\n",
    "                       max_depth =3 , eval_metric = \"rmsle\" )\n",
    "\n",
    "params={'n_estimators':[*range(1000,6000,1000)]\n",
    "             ,'learning_rate':[.001,0.01,0.056,.1]\n",
    "             ,'subsample':[.5,.75,1]\n",
    "       ,'min_child_weight':range(5,8)}\n",
    "\n",
    "# params = {\n",
    "#         'min_child_weight': [1, 5, 10],\n",
    "#         'gamma': [0.5, 1, 1.5, 2, 5],\n",
    "#         'subsample': [0.6, 0.8, 0.887,1.0],\n",
    "#         'colsample_bytree': [0.6, 0.8,0.895, 1.0],\n",
    "#         'max_depth': [3, 4, 5],\n",
    "#     'learning_rate':[*range(.001,.02,.05)],\n",
    "#     'n_estimators' : [*range(2000,12000,1000)]\n",
    "#         }\n",
    "cv = RepeatedKFold(n_splits=10, n_repeats=3, random_state=1)\n",
    "\n",
    "CV_rfc = GridSearchCV(estimator=XGB, \n",
    "                      param_grid = params,\n",
    "                      cv= cv, scoring = rmsle_scorer,n_jobs=-1)\n",
    "\n",
    "CV_rfc.fit(X_train, y_train)\n",
    "\n",
    "Grid_train ,Grid_test = evaluationandSave(CV_rfc , features,Grid_train ,Grid_test)"
   ]
  },
  {
   "cell_type": "raw",
   "metadata": {},
   "source": [
    "evaluationandSave(CV_rfc.best_estimator_ , features)"
   ]
  },
  {
   "cell_type": "markdown",
   "metadata": {},
   "source": [
    "### normal model with manual selection Wtih bagging "
   ]
  },
  {
   "cell_type": "code",
   "execution_count": null,
   "metadata": {},
   "outputs": [],
   "source": [
    "prev_train , prev_test = 0 , 0"
   ]
  },
  {
   "cell_type": "code",
   "execution_count": null,
   "metadata": {},
   "outputs": [],
   "source": [
    "len(features)"
   ]
  },
  {
   "cell_type": "raw",
   "metadata": {
    "scrolled": true
   },
   "source": [
    "# evaluate bagging ensemble for regression\n",
    "#2500 \n",
    "\n",
    "# define dataset\n",
    "train = df_prep.copy()\n",
    "train[\"y\"] = np.log(df_prep[\"y\"]+0.00001) ##--- someone explain why this works better than +1\n",
    "#train[\"y\"] = df_prep[\"y\"]\n",
    "\n",
    "X1 = train[features]\n",
    "y1 = train[\"y\"]\n",
    "X_train, X_test, y_train, y_test =\\\n",
    "train_test_split(X1, y1, test_size = 0.2, random_state=42,shuffle=True,)\n",
    "# define the model\n",
    "\n",
    "XGB = xgb.XGBRegressor(n_estimators=12000,subsample=0.887\n",
    "                       ,colsample_bytree = 0.9,colsample_bylevel=0.9,\n",
    "                       learning_rate=0.056,n_jobs=-1,max_depth =3)\n",
    "# BaggingRegressor(base_estimator=None, n_estimators=10, *, max_samples=1.0, max_features=1.0\n",
    "#                  , bootstrap=True, bootstrap_features=False, oob_score=False, warm_start=False\n",
    "#                  , n_jobs=None, random_state=None, verbose=0)\n",
    "BaggModel = BaggingRegressor(base_estimator = XGB , n_estimators =50 ,  bootstrap=True \n",
    "                            , bootstrap_features=True\n",
    "                             ,n_jobs=-1, random_state=911 )\n",
    "BaggModel.fit(X_train , y_train)\n",
    "# evaluate the model\n",
    "prev_train , prev_test = evaluationandSave(BaggModel , features,0 , 0)"
   ]
  },
  {
   "cell_type": "markdown",
   "metadata": {},
   "source": [
    "(Train) RMSLE: 0.14553037854039572\n",
    "(Test) RMSLE: 0.3588669286848413\n",
    "---------------------------------\n",
    "(Train) Prev RMSLE: 0\n",
    "(Test) Prev RMSLE: 0\n",
    "---------------------------------\n",
    "Training Score: 99.66164569828081  %\n",
    "Test Score: 98.14808428184578  %\n",
    "---------------------------------\n",
    "(Real) RMSLE: 0.4363028117834578\n",
    "(Real) R2: 0.8216669474024867"
   ]
  },
  {
   "cell_type": "code",
   "execution_count": null,
   "metadata": {},
   "outputs": [],
   "source": []
  }
 ],
 "metadata": {
  "kernelspec": {
   "display_name": "Python 3",
   "language": "python",
   "name": "python3"
  },
  "language_info": {
   "codemirror_mode": {
    "name": "ipython",
    "version": 3
   },
   "file_extension": ".py",
   "mimetype": "text/x-python",
   "name": "python",
   "nbconvert_exporter": "python",
   "pygments_lexer": "ipython3",
   "version": "3.8.3"
  }
 },
 "nbformat": 4,
 "nbformat_minor": 4
}
